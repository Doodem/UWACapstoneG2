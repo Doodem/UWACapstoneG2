{
 "cells": [
  {
   "cell_type": "code",
   "execution_count": 2,
   "id": "f9d940e4-d7f9-4f94-8cc5-7c7071ffd207",
   "metadata": {
    "tags": []
   },
   "outputs": [
    {
     "name": "stderr",
     "output_type": "stream",
     "text": [
      "[nltk_data] Downloading package wordnet to C:\\Users\\Andre\n",
      "[nltk_data]     Italiano\\AppData\\Roaming\\nltk_data...\n",
      "[nltk_data]   Package wordnet is already up-to-date!\n",
      "[nltk_data] Downloading package punkt to C:\\Users\\Andre\n",
      "[nltk_data]     Italiano\\AppData\\Roaming\\nltk_data...\n",
      "[nltk_data]   Package punkt is already up-to-date!\n",
      "[nltk_data] Downloading package averaged_perceptron_tagger to\n",
      "[nltk_data]     C:\\Users\\Andre Italiano\\AppData\\Roaming\\nltk_data...\n",
      "[nltk_data]   Package averaged_perceptron_tagger is already up-to-\n",
      "[nltk_data]       date!\n"
     ]
    }
   ],
   "source": [
    "from graph import GraphDB\n",
    "import random\n",
    "import numpy as np\n",
    "import re\n",
    "import pandas as pd\n",
    "import Embedding_Model as em"
   ]
  },
  {
   "cell_type": "code",
   "execution_count": 3,
   "id": "645fde73-793b-45e6-a623-78f3cfbffc60",
   "metadata": {},
   "outputs": [],
   "source": [
    "model = em.Sentence_transformer()"
   ]
  },
  {
   "cell_type": "code",
   "execution_count": 4,
   "id": "4c20efa4-a96c-4e43-8ae8-4fff6c2e1e81",
   "metadata": {},
   "outputs": [
    {
     "data": {
      "text/plain": [
       "list"
      ]
     },
     "execution_count": 4,
     "metadata": {},
     "output_type": "execute_result"
    }
   ],
   "source": [
    "type([\"what does labelled data look like again?\",\"I have no idea\"])"
   ]
  },
  {
   "cell_type": "code",
   "execution_count": 5,
   "id": "fa6515ed-214b-46f6-8991-261869c8be3b",
   "metadata": {},
   "outputs": [
    {
     "name": "stdout",
     "output_type": "stream",
     "text": [
      "okay\n",
      "768\n"
     ]
    }
   ],
   "source": [
    "example= model([\"what does labelled data look like again?\",\"I have no idea\"])\n",
    "print(len(example))"
   ]
  },
  {
   "cell_type": "code",
   "execution_count": 6,
   "id": "00f12326-e049-4253-a6a9-0a29e764cd22",
   "metadata": {},
   "outputs": [
    {
     "name": "stdout",
     "output_type": "stream",
     "text": [
      "[-9.33731813e-03 -1.64579712e-02 -4.59779566e-03  4.13153060e-02\n",
      "  2.47797370e-03  2.22577294e-03  2.97685862e-02  1.47979334e-02\n",
      "  3.74165969e-03  3.54732503e-03 -3.44138891e-02  3.94662051e-03\n",
      "  2.73811887e-03  5.65520190e-02  5.33628929e-03 -6.11356348e-02\n",
      "  7.55072385e-03 -2.70124581e-02 -1.58088021e-02  4.44912910e-03\n",
      " -1.94677673e-02 -3.54028717e-02 -7.70181464e-03  1.05398931e-02\n",
      " -5.76259419e-02 -7.85914063e-03 -3.51283909e-03 -5.79385785e-03\n",
      " -8.01106635e-03 -7.31172040e-02  2.06505451e-02  5.73195517e-02\n",
      "  1.99892372e-02 -3.27400155e-02  1.57998454e-06 -6.52447576e-03\n",
      " -1.20986467e-02 -1.21410042e-02 -2.96697244e-02  5.29183215e-03\n",
      " -1.38092665e-02  2.04523094e-02  2.99224835e-02 -2.76091248e-02\n",
      "  2.77317483e-02 -9.30247232e-02  1.19371163e-02  1.74298193e-02\n",
      "  1.56428013e-02 -3.00717708e-02  6.94331154e-03 -2.81266309e-02\n",
      " -4.89965454e-02 -4.08873195e-03  1.12356819e-01  9.73439962e-03\n",
      "  1.26178758e-02  4.96633761e-02  6.18573353e-02  8.40534493e-02\n",
      " -1.58706997e-02  3.84977795e-02 -1.77682210e-02  1.65773965e-02\n",
      " -1.51208723e-02  4.92398664e-02 -1.20603014e-02  7.16537843e-03\n",
      " -3.13794101e-03  2.71871109e-02  7.90049136e-02 -1.61140170e-02\n",
      "  1.12399030e-02 -1.77866369e-02 -2.50925515e-02 -7.47593194e-02\n",
      " -4.38739061e-02 -3.18623483e-02  1.54456683e-02 -8.81305430e-03\n",
      "  9.68289096e-04  6.18953481e-02  2.14828155e-03 -3.77076939e-02\n",
      " -6.63512498e-02  1.08644828e-01 -3.86505798e-02  5.78927435e-03\n",
      " -2.43229568e-02 -1.40063660e-02  3.08142044e-02  6.96294429e-03\n",
      " -2.29398366e-02  7.74242333e-04  1.02725197e-02  3.53717543e-02\n",
      " -1.71782374e-02 -4.61159311e-02  2.03685239e-02 -1.46103429e-03\n",
      "  1.68349184e-02  1.18846511e-02 -9.20833498e-02  5.59595227e-02\n",
      "  4.09332663e-02  2.71033384e-02  1.48561001e-02  3.40932831e-02\n",
      " -4.73716073e-02  5.44268405e-03 -4.64807861e-02 -3.57951932e-02\n",
      " -5.53863682e-02  2.08378322e-02  6.00548126e-02  1.26747591e-02\n",
      "  2.29310635e-02 -7.02491077e-03 -9.06937756e-03  1.13019050e-04\n",
      "  9.38034337e-03 -2.23596469e-02 -1.52689405e-02  1.45314885e-02\n",
      " -6.87206537e-02 -3.15293632e-02 -2.40868069e-02 -3.31330672e-02\n",
      "  3.79963741e-02 -1.00709824e-02  1.15974471e-02 -3.13794240e-02\n",
      "  3.89891909e-03 -2.29404364e-02 -1.65575277e-02  2.90580466e-02\n",
      "  2.02587675e-02  3.67656350e-02 -5.95805608e-02 -3.81188393e-02\n",
      " -2.30841041e-02  4.59466688e-02  4.81724329e-02 -1.44491205e-04\n",
      "  1.00879222e-02  7.44929910e-02  1.51896747e-02 -1.78615411e-03\n",
      " -1.12660890e-02 -1.39035634e-03 -7.52450004e-02  8.36442262e-02\n",
      " -6.10701628e-02  9.38957441e-04  1.99694280e-02 -8.39634798e-03\n",
      "  4.46027331e-02 -4.47558798e-02 -3.16730216e-02 -1.40911201e-02\n",
      "  1.98786445e-02 -5.69453314e-02  5.79612367e-02  6.41347724e-04\n",
      "  9.72806849e-03 -3.33229415e-02 -1.43750429e-01 -1.02339089e-02\n",
      "  5.02273925e-02 -2.59773359e-02 -1.65638477e-02  3.59741563e-04\n",
      " -2.75296881e-03  1.25570381e-02  2.71227211e-02  1.87045950e-02\n",
      "  1.56569034e-02 -2.35579591e-02 -8.30293074e-02  2.72845402e-02\n",
      "  3.46742123e-02  3.04110697e-03  1.41241588e-03  2.35660765e-02\n",
      "  2.22967081e-02  7.10526598e-04 -1.85155440e-02 -9.77600291e-02\n",
      " -1.58208329e-02 -6.14593364e-02 -4.62458991e-02  1.79944504e-02\n",
      " -3.45414057e-02 -3.18386927e-02 -1.06802052e-02  4.35378551e-02\n",
      "  3.24413702e-02  1.12339789e-02  3.24613117e-02  4.69293166e-03\n",
      " -1.65786538e-02 -8.71336088e-03  3.37356739e-02  4.34230119e-02\n",
      " -1.80072170e-02 -6.53460100e-02 -3.11667100e-02 -1.49845844e-02\n",
      "  9.77615826e-03  1.37302214e-02  4.01977077e-02 -5.86971734e-03\n",
      " -4.15675938e-02 -2.20258795e-02 -3.92928906e-02  1.16446344e-02\n",
      " -1.37288030e-02 -7.54258363e-03 -6.07769378e-02 -1.40659660e-02\n",
      " -2.04540771e-02 -4.20671366e-02 -3.20547484e-02  2.72034807e-03\n",
      "  8.15591514e-02  2.90977582e-02  2.03961525e-02  9.06205643e-03\n",
      " -5.53611182e-02  2.73577105e-02  5.67830913e-03  1.92781556e-02\n",
      "  7.37744197e-02  3.93218966e-03  3.24396193e-02 -2.06559803e-02\n",
      " -1.26752406e-02  4.21053022e-02 -1.18087456e-02  2.70896666e-02\n",
      " -5.67749236e-03 -3.57883461e-02 -1.34403156e-02 -1.93572212e-02\n",
      " -2.99851466e-02 -3.99849564e-02 -2.18794197e-02  7.51803769e-03\n",
      " -1.81100629e-02  1.21069243e-02  2.44260940e-04 -1.74303465e-02\n",
      "  2.64894981e-02 -1.83942262e-02 -4.59160598e-04  2.60383692e-02\n",
      " -2.13199146e-02  1.55509366e-02 -2.28803772e-02  5.60660288e-02\n",
      "  5.28833754e-02 -2.89517660e-02 -1.25689516e-02 -1.57879461e-02\n",
      " -6.68645054e-02 -7.94339634e-04  2.27382053e-02  4.50781174e-02\n",
      " -2.40409095e-02  3.10230907e-02  2.62060873e-02  1.40789310e-02\n",
      " -4.97429213e-03 -8.77006724e-03 -3.97707336e-02 -4.20049801e-02\n",
      "  2.17564218e-02  2.88731861e-03  1.98774110e-03  6.22563288e-02\n",
      "  5.39839566e-02 -3.09061464e-02 -7.42238900e-03 -5.27835777e-03\n",
      "  2.12153667e-04  4.84583713e-03 -2.32764632e-02 -1.01278082e-01\n",
      " -3.33937705e-02 -3.17017920e-02 -1.59887951e-02 -1.34659642e-02\n",
      " -1.95631124e-02  1.32336495e-02  1.06434897e-02 -3.01115960e-02\n",
      "  3.41077857e-02  8.70349072e-03  8.71893368e-04  6.82422519e-02\n",
      " -1.00942804e-02  3.76269524e-03 -3.83290611e-02  1.00218896e-02\n",
      " -5.46463653e-02  2.65074614e-02  1.95806921e-02 -3.55717689e-02\n",
      "  3.63737643e-02  6.26634583e-02  5.92998741e-03  3.63351069e-02\n",
      "  6.25625160e-03  2.00587399e-02 -1.54678170e-02  1.80842318e-02\n",
      " -1.07613862e-01  4.68857847e-02 -1.42182056e-02  3.76893952e-02\n",
      " -2.37911590e-03 -2.15137247e-02 -4.96668136e-03  3.17885284e-03\n",
      " -6.46706391e-03 -4.03831480e-03 -5.10757081e-02  4.68323827e-02\n",
      "  5.68678603e-02  2.37144101e-02  1.16336923e-02  1.38035708e-03\n",
      " -3.91597264e-02  2.73813680e-02  2.45897425e-03 -2.78854035e-02\n",
      " -5.65262474e-02 -4.19131182e-02 -1.85750294e-02  2.50421539e-02\n",
      "  6.10308081e-04  9.99607611e-03  3.49793658e-02  6.92263711e-03\n",
      "  1.99053455e-02 -1.25899687e-02 -3.74974287e-03  4.53915149e-02\n",
      " -3.01127825e-02  2.69561522e-02  3.44128311e-02  2.22738031e-02\n",
      "  2.09061075e-02  1.00866836e-02 -2.88499016e-02 -3.07937176e-03\n",
      " -3.51570384e-03 -2.63402537e-02 -4.50132601e-02 -2.26242747e-02\n",
      " -3.80461663e-02 -1.12400241e-02 -8.99617076e-02  3.71382907e-02\n",
      " -4.56837798e-03 -1.59782600e-02 -1.88232458e-03  6.85550794e-02\n",
      " -3.09136920e-02  4.69552502e-02 -4.33895290e-02 -2.62474939e-02\n",
      "  2.56897230e-03 -3.03411769e-04  1.80392002e-03 -4.24357541e-02\n",
      "  9.22626723e-03  4.83732671e-02 -3.72583456e-02  3.15172076e-02\n",
      " -2.90727187e-02 -4.42799702e-02  2.48472262e-02  1.66459731e-03\n",
      "  1.38281221e-02 -6.66227145e-03 -4.07118648e-02 -1.45194679e-03\n",
      " -9.92559362e-03  3.40310223e-02 -2.69899499e-02 -7.91615695e-02\n",
      " -4.67894413e-02 -1.50117651e-02 -2.90618129e-02  6.62314817e-02\n",
      " -4.63750307e-03  1.58117600e-02  8.42580013e-03  3.22169736e-02\n",
      "  5.60299456e-02 -3.14020775e-02  5.75036602e-03 -5.70711261e-03\n",
      "  3.15357670e-02  7.21499398e-02 -1.31228622e-02  3.17523219e-02\n",
      " -1.04865111e-01 -5.82857840e-02  3.88147086e-02  5.04253386e-03\n",
      "  2.01757047e-02 -3.58504355e-02  5.42369336e-02  5.58133721e-02\n",
      " -4.23948169e-02 -5.08832559e-03 -5.96235925e-03  4.64688726e-02\n",
      "  1.22658834e-02 -3.10342070e-02  1.78384557e-02 -4.95208800e-02\n",
      " -2.86597870e-02 -1.12872524e-03  2.61706347e-03  4.76108976e-02\n",
      "  1.36824390e-02  2.93629896e-02  1.34895127e-02 -4.49581072e-03\n",
      " -5.50408475e-02  8.13726559e-02 -7.60705071e-03 -1.45504102e-02\n",
      "  1.18881956e-01 -7.48206377e-02 -3.65160778e-02  2.60019529e-04\n",
      " -1.37906959e-02  3.20545956e-02  3.25436853e-02  1.04083652e-02\n",
      "  1.14841026e-03 -4.82526748e-03 -3.19047868e-02 -6.91430345e-02\n",
      "  1.80774517e-02 -1.88936689e-03  2.90730707e-02 -5.06640598e-02\n",
      " -6.82816580e-02  4.09225337e-02  1.93706360e-02 -4.14734036e-02\n",
      "  9.55650304e-03 -5.00430912e-02  3.81716108e-03  5.71012758e-02\n",
      "  2.19902489e-02  2.49395035e-02 -3.39294262e-02  3.78279132e-03\n",
      " -4.11417559e-02 -1.91437863e-02  5.31523786e-02  2.24237386e-02\n",
      " -1.56045817e-02 -7.88169429e-02  1.82558838e-02  5.33545157e-03\n",
      " -4.32089493e-02 -5.03759785e-03  7.50532448e-02  1.27284154e-02\n",
      " -4.96187098e-02 -3.95745412e-02  1.09672341e-02  3.64491600e-03\n",
      "  1.14077125e-02  1.16719127e-01  5.20074703e-02 -5.23289517e-02\n",
      "  7.90948607e-03 -3.11080529e-03  6.10818341e-03 -2.77004819e-02\n",
      "  1.44836744e-02 -3.08459047e-02  1.78663060e-02 -1.77101567e-02\n",
      " -3.66098210e-02  4.93026748e-02 -1.34549392e-02  3.77460159e-02\n",
      " -2.49930713e-02 -7.02471882e-02 -1.84133532e-03 -5.81912929e-03\n",
      "  1.12573467e-02 -7.69996131e-03 -8.29058420e-03  3.03838905e-02\n",
      "  4.53424491e-02  7.92577788e-02  4.73813862e-02  2.28992607e-02\n",
      "  4.08592597e-02 -4.13850602e-03  7.18085980e-03  1.63753387e-02\n",
      " -3.29661630e-02 -2.64275074e-02 -1.30605865e-02 -6.55259490e-02\n",
      " -7.96899125e-02  5.94998524e-02 -9.86231677e-03  2.06945576e-02\n",
      "  2.56671831e-02 -4.04017009e-02  2.96206344e-02  5.04625365e-02\n",
      "  5.08963317e-02  5.46795987e-02 -2.15019174e-02 -4.13385294e-02\n",
      " -3.89552824e-02  4.45483774e-02  7.63389617e-02 -5.04957931e-03\n",
      " -4.44593839e-02 -5.20166568e-03  8.33365042e-03  3.98865305e-02\n",
      "  6.52993917e-02 -4.93359715e-02  5.13191614e-03 -2.14604717e-02\n",
      "  2.03410145e-02  2.63068862e-02  4.03490141e-02  1.36182178e-02\n",
      "  2.57721040e-02 -2.20407546e-02 -2.95891631e-02 -3.33708301e-02\n",
      "  1.20410994e-02 -6.69402163e-03  5.56288101e-03  2.96023656e-02\n",
      "  1.94213372e-02 -2.79611815e-02 -1.81831643e-02 -5.59892918e-33\n",
      " -2.90293191e-02 -5.55644892e-02 -1.29048219e-02  5.34003861e-02\n",
      " -1.44307618e-03  6.88856328e-03  1.21555142e-02  1.14025110e-02\n",
      "  1.75896529e-02  7.24076293e-03  3.25492606e-03  1.11734727e-02\n",
      "  2.20079720e-02  9.01575957e-04  1.28024565e-02 -8.30708146e-02\n",
      "  1.29693765e-02 -1.13001121e-02 -1.34803047e-02  8.20075627e-03\n",
      "  2.47738641e-02  3.16152275e-02  8.18576738e-02 -8.74726251e-02\n",
      "  3.48174609e-02 -3.45662702e-04  1.30443182e-02  2.94256397e-02\n",
      "  1.71451699e-02 -1.85200050e-02 -4.87988582e-03 -9.54255089e-03\n",
      "  4.49552014e-02 -1.90679058e-02 -2.30938438e-02  1.21555096e-02\n",
      " -6.06353655e-02 -1.67818065e-03 -2.70229913e-02  5.20330183e-02\n",
      " -1.04843909e-02  3.22716864e-04 -1.68177914e-02  1.04336096e-02\n",
      " -9.21908859e-03  6.82728598e-03 -1.01514059e-04 -2.77319029e-02\n",
      " -3.72201353e-02  7.78006949e-03  7.28775561e-02  1.59597658e-02\n",
      " -2.08951794e-02  6.13314845e-02  5.36540300e-02  3.71423848e-02\n",
      "  1.18447412e-02  2.94125360e-02 -7.81710967e-02  3.62954512e-02\n",
      "  6.43051490e-02  5.76182120e-02 -4.11372428e-04  9.78421420e-02\n",
      "  1.99486986e-02  1.71910971e-02  2.55309772e-02  6.72881007e-02\n",
      " -1.58649962e-02 -1.64851430e-03 -2.09353622e-02  4.34890203e-02\n",
      " -5.29791415e-02 -7.04584420e-02  2.62934566e-02 -3.46292742e-02\n",
      "  2.35450156e-02  4.17598262e-02 -5.89623898e-02 -7.64502510e-02\n",
      " -6.13369904e-02  2.44123433e-02 -3.31680365e-02 -2.22586598e-02\n",
      " -3.80894057e-02 -2.31341161e-02 -4.24813181e-02  4.22123633e-02\n",
      "  1.96457971e-02 -4.50056903e-02 -3.63930389e-02  6.59188032e-02\n",
      " -3.68507020e-02  1.16258720e-02 -6.19873330e-02 -1.03141934e-01\n",
      "  2.24838983e-02  3.70182954e-02 -3.80142555e-02 -6.34461548e-03\n",
      " -4.87017632e-03 -3.70755866e-02  4.03301232e-02  4.90490906e-02\n",
      "  1.33542344e-02  3.98264676e-02  4.17029001e-02  1.59908012e-02\n",
      " -5.76621592e-02  8.46531242e-03  2.25792807e-02 -2.38181371e-02\n",
      "  2.96941772e-03 -8.39762166e-02  1.75007340e-02  6.59313053e-03\n",
      "  3.05211432e-02  6.21593408e-02  1.75619796e-02 -1.56374555e-02\n",
      "  4.04819809e-02 -4.29321304e-02  7.39516690e-03 -3.50140743e-02\n",
      "  7.99276587e-03 -3.13907564e-02 -3.93995754e-02 -4.47115302e-02\n",
      "  8.28003660e-02 -3.64760141e-04  2.33433470e-02  3.02383285e-02\n",
      "  2.27317116e-07  4.40409184e-02  4.62386310e-02  6.27628863e-02\n",
      "  4.08706740e-02  5.20249754e-02 -1.11997556e-02 -2.25595143e-02\n",
      "  1.73213556e-02  1.50077771e-02 -8.20374861e-02  1.52766705e-02\n",
      " -5.52651994e-02 -1.21003180e-03  3.22105810e-02 -3.36617716e-02\n",
      " -5.01588024e-02  5.27658127e-03 -4.40915115e-02 -7.53411651e-02\n",
      "  1.52601395e-02  5.06150909e-02  3.59659046e-02 -2.78941989e-02\n",
      "  1.80213135e-02 -1.28730116e-02 -5.69147151e-03 -3.41175753e-03\n",
      " -4.05651666e-02  3.77374887e-02 -2.60492247e-02  3.59002464e-02\n",
      "  1.39438137e-02  7.77035812e-03  3.02886348e-02 -1.16099389e-02\n",
      " -1.84107069e-02  9.53443581e-04  1.83458757e-02  2.62870938e-02\n",
      "  5.00734858e-02 -1.60149615e-02 -3.25349309e-02  2.56278999e-02\n",
      "  1.41075207e-02  1.52035791e-03  2.90178787e-03  3.79602537e-02\n",
      "  7.70543963e-02 -2.18836647e-02  1.40292440e-02  1.11665810e-02\n",
      " -2.77327690e-02  1.05317570e-02  1.71667431e-02  3.82078928e-03\n",
      "  3.73162702e-02  2.07699593e-02  9.61675961e-03  1.34753175e-02\n",
      "  7.25368457e-03 -1.76023878e-02 -9.78064071e-03 -3.04563288e-02\n",
      "  1.79650579e-02  1.19641433e-02 -5.01740612e-02 -1.22288323e-03\n",
      "  1.76966772e-34  6.32030377e-03 -5.96144097e-03 -8.55624489e-03\n",
      " -3.38624828e-02 -5.20711159e-03 -2.58572269e-02  4.83701862e-02\n",
      "  2.05385890e-02 -2.43364573e-02 -2.89449021e-02 -1.13650905e-02]\n"
     ]
    }
   ],
   "source": [
    "example= model(\"what does labelled data look like again?\")\n",
    "print(example)"
   ]
  },
  {
   "cell_type": "code",
   "execution_count": null,
   "id": "860caa3f-79dc-4c04-9b05-9fadafe6d2cd",
   "metadata": {},
   "outputs": [],
   "source": []
  },
  {
   "cell_type": "code",
   "execution_count": null,
   "id": "3544a655-aabd-4ab2-8f05-7003adaca922",
   "metadata": {},
   "outputs": [],
   "source": []
  },
  {
   "cell_type": "code",
   "execution_count": 7,
   "id": "f483eeca-69d1-451d-b164-023adb90bcdb",
   "metadata": {},
   "outputs": [],
   "source": [
    "# getting data \n",
    "date_data_path = r'../../../data/tender_postcode.xlsx'\n",
    "\n",
    "path = r'../../../data/embedding_data/'\n",
    "embedding_data = np.load(path+\"sent_transformer_embeddings.npz\")\n",
    "embedding_data = [list(embedding_data[f]) for f in embedding_data.files]\n",
    "\n",
    "tender_references_raw = ''\n",
    "tender_titles_raw = ''\n",
    "\n",
    "with open(path+'tender_references.txt', 'r') as file:\n",
    "    for line in file:\n",
    "        tender_references_raw += line\n",
    "        \n",
    "with open(path+\"tender_titles.txt\",'r') as file:\n",
    "    for line in file:\n",
    "        tender_titles_raw += line\n",
    "        \n",
    "        \n",
    "for item in ['\"',\"'\",'[',']',\" \"]:\n",
    "    tender_references_raw = tender_references_raw.replace(item, \"\")\n",
    "tender_references = tender_references_raw.split(\",\")\n",
    "\n",
    "tender_titles = []\n",
    "for item in tender_titles_raw.split(\",\"):\n",
    "    tender_titles.append(re.sub(r'[\\[\\]/\\\\\\'\"]', '', item))\n",
    "\n",
    "coordinate_data = np.load(path+\"tender_coordinates.npz\")\n",
    "coordinate_data = [list(coordinate_data[f]) for f in coordinate_data]\n",
    "\n",
    "expire_dates = pd.read_excel(date_data_path)\n",
    "expire_dates = list(expire_dates['Expiry Date'])"
   ]
  },
  {
   "cell_type": "code",
   "execution_count": 8,
   "id": "33fb7812-30b4-4258-a74d-6b93ea576ba1",
   "metadata": {
    "tags": []
   },
   "outputs": [],
   "source": [
    "# save to dictionary format\n",
    "embedding_dictionary = {}\n",
    "for i in range(len(tender_references)):\n",
    "    embedding_dictionary[tender_references[i]] = {\"embedding\":embedding_data[i],\"titles\":tender_titles[i],\"location\":coordinate_data[i],\"expire_date\":expire_dates[i]}"
   ]
  },
  {
   "cell_type": "code",
   "execution_count": 9,
   "id": "28315736-cbc0-431d-87eb-ab5804fe9d0b",
   "metadata": {},
   "outputs": [],
   "source": [
    "graph_db = GraphDB(embedding_dictionary)"
   ]
  },
  {
   "cell_type": "code",
   "execution_count": 12,
   "id": "49da93b3-20f8-4a1e-a8c3-b38abadde17a",
   "metadata": {
    "tags": []
   },
   "outputs": [
    {
     "data": {
      "application/vnd.jupyter.widget-view+json": {
       "model_id": "133a026f1492405daa7c8a29ae3441a4",
       "version_major": 2,
       "version_minor": 0
      },
      "text/plain": [
       "interactive(children=(Text(value='ARA201901891', description='Enter Reference:'), IntSlider(value=2, descripti…"
      ]
     },
     "metadata": {},
     "output_type": "display_data"
    },
    {
     "data": {
      "text/plain": [
       "<function __main__.query_and_display(reference, num_nodes, max_distance, expire_date)>"
      ]
     },
     "execution_count": 12,
     "metadata": {},
     "output_type": "execute_result"
    }
   ],
   "source": [
    "import folium\n",
    "from folium import plugins\n",
    "from folium.features import DivIcon\n",
    "from ipywidgets import interact, widgets\n",
    "import networkx as nx  \n",
    "\n",
    "import pandas as pd\n",
    "from datetime import datetime\n",
    "\n",
    "start_date = datetime(2018, 1, 1)\n",
    "end_date = datetime(2036, 1, 1)\n",
    "\n",
    "dates = pd.date_range(start_date, end_date, freq='M')\n",
    "\n",
    "options = [(date.strftime(' %b %Y '), date) for date in dates]\n",
    "index = (0, len(options)-1)\n",
    "\n",
    "selection_range_slider = widgets.SelectionRangeSlider(\n",
    "    options=options,\n",
    "    index=index,\n",
    "    description='Tender Expiration date ',\n",
    "    orientation='horizontal',\n",
    "    layout={'width': '500px'}\n",
    ")\n",
    "def get_node_positions(reference, num_nodes, max_distance,date1,date2):\n",
    "    query_result = graph_db.closest(reference, num_nodes, max_distance,date1,date2)\n",
    "    \n",
    "    G = graph_db.draw_graph(query_result)\n",
    "    \n",
    "    return nx.get_node_attributes(G, \"location\"), nx.get_edge_attributes(G,\"similarity\")\n",
    "\n",
    "def create_map(map_center):\n",
    "    m = folium.Map(location=map_center, zoom_start=5)\n",
    "    return m\n",
    "\n",
    "def query_and_display(reference, num_nodes, max_distance,expire_date):\n",
    "    edge_text_group = folium.FeatureGroup()\n",
    "    node_positions,node_similarity = get_node_positions(reference, num_nodes, max_distance,expire_date[0],expire_date[1])\n",
    "    map_center = node_positions[reference]    \n",
    "    \n",
    "    # create map with centered on reference \n",
    "    m = create_map(map_center)\n",
    "    \n",
    "    # add markers for ref positions on map\n",
    "    for ref,position in node_positions.items():\n",
    "        title = graph_db.data[ref]['titles']\n",
    "        # plot ref marker\n",
    "        folium.CircleMarker(location=position,popup=title,fill_color='blue').add_to(m)\n",
    "        \n",
    "        # plot ref label\n",
    "        folium.Marker(location=position,popup=reference,icon=DivIcon(\n",
    "        icon_size=(150,36),\n",
    "        icon_anchor=(0,0),\n",
    "        html=f'<div style=\"font-size: 12pt\">{ref}</div>',\n",
    "        )).add_to(m)\n",
    "        \n",
    "        if ref != reference:\n",
    "            edge = folium.PolyLine([node_positions[reference],position],popup=str(node_similarity[(reference, ref)]))\n",
    "            edge.add_to(m)\n",
    "            edge_text = plugins.PolyLineTextPath(edge,text = str(node_similarity[(reference, ref)]),center=True,attributes={'fill': '007DEF', 'font-weight': 'bold', 'font-size': '24'})\n",
    "            edge_text_group.add_child(edge_text)\n",
    "            \n",
    "      \n",
    "    m.add_child(edge_text_group)\n",
    "\n",
    "    display(m)\n",
    "\n",
    "reference_input = widgets.Text(value='ARA201901891', description='Enter Reference:')\n",
    "number_slider = widgets.IntSlider(value=2, min=1, max=10, step=1, description='Closest Tenders:')\n",
    "distance_slider = widgets.FloatSlider(value=100, min=1, max=300, step=1, description='Max Distance:')\n",
    "tender_expire_slider = widgets.FloatSlider(value=100, min=1, max=300, step=1, description='Tender Expiry Month:')\n",
    "interact(query_and_display, reference=reference_input, num_nodes=number_slider, max_distance=distance_slider,expire_date=selection_range_slider)\n"
   ]
  },
  {
   "cell_type": "code",
   "execution_count": null,
   "id": "f393006a-8ee5-463b-b475-0c1d5f6f32cb",
   "metadata": {},
   "outputs": [],
   "source": []
  },
  {
   "cell_type": "code",
   "execution_count": null,
   "id": "f62d2114-9bc9-4c1b-889d-8e8efa5be389",
   "metadata": {},
   "outputs": [],
   "source": []
  },
  {
   "cell_type": "code",
   "execution_count": null,
   "id": "8abeb818-fdc9-4f40-8b6f-74ca69d9ca83",
   "metadata": {},
   "outputs": [],
   "source": []
  }
 ],
 "metadata": {
  "kernelspec": {
   "display_name": "Python 3 (ipykernel)",
   "language": "python",
   "name": "python3"
  },
  "language_info": {
   "codemirror_mode": {
    "name": "ipython",
    "version": 3
   },
   "file_extension": ".py",
   "mimetype": "text/x-python",
   "name": "python",
   "nbconvert_exporter": "python",
   "pygments_lexer": "ipython3",
   "version": "3.9.15"
  }
 },
 "nbformat": 4,
 "nbformat_minor": 5
}
