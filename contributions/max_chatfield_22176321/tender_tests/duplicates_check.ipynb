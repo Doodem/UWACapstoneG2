{
 "cells": [
  {
   "cell_type": "code",
   "execution_count": 2,
   "id": "8338cdf5-54d4-4f5e-aa03-3bb82de8afed",
   "metadata": {
    "tags": []
   },
   "outputs": [],
   "source": [
    "import pandas as pd"
   ]
  },
  {
   "cell_type": "code",
   "execution_count": 5,
   "id": "47774844-0a6c-4db4-ac34-372590ecaeee",
   "metadata": {
    "tags": []
   },
   "outputs": [],
   "source": [
    "tenders_data_path = r\"~/Capstone/UWACapstoneG2/data/UpdatedAgainTenders.xlsx\"\n",
    "tenders_data = pd.read_excel(tenders_data_path)"
   ]
  },
  {
   "cell_type": "code",
   "execution_count": 28,
   "id": "118d3e00-c6d4-4083-9509-693a715d28fa",
   "metadata": {
    "tags": []
   },
   "outputs": [],
   "source": [
    "dups = pd.concat(g for _,g in tenders_data.groupby(\"Reference Number\") if len(g) > 1)"
   ]
  },
  {
   "cell_type": "code",
   "execution_count": 29,
   "id": "c9f87356-1e4a-4065-bc21-652900e16e0c",
   "metadata": {
    "tags": []
   },
   "outputs": [],
   "source": [
    "tenders_no_dups = tenders_data[[\"Reference Number\", \"Contract Title\", \"Description\"]].drop_duplicates()"
   ]
  },
  {
   "cell_type": "code",
   "execution_count": 30,
   "id": "b205c728-6e47-4632-8e96-52f44e432684",
   "metadata": {
    "tags": []
   },
   "outputs": [
    {
     "data": {
      "text/plain": [
       "8461"
      ]
     },
     "execution_count": 30,
     "metadata": {},
     "output_type": "execute_result"
    }
   ],
   "source": [
    "len(dups)"
   ]
  },
  {
   "cell_type": "code",
   "execution_count": 31,
   "id": "e2c40f5f-425d-41a4-893a-cfceba2d52fa",
   "metadata": {
    "tags": []
   },
   "outputs": [
    {
     "data": {
      "text/plain": [
       "20625"
      ]
     },
     "execution_count": 31,
     "metadata": {},
     "output_type": "execute_result"
    }
   ],
   "source": [
    "len(tenders_no_dups)"
   ]
  },
  {
   "cell_type": "code",
   "execution_count": 32,
   "id": "064ed5ea-a7e0-46eb-bdb1-1334661a6c74",
   "metadata": {
    "tags": []
   },
   "outputs": [
    {
     "data": {
      "text/plain": [
       "26475"
      ]
     },
     "execution_count": 32,
     "metadata": {},
     "output_type": "execute_result"
    }
   ],
   "source": [
    "len(tenders_data)"
   ]
  },
  {
   "cell_type": "code",
   "execution_count": 33,
   "id": "b43968a9-a1e0-498d-9906-7a69fb36bece",
   "metadata": {
    "tags": []
   },
   "outputs": [],
   "source": [
    "dups_count = len(dups) - len(dups[[\"Reference Number\", \"Contract Title\", \"Description\"]].drop_duplicates())"
   ]
  },
  {
   "cell_type": "code",
   "execution_count": 34,
   "id": "a51ae09a-29f0-46c8-954e-ff2822b6a9b5",
   "metadata": {
    "tags": []
   },
   "outputs": [
    {
     "data": {
      "text/plain": [
       "26475"
      ]
     },
     "execution_count": 34,
     "metadata": {},
     "output_type": "execute_result"
    }
   ],
   "source": [
    "len(tenders_no_dups) + dups_count"
   ]
  },
  {
   "cell_type": "code",
   "execution_count": 111,
   "id": "e2f7b030-315b-40b6-9ac3-04f3c783f7a7",
   "metadata": {
    "tags": []
   },
   "outputs": [],
   "source": [
    "import pickle\n",
    "\n",
    "class Tender:\n",
    "    def __init__(self, reference):\n",
    "        self.reference = reference\n",
    "        self.file_map = {}\n",
    "        \n",
    "    def clean_text(self, text):\n",
    "    # convert from binary string if needed\n",
    "        if type(text) == bytes:\n",
    "            text = text.decode(\"utf-8\")\n",
    "        text = re.sub(\"[^a-zA-z0-9.,]\", \" \", text)\n",
    "        text = re.sub(\"\\\\\\\\\", \" \", text) \n",
    "        text = re.sub(\"\\s+\", \" \", text)\n",
    "        text = re.sub(\"\\.+\", \".\", text)\n",
    "        return text   \n",
    "    \n",
    "    def add(self, file_name, content):\n",
    "        if content == None:\n",
    "            print(f\"Warning: None content for ref:{self.reference}, fname:{file_name}\")\n",
    "        else:\n",
    "            content = self.clean_text(content)\n",
    "            \n",
    "        if file_name in self.file_map:\n",
    "            # hopefully wont happen\n",
    "            print(f\"Warning: duplicate file name added for ref:{self.reference} fname:{file_name}\")\n",
    "        else:\n",
    "            self.file_map[file_name] = content\n",
    "    \n",
    "    def save(self):\n",
    "        with open(f\"{self.reference}.pickle\", 'wb') as file_handle:\n",
    "            pickle.dump(self.file_map, file_handle, protocol=pickle.HIGHEST_PROTOCOL)\n",
    "           \n",
    "    @staticmethod\n",
    "    def __correct_handle(reference):\n",
    "        if \".pickle\" in reference: # assume its a fpath, dont change\n",
    "            return reference\n",
    "        else: # try ref.pickle\n",
    "            return f\"{reference}.pickle\"\n",
    "        \n",
    "    @staticmethod\n",
    "    def exists(reference):\n",
    "        return os.path.exists(Tender._Tender__correct_handle(reference))\n",
    "            \n",
    "    @staticmethod\n",
    "    def load(reference):\n",
    "        if Tender.exists(reference):\n",
    "            with open(Tender._Tender__correct_handle(reference), 'rb') as file_handle:\n",
    "                t = Tender(reference)\n",
    "                t.file_map = pickle.load(file_handle)\n",
    "                return t\n",
    "        else:\n",
    "            return None"
   ]
  },
  {
   "cell_type": "code",
   "execution_count": 86,
   "id": "57375e97-afc7-4098-bdfe-cec2185fa765",
   "metadata": {},
   "outputs": [
    {
     "name": "stdout",
     "output_type": "stream",
     "text": [
      "20625\n",
      "0\n"
     ]
    }
   ],
   "source": [
    "import os\n",
    "mismatch = 0\n",
    "match = 0\n",
    "# check how many refs exist in the folder\n",
    "os.chdir(r\"/home/ucc/maxichat/Capstone/data/tender_raw/\")\n",
    "for index, row in tenders_no_dups.iterrows():\n",
    "    ref = str(row[\"Reference Number\"])\n",
    "    if not Tender.exists(ref):\n",
    "        mismatch += 1\n",
    "    else:\n",
    "        match += 1\n",
    "\n",
    "print(mismatch)\n",
    "print(match)"
   ]
  },
  {
   "cell_type": "code",
   "execution_count": 18,
   "id": "3c456115-ba79-4a8b-8af3-47c189402c44",
   "metadata": {},
   "outputs": [],
   "source": [
    "import pickle\n",
    "import re\n",
    "import os\n",
    "\n",
    "class Tender:\n",
    "    def __init__(self, reference):\n",
    "        self.reference = reference\n",
    "        self.file_map = {}\n",
    "        \n",
    "    def clean_text(self, text):\n",
    "    # convert from binary string if needed\n",
    "        if type(text) == bytes:\n",
    "            text = text.decode(\"utf-8\")\n",
    "        text = re.sub(\"[^a-zA-z0-9.,]\", \" \", text)\n",
    "        text = re.sub(\"\\\\\\\\\", \" \", text) \n",
    "        text = re.sub(\"\\s+\", \" \", text)\n",
    "        text = re.sub(\"\\.+\", \".\", text)\n",
    "        return text   \n",
    "    \n",
    "    def add(self, file_name, content):\n",
    "        if content == None:\n",
    "            print(f\"Warning: None content for ref:{self.reference}, fname:{file_name}\")\n",
    "        else:\n",
    "            content = self.clean_text(content)\n",
    "            \n",
    "        if file_name in self.file_map:\n",
    "            # hopefully wont happen\n",
    "            print(f\"Warning: duplicate file name added for ref:{self.reference} fname:{file_name}\")\n",
    "        else:\n",
    "            self.file_map[file_name] = content\n",
    "    \n",
    "    def save(self):\n",
    "        with open(f\"{self.reference}.pickle\", 'wb') as file_handle:\n",
    "            pickle.dump(self.file_map, file_handle, protocol=pickle.HIGHEST_PROTOCOL)\n",
    "           \n",
    "    @staticmethod\n",
    "    def __correct_handle(reference):\n",
    "        if \".pickle\" in reference: # assume its a fpath, dont change\n",
    "            return reference\n",
    "        else: # try ref.pickle\n",
    "            return f\"{reference}.pickle\"\n",
    "        \n",
    "    @staticmethod\n",
    "    def exists(reference):\n",
    "        return os.path.exists(Tender._Tender__correct_handle(reference))\n",
    "            \n",
    "    @staticmethod\n",
    "    def load(reference):\n",
    "        if Tender.exists(reference):\n",
    "            with open(Tender._Tender__correct_handle(reference), 'rb') as file_handle:\n",
    "                t = Tender(reference)\n",
    "                t.file_map = pickle.load(file_handle)\n",
    "                return t\n",
    "        else:\n",
    "            return None\n",
    "\n",
    "def check_tender_comp(path):\n",
    "    keys = {}\n",
    "    count = 0\n",
    "    os.chdir(path)\n",
    "    for file in os.listdir(path):\n",
    "        t = Tender.load(file)\n",
    "        if t != None:\n",
    "            for key in t.file_map.keys():\n",
    "                if key != \"TITLE\" and key != \"DESCRIPTION\":\n",
    "                    key = \"file\"\n",
    "                    \n",
    "                if key not in keys:\n",
    "                    keys[key] = 1\n",
    "                else:\n",
    "                    keys[key] += 1\n",
    "        count += 1\n",
    "        #if count > 3:\n",
    "        #    break\n",
    "    \n",
    "    return keys"
   ]
  },
  {
   "cell_type": "code",
   "execution_count": 19,
   "id": "04edf183-5f16-4b40-8e70-f81ead068d73",
   "metadata": {
    "tags": []
   },
   "outputs": [
    {
     "name": "stdout",
     "output_type": "stream",
     "text": [
      "{'file': 49180, 'TITLE': 20619, 'DESCRIPTION': 20619}\n"
     ]
    }
   ],
   "source": [
    "print(check_tender_comp(r\"/home/ucc/maxichat/Capstone/data/tender_raw\"))"
   ]
  },
  {
   "cell_type": "code",
   "execution_count": null,
   "id": "d2f2b32d-3460-4a8b-af40-1ace2f7da058",
   "metadata": {},
   "outputs": [],
   "source": []
  }
 ],
 "metadata": {
  "kernelspec": {
   "display_name": "Python 3 (ipykernel)",
   "language": "python",
   "name": "python3"
  },
  "language_info": {
   "codemirror_mode": {
    "name": "ipython",
    "version": 3
   },
   "file_extension": ".py",
   "mimetype": "text/x-python",
   "name": "python",
   "nbconvert_exporter": "python",
   "pygments_lexer": "ipython3",
   "version": "3.11.4"
  }
 },
 "nbformat": 4,
 "nbformat_minor": 5
}
