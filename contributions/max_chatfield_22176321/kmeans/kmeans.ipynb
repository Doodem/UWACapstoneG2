{
 "cells": [
  {
   "cell_type": "code",
   "execution_count": 181,
   "id": "f386971b-5e0a-4a7c-8e12-0b67d62e11af",
   "metadata": {
    "tags": []
   },
   "outputs": [],
   "source": [
    "import numpy\n",
    "bert_embs = numpy.load(\"../../../data/embedding_data/st_short_desc_summaries.npz\")\n",
    "bert_embs = [bert_embs[f] for f in bert_embs.files]"
   ]
  },
  {
   "cell_type": "code",
   "execution_count": 182,
   "id": "9c9763df-f42c-4472-b701-f140e17b8827",
   "metadata": {
    "tags": []
   },
   "outputs": [],
   "source": [
    "tender_refs = open(\"../../../data/embedding_data/tender_references.txt\", \"r\")\n",
    "content = \"\"\n",
    "for line in tender_refs:\n",
    "    content = line\n",
    "    break"
   ]
  },
  {
   "cell_type": "code",
   "execution_count": 183,
   "id": "7708a22d-467b-462d-beee-8a57b7bca41d",
   "metadata": {
    "tags": []
   },
   "outputs": [
    {
     "name": "stdout",
     "output_type": "stream",
     "text": [
      "20619\n",
      "20619\n"
     ]
    }
   ],
   "source": [
    "content = content.replace(\"[\", \"\")\n",
    "content = content.replace(\"'\", \"\")\n",
    "content = content.replace(\",\", \"\")\n",
    "refs = content.split(\" \")\n",
    "print(len(refs))\n",
    "print(len(bert_embs))"
   ]
  },
  {
   "cell_type": "code",
   "execution_count": 184,
   "id": "65af19de-5222-4be2-ad03-e358a59e471a",
   "metadata": {
    "tags": []
   },
   "outputs": [
    {
     "name": "stderr",
     "output_type": "stream",
     "text": [
      "Exception ignored on calling ctypes callback function: <function _ThreadpoolInfo._find_modules_with_dl_iterate_phdr.<locals>.match_module_callback at 0x7f408ee180e0>\n",
      "Traceback (most recent call last):\n",
      "  File \"/home/ucc/maxichat/miniconda3/envs/capstone/lib/python3.11/site-packages/threadpoolctl.py\", line 400, in match_module_callback\n",
      "    self._make_module_from_path(filepath)\n",
      "  File \"/home/ucc/maxichat/miniconda3/envs/capstone/lib/python3.11/site-packages/threadpoolctl.py\", line 515, in _make_module_from_path\n",
      "    module = module_class(filepath, prefix, user_api, internal_api)\n",
      "             ^^^^^^^^^^^^^^^^^^^^^^^^^^^^^^^^^^^^^^^^^^^^^^^^^^^^^^\n",
      "  File \"/home/ucc/maxichat/miniconda3/envs/capstone/lib/python3.11/site-packages/threadpoolctl.py\", line 606, in __init__\n",
      "    self.version = self.get_version()\n",
      "                   ^^^^^^^^^^^^^^^^^^\n",
      "  File \"/home/ucc/maxichat/miniconda3/envs/capstone/lib/python3.11/site-packages/threadpoolctl.py\", line 646, in get_version\n",
      "    config = get_config().split()\n",
      "             ^^^^^^^^^^^^^^^^^^\n",
      "AttributeError: 'NoneType' object has no attribute 'split'\n"
     ]
    }
   ],
   "source": [
    "from sklearn.cluster import KMeans\n",
    "from sklearn import preprocessing\n",
    "kmeans = KMeans(n_clusters = 2000, n_init = 1).fit_predict(preprocessing.normalize(bert_embs))"
   ]
  },
  {
   "cell_type": "code",
   "execution_count": 236,
   "id": "b7abc802-d32b-4a69-b3c1-c1cd76861f4c",
   "metadata": {
    "tags": []
   },
   "outputs": [],
   "source": [
    "import pandas as pd\n",
    "tenders_structured_path = r\"~/Capstone/UWACapstoneG2/data/UpdatedAgainTenders.xlsx\"\n",
    "\n",
    "tenders_structured = pd.read_excel(tenders_structured_path)\n",
    "tenders_structured = tenders_structured[[\"Reference Number\", \"Contract Title\", \"Description\"]].dropna(subset=[\"Reference Number\"]).drop_duplicates()"
   ]
  },
  {
   "cell_type": "code",
   "execution_count": 237,
   "id": "e3741faf-7679-4672-b11a-f8d203290b04",
   "metadata": {
    "tags": []
   },
   "outputs": [
    {
     "data": {
      "text/plain": [
       "20625"
      ]
     },
     "execution_count": 237,
     "metadata": {},
     "output_type": "execute_result"
    }
   ],
   "source": [
    "len(tenders_structured)"
   ]
  },
  {
   "cell_type": "code",
   "execution_count": 239,
   "id": "4fbe6e08-d54c-42ba-aa39-8ecd9d33f69e",
   "metadata": {
    "tags": []
   },
   "outputs": [
    {
     "data": {
      "text/plain": [
       "20619"
      ]
     },
     "execution_count": 239,
     "metadata": {},
     "output_type": "execute_result"
    }
   ],
   "source": [
    "len(kmeans)"
   ]
  },
  {
   "cell_type": "code",
   "execution_count": 259,
   "id": "e50fc27f-06d8-4cad-8f05-b1159b39a464",
   "metadata": {
    "tags": []
   },
   "outputs": [
    {
     "name": "stdout",
     "output_type": "stream",
     "text": [
      "20619\n"
     ]
    }
   ],
   "source": [
    "clusters = pd.DataFrame({\"Reference Number\": refs, \"cluster\": kmeans})\n",
    "print(len(clusters))"
   ]
  },
  {
   "cell_type": "code",
   "execution_count": 260,
   "id": "a116ef84-229e-427a-8ffb-9326b09f9f89",
   "metadata": {
    "tags": []
   },
   "outputs": [
    {
     "data": {
      "text/plain": [
       "20373"
      ]
     },
     "execution_count": 260,
     "metadata": {},
     "output_type": "execute_result"
    }
   ],
   "source": [
    "clusters = pd.merge(clusters, tenders_structured, on = \"Reference Number\")\n",
    "len(clusters)"
   ]
  },
  {
   "cell_type": "code",
   "execution_count": 262,
   "id": "7e554a14-f54a-4504-864b-164ece352673",
   "metadata": {
    "tags": []
   },
   "outputs": [],
   "source": [
    "from bs4 import BeautifulSoup\n",
    "def remove_html_tags(text):\n",
    "    soup = BeautifulSoup(text, \"html.parser\")\n",
    "    cleaned = soup.get_text().replace('\\xa0', ' ')\n",
    "    cleaned = ' '.join(cleaned.split())\n",
    "    return cleaned\n",
    "\n",
    "docs = []\n",
    "for index, row in clusters.iterrows():\n",
    "    title = row[\"Contract Title\"]\n",
    "    desc = remove_html_tags(row[\"Description\"])\n",
    "    clusters.at[index, \"Description\"] = desc\n",
    "    docs.append(title + \". \" + desc)"
   ]
  },
  {
   "cell_type": "code",
   "execution_count": 263,
   "id": "fe4fe959-44ad-4110-a4bb-481a1408d170",
   "metadata": {
    "tags": []
   },
   "outputs": [
    {
     "data": {
      "text/html": [
       "<div>\n",
       "<style scoped>\n",
       "    .dataframe tbody tr th:only-of-type {\n",
       "        vertical-align: middle;\n",
       "    }\n",
       "\n",
       "    .dataframe tbody tr th {\n",
       "        vertical-align: top;\n",
       "    }\n",
       "\n",
       "    .dataframe thead th {\n",
       "        text-align: right;\n",
       "    }\n",
       "</style>\n",
       "<table border=\"1\" class=\"dataframe\">\n",
       "  <thead>\n",
       "    <tr style=\"text-align: right;\">\n",
       "      <th></th>\n",
       "      <th>Reference Number</th>\n",
       "      <th>Contract Title</th>\n",
       "      <th>Description</th>\n",
       "    </tr>\n",
       "  </thead>\n",
       "  <tbody>\n",
       "    <tr>\n",
       "      <th>7571</th>\n",
       "      <td>DMIRS21780</td>\n",
       "      <td>Provision of Tengraph Replacement and eMiTS De...</td>\n",
       "      <td>This RFQ requires the services of J2EE develop...</td>\n",
       "    </tr>\n",
       "    <tr>\n",
       "      <th>7804</th>\n",
       "      <td>DMIRS350320</td>\n",
       "      <td>Provision of J2EE Services to Support the Deve...</td>\n",
       "      <td>Provision of J2EE Services to Support the Deve...</td>\n",
       "    </tr>\n",
       "  </tbody>\n",
       "</table>\n",
       "</div>"
      ],
      "text/plain": [
       "     Reference Number                                     Contract Title  \\\n",
       "7571       DMIRS21780  Provision of Tengraph Replacement and eMiTS De...   \n",
       "7804      DMIRS350320  Provision of J2EE Services to Support the Deve...   \n",
       "\n",
       "                                            Description  \n",
       "7571  This RFQ requires the services of J2EE develop...  \n",
       "7804  Provision of J2EE Services to Support the Deve...  "
      ]
     },
     "execution_count": 263,
     "metadata": {},
     "output_type": "execute_result"
    }
   ],
   "source": [
    "clusters.loc[clusters[\"cluster\"] == 5 , [\"Reference Number\", \"Contract Title\", \"Description\"]] "
   ]
  },
  {
   "cell_type": "code",
   "execution_count": 300,
   "id": "22456a08-d2f2-40a9-84f8-09fb3db4d1e2",
   "metadata": {
    "tags": []
   },
   "outputs": [
    {
     "data": {
      "text/html": [
       "<style>#sk-container-id-5 {color: black;background-color: white;}#sk-container-id-5 pre{padding: 0;}#sk-container-id-5 div.sk-toggleable {background-color: white;}#sk-container-id-5 label.sk-toggleable__label {cursor: pointer;display: block;width: 100%;margin-bottom: 0;padding: 0.3em;box-sizing: border-box;text-align: center;}#sk-container-id-5 label.sk-toggleable__label-arrow:before {content: \"▸\";float: left;margin-right: 0.25em;color: #696969;}#sk-container-id-5 label.sk-toggleable__label-arrow:hover:before {color: black;}#sk-container-id-5 div.sk-estimator:hover label.sk-toggleable__label-arrow:before {color: black;}#sk-container-id-5 div.sk-toggleable__content {max-height: 0;max-width: 0;overflow: hidden;text-align: left;background-color: #f0f8ff;}#sk-container-id-5 div.sk-toggleable__content pre {margin: 0.2em;color: black;border-radius: 0.25em;background-color: #f0f8ff;}#sk-container-id-5 input.sk-toggleable__control:checked~div.sk-toggleable__content {max-height: 200px;max-width: 100%;overflow: auto;}#sk-container-id-5 input.sk-toggleable__control:checked~label.sk-toggleable__label-arrow:before {content: \"▾\";}#sk-container-id-5 div.sk-estimator input.sk-toggleable__control:checked~label.sk-toggleable__label {background-color: #d4ebff;}#sk-container-id-5 div.sk-label input.sk-toggleable__control:checked~label.sk-toggleable__label {background-color: #d4ebff;}#sk-container-id-5 input.sk-hidden--visually {border: 0;clip: rect(1px 1px 1px 1px);clip: rect(1px, 1px, 1px, 1px);height: 1px;margin: -1px;overflow: hidden;padding: 0;position: absolute;width: 1px;}#sk-container-id-5 div.sk-estimator {font-family: monospace;background-color: #f0f8ff;border: 1px dotted black;border-radius: 0.25em;box-sizing: border-box;margin-bottom: 0.5em;}#sk-container-id-5 div.sk-estimator:hover {background-color: #d4ebff;}#sk-container-id-5 div.sk-parallel-item::after {content: \"\";width: 100%;border-bottom: 1px solid gray;flex-grow: 1;}#sk-container-id-5 div.sk-label:hover label.sk-toggleable__label {background-color: #d4ebff;}#sk-container-id-5 div.sk-serial::before {content: \"\";position: absolute;border-left: 1px solid gray;box-sizing: border-box;top: 0;bottom: 0;left: 50%;z-index: 0;}#sk-container-id-5 div.sk-serial {display: flex;flex-direction: column;align-items: center;background-color: white;padding-right: 0.2em;padding-left: 0.2em;position: relative;}#sk-container-id-5 div.sk-item {position: relative;z-index: 1;}#sk-container-id-5 div.sk-parallel {display: flex;align-items: stretch;justify-content: center;background-color: white;position: relative;}#sk-container-id-5 div.sk-item::before, #sk-container-id-5 div.sk-parallel-item::before {content: \"\";position: absolute;border-left: 1px solid gray;box-sizing: border-box;top: 0;bottom: 0;left: 50%;z-index: -1;}#sk-container-id-5 div.sk-parallel-item {display: flex;flex-direction: column;z-index: 1;position: relative;background-color: white;}#sk-container-id-5 div.sk-parallel-item:first-child::after {align-self: flex-end;width: 50%;}#sk-container-id-5 div.sk-parallel-item:last-child::after {align-self: flex-start;width: 50%;}#sk-container-id-5 div.sk-parallel-item:only-child::after {width: 0;}#sk-container-id-5 div.sk-dashed-wrapped {border: 1px dashed gray;margin: 0 0.4em 0.5em 0.4em;box-sizing: border-box;padding-bottom: 0.4em;background-color: white;}#sk-container-id-5 div.sk-label label {font-family: monospace;font-weight: bold;display: inline-block;line-height: 1.2em;}#sk-container-id-5 div.sk-label-container {text-align: center;}#sk-container-id-5 div.sk-container {/* jupyter's `normalize.less` sets `[hidden] { display: none; }` but bootstrap.min.css set `[hidden] { display: none !important; }` so we also need the `!important` here to be able to override the default hidden behavior on the sphinx rendered scikit-learn.org. See: https://github.com/scikit-learn/scikit-learn/issues/21755 */display: inline-block !important;position: relative;}#sk-container-id-5 div.sk-text-repr-fallback {display: none;}</style><div id=\"sk-container-id-5\" class=\"sk-top-container\"><div class=\"sk-text-repr-fallback\"><pre>TfidfVectorizer(max_df=0.3, stop_words=&#x27;english&#x27;)</pre><b>In a Jupyter environment, please rerun this cell to show the HTML representation or trust the notebook. <br />On GitHub, the HTML representation is unable to render, please try loading this page with nbviewer.org.</b></div><div class=\"sk-container\" hidden><div class=\"sk-item\"><div class=\"sk-estimator sk-toggleable\"><input class=\"sk-toggleable__control sk-hidden--visually\" id=\"sk-estimator-id-5\" type=\"checkbox\" checked><label for=\"sk-estimator-id-5\" class=\"sk-toggleable__label sk-toggleable__label-arrow\">TfidfVectorizer</label><div class=\"sk-toggleable__content\"><pre>TfidfVectorizer(max_df=0.3, stop_words=&#x27;english&#x27;)</pre></div></div></div></div></div>"
      ],
      "text/plain": [
       "TfidfVectorizer(max_df=0.3, stop_words='english')"
      ]
     },
     "execution_count": 300,
     "metadata": {},
     "output_type": "execute_result"
    }
   ],
   "source": [
    "import numpy as np\n",
    "from sklearn.feature_extraction.text import TfidfVectorizer\n",
    "tender_tfidf = TfidfVectorizer(stop_words=\"english\",\n",
    "                               min_df=1, max_df = 0.3)\n",
    "tender_tfidf.fit(docs)"
   ]
  },
  {
   "cell_type": "code",
   "execution_count": 301,
   "id": "d7795f85-afbf-4ed6-8493-a942f6c0a1c1",
   "metadata": {
    "tags": []
   },
   "outputs": [],
   "source": [
    "from sklearn.decomposition import LatentDirichletAllocation\n",
    "lda = LatentDirichletAllocation(\n",
    "    n_components=1,\n",
    "    max_iter=20,\n",
    "    learning_method=\"batch\",\n",
    ")"
   ]
  },
  {
   "cell_type": "code",
   "execution_count": 302,
   "id": "313ea431-7c95-49fc-ac01-6371bd9addf4",
   "metadata": {
    "tags": []
   },
   "outputs": [],
   "source": [
    "def display_topic(n_cluster):\n",
    "    subset_docs = [docs[i] for i in list(np.where(clusters[\"cluster\"] == n_cluster)[0])]\n",
    "    tfidf = tender_tfidf.transform(subset_docs)\n",
    "    lda = LatentDirichletAllocation(\n",
    "        n_components=1,\n",
    "        max_iter=20,\n",
    "        learning_method=\"batch\",\n",
    "    )\n",
    "    lda_fitted = lda.fit(tfidf)\n",
    "    topics = tender_tfidf.get_feature_names_out()[lda_fitted.components_.argsort()]\n",
    "    topics = list(topics[0][-5:])\n",
    "    print(topics)\n",
    "    return clusters.loc[clusters[\"cluster\"] == n_cluster, [\"Reference Number\", \"Contract Title\", \"Description\"]]"
   ]
  },
  {
   "cell_type": "code",
   "execution_count": 322,
   "id": "4f2faa19-26e2-4b45-8377-b11e0cc45a53",
   "metadata": {
    "tags": []
   },
   "outputs": [
    {
     "name": "stdout",
     "output_type": "stream",
     "text": [
      "['school', 'naturaliste', 'college', 'cuaelc2012', 'electricity']\n"
     ]
    },
    {
     "data": {
      "text/html": [
       "<div>\n",
       "<style scoped>\n",
       "    .dataframe tbody tr th:only-of-type {\n",
       "        vertical-align: middle;\n",
       "    }\n",
       "\n",
       "    .dataframe tbody tr th {\n",
       "        vertical-align: top;\n",
       "    }\n",
       "\n",
       "    .dataframe thead th {\n",
       "        text-align: right;\n",
       "    }\n",
       "</style>\n",
       "<table border=\"1\" class=\"dataframe\">\n",
       "  <thead>\n",
       "    <tr style=\"text-align: right;\">\n",
       "      <th></th>\n",
       "      <th>Reference Number</th>\n",
       "      <th>Contract Title</th>\n",
       "      <th>Description</th>\n",
       "    </tr>\n",
       "  </thead>\n",
       "  <tbody>\n",
       "    <tr>\n",
       "      <th>1941</th>\n",
       "      <td>ED230341</td>\n",
       "      <td>Electricity - Cape Naturaliste College (CUAELC...</td>\n",
       "      <td>Electricity - Cape Naturaliste College (CUAELC...</td>\n",
       "    </tr>\n",
       "    <tr>\n",
       "      <th>1986</th>\n",
       "      <td>ED230234</td>\n",
       "      <td>Electricity - Koorana Primary School (CUAELC2012)</td>\n",
       "      <td>Electricity - Koorana Primary School (CUAELC2012)</td>\n",
       "    </tr>\n",
       "    <tr>\n",
       "      <th>2182</th>\n",
       "      <td>ed220455</td>\n",
       "      <td>Electricity - Como Secondary College</td>\n",
       "      <td>Electricity - Como Secondary College</td>\n",
       "    </tr>\n",
       "    <tr>\n",
       "      <th>2273</th>\n",
       "      <td>ED210330</td>\n",
       "      <td>Electricity - Warriapendi Primary School (CUAE...</td>\n",
       "      <td>Electricity - Warriapendi Primary School (CUAE...</td>\n",
       "    </tr>\n",
       "    <tr>\n",
       "      <th>2340</th>\n",
       "      <td>ED210203</td>\n",
       "      <td>Electricity - Wandina Primay School (CUAELC2012)</td>\n",
       "      <td>Electricity - Wandina Primay School (CUAELC2012)</td>\n",
       "    </tr>\n",
       "    <tr>\n",
       "      <th>2374</th>\n",
       "      <td>ED210165</td>\n",
       "      <td>Electricity - Cape Naturaliste College (CUAELC...</td>\n",
       "      <td>Electricity - Cape Naturaliste College (CUAELC...</td>\n",
       "    </tr>\n",
       "    <tr>\n",
       "      <th>2486</th>\n",
       "      <td>ED200387</td>\n",
       "      <td>Electricity - Capel Primary School (CUAELC2012)</td>\n",
       "      <td>Electricity - Capel Primary School (CUAELC2012)</td>\n",
       "    </tr>\n",
       "    <tr>\n",
       "      <th>2505</th>\n",
       "      <td>ED200338</td>\n",
       "      <td>Electricity - Kyilla Primary School (CUAELC2012)</td>\n",
       "      <td>Electricity - Kyilla Primary School (CUAELC2012)</td>\n",
       "    </tr>\n",
       "    <tr>\n",
       "      <th>2527</th>\n",
       "      <td>ED200314</td>\n",
       "      <td>Electricity - Dianella Secondary College (CUAE...</td>\n",
       "      <td>Electricity - Dianella Secondary College (CUAE...</td>\n",
       "    </tr>\n",
       "    <tr>\n",
       "      <th>2582</th>\n",
       "      <td>ED200256</td>\n",
       "      <td>Electricity - Pinjarra Primary School (CUAELC2...</td>\n",
       "      <td>Electricity - Pinjarra Primary School (CUAELC2...</td>\n",
       "    </tr>\n",
       "    <tr>\n",
       "      <th>2610</th>\n",
       "      <td>ED200398</td>\n",
       "      <td>Electricity - Attadale Primary School (CUAELC2...</td>\n",
       "      <td>Electricity - Attadale Primary School (CUAELC2...</td>\n",
       "    </tr>\n",
       "    <tr>\n",
       "      <th>2643</th>\n",
       "      <td>ED200184</td>\n",
       "      <td>Electricity - Como Secondary College (CUAELC2012)</td>\n",
       "      <td>Electricity - Como Secondary College (CUAELC2012)</td>\n",
       "    </tr>\n",
       "    <tr>\n",
       "      <th>2851</th>\n",
       "      <td>ED19231</td>\n",
       "      <td>Electricity - Cape Naturaliste College (CUAELC...</td>\n",
       "      <td>Electricity - Cape Naturaliste College (CUAELC...</td>\n",
       "    </tr>\n",
       "  </tbody>\n",
       "</table>\n",
       "</div>"
      ],
      "text/plain": [
       "     Reference Number                                     Contract Title  \\\n",
       "1941         ED230341  Electricity - Cape Naturaliste College (CUAELC...   \n",
       "1986         ED230234  Electricity - Koorana Primary School (CUAELC2012)   \n",
       "2182         ed220455               Electricity - Como Secondary College   \n",
       "2273         ED210330  Electricity - Warriapendi Primary School (CUAE...   \n",
       "2340         ED210203   Electricity - Wandina Primay School (CUAELC2012)   \n",
       "2374         ED210165  Electricity - Cape Naturaliste College (CUAELC...   \n",
       "2486         ED200387    Electricity - Capel Primary School (CUAELC2012)   \n",
       "2505         ED200338   Electricity - Kyilla Primary School (CUAELC2012)   \n",
       "2527         ED200314  Electricity - Dianella Secondary College (CUAE...   \n",
       "2582         ED200256  Electricity - Pinjarra Primary School (CUAELC2...   \n",
       "2610         ED200398  Electricity - Attadale Primary School (CUAELC2...   \n",
       "2643         ED200184  Electricity - Como Secondary College (CUAELC2012)   \n",
       "2851          ED19231  Electricity - Cape Naturaliste College (CUAELC...   \n",
       "\n",
       "                                            Description  \n",
       "1941  Electricity - Cape Naturaliste College (CUAELC...  \n",
       "1986  Electricity - Koorana Primary School (CUAELC2012)  \n",
       "2182               Electricity - Como Secondary College  \n",
       "2273  Electricity - Warriapendi Primary School (CUAE...  \n",
       "2340   Electricity - Wandina Primay School (CUAELC2012)  \n",
       "2374  Electricity - Cape Naturaliste College (CUAELC...  \n",
       "2486    Electricity - Capel Primary School (CUAELC2012)  \n",
       "2505   Electricity - Kyilla Primary School (CUAELC2012)  \n",
       "2527  Electricity - Dianella Secondary College (CUAE...  \n",
       "2582  Electricity - Pinjarra Primary School (CUAELC2...  \n",
       "2610  Electricity - Attadale Primary School (CUAELC2...  \n",
       "2643  Electricity - Como Secondary College (CUAELC2012)  \n",
       "2851  Electricity - Cape Naturaliste College (CUAELC...  "
      ]
     },
     "execution_count": 322,
     "metadata": {},
     "output_type": "execute_result"
    }
   ],
   "source": [
    "display_topic(45)"
   ]
  },
  {
   "cell_type": "code",
   "execution_count": null,
   "id": "c3385988-d7ac-4cbe-8cdf-a1fdd94d04f5",
   "metadata": {},
   "outputs": [],
   "source": []
  }
 ],
 "metadata": {
  "kernelspec": {
   "display_name": "Python 3 (ipykernel)",
   "language": "python",
   "name": "python3"
  },
  "language_info": {
   "codemirror_mode": {
    "name": "ipython",
    "version": 3
   },
   "file_extension": ".py",
   "mimetype": "text/x-python",
   "name": "python",
   "nbconvert_exporter": "python",
   "pygments_lexer": "ipython3",
   "version": "3.10.12"
  }
 },
 "nbformat": 4,
 "nbformat_minor": 5
}
