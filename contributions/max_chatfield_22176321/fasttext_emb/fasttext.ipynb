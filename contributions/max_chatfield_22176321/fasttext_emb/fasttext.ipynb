{
 "cells": [
  {
   "cell_type": "code",
   "execution_count": 2,
   "id": "fa27e987-2045-425a-80e8-79aa049c7ba1",
   "metadata": {
    "tags": []
   },
   "outputs": [],
   "source": [
    "import pandas as pd\n",
    "Tenders = pd.read_excel(\"../../../data/UpdatedAgainTenders.xlsx\")"
   ]
  },
  {
   "cell_type": "code",
   "execution_count": 13,
   "id": "88af8fb8-9295-4e2e-b181-6fc9aa197d2a",
   "metadata": {
    "tags": []
   },
   "outputs": [
    {
     "data": {
      "text/plain": [
       "Index(['Client Agency', 'Client Agency Address', 'Developing Agency Parent',\n",
       "       'Reference Number', 'Type of Work', 'Contract Title', 'Description',\n",
       "       'Tender Closing Date', 'UNSPSC Code', 'UNSPSC Title',\n",
       "       'Procurement Method', 'Period Contract', 'CUA Contract',\n",
       "       'Original Contract Value', 'Revised Contract Value', 'Region/s',\n",
       "       'Awarded Date', 'Start Date', 'Initial Expiry Date', 'Expiry Date',\n",
       "       'Number of Submissions', 'Panel Contract', 'Contract Developer',\n",
       "       'Contract Manager', 'Supplier Name', 'Supplier ABN', 'Supplier Address',\n",
       "       'DCSP Contract', 'supplier contract price', 'Number of Variations',\n",
       "       'Variation Amount', 'Contract Expenditure', 'Tender Number',\n",
       "       'Tender Open Date', 'Tender Close Date', 'Tender ID', 'TenderLink'],\n",
       "      dtype='object')"
      ]
     },
     "execution_count": 13,
     "metadata": {},
     "output_type": "execute_result"
    }
   ],
   "source": [
    "Tenders.columns"
   ]
  },
  {
   "cell_type": "code",
   "execution_count": 97,
   "id": "7ddef2a9-d45e-4f96-8bad-44239779a312",
   "metadata": {
    "tags": []
   },
   "outputs": [
    {
     "name": "stderr",
     "output_type": "stream",
     "text": [
      "[nltk_data] Downloading package punkt to\n",
      "[nltk_data]     /home/ucc/maxichat/nltk_data...\n",
      "[nltk_data]   Package punkt is already up-to-date!\n",
      "[nltk_data] Downloading package stopwords to\n",
      "[nltk_data]     /home/ucc/maxichat/nltk_data...\n",
      "[nltk_data]   Package stopwords is already up-to-date!\n"
     ]
    }
   ],
   "source": [
    "import nltk\n",
    "nltk.download('punkt')\n",
    "nltk.download('stopwords')\n",
    "from nltk.corpus import stopwords as sw\n",
    "from nltk.tokenize import word_tokenize\n",
    "\n",
    "puncts = [',', '.', '\"', ':', ')', '(', '-', '!', '?', '|', ';', \"'\", '$', '&', '/', '[', ']', '>', '%', '=', '#', '*', '+', '\\\\', '•',  '~', '@', '£', \n",
    " '·', '_', '{', '}', '©', '^', '®', '`',  '<', '→', '°', '€', '™', '›',  '♥', '←', '×', '§', '″', '′', 'Â', '█', '½', '…', \n",
    " '“', '★', '”', '–', '●', 'â', '►', '−', '¢', '²', '¬', '░', '¶', '↑', '±', '¿', '▾', '═', '¦', '║', '―', '¥', '▓', '—', '‹', '─', \n",
    " '▒', '：', '¼', '⊕', '▼', '▪', '†', '■', '’', '▀', '¨', '▄', '♫', '☆', '¯', '♦', '¤', '▲', '¸', '¾', '⋅', '‘', '∞', \n",
    " '∙', '）', '↓', '、', '│', '（', '»', '，', '♪', '╩', '╚', '³', '・', '╦', '╣', '╔', '╗', '▬', '❤', '¹', '≤', '‡', '√', ]\n",
    "\n",
    "def remove_punctuation(x):\n",
    "    x = str(x)\n",
    "    for punct in puncts:\n",
    "        if punct in x:\n",
    "            x = x.replace(punct, '')\n",
    "    return x\n",
    "\n",
    "stop_words = sw.words()\n",
    "\n",
    "# Adapted from Joyce's 'deal_data.py' file\n",
    "import re\n",
    "def preprocess(content):\n",
    "    text = re.findall(r'>([^<]+)<', content)\n",
    "    text = [t.strip() for t in text if t.strip()]\n",
    "    text = \" \".join(text)\n",
    "    text = re.sub(\"\\xa0\", '', text)\n",
    "    text = remove_punctuation(text)\n",
    "    text = text.lower()\n",
    "    tokens = word_tokenize(text)\n",
    "    filtered_sentence = [w for w in tokens if not w in stop_words]\n",
    "    return filtered_sentence"
   ]
  },
  {
   "cell_type": "code",
   "execution_count": 104,
   "id": "2828ed75-46f5-4bfc-8d2f-d550c53b77b8",
   "metadata": {
    "tags": []
   },
   "outputs": [],
   "source": [
    "sentences = [preprocess(content) for content in Tenders[\"Description\"]]"
   ]
  },
  {
   "cell_type": "code",
   "execution_count": 109,
   "id": "eb8bb53f-fc48-44d2-9317-992136c167b4",
   "metadata": {
    "tags": []
   },
   "outputs": [
    {
     "data": {
      "text/plain": [
       "True"
      ]
     },
     "execution_count": 109,
     "metadata": {},
     "output_type": "execute_result"
    }
   ],
   "source": [
    "len(sentences) == len(Tenders)"
   ]
  },
  {
   "cell_type": "code",
   "execution_count": 112,
   "id": "559fa846-a05e-4857-874c-b27c9c88c6a9",
   "metadata": {
    "tags": []
   },
   "outputs": [],
   "source": [
    "from gensim.models import FastText\n",
    "#skip gram\n",
    "ft_model = FastText(sentences, vector_size=100, window=5, min_count=5, workers=2, sg=1)"
   ]
  },
  {
   "cell_type": "code",
   "execution_count": 120,
   "id": "88734160-4623-4aa2-805f-1921e7735a9a",
   "metadata": {
    "tags": []
   },
   "outputs": [
    {
     "data": {
      "text/plain": [
       "array([-0.01129239, -0.213312  ,  0.76592624,  0.18122433,  0.10902726,\n",
       "       -0.20638226, -0.15469751, -0.04000745,  0.43963322, -0.26372322,\n",
       "        0.09150757,  0.09030248, -0.10152188,  0.17080572, -0.30549133,\n",
       "        0.14313504,  0.23966828, -0.42562246, -0.33569124, -0.7142659 ,\n",
       "       -0.08556675,  0.4568162 , -0.00122319, -0.01923689, -0.01153962,\n",
       "       -0.22891451, -0.81238645, -0.30243582,  0.10705744,  0.23443142,\n",
       "       -0.08050987, -0.19760934,  0.32736307,  0.2163056 , -0.23116644,\n",
       "        0.40134633, -0.1602959 , -0.0533842 , -0.2949559 ,  0.0500124 ,\n",
       "        0.1069188 ,  0.04872245,  0.16048524, -0.36198002, -0.10417377,\n",
       "        0.01472887, -0.18377806, -0.30446166,  0.15558945, -0.1860763 ,\n",
       "        0.63949454, -0.00593806,  0.3524825 , -0.04385049,  0.01688425,\n",
       "       -0.2908308 , -0.14256573,  0.36038497, -0.35243732,  0.21467263,\n",
       "        0.4709558 , -0.14009348,  0.06907006, -0.22690342, -0.06932667,\n",
       "        0.15087384,  0.12290405, -0.28577664,  0.24426028,  0.9056643 ,\n",
       "       -0.48638347, -0.1006403 , -0.0215185 , -0.13245997, -0.16677958,\n",
       "        0.01637022,  0.0434069 , -0.2505431 , -0.32910925,  0.3228408 ,\n",
       "        0.15690552,  0.35785025, -0.500755  ,  0.1260187 ,  0.29210845,\n",
       "        0.2490399 ,  0.10996942, -0.10745274,  0.5165385 ,  0.05945485,\n",
       "       -0.00110894,  0.21895155,  0.2615576 ,  0.46264553, -0.17542046,\n",
       "       -0.17673865,  0.33352372, -0.2978726 ,  0.13046667, -0.2560537 ],\n",
       "      dtype=float32)"
      ]
     },
     "execution_count": 120,
     "metadata": {},
     "output_type": "execute_result"
    }
   ],
   "source": [
    "ft_model.wv['austrlia']"
   ]
  },
  {
   "cell_type": "code",
   "execution_count": 137,
   "id": "db8db7ba-deb7-4245-ac76-55cd142556ea",
   "metadata": {
    "tags": []
   },
   "outputs": [],
   "source": [
    "# get a single embedding for each document by mean.\n",
    "import numpy as np\n",
    "embeddings = []\n",
    "for sentence in sentences:\n",
    "    s = np.zeros(100)\n",
    "    i = 0\n",
    "    for word in sentence:\n",
    "        s += ft_model.wv[word]\n",
    "        i += 1\n",
    "    if i != 0:\n",
    "        s = s/i\n",
    "    embeddings.append(s)"
   ]
  },
  {
   "cell_type": "code",
   "execution_count": null,
   "id": "7625193a-5192-49e7-bb5c-554312f39394",
   "metadata": {},
   "outputs": [],
   "source": [
    "np.savetext(\"fasttext_emb.csv\", embeddings, )"
   ]
  }
 ],
 "metadata": {
  "kernelspec": {
   "display_name": "Python 3 (ipykernel)",
   "language": "python",
   "name": "python3"
  },
  "language_info": {
   "codemirror_mode": {
    "name": "ipython",
    "version": 3
   },
   "file_extension": ".py",
   "mimetype": "text/x-python",
   "name": "python",
   "nbconvert_exporter": "python",
   "pygments_lexer": "ipython3",
   "version": "3.11.4"
  }
 },
 "nbformat": 4,
 "nbformat_minor": 5
}
