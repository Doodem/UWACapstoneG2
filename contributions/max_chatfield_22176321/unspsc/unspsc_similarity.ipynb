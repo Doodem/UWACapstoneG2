{
 "cells": [
  {
   "cell_type": "code",
   "execution_count": 2,
   "id": "78ecbcfd",
   "metadata": {},
   "outputs": [],
   "source": [
    "import numpy as np\n",
    "\n",
    "# Load the NPZ file\n",
    "data = np.load('../../../data/embedding_data/unspsc_embeddings.npz')\n",
    "unspsc_data = [data[f] for f in data.files]"
   ]
  },
  {
   "cell_type": "code",
   "execution_count": 3,
   "id": "69fb632a",
   "metadata": {},
   "outputs": [],
   "source": [
    "import pickle\n",
    "\n",
    "# Open the .pickle file for reading\n",
    "with open('../../../data/embedding_data/unspsc_title_list.pickle', 'rb') as file:\n",
    "    unspsc_titles = pickle.load(file)"
   ]
  },
  {
   "cell_type": "code",
   "execution_count": 4,
   "id": "ca05e2bf-f4a2-441c-b0a6-aef62ac66450",
   "metadata": {
    "tags": []
   },
   "outputs": [
    {
     "name": "stdout",
     "output_type": "stream",
     "text": [
      "(2336, 768)\n",
      "2336\n"
     ]
    }
   ],
   "source": [
    "print(np.shape(unspsc_data))\n",
    "print(len(unspsc_titles))"
   ]
  },
  {
   "cell_type": "code",
   "execution_count": 5,
   "id": "42cbb85f-8c9a-4825-8cbf-b4a6a9c38fa6",
   "metadata": {
    "tags": []
   },
   "outputs": [],
   "source": [
    "import pandas as pd\n",
    "unspsc_pd = pd.DataFrame({\"UNSPSC Title\": unspsc_titles, \"unspsc_emb\": unspsc_data})"
   ]
  },
  {
   "cell_type": "code",
   "execution_count": 6,
   "id": "1c5a5454-38ec-493e-bb85-c45869d5292c",
   "metadata": {
    "tags": []
   },
   "outputs": [],
   "source": [
    "import pandas as pd\n",
    "\n",
    "tenders_structured_path = r\"../../../data/UpdatedAgainTenders.xlsx\"\n",
    "\n",
    "tenders_structured = pd.read_excel(tenders_structured_path)\n",
    "tenders_structured = tenders_structured[[\"Reference Number\", \"Contract Title\", \"Description\", \"UNSPSC Title\"]].dropna(subset=[\"Reference Number\"]).drop_duplicates(subset=[\"Reference Number\"])\n",
    "\n",
    "from bs4 import BeautifulSoup\n",
    "def remove_html_tags(text):\n",
    "    soup = BeautifulSoup(text, \"html.parser\")\n",
    "    cleaned = soup.get_text().replace('\\xa0', ' ')\n",
    "    cleaned = ' '.join(cleaned.split())\n",
    "    return cleaned\n",
    "\n",
    "docs = []\n",
    "for index, row in tenders_structured.iterrows():\n",
    "    title = row[\"Contract Title\"]\n",
    "    desc = remove_html_tags(row[\"Description\"])\n",
    "    tenders_structured.at[index, \"Description\"] = desc\n",
    "    docs.append(title + \". \" + desc)"
   ]
  },
  {
   "cell_type": "code",
   "execution_count": 7,
   "id": "0ba322a7-04a5-47bd-9630-e79e9ea12df1",
   "metadata": {
    "tags": []
   },
   "outputs": [],
   "source": [
    "import numpy\n",
    "bert_embs = numpy.load(\"../../../data/embedding_data/sent_transformer_embeddings.npz\")\n",
    "bert_embs = [bert_embs[f] for f in bert_embs.files]\n",
    "\n",
    "tender_refs = open(\"../../../data/embedding_data/tender_references.txt\", \"r\")\n",
    "content = \"\"\n",
    "for line in tender_refs:\n",
    "    content = line\n",
    "    break\n",
    "    \n",
    "content = content.replace(\"[\", \"\")\n",
    "content = content.replace(\"'\", \"\")\n",
    "content = content.replace(\",\", \"\")\n",
    "refs = content.split(\" \")"
   ]
  },
  {
   "cell_type": "code",
   "execution_count": 8,
   "id": "e4c9bd0b-8723-4bf5-959a-a158883f3474",
   "metadata": {
    "tags": []
   },
   "outputs": [],
   "source": [
    "sd_embs = pd.DataFrame({\"Reference Number\": refs, \"sd_emb\": bert_embs})"
   ]
  },
  {
   "cell_type": "code",
   "execution_count": 9,
   "id": "e9c4baae-fb34-439e-be72-b6f296492a19",
   "metadata": {
    "tags": []
   },
   "outputs": [],
   "source": [
    "combined = pd.merge(tenders_structured, unspsc_pd, on = \"UNSPSC Title\")\n",
    "combined = pd.merge(combined, sd_embs, on = \"Reference Number\")"
   ]
  },
  {
   "cell_type": "code",
   "execution_count": 10,
   "id": "cb284ee7-65a0-4b53-830c-ce8dcc651425",
   "metadata": {
    "tags": []
   },
   "outputs": [
    {
     "data": {
      "text/html": [
       "<div>\n",
       "<style scoped>\n",
       "    .dataframe tbody tr th:only-of-type {\n",
       "        vertical-align: middle;\n",
       "    }\n",
       "\n",
       "    .dataframe tbody tr th {\n",
       "        vertical-align: top;\n",
       "    }\n",
       "\n",
       "    .dataframe thead th {\n",
       "        text-align: right;\n",
       "    }\n",
       "</style>\n",
       "<table border=\"1\" class=\"dataframe\">\n",
       "  <thead>\n",
       "    <tr style=\"text-align: right;\">\n",
       "      <th></th>\n",
       "      <th>Reference Number</th>\n",
       "      <th>Contract Title</th>\n",
       "      <th>Description</th>\n",
       "      <th>UNSPSC Title</th>\n",
       "      <th>unspsc_emb</th>\n",
       "      <th>sd_emb</th>\n",
       "    </tr>\n",
       "  </thead>\n",
       "  <tbody>\n",
       "    <tr>\n",
       "      <th>0</th>\n",
       "      <td>ARA201901891</td>\n",
       "      <td>Supply and Delivery of Aspen Bedding Material</td>\n",
       "      <td>The Customer requires a Contractor to provide ...</td>\n",
       "      <td>Research animal bedding material</td>\n",
       "      <td>[0.056964125, 0.017811134, 0.0065141907, -0.00...</td>\n",
       "      <td>[0.04173276, -0.020767255, -0.04720556, 0.0584...</td>\n",
       "    </tr>\n",
       "    <tr>\n",
       "      <th>1</th>\n",
       "      <td>20221AGWA</td>\n",
       "      <td>Bar Consultancy and Staffing AGWA Rooftop Bar ...</td>\n",
       "      <td>The Art Gallery of Western Australia (AGWA) re...</td>\n",
       "      <td>Business and corporate management consultation...</td>\n",
       "      <td>[0.012307737, -0.06005603, -0.0085970545, -0.0...</td>\n",
       "      <td>[0.08356551, 0.18301757, 0.0034148374, 0.01330...</td>\n",
       "    </tr>\n",
       "    <tr>\n",
       "      <th>2</th>\n",
       "      <td>E05072022ACT</td>\n",
       "      <td>Procurement Of Consultancy Services for Strate...</td>\n",
       "      <td>On 1 July 2022, the Perth Theatre Trust was ab...</td>\n",
       "      <td>Business and corporate management consultation...</td>\n",
       "      <td>[0.012307737, -0.06005603, -0.0085970545, -0.0...</td>\n",
       "      <td>[0.13795552, 0.013483306, -0.05724118, -0.0433...</td>\n",
       "    </tr>\n",
       "    <tr>\n",
       "      <th>3</th>\n",
       "      <td>CUATPS201907072022AC</td>\n",
       "      <td>Senior Policy Officer</td>\n",
       "      <td>Temporary engagement of a Senior Policy Office...</td>\n",
       "      <td>Business and corporate management consultation...</td>\n",
       "      <td>[0.012307737, -0.06005603, -0.0085970545, -0.0...</td>\n",
       "      <td>[0.002643208, 0.01671921, -0.007894835, -0.058...</td>\n",
       "    </tr>\n",
       "    <tr>\n",
       "      <th>4</th>\n",
       "      <td>CAHS202311117</td>\n",
       "      <td>High-Level Transition Plan for Specialised Inf...</td>\n",
       "      <td>High-Level Transition Plan for Specialised Inf...</td>\n",
       "      <td>Business and corporate management consultation...</td>\n",
       "      <td>[0.012307737, -0.06005603, -0.0085970545, -0.0...</td>\n",
       "      <td>[0.0041359942, 0.0076163285, -0.0077497656, -0...</td>\n",
       "    </tr>\n",
       "    <tr>\n",
       "      <th>...</th>\n",
       "      <td>...</td>\n",
       "      <td>...</td>\n",
       "      <td>...</td>\n",
       "      <td>...</td>\n",
       "      <td>...</td>\n",
       "      <td>...</td>\n",
       "    </tr>\n",
       "    <tr>\n",
       "      <th>20362</th>\n",
       "      <td>2021947WAM</td>\n",
       "      <td>Provision for Gas supply to Collections and Re...</td>\n",
       "      <td>Provision for Gas supply to Collections and Re...</td>\n",
       "      <td>Natural gas production services</td>\n",
       "      <td>[-0.012834141, -0.0009790445, -0.00421543, 0.0...</td>\n",
       "      <td>[0.012311371, -0.04206978, 0.025609996, -0.011...</td>\n",
       "    </tr>\n",
       "    <tr>\n",
       "      <th>20363</th>\n",
       "      <td>DPLH302920</td>\n",
       "      <td>Construction of a Replacement Steel Footbridge...</td>\n",
       "      <td>The Western Australian Planning Commission (WA...</td>\n",
       "      <td>Footbridge</td>\n",
       "      <td>[-0.02981906, 0.012738478, -0.0032391194, 0.01...</td>\n",
       "      <td>[-0.017478287, 0.046908665, 0.0243664, 0.04562...</td>\n",
       "    </tr>\n",
       "    <tr>\n",
       "      <th>20364</th>\n",
       "      <td>CUAICTS2021</td>\n",
       "      <td>WATC Client Portal Support Contract</td>\n",
       "      <td>WATC - Client Portal Support Contract</td>\n",
       "      <td>Computer support organization</td>\n",
       "      <td>[0.029169315, -0.013054614, 0.0061823376, -0.0...</td>\n",
       "      <td>[0.052064676, -0.010032334, -0.0014293739, -0....</td>\n",
       "    </tr>\n",
       "    <tr>\n",
       "      <th>20365</th>\n",
       "      <td>WATC1185</td>\n",
       "      <td>Checkpoint Firewall</td>\n",
       "      <td>Checkpoint Firewall Maintenance contract</td>\n",
       "      <td>Integrated maintenance information systems</td>\n",
       "      <td>[-0.038856726, 0.015572124, -0.042956833, -0.0...</td>\n",
       "      <td>[-0.01910584, 0.015930783, -0.021380246, -0.05...</td>\n",
       "    </tr>\n",
       "    <tr>\n",
       "      <th>20366</th>\n",
       "      <td>WCV0119</td>\n",
       "      <td>Redevelop WorkCover WA Conference Website in W...</td>\n",
       "      <td>The main focus of this project is to amalgamat...</td>\n",
       "      <td>Web page creation and editing software</td>\n",
       "      <td>[0.017135533, -0.08757367, 0.029937617, -0.049...</td>\n",
       "      <td>[-0.0055945506, 0.05729763, -0.010439393, 0.01...</td>\n",
       "    </tr>\n",
       "  </tbody>\n",
       "</table>\n",
       "<p>20367 rows × 6 columns</p>\n",
       "</div>"
      ],
      "text/plain": [
       "           Reference Number  \\\n",
       "0              ARA201901891   \n",
       "1                 20221AGWA   \n",
       "2              E05072022ACT   \n",
       "3      CUATPS201907072022AC   \n",
       "4             CAHS202311117   \n",
       "...                     ...   \n",
       "20362            2021947WAM   \n",
       "20363            DPLH302920   \n",
       "20364           CUAICTS2021   \n",
       "20365              WATC1185   \n",
       "20366               WCV0119   \n",
       "\n",
       "                                          Contract Title  \\\n",
       "0          Supply and Delivery of Aspen Bedding Material   \n",
       "1      Bar Consultancy and Staffing AGWA Rooftop Bar ...   \n",
       "2      Procurement Of Consultancy Services for Strate...   \n",
       "3                                  Senior Policy Officer   \n",
       "4      High-Level Transition Plan for Specialised Inf...   \n",
       "...                                                  ...   \n",
       "20362  Provision for Gas supply to Collections and Re...   \n",
       "20363  Construction of a Replacement Steel Footbridge...   \n",
       "20364                WATC Client Portal Support Contract   \n",
       "20365                               Checkpoint Firewall    \n",
       "20366  Redevelop WorkCover WA Conference Website in W...   \n",
       "\n",
       "                                             Description  \\\n",
       "0      The Customer requires a Contractor to provide ...   \n",
       "1      The Art Gallery of Western Australia (AGWA) re...   \n",
       "2      On 1 July 2022, the Perth Theatre Trust was ab...   \n",
       "3      Temporary engagement of a Senior Policy Office...   \n",
       "4      High-Level Transition Plan for Specialised Inf...   \n",
       "...                                                  ...   \n",
       "20362  Provision for Gas supply to Collections and Re...   \n",
       "20363  The Western Australian Planning Commission (WA...   \n",
       "20364              WATC - Client Portal Support Contract   \n",
       "20365           Checkpoint Firewall Maintenance contract   \n",
       "20366  The main focus of this project is to amalgamat...   \n",
       "\n",
       "                                            UNSPSC Title  \\\n",
       "0                       Research animal bedding material   \n",
       "1      Business and corporate management consultation...   \n",
       "2      Business and corporate management consultation...   \n",
       "3      Business and corporate management consultation...   \n",
       "4      Business and corporate management consultation...   \n",
       "...                                                  ...   \n",
       "20362                    Natural gas production services   \n",
       "20363                                         Footbridge   \n",
       "20364                      Computer support organization   \n",
       "20365         Integrated maintenance information systems   \n",
       "20366             Web page creation and editing software   \n",
       "\n",
       "                                              unspsc_emb  \\\n",
       "0      [0.056964125, 0.017811134, 0.0065141907, -0.00...   \n",
       "1      [0.012307737, -0.06005603, -0.0085970545, -0.0...   \n",
       "2      [0.012307737, -0.06005603, -0.0085970545, -0.0...   \n",
       "3      [0.012307737, -0.06005603, -0.0085970545, -0.0...   \n",
       "4      [0.012307737, -0.06005603, -0.0085970545, -0.0...   \n",
       "...                                                  ...   \n",
       "20362  [-0.012834141, -0.0009790445, -0.00421543, 0.0...   \n",
       "20363  [-0.02981906, 0.012738478, -0.0032391194, 0.01...   \n",
       "20364  [0.029169315, -0.013054614, 0.0061823376, -0.0...   \n",
       "20365  [-0.038856726, 0.015572124, -0.042956833, -0.0...   \n",
       "20366  [0.017135533, -0.08757367, 0.029937617, -0.049...   \n",
       "\n",
       "                                                  sd_emb  \n",
       "0      [0.04173276, -0.020767255, -0.04720556, 0.0584...  \n",
       "1      [0.08356551, 0.18301757, 0.0034148374, 0.01330...  \n",
       "2      [0.13795552, 0.013483306, -0.05724118, -0.0433...  \n",
       "3      [0.002643208, 0.01671921, -0.007894835, -0.058...  \n",
       "4      [0.0041359942, 0.0076163285, -0.0077497656, -0...  \n",
       "...                                                  ...  \n",
       "20362  [0.012311371, -0.04206978, 0.025609996, -0.011...  \n",
       "20363  [-0.017478287, 0.046908665, 0.0243664, 0.04562...  \n",
       "20364  [0.052064676, -0.010032334, -0.0014293739, -0....  \n",
       "20365  [-0.01910584, 0.015930783, -0.021380246, -0.05...  \n",
       "20366  [-0.0055945506, 0.05729763, -0.010439393, 0.01...  \n",
       "\n",
       "[20367 rows x 6 columns]"
      ]
     },
     "execution_count": 10,
     "metadata": {},
     "output_type": "execute_result"
    }
   ],
   "source": [
    "combined = combined.reset_index(drop=True)\n",
    "combined"
   ]
  },
  {
   "cell_type": "code",
   "execution_count": 11,
   "id": "54f14edd-6db5-459f-9385-809e1662a51a",
   "metadata": {
    "tags": []
   },
   "outputs": [],
   "source": [
    "# losing around 300 rows......"
   ]
  },
  {
   "cell_type": "code",
   "execution_count": 12,
   "id": "a8753558-a505-4413-80fc-ec807a47e024",
   "metadata": {
    "tags": []
   },
   "outputs": [],
   "source": [
    "#unpack arrays \n",
    "unspsc_emb_np = combined[[\"unspsc_emb\"]].values\n",
    "unspsc_emb_np = np.block([[unpacked[0]] for unpacked in unspsc_emb_np])\n",
    "sd_emb_np = combined[[\"sd_emb\"]].values\n",
    "sd_emb_np = np.block([[unpacked[0]] for unpacked in sd_emb_np])"
   ]
  },
  {
   "cell_type": "code",
   "execution_count": 13,
   "id": "e230f286-a4ad-4050-971e-f0424d5f078c",
   "metadata": {
    "tags": []
   },
   "outputs": [
    {
     "name": "stdout",
     "output_type": "stream",
     "text": [
      "(20367, 768)\n",
      "(20367, 768)\n"
     ]
    }
   ],
   "source": [
    "print(np.shape(unspsc_emb_np))\n",
    "print(np.shape(sd_emb_np))"
   ]
  },
  {
   "cell_type": "code",
   "execution_count": 14,
   "id": "799df5bb-8130-45d6-9f56-d13d390be5ff",
   "metadata": {
    "tags": []
   },
   "outputs": [],
   "source": [
    "from sklearn.metrics.pairwise import cosine_similarity\n",
    "unspsc_emb_dist = cosine_similarity(unspsc_emb_np)"
   ]
  },
  {
   "cell_type": "code",
   "execution_count": 15,
   "id": "9ddc9cb2-08c5-4d9a-acd7-690541889224",
   "metadata": {
    "tags": []
   },
   "outputs": [],
   "source": [
    "sd_emb_dist = cosine_similarity(sd_emb_np)"
   ]
  },
  {
   "cell_type": "code",
   "execution_count": 16,
   "id": "417e4700-d50f-4f43-8087-1c010156cb94",
   "metadata": {
    "tags": []
   },
   "outputs": [],
   "source": [
    "divergence = unspsc_emb_dist - sd_emb_dist"
   ]
  },
  {
   "cell_type": "code",
   "execution_count": 17,
   "id": "6585f499-ce3a-4c5d-bf97-cc42383bb79a",
   "metadata": {
    "tags": []
   },
   "outputs": [],
   "source": [
    "divergence_argsorted = np.argsort(divergence, axis = None)"
   ]
  },
  {
   "cell_type": "code",
   "execution_count": 18,
   "id": "f9b063f7-fa2d-487d-bb98-d6de66fe59b9",
   "metadata": {
    "tags": []
   },
   "outputs": [
    {
     "data": {
      "text/plain": [
       "13392"
      ]
     },
     "execution_count": 18,
     "metadata": {},
     "output_type": "execute_result"
    }
   ],
   "source": [
    "emb_d = np.shape(sd_emb_np)[0]\n",
    "divergence_argsorted[1]//emb_d"
   ]
  },
  {
   "cell_type": "code",
   "execution_count": 19,
   "id": "a5c2e90f-4716-4d1e-bf79-889e175f413b",
   "metadata": {
    "tags": []
   },
   "outputs": [],
   "source": [
    "def display_tender(df, i):\n",
    "    ref = df.at[i, \"Reference Number\"]\n",
    "    title = df.at[i, \"Contract Title\"]\n",
    "    unspsc_title = df.at[i, \"UNSPSC Title\"]\n",
    "    desc = df.at[i, \"Description\"]\n",
    "    print(ref)\n",
    "    print(title)\n",
    "    print(unspsc_title)\n",
    "    print(desc)\n",
    "    \n",
    "def display_tender_from_div_i(i):\n",
    "    emb_d = np.shape(sd_emb_np)[0]\n",
    "    row = i % emb_d\n",
    "    col = i // emb_d\n",
    "    print(f\"Divergence: {divergence[row, col]}\")\n",
    "    display_tender(combined, row)\n",
    "    print()\n",
    "    display_tender(combined, col)"
   ]
  },
  {
   "cell_type": "code",
   "execution_count": 26,
   "id": "ba09d47a-2938-492d-811d-0658a02fd05a",
   "metadata": {
    "tags": []
   },
   "outputs": [
    {
     "name": "stdout",
     "output_type": "stream",
     "text": [
      "Divergence: 1.1315454244613647\n",
      "PTA220582\n",
      "SmartRider Upgrade Project - Test Lead \n",
      "Management advisory services\n",
      "SmartRider Upgrade Project - Test Lead\n",
      "\n",
      "FINW0049323D\n",
      "Department of Justice - Roebourne Regional Prison - Time Programming Services - Temperature Management PDP\n",
      "Management advisory services\n",
      "Department of Justice - Roebourne Regional Prison - Time Programming Services - Temperature Management PDP\n"
     ]
    }
   ],
   "source": [
    "display_tender_from_div_i(divergence_argsorted[-3])"
   ]
  },
  {
   "cell_type": "code",
   "execution_count": 21,
   "id": "f6a2c291-a587-42d0-a4a5-8c975640267c",
   "metadata": {
    "tags": []
   },
   "outputs": [],
   "source": [
    "flattened_divs = divergence.flatten()"
   ]
  },
  {
   "cell_type": "code",
   "execution_count": 22,
   "id": "939a9197-a645-4b09-8082-0f370d09a7d4",
   "metadata": {
    "tags": []
   },
   "outputs": [
    {
     "data": {
      "image/png": "[encoded data removed]",
      "text/plain": [
       "<Figure size 800x400 with 1 Axes>"
      ]
     },
     "metadata": {},
     "output_type": "display_data"
    }
   ],
   "source": [
    "import matplotlib.pyplot as plt\n",
    "plt.figure(figsize=(8,4))\n",
    "plt.hist(flattened_divs, bins = 50)\n",
    "plt.show()"
   ]
  }
 ],
 "metadata": {
  "kernelspec": {
   "display_name": "Python 3 (ipykernel)",
   "language": "python",
   "name": "python3"
  },
  "language_info": {
   "codemirror_mode": {
    "name": "ipython",
    "version": 3
   },
   "file_extension": ".py",
   "mimetype": "text/x-python",
   "name": "python",
   "nbconvert_exporter": "python",
   "pygments_lexer": "ipython3",
   "version": "3.10.12"
  }
 },
 "nbformat": 4,
 "nbformat_minor": 5
}
