{
 "cells": [
  {
   "cell_type": "code",
   "execution_count": 2,
   "id": "5393ac58-85a5-4a28-a8de-94a575a24756",
   "metadata": {},
   "outputs": [],
   "source": [
    "from TendersWA import Evaluation as eval\n",
    "import TendersWA.Preprocessing.Text as text"
   ]
  },
  {
   "cell_type": "code",
   "execution_count": 4,
   "id": "18d1993d-2a78-420c-ba53-87ec6748892c",
   "metadata": {},
   "outputs": [],
   "source": [
    "# bit of loading data\n",
    "tenders_structured_path = \"../../data/UpdatedAgainTenders.xlsx\"\n",
    "import pandas as pd\n",
    "tenders_structured = pd.read_excel(tenders_structured_path).astype(str)\n",
    "tenders_structured = tenders_structured[[\"Reference Number\", \"Contract Title\", \"Description\", \"UNSPSC Title\"]].dropna(subset=[\"Reference Number\"]).drop_duplicates(subset = [\"Reference Number\"])"
   ]
  },
  {
   "cell_type": "code",
   "execution_count": 6,
   "id": "5a94b3e8-4d53-4925-bd30-43c9ebe7c837",
   "metadata": {},
   "outputs": [],
   "source": [
    "# clean the descriptions.\n",
    "for index, row in tenders_structured.iterrows():\n",
    "    desc = text.remove_html_tags(row[\"Description\"])\n",
    "    tenders_structured.at[index, \"Description\"] = desc"
   ]
  },
  {
   "cell_type": "code",
   "execution_count": 7,
   "id": "ddc65faf-f8c2-4cea-9b2e-a9c840597cbd",
   "metadata": {},
   "outputs": [],
   "source": [
    "import pandas as pd\n",
    "bert_tender_clusters = pd.read_csv(\"../../data/clustering/bert_clusters.csv\", dtype={\"Reference Number\": str})\n",
    "bert_cluster_topics = pd.read_csv(\"../../data/clustering/bert_cluster_topics.csv\", dtype={\"Topics\": str})\n",
    "sentence_bert_tender_clusters = pd.read_csv(\"../../data/clustering/sentence_bert_clusters.csv\", dtype={\"Reference Number\": str})\n",
    "sentence_bert_cluster_topics = pd.read_csv(\"../../data/clustering/sentence_bert_cluster_topics.csv\", dtype={\"Topics\": str})\n",
    "summary_tender_clusters = pd.read_csv(\"../../data/clustering/summary_clusters.csv\", dtype={\"Reference Number\": str})\n",
    "summary_cluster_topics = pd.read_csv(\"../../data/clustering/summary_cluster_topics.csv\", dtype={\"Topics\": str})"
   ]
  },
  {
   "cell_type": "code",
   "execution_count": 8,
   "id": "9d634ec0-c936-49df-bff6-ac31ab1a4437",
   "metadata": {},
   "outputs": [],
   "source": [
    "# noticed issues with weird stray characters.\n",
    "def strip_bad_chars(df):\n",
    "    for index, row in df.iterrows():\n",
    "        df.at[index, \"Reference Number\"] = row[\"Reference Number\"].replace(\"[\",\"\").replace(\"]\",\"\")\n",
    "\n",
    "strip_bad_chars(bert_tender_clusters)\n",
    "strip_bad_chars(sentence_bert_tender_clusters)\n",
    "strip_bad_chars(summary_tender_clusters)"
   ]
  },
  {
   "cell_type": "code",
   "execution_count": 9,
   "id": "016b9005-f907-4232-9fe3-adfe146f3768",
   "metadata": {},
   "outputs": [],
   "source": [
    "import os\n",
    "import pickle\n",
    "\n",
    "summary_map = {}\n",
    "summary_path = \"../../data/extended_summaries/\"\n",
    "for ref in list(tenders_structured[\"Reference Number\"]):\n",
    "    sum_file = os.path.join(summary_path, f\"{ref}.pickle.sum\")\n",
    "    if os.path.exists(sum_file):\n",
    "        loaded_sum = pickle.load(open(sum_file, \"rb\"))\n",
    "        summary_map[ref] = loaded_sum"
   ]
  },
  {
   "cell_type": "code",
   "execution_count": 10,
   "id": "1d1b91a0-cf23-4506-bb25-fc0cb7a77af3",
   "metadata": {},
   "outputs": [],
   "source": [
    "# form unspsc clusters naturally from the titles\n",
    "unspsc_clusters = {}\n",
    "unspsc_n = 0\n",
    "tenders_structured[\"unspsc_cluster\"] = -1\n",
    "for index, row in tenders_structured.iterrows():\n",
    "    if row[\"UNSPSC Title\"] not in unspsc_clusters:\n",
    "        unspsc_clusters[row[\"UNSPSC Title\"]] = unspsc_n\n",
    "        unspsc_n += 1\n",
    "    tenders_structured.at[index, \"unspsc_cluster\"] = unspsc_clusters[row[\"UNSPSC Title\"]]"
   ]
  },
  {
   "cell_type": "code",
   "execution_count": 12,
   "id": "c49af39b-5ae4-4f93-8c9f-3391706b66cc",
   "metadata": {},
   "outputs": [],
   "source": [
    "# manual labels\n",
    "manual_labelled = pd.read_excel(\"../../data/manual_labels.xlsx\", dtype={\"Reference Number\": str})\n",
    "manual_labelled = manual_labelled.rename(columns = {\"Content\": \"Description\", \"Unnamed: 4\": \"Topics\"})\n",
    "del manual_labelled[\"Topic\"]\n",
    "del manual_labelled[\"Processed_Content\"]\n",
    "manual_labelled = manual_labelled.astype(str)"
   ]
  },
  {
   "cell_type": "markdown",
   "id": "210e8c46-5407-4e02-9389-e863aae4fd8c",
   "metadata": {},
   "source": [
    "# Perplexity"
   ]
  },
  {
   "cell_type": "code",
   "execution_count": 17,
   "id": "ae0aa320-1add-4ad6-915d-5f1c4947e320",
   "metadata": {},
   "outputs": [],
   "source": [
    "# https://huggingface.co/docs/transformers/main/en/model_doc/auto#transformers.AutoModelForCausalLM\n",
    "from evaluate import load\n",
    "def eval_perplexity(generates_list, model_id = \"openai-gpt\"):\n",
    "    perplexity = load(\"perplexity\", module_type=\"metric\")\n",
    "    return perplexity.compute(predictions=generates_list, model_id=model_id)"
   ]
  },
  {
   "cell_type": "code",
   "execution_count": 14,
   "id": "a1ced75a-726c-4066-9e1c-75226fdd7941",
   "metadata": {},
   "outputs": [],
   "source": [
    "def join_df_with_clusters_and_topics(tender_data, tender_clusters, cluster_topics):\n",
    "    combined = pd.merge(tender_data, tender_clusters, on = \"Reference Number\", how = \"left\")\n",
    "    combined = pd.merge(combined, cluster_topics, on = \"Cluster\", how = \"left\")\n",
    "    return combined\n",
    "\n",
    "def compute_perplexity(combined_df, use_summaries = False):\n",
    "    generates = []\n",
    "    if use_summaries:\n",
    "        for index, row in combined_df.iterrows():\n",
    "            ref = row[\"Reference Number\"]\n",
    "            next_text = \"\"\n",
    "            if ref in summary_map and summary_map[ref][\"summary\"] != None and summary_map[ref][\"summary\"] != \"\":\n",
    "                next_text = summary_map[ref][\"summary\"]\n",
    "            else:\n",
    "                next_text = row[\"Description\"]\n",
    "            generates.append(f\"The next sentences have topics {row['Topics']}. {next_text}\")\n",
    "        pass\n",
    "    else:\n",
    "        for index, row in combined_df.iterrows():\n",
    "            generates.append(f\"The next sentences have topics {row['Topics']}. {row['Description']}\")\n",
    "\n",
    "    return eval_perplexity(generates)\n",
    "\n",
    "def compute_unspsc_evals(tender_data):\n",
    "    generates = []\n",
    "    for index, row in tender_data:\n",
    "        generates.append(f\"The next sentences have topics {row['UNSPSC Title']}. {row['Description']}\")\n",
    "\n",
    "    return eval_perplexity(generates)"
   ]
  },
  {
   "cell_type": "code",
   "execution_count": 16,
   "id": "5dd57e39-cd24-46d8-90c6-bc5284ed4f97",
   "metadata": {},
   "outputs": [
    {
     "ename": "NameError",
     "evalue": "name 'load' is not defined",
     "output_type": "error",
     "traceback": [
      "\u001b[0;31m---------------------------------------------------------------------------\u001b[0m",
      "\u001b[0;31mNameError\u001b[0m                                 Traceback (most recent call last)",
      "Cell \u001b[0;32mIn[16], line 2\u001b[0m\n\u001b[1;32m      1\u001b[0m bert_combined \u001b[38;5;241m=\u001b[39m join_df_with_clusters_and_topics(tenders_structured, bert_tender_clusters, bert_cluster_topics)\n\u001b[0;32m----> 2\u001b[0m perplexities \u001b[38;5;241m=\u001b[39m \u001b[43mcompute_perplexity\u001b[49m\u001b[43m(\u001b[49m\u001b[43mbert_combined\u001b[49m\u001b[43m)\u001b[49m\n",
      "Cell \u001b[0;32mIn[14], line 22\u001b[0m, in \u001b[0;36mcompute_perplexity\u001b[0;34m(combined_df, use_summaries)\u001b[0m\n\u001b[1;32m     19\u001b[0m     \u001b[38;5;28;01mfor\u001b[39;00m index, row \u001b[38;5;129;01min\u001b[39;00m combined_df\u001b[38;5;241m.\u001b[39miterrows():\n\u001b[1;32m     20\u001b[0m         generates\u001b[38;5;241m.\u001b[39mappend(\u001b[38;5;124mf\u001b[39m\u001b[38;5;124m\"\u001b[39m\u001b[38;5;124mThe next sentences have topics \u001b[39m\u001b[38;5;132;01m{\u001b[39;00mrow[\u001b[38;5;124m'\u001b[39m\u001b[38;5;124mTopics\u001b[39m\u001b[38;5;124m'\u001b[39m]\u001b[38;5;132;01m}\u001b[39;00m\u001b[38;5;124m. \u001b[39m\u001b[38;5;132;01m{\u001b[39;00mrow[\u001b[38;5;124m'\u001b[39m\u001b[38;5;124mDescription\u001b[39m\u001b[38;5;124m'\u001b[39m]\u001b[38;5;132;01m}\u001b[39;00m\u001b[38;5;124m\"\u001b[39m)\n\u001b[0;32m---> 22\u001b[0m \u001b[38;5;28;01mreturn\u001b[39;00m \u001b[43meval_perplexity\u001b[49m\u001b[43m(\u001b[49m\u001b[43mgenerates\u001b[49m\u001b[43m)\u001b[49m\n",
      "Cell \u001b[0;32mIn[13], line 3\u001b[0m, in \u001b[0;36meval_perplexity\u001b[0;34m(generates_list, model_id)\u001b[0m\n\u001b[1;32m      2\u001b[0m \u001b[38;5;28;01mdef\u001b[39;00m \u001b[38;5;21meval_perplexity\u001b[39m(generates_list, model_id \u001b[38;5;241m=\u001b[39m \u001b[38;5;124m\"\u001b[39m\u001b[38;5;124mopenai-gpt\u001b[39m\u001b[38;5;124m\"\u001b[39m):\n\u001b[0;32m----> 3\u001b[0m     perplexity \u001b[38;5;241m=\u001b[39m \u001b[43mload\u001b[49m(\u001b[38;5;124m\"\u001b[39m\u001b[38;5;124mperplexity\u001b[39m\u001b[38;5;124m\"\u001b[39m, module_type\u001b[38;5;241m=\u001b[39m\u001b[38;5;124m\"\u001b[39m\u001b[38;5;124mmetric\u001b[39m\u001b[38;5;124m\"\u001b[39m)\n\u001b[1;32m      4\u001b[0m     \u001b[38;5;28;01mreturn\u001b[39;00m perplexity\u001b[38;5;241m.\u001b[39mcompute(predictions\u001b[38;5;241m=\u001b[39mgenerates_list, model_id\u001b[38;5;241m=\u001b[39mmodel_id)\n",
      "\u001b[0;31mNameError\u001b[0m: name 'load' is not defined"
     ]
    }
   ],
   "source": [
    "bert_combined = join_df_with_clusters_and_topics(tenders_structured, bert_tender_clusters, bert_cluster_topics)\n",
    "perplexities = compute_perplexity(bert_combined)"
   ]
  },
  {
   "cell_type": "code",
   "execution_count": 18,
   "id": "3cec686d-2778-4017-8f87-9921f43eeecf",
   "metadata": {},
   "outputs": [
    {
     "name": "stderr",
     "output_type": "stream",
     "text": [
      "Using pad_token, but it is not set yet.\n"
     ]
    },
    {
     "data": {
      "application/vnd.jupyter.widget-view+json": {
       "model_id": "8c4d3dce6c75473f8b5103bdfc3da073",
       "version_major": 2,
       "version_minor": 0
      },
      "text/plain": [
       "  0%|          | 0/1 [00:00<?, ?it/s]"
      ]
     },
     "metadata": {},
     "output_type": "display_data"
    },
    {
     "ename": "RuntimeError",
     "evalue": "Could not infer dtype of NoneType",
     "output_type": "error",
     "traceback": [
      "\u001b[0;31m---------------------------------------------------------------------------\u001b[0m",
      "\u001b[0;31mRuntimeError\u001b[0m                              Traceback (most recent call last)",
      "Cell \u001b[0;32mIn[18], line 1\u001b[0m\n\u001b[0;32m----> 1\u001b[0m \u001b[43meval_perplexity\u001b[49m\u001b[43m(\u001b[49m\u001b[43m[\u001b[49m\u001b[38;5;124;43m\"\u001b[39;49m\u001b[38;5;124;43mThe weather is nice today\u001b[39;49m\u001b[38;5;124;43m\"\u001b[39;49m\u001b[43m,\u001b[49m\u001b[43m \u001b[49m\u001b[38;5;124;43m\"\u001b[39;49m\u001b[38;5;124;43mThe weather is shoes today\u001b[39;49m\u001b[38;5;124;43m\"\u001b[39;49m\u001b[43m]\u001b[49m\u001b[43m)\u001b[49m\n",
      "Cell \u001b[0;32mIn[17], line 5\u001b[0m, in \u001b[0;36meval_perplexity\u001b[0;34m(generates_list, model_id)\u001b[0m\n\u001b[1;32m      3\u001b[0m \u001b[38;5;28;01mdef\u001b[39;00m \u001b[38;5;21meval_perplexity\u001b[39m(generates_list, model_id \u001b[38;5;241m=\u001b[39m \u001b[38;5;124m\"\u001b[39m\u001b[38;5;124mopenai-gpt\u001b[39m\u001b[38;5;124m\"\u001b[39m):\n\u001b[1;32m      4\u001b[0m     perplexity \u001b[38;5;241m=\u001b[39m load(\u001b[38;5;124m\"\u001b[39m\u001b[38;5;124mperplexity\u001b[39m\u001b[38;5;124m\"\u001b[39m, module_type\u001b[38;5;241m=\u001b[39m\u001b[38;5;124m\"\u001b[39m\u001b[38;5;124mmetric\u001b[39m\u001b[38;5;124m\"\u001b[39m)\n\u001b[0;32m----> 5\u001b[0m     \u001b[38;5;28;01mreturn\u001b[39;00m \u001b[43mperplexity\u001b[49m\u001b[38;5;241;43m.\u001b[39;49m\u001b[43mcompute\u001b[49m\u001b[43m(\u001b[49m\u001b[43mpredictions\u001b[49m\u001b[38;5;241;43m=\u001b[39;49m\u001b[43mgenerates_list\u001b[49m\u001b[43m,\u001b[49m\u001b[43m \u001b[49m\u001b[43mmodel_id\u001b[49m\u001b[38;5;241;43m=\u001b[39;49m\u001b[43mmodel_id\u001b[49m\u001b[43m)\u001b[49m\n",
      "File \u001b[0;32m~/Documents/school/CAPSTONE/UWACapstoneG2/venv/lib/python3.10/site-packages/evaluate/module.py:462\u001b[0m, in \u001b[0;36mEvaluationModule.compute\u001b[0;34m(self, predictions, references, **kwargs)\u001b[0m\n\u001b[1;32m    460\u001b[0m inputs \u001b[38;5;241m=\u001b[39m {input_name: \u001b[38;5;28mself\u001b[39m\u001b[38;5;241m.\u001b[39mdata[input_name] \u001b[38;5;28;01mfor\u001b[39;00m input_name \u001b[38;5;129;01min\u001b[39;00m \u001b[38;5;28mself\u001b[39m\u001b[38;5;241m.\u001b[39m_feature_names()}\n\u001b[1;32m    461\u001b[0m \u001b[38;5;28;01mwith\u001b[39;00m temp_seed(\u001b[38;5;28mself\u001b[39m\u001b[38;5;241m.\u001b[39mseed):\n\u001b[0;32m--> 462\u001b[0m     output \u001b[38;5;241m=\u001b[39m \u001b[38;5;28;43mself\u001b[39;49m\u001b[38;5;241;43m.\u001b[39;49m\u001b[43m_compute\u001b[49m\u001b[43m(\u001b[49m\u001b[38;5;241;43m*\u001b[39;49m\u001b[38;5;241;43m*\u001b[39;49m\u001b[43minputs\u001b[49m\u001b[43m,\u001b[49m\u001b[43m \u001b[49m\u001b[38;5;241;43m*\u001b[39;49m\u001b[38;5;241;43m*\u001b[39;49m\u001b[43mcompute_kwargs\u001b[49m\u001b[43m)\u001b[49m\n\u001b[1;32m    464\u001b[0m \u001b[38;5;28;01mif\u001b[39;00m \u001b[38;5;28mself\u001b[39m\u001b[38;5;241m.\u001b[39mbuf_writer \u001b[38;5;129;01mis\u001b[39;00m \u001b[38;5;129;01mnot\u001b[39;00m \u001b[38;5;28;01mNone\u001b[39;00m:\n\u001b[1;32m    465\u001b[0m     \u001b[38;5;28mself\u001b[39m\u001b[38;5;241m.\u001b[39mbuf_writer \u001b[38;5;241m=\u001b[39m \u001b[38;5;28;01mNone\u001b[39;00m\n",
      "File \u001b[0;32m~/.cache/huggingface/modules/evaluate_modules/metrics/evaluate-metric--perplexity/8ab643ad86f568b7d1d5f7822373fa7401ff5ff0297ccf114b0ca6a33be96bc0/perplexity.py:170\u001b[0m, in \u001b[0;36mPerplexity._compute\u001b[0;34m(self, predictions, model_id, batch_size, add_start_token, device, max_length)\u001b[0m\n\u001b[1;32m    167\u001b[0m attn_mask \u001b[38;5;241m=\u001b[39m attn_masks[start_index:end_index]\n\u001b[1;32m    169\u001b[0m \u001b[38;5;28;01mif\u001b[39;00m add_start_token:\n\u001b[0;32m--> 170\u001b[0m     bos_tokens_tensor \u001b[38;5;241m=\u001b[39m \u001b[43mtorch\u001b[49m\u001b[38;5;241;43m.\u001b[39;49m\u001b[43mtensor\u001b[49m\u001b[43m(\u001b[49m\u001b[43m[\u001b[49m\u001b[43m[\u001b[49m\u001b[43mtokenizer\u001b[49m\u001b[38;5;241;43m.\u001b[39;49m\u001b[43mbos_token_id\u001b[49m\u001b[43m]\u001b[49m\u001b[43m]\u001b[49m\u001b[43m \u001b[49m\u001b[38;5;241;43m*\u001b[39;49m\u001b[43m \u001b[49m\u001b[43mencoded_batch\u001b[49m\u001b[38;5;241;43m.\u001b[39;49m\u001b[43msize\u001b[49m\u001b[43m(\u001b[49m\u001b[43mdim\u001b[49m\u001b[38;5;241;43m=\u001b[39;49m\u001b[38;5;241;43m0\u001b[39;49m\u001b[43m)\u001b[49m\u001b[43m)\u001b[49m\u001b[38;5;241m.\u001b[39mto(device)\n\u001b[1;32m    171\u001b[0m     encoded_batch \u001b[38;5;241m=\u001b[39m torch\u001b[38;5;241m.\u001b[39mcat([bos_tokens_tensor, encoded_batch], dim\u001b[38;5;241m=\u001b[39m\u001b[38;5;241m1\u001b[39m)\n\u001b[1;32m    172\u001b[0m     attn_mask \u001b[38;5;241m=\u001b[39m torch\u001b[38;5;241m.\u001b[39mcat(\n\u001b[1;32m    173\u001b[0m         [torch\u001b[38;5;241m.\u001b[39mones(bos_tokens_tensor\u001b[38;5;241m.\u001b[39msize(), dtype\u001b[38;5;241m=\u001b[39mtorch\u001b[38;5;241m.\u001b[39mint64)\u001b[38;5;241m.\u001b[39mto(device), attn_mask], dim\u001b[38;5;241m=\u001b[39m\u001b[38;5;241m1\u001b[39m\n\u001b[1;32m    174\u001b[0m     )\n",
      "\u001b[0;31mRuntimeError\u001b[0m: Could not infer dtype of NoneType"
     ]
    }
   ],
   "source": [
    "eval_perplexity([\"The weather is nice today\", \"The weather is shoes today\"])"
   ]
  },
  {
   "cell_type": "code",
   "execution_count": null,
   "id": "72ec827f-3d5a-48bb-9ab8-4fb6985d3db3",
   "metadata": {},
   "outputs": [],
   "source": [
    "eval_perplexity([\"Use the topics Blasted, Agriculture to write the next sentences. The fire department is looking to service buildings.\",\n",
    "                     \"Use the topics Fire, Departments to write the next sentences. The fire department is looking to service buildings.\",\n",
    "                     \"Use the topics Green, Vegetation to write the next sentences. The fire department is looking to service buildings.\"])"
   ]
  }
 ],
 "metadata": {
  "kernelspec": {
   "display_name": "Python 3 (ipykernel)",
   "language": "python",
   "name": "python3"
  },
  "language_info": {
   "codemirror_mode": {
    "name": "ipython",
    "version": 3
   },
   "file_extension": ".py",
   "mimetype": "text/x-python",
   "name": "python",
   "nbconvert_exporter": "python",
   "pygments_lexer": "ipython3",
   "version": "3.10.12"
  }
 },
 "nbformat": 4,
 "nbformat_minor": 5
}
