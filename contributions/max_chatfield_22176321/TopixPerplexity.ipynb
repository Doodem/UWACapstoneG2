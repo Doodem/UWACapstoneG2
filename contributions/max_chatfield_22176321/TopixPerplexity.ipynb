{
 "cells": [
  {
   "cell_type": "code",
   "execution_count": 1,
   "id": "5393ac58-85a5-4a28-a8de-94a575a24756",
   "metadata": {},
   "outputs": [],
   "source": [
    "from TendersWA import Evaluation as eval\n",
    "import TendersWA.Preprocessing.Text as text\n",
    "from TendersWA import Panda"
   ]
  },
  {
   "cell_type": "code",
   "execution_count": 6,
   "id": "18d1993d-2a78-420c-ba53-87ec6748892c",
   "metadata": {},
   "outputs": [],
   "source": [
    "# bit of loading data\n",
    "tenders_structured_path = \"../../data/UpdatedAgainTenders.xlsx\"\n",
    "tenders_structured = Panda.load_tender_uniques(\"../../data/UpdatedAgainTenders.xlsx\", cols = [\"Reference Number\", \"Contract Title\", \"Description\", \"UNSPSC Title\"])"
   ]
  },
  {
   "cell_type": "code",
   "execution_count": 3,
   "id": "ddc65faf-f8c2-4cea-9b2e-a9c840597cbd",
   "metadata": {},
   "outputs": [],
   "source": [
    "import pandas as pd\n",
    "bert_tender_clusters = pd.read_csv(\"../../data/clustering/bert_clusters.csv\", dtype={\"Reference Number\": str})\n",
    "bert_cluster_topics = pd.read_csv(\"../../data/clustering/bert_cluster_topics.csv\", dtype={\"Topics\": str})\n",
    "sentence_bert_tender_clusters = pd.read_csv(\"../../data/clustering/sentence_bert_clusters.csv\", dtype={\"Reference Number\": str})\n",
    "sentence_bert_cluster_topics = pd.read_csv(\"../../data/clustering/sentence_bert_cluster_topics.csv\", dtype={\"Topics\": str})\n",
    "summary_tender_clusters = pd.read_csv(\"../../data/clustering/summary_clusters.csv\", dtype={\"Reference Number\": str})\n",
    "summary_cluster_topics = pd.read_csv(\"../../data/clustering/summary_cluster_topics.csv\", dtype={\"Topics\": str})"
   ]
  },
  {
   "cell_type": "code",
   "execution_count": 4,
   "id": "9d634ec0-c936-49df-bff6-ac31ab1a4437",
   "metadata": {},
   "outputs": [],
   "source": [
    "# noticed issues with weird stray characters.\n",
    "def strip_bad_chars(df):\n",
    "    for index, row in df.iterrows():\n",
    "        df.at[index, \"Reference Number\"] = row[\"Reference Number\"].replace(\"[\",\"\").replace(\"]\",\"\")\n",
    "\n",
    "strip_bad_chars(bert_tender_clusters)\n",
    "strip_bad_chars(sentence_bert_tender_clusters)\n",
    "strip_bad_chars(summary_tender_clusters)"
   ]
  },
  {
   "cell_type": "code",
   "execution_count": 5,
   "id": "016b9005-f907-4232-9fe3-adfe146f3768",
   "metadata": {},
   "outputs": [],
   "source": [
    "import os\n",
    "import pickle\n",
    "\n",
    "summary_map = {}\n",
    "summary_path = \"../../data/extended_summaries/\"\n",
    "for ref in list(tenders_structured[\"Reference Number\"]):\n",
    "    sum_file = os.path.join(summary_path, f\"{ref}.pickle.sum\")\n",
    "    if os.path.exists(sum_file):\n",
    "        loaded_sum = pickle.load(open(sum_file, \"rb\"))\n",
    "        summary_map[ref] = loaded_sum"
   ]
  },
  {
   "cell_type": "code",
   "execution_count": 11,
   "id": "1d1b91a0-cf23-4506-bb25-fc0cb7a77af3",
   "metadata": {},
   "outputs": [
    {
     "ename": "KeyError",
     "evalue": "'UNSPSC Title'",
     "output_type": "error",
     "traceback": [
      "\u001b[0;31m---------------------------------------------------------------------------\u001b[0m",
      "\u001b[0;31mKeyError\u001b[0m                                  Traceback (most recent call last)",
      "File \u001b[0;32m~/Documents/school/CAPSTONE/UWACapstoneG2/venv/lib/python3.10/site-packages/pandas/core/indexes/base.py:3790\u001b[0m, in \u001b[0;36mIndex.get_loc\u001b[0;34m(self, key)\u001b[0m\n\u001b[1;32m   3789\u001b[0m \u001b[38;5;28;01mtry\u001b[39;00m:\n\u001b[0;32m-> 3790\u001b[0m     \u001b[38;5;28;01mreturn\u001b[39;00m \u001b[38;5;28;43mself\u001b[39;49m\u001b[38;5;241;43m.\u001b[39;49m\u001b[43m_engine\u001b[49m\u001b[38;5;241;43m.\u001b[39;49m\u001b[43mget_loc\u001b[49m\u001b[43m(\u001b[49m\u001b[43mcasted_key\u001b[49m\u001b[43m)\u001b[49m\n\u001b[1;32m   3791\u001b[0m \u001b[38;5;28;01mexcept\u001b[39;00m \u001b[38;5;167;01mKeyError\u001b[39;00m \u001b[38;5;28;01mas\u001b[39;00m err:\n",
      "File \u001b[0;32mindex.pyx:152\u001b[0m, in \u001b[0;36mpandas._libs.index.IndexEngine.get_loc\u001b[0;34m()\u001b[0m\n",
      "File \u001b[0;32mindex.pyx:181\u001b[0m, in \u001b[0;36mpandas._libs.index.IndexEngine.get_loc\u001b[0;34m()\u001b[0m\n",
      "File \u001b[0;32mpandas/_libs/hashtable_class_helper.pxi:7080\u001b[0m, in \u001b[0;36mpandas._libs.hashtable.PyObjectHashTable.get_item\u001b[0;34m()\u001b[0m\n",
      "File \u001b[0;32mpandas/_libs/hashtable_class_helper.pxi:7088\u001b[0m, in \u001b[0;36mpandas._libs.hashtable.PyObjectHashTable.get_item\u001b[0;34m()\u001b[0m\n",
      "\u001b[0;31mKeyError\u001b[0m: 'UNSPSC Title'",
      "\nThe above exception was the direct cause of the following exception:\n",
      "\u001b[0;31mKeyError\u001b[0m                                  Traceback (most recent call last)",
      "Cell \u001b[0;32mIn[11], line 6\u001b[0m\n\u001b[1;32m      4\u001b[0m tenders_structured[\u001b[38;5;124m\"\u001b[39m\u001b[38;5;124munspsc_cluster\u001b[39m\u001b[38;5;124m\"\u001b[39m] \u001b[38;5;241m=\u001b[39m \u001b[38;5;241m-\u001b[39m\u001b[38;5;241m1\u001b[39m\n\u001b[1;32m      5\u001b[0m \u001b[38;5;28;01mfor\u001b[39;00m index, row \u001b[38;5;129;01min\u001b[39;00m tenders_structured\u001b[38;5;241m.\u001b[39miterrows():\n\u001b[0;32m----> 6\u001b[0m     \u001b[38;5;28;01mif\u001b[39;00m \u001b[43mrow\u001b[49m\u001b[43m[\u001b[49m\u001b[38;5;124;43m\"\u001b[39;49m\u001b[38;5;124;43mUNSPSC Title\u001b[39;49m\u001b[38;5;124;43m\"\u001b[39;49m\u001b[43m]\u001b[49m \u001b[38;5;129;01mnot\u001b[39;00m \u001b[38;5;129;01min\u001b[39;00m unspsc_clusters:\n\u001b[1;32m      7\u001b[0m         unspsc_clusters[row[\u001b[38;5;124m\"\u001b[39m\u001b[38;5;124mUNSPSC Title\u001b[39m\u001b[38;5;124m\"\u001b[39m]] \u001b[38;5;241m=\u001b[39m unspsc_n\n\u001b[1;32m      8\u001b[0m         unspsc_n \u001b[38;5;241m+\u001b[39m\u001b[38;5;241m=\u001b[39m \u001b[38;5;241m1\u001b[39m\n",
      "File \u001b[0;32m~/Documents/school/CAPSTONE/UWACapstoneG2/venv/lib/python3.10/site-packages/pandas/core/series.py:1040\u001b[0m, in \u001b[0;36mSeries.__getitem__\u001b[0;34m(self, key)\u001b[0m\n\u001b[1;32m   1037\u001b[0m     \u001b[38;5;28;01mreturn\u001b[39;00m \u001b[38;5;28mself\u001b[39m\u001b[38;5;241m.\u001b[39m_values[key]\n\u001b[1;32m   1039\u001b[0m \u001b[38;5;28;01melif\u001b[39;00m key_is_scalar:\n\u001b[0;32m-> 1040\u001b[0m     \u001b[38;5;28;01mreturn\u001b[39;00m \u001b[38;5;28;43mself\u001b[39;49m\u001b[38;5;241;43m.\u001b[39;49m\u001b[43m_get_value\u001b[49m\u001b[43m(\u001b[49m\u001b[43mkey\u001b[49m\u001b[43m)\u001b[49m\n\u001b[1;32m   1042\u001b[0m \u001b[38;5;66;03m# Convert generator to list before going through hashable part\u001b[39;00m\n\u001b[1;32m   1043\u001b[0m \u001b[38;5;66;03m# (We will iterate through the generator there to check for slices)\u001b[39;00m\n\u001b[1;32m   1044\u001b[0m \u001b[38;5;28;01mif\u001b[39;00m is_iterator(key):\n",
      "File \u001b[0;32m~/Documents/school/CAPSTONE/UWACapstoneG2/venv/lib/python3.10/site-packages/pandas/core/series.py:1156\u001b[0m, in \u001b[0;36mSeries._get_value\u001b[0;34m(self, label, takeable)\u001b[0m\n\u001b[1;32m   1153\u001b[0m     \u001b[38;5;28;01mreturn\u001b[39;00m \u001b[38;5;28mself\u001b[39m\u001b[38;5;241m.\u001b[39m_values[label]\n\u001b[1;32m   1155\u001b[0m \u001b[38;5;66;03m# Similar to Index.get_value, but we do not fall back to positional\u001b[39;00m\n\u001b[0;32m-> 1156\u001b[0m loc \u001b[38;5;241m=\u001b[39m \u001b[38;5;28;43mself\u001b[39;49m\u001b[38;5;241;43m.\u001b[39;49m\u001b[43mindex\u001b[49m\u001b[38;5;241;43m.\u001b[39;49m\u001b[43mget_loc\u001b[49m\u001b[43m(\u001b[49m\u001b[43mlabel\u001b[49m\u001b[43m)\u001b[49m\n\u001b[1;32m   1158\u001b[0m \u001b[38;5;28;01mif\u001b[39;00m is_integer(loc):\n\u001b[1;32m   1159\u001b[0m     \u001b[38;5;28;01mreturn\u001b[39;00m \u001b[38;5;28mself\u001b[39m\u001b[38;5;241m.\u001b[39m_values[loc]\n",
      "File \u001b[0;32m~/Documents/school/CAPSTONE/UWACapstoneG2/venv/lib/python3.10/site-packages/pandas/core/indexes/base.py:3797\u001b[0m, in \u001b[0;36mIndex.get_loc\u001b[0;34m(self, key)\u001b[0m\n\u001b[1;32m   3792\u001b[0m     \u001b[38;5;28;01mif\u001b[39;00m \u001b[38;5;28misinstance\u001b[39m(casted_key, \u001b[38;5;28mslice\u001b[39m) \u001b[38;5;129;01mor\u001b[39;00m (\n\u001b[1;32m   3793\u001b[0m         \u001b[38;5;28misinstance\u001b[39m(casted_key, abc\u001b[38;5;241m.\u001b[39mIterable)\n\u001b[1;32m   3794\u001b[0m         \u001b[38;5;129;01mand\u001b[39;00m \u001b[38;5;28many\u001b[39m(\u001b[38;5;28misinstance\u001b[39m(x, \u001b[38;5;28mslice\u001b[39m) \u001b[38;5;28;01mfor\u001b[39;00m x \u001b[38;5;129;01min\u001b[39;00m casted_key)\n\u001b[1;32m   3795\u001b[0m     ):\n\u001b[1;32m   3796\u001b[0m         \u001b[38;5;28;01mraise\u001b[39;00m InvalidIndexError(key)\n\u001b[0;32m-> 3797\u001b[0m     \u001b[38;5;28;01mraise\u001b[39;00m \u001b[38;5;167;01mKeyError\u001b[39;00m(key) \u001b[38;5;28;01mfrom\u001b[39;00m \u001b[38;5;21;01merr\u001b[39;00m\n\u001b[1;32m   3798\u001b[0m \u001b[38;5;28;01mexcept\u001b[39;00m \u001b[38;5;167;01mTypeError\u001b[39;00m:\n\u001b[1;32m   3799\u001b[0m     \u001b[38;5;66;03m# If we have a listlike key, _check_indexing_error will raise\u001b[39;00m\n\u001b[1;32m   3800\u001b[0m     \u001b[38;5;66;03m#  InvalidIndexError. Otherwise we fall through and re-raise\u001b[39;00m\n\u001b[1;32m   3801\u001b[0m     \u001b[38;5;66;03m#  the TypeError.\u001b[39;00m\n\u001b[1;32m   3802\u001b[0m     \u001b[38;5;28mself\u001b[39m\u001b[38;5;241m.\u001b[39m_check_indexing_error(key)\n",
      "\u001b[0;31mKeyError\u001b[0m: 'UNSPSC Title'"
     ]
    }
   ],
   "source": [
    "# form unspsc clusters naturally from the titles\n",
    "unspsc_clusters = {}\n",
    "unspsc_n = 0\n",
    "tenders_structured[\"unspsc_cluster\"] = -1\n",
    "for index, row in tenders_structured.iterrows():\n",
    "    if row[\"UNSPSC Title\"] not in unspsc_clusters:\n",
    "        unspsc_clusters[row[\"UNSPSC Title\"]] = unspsc_n\n",
    "        unspsc_n += 1\n",
    "    tenders_structured.at[index, \"unspsc_cluster\"] = unspsc_clusters[row[\"UNSPSC Title\"]]"
   ]
  },
  {
   "cell_type": "code",
   "execution_count": 12,
   "id": "c49af39b-5ae4-4f93-8c9f-3391706b66cc",
   "metadata": {},
   "outputs": [],
   "source": [
    "# manual labels\n",
    "manual_labelled = pd.read_excel(\"../../data/manual_labels.xlsx\", dtype={\"Reference Number\": str})\n",
    "manual_labelled = manual_labelled.rename(columns = {\"Content\": \"Description\", \"Unnamed: 4\": \"Topics\"})\n",
    "del manual_labelled[\"Topic\"]\n",
    "del manual_labelled[\"Processed_Content\"]\n",
    "manual_labelled = manual_labelled.astype(str)"
   ]
  },
  {
   "cell_type": "markdown",
   "id": "210e8c46-5407-4e02-9389-e863aae4fd8c",
   "metadata": {},
   "source": [
    "# Perplexity"
   ]
  },
  {
   "cell_type": "code",
   "execution_count": 7,
   "id": "ae0aa320-1add-4ad6-915d-5f1c4947e320",
   "metadata": {},
   "outputs": [],
   "source": [
    "# https://huggingface.co/docs/transformers/main/en/model_doc/auto#transformers.AutoModelForCausalLM\n",
    "from evaluate import load\n",
    "def eval_perplexity(generates_list, model_id = \"bigscience/bloom-560m\"):\n",
    "    perplexity = load(\"perplexity\", module_type=\"metric\")\n",
    "    return perplexity.compute(predictions=generates_list, model_id=model_id)"
   ]
  },
  {
   "cell_type": "code",
   "execution_count": 14,
   "id": "a1ced75a-726c-4066-9e1c-75226fdd7941",
   "metadata": {},
   "outputs": [],
   "source": [
    "def join_df_with_clusters_and_topics(tender_data, tender_clusters, cluster_topics):\n",
    "    combined = pd.merge(tender_data, tender_clusters, on = \"Reference Number\", how = \"left\")\n",
    "    combined = pd.merge(combined, cluster_topics, on = \"Cluster\", how = \"left\")\n",
    "    return combined\n",
    "\n",
    "def compute_perplexity(combined_df, use_summaries = False):\n",
    "    generates = []\n",
    "    if use_summaries:\n",
    "        for index, row in combined_df.iterrows():\n",
    "            ref = row[\"Reference Number\"]\n",
    "            next_text = \"\"\n",
    "            if ref in summary_map and summary_map[ref][\"summary\"] != None and summary_map[ref][\"summary\"] != \"\":\n",
    "                next_text = summary_map[ref][\"summary\"]\n",
    "            else:\n",
    "                next_text = row[\"Description\"]\n",
    "            generates.append(f\"The next sentences have topics {row['Topics']}. {next_text}\")\n",
    "        pass\n",
    "    else:\n",
    "        for index, row in combined_df.iterrows():\n",
    "            generates.append(f\"The next sentences have topics {row['Topics']}. {row['Description']}\")\n",
    "\n",
    "    return eval_perplexity(generates)\n",
    "\n",
    "def compute_unspsc_evals(tender_data):\n",
    "    generates = []\n",
    "    for index, row in tender_data:\n",
    "        generates.append(f\"The next sentences have topics {row['UNSPSC Title']}. {row['Description']}\")\n",
    "\n",
    "    return eval_perplexity(generates)"
   ]
  },
  {
   "cell_type": "code",
   "execution_count": 16,
   "id": "5dd57e39-cd24-46d8-90c6-bc5284ed4f97",
   "metadata": {},
   "outputs": [
    {
     "ename": "NameError",
     "evalue": "name 'load' is not defined",
     "output_type": "error",
     "traceback": [
      "\u001b[0;31m---------------------------------------------------------------------------\u001b[0m",
      "\u001b[0;31mNameError\u001b[0m                                 Traceback (most recent call last)",
      "Cell \u001b[0;32mIn[16], line 2\u001b[0m\n\u001b[1;32m      1\u001b[0m bert_combined \u001b[38;5;241m=\u001b[39m join_df_with_clusters_and_topics(tenders_structured, bert_tender_clusters, bert_cluster_topics)\n\u001b[0;32m----> 2\u001b[0m perplexities \u001b[38;5;241m=\u001b[39m \u001b[43mcompute_perplexity\u001b[49m\u001b[43m(\u001b[49m\u001b[43mbert_combined\u001b[49m\u001b[43m)\u001b[49m\n",
      "Cell \u001b[0;32mIn[14], line 22\u001b[0m, in \u001b[0;36mcompute_perplexity\u001b[0;34m(combined_df, use_summaries)\u001b[0m\n\u001b[1;32m     19\u001b[0m     \u001b[38;5;28;01mfor\u001b[39;00m index, row \u001b[38;5;129;01min\u001b[39;00m combined_df\u001b[38;5;241m.\u001b[39miterrows():\n\u001b[1;32m     20\u001b[0m         generates\u001b[38;5;241m.\u001b[39mappend(\u001b[38;5;124mf\u001b[39m\u001b[38;5;124m\"\u001b[39m\u001b[38;5;124mThe next sentences have topics \u001b[39m\u001b[38;5;132;01m{\u001b[39;00mrow[\u001b[38;5;124m'\u001b[39m\u001b[38;5;124mTopics\u001b[39m\u001b[38;5;124m'\u001b[39m]\u001b[38;5;132;01m}\u001b[39;00m\u001b[38;5;124m. \u001b[39m\u001b[38;5;132;01m{\u001b[39;00mrow[\u001b[38;5;124m'\u001b[39m\u001b[38;5;124mDescription\u001b[39m\u001b[38;5;124m'\u001b[39m]\u001b[38;5;132;01m}\u001b[39;00m\u001b[38;5;124m\"\u001b[39m)\n\u001b[0;32m---> 22\u001b[0m \u001b[38;5;28;01mreturn\u001b[39;00m \u001b[43meval_perplexity\u001b[49m\u001b[43m(\u001b[49m\u001b[43mgenerates\u001b[49m\u001b[43m)\u001b[49m\n",
      "Cell \u001b[0;32mIn[13], line 3\u001b[0m, in \u001b[0;36meval_perplexity\u001b[0;34m(generates_list, model_id)\u001b[0m\n\u001b[1;32m      2\u001b[0m \u001b[38;5;28;01mdef\u001b[39;00m \u001b[38;5;21meval_perplexity\u001b[39m(generates_list, model_id \u001b[38;5;241m=\u001b[39m \u001b[38;5;124m\"\u001b[39m\u001b[38;5;124mopenai-gpt\u001b[39m\u001b[38;5;124m\"\u001b[39m):\n\u001b[0;32m----> 3\u001b[0m     perplexity \u001b[38;5;241m=\u001b[39m \u001b[43mload\u001b[49m(\u001b[38;5;124m\"\u001b[39m\u001b[38;5;124mperplexity\u001b[39m\u001b[38;5;124m\"\u001b[39m, module_type\u001b[38;5;241m=\u001b[39m\u001b[38;5;124m\"\u001b[39m\u001b[38;5;124mmetric\u001b[39m\u001b[38;5;124m\"\u001b[39m)\n\u001b[1;32m      4\u001b[0m     \u001b[38;5;28;01mreturn\u001b[39;00m perplexity\u001b[38;5;241m.\u001b[39mcompute(predictions\u001b[38;5;241m=\u001b[39mgenerates_list, model_id\u001b[38;5;241m=\u001b[39mmodel_id)\n",
      "\u001b[0;31mNameError\u001b[0m: name 'load' is not defined"
     ]
    }
   ],
   "source": [
    "bert_combined = join_df_with_clusters_and_topics(tenders_structured, bert_tender_clusters, bert_cluster_topics)\n",
    "perplexities = compute_perplexity(bert_combined)"
   ]
  },
  {
   "cell_type": "code",
   "execution_count": 11,
   "id": "72ec827f-3d5a-48bb-9ab8-4fb6985d3db3",
   "metadata": {},
   "outputs": [],
   "source": [
    "sentences = [\"Use the topics Water, Agriculture to write the next sentences. The fire department is looking to service buildings.\",\n",
    "                     \"Use the topics Fire, Department to write the next sentences. The fire department is looking to service buildings.\",\n",
    "                     \"Use the topics Green, Vegetation to write the next sentences. The fire department is looking to service buildings.\"]"
   ]
  },
  {
   "cell_type": "code",
   "execution_count": 9,
   "id": "8ce532d9-99bd-4970-9984-538e5f9c130f",
   "metadata": {},
   "outputs": [],
   "source": [
    "def do_perplex_and_present(sentences):\n",
    "    res = eval_perplexity(sentences)\n",
    "    df = pd.DataFrame({\"Sentence\": sentences, \"Perplexity\": res[\"perplexities\"]})\n",
    "    Panda.pretty_print(df)"
   ]
  },
  {
   "cell_type": "code",
   "execution_count": 13,
   "id": "522b63c2-45d8-494e-83c3-37691ee5dca7",
   "metadata": {},
   "outputs": [
    {
     "data": {
      "application/vnd.jupyter.widget-view+json": {
       "model_id": "65e09564146c443081831d101637df9a",
       "version_major": 2,
       "version_minor": 0
      },
      "text/plain": [
       "  0%|          | 0/1 [00:00<?, ?it/s]"
      ]
     },
     "metadata": {},
     "output_type": "display_data"
    },
    {
     "data": {
      "text/html": [
       "<table border=\"1\" class=\"dataframe\">\n",
       "  <thead>\n",
       "    <tr style=\"text-align: right;\">\n",
       "      <th>Sentence</th>\n",
       "      <th>Perplexity</th>\n",
       "    </tr>\n",
       "  </thead>\n",
       "  <tbody>\n",
       "    <tr>\n",
       "      <td>Use the topics Water, Agriculture to write the next sentences. The fire department is looking to service buildings.</td>\n",
       "      <td>914.029236</td>\n",
       "    </tr>\n",
       "    <tr>\n",
       "      <td>Use the topics Fire, Department to write the next sentences. The fire department is looking to service buildings.</td>\n",
       "      <td>1062.815186</td>\n",
       "    </tr>\n",
       "    <tr>\n",
       "      <td>Use the topics Green, Vegetation to write the next sentences. The fire department is looking to service buildings.</td>\n",
       "      <td>280.577454</td>\n",
       "    </tr>\n",
       "  </tbody>\n",
       "</table>"
      ],
      "text/plain": [
       "<IPython.core.display.HTML object>"
      ]
     },
     "metadata": {},
     "output_type": "display_data"
    }
   ],
   "source": [
    "do_perplex_and_present(sentences)"
   ]
  },
  {
   "cell_type": "code",
   "execution_count": 14,
   "id": "60f942a0-65df-4701-8293-10c58c869674",
   "metadata": {},
   "outputs": [
    {
     "data": {
      "application/vnd.jupyter.widget-view+json": {
       "model_id": "2fff724d6af547fc95c6060bb5c7e53c",
       "version_major": 2,
       "version_minor": 0
      },
      "text/plain": [
       "  0%|          | 0/1 [00:00<?, ?it/s]"
      ]
     },
     "metadata": {},
     "output_type": "display_data"
    },
    {
     "data": {
      "text/html": [
       "<table border=\"1\" class=\"dataframe\">\n",
       "  <thead>\n",
       "    <tr style=\"text-align: right;\">\n",
       "      <th>Sentence</th>\n",
       "      <th>Perplexity</th>\n",
       "    </tr>\n",
       "  </thead>\n",
       "  <tbody>\n",
       "    <tr>\n",
       "      <td>The weather is nice</td>\n",
       "      <td>267.797089</td>\n",
       "    </tr>\n",
       "    <tr>\n",
       "      <td>The weather are shoes</td>\n",
       "      <td>9338.162109</td>\n",
       "    </tr>\n",
       "  </tbody>\n",
       "</table>"
      ],
      "text/plain": [
       "<IPython.core.display.HTML object>"
      ]
     },
     "metadata": {},
     "output_type": "display_data"
    }
   ],
   "source": [
    "do_perplex_and_present([\"The weather is nice\", \"The weather are shoes\"])"
   ]
  }
 ],
 "metadata": {
  "kernelspec": {
   "display_name": "Python 3 (ipykernel)",
   "language": "python",
   "name": "python3"
  },
  "language_info": {
   "codemirror_mode": {
    "name": "ipython",
    "version": 3
   },
   "file_extension": ".py",
   "mimetype": "text/x-python",
   "name": "python",
   "nbconvert_exporter": "python",
   "pygments_lexer": "ipython3",
   "version": "3.10.12"
  }
 },
 "nbformat": 4,
 "nbformat_minor": 5
}
