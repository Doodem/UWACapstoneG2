{
 "cells": [
  {
   "cell_type": "code",
   "execution_count": 4,
   "id": "1d589e0d-c989-42a1-9ab4-e64545cfd83c",
   "metadata": {
    "tags": []
   },
   "outputs": [],
   "source": [
    "#https://www.machinelearningplus.com/nlp/text-summarization-approaches-nlp-example/\n",
    "text = \"Junk foods taste good that’s why it is mostly liked by everyone of any age group especially kids and school going children. They generally ask for the junk food daily because they have been trend so by their parents from the childhood. They never have been discussed by their parents about the harmful effects of junk foods over health. According to the research by scientists, it has been found that junk foods have negative effects on the health in many ways. They are generally fried food found in the market in the packets. They become high in calories, high in cholesterol, low in healthy nutrients, high in sodium mineral, high in sugar, starch, unhealthy fat, lack of protein and lack of dietary fibers. Processed and junk foods are the means of rapid and unhealthy weight gain and negatively impact the whole body throughout the life. It makes able a person to gain excessive weight which is called as obesity. Junk foods tastes good and looks good however do not fulfil the healthy calorie requirement of the body. Some of the foods like french fries, fried foods, pizza, burgers, candy, soft drinks, baked goods, ice cream, cookies, etc are the example of high-sugar and high-fat containing foods. It is found according to the Centres for Disease Control and Prevention that Kids and children eating junk food are more prone to the type-2 diabetes. In type-2 diabetes our body become unable to regulate blood sugar level. Risk of getting this disease is increasing as one become more obese or overweight. It increases the risk of kidney failure. Eating junk food daily lead us to the nutritional deficiencies in the body because it is lack of essential nutrients, vitamins, iron, minerals and dietary fibers. It increases risk of cardiovascular diseases because it is rich in saturated fat, sodium and bad cholesterol. High sodium and bad cholesterol diet increases blood pressure and overloads the heart functioning. One who like junk food develop more risk to put on extra weight and become fatter and unhealthier. Junk foods contain high level carbohydrate which spike blood sugar level and make person more lethargic, sleepy and less active and alert. Reflexes and senses of the people eating this food become dull day by day thus they live more sedentary life. Junk foods are the source of constipation and other disease like diabetes, heart ailments, clogged arteries, heart attack, strokes, etc because of being poor in nutrition. Junk food is the easiest way to gain unhealthy weight. The amount of fats and sugar in the food makes you gain weight rapidly. However, this is not a healthy weight. It is more of fats and cholesterol which will have a harmful impact on your health. Junk food is also one of the main reasons for the increase in obesity nowadays.This food only looks and tastes good, other than that, it has no positive points. The amount of calorie your body requires to stay fit is not fulfilled by this food. For instance, foods like French fries, burgers, candy, and cookies, all have high amounts of sugar and fats. Therefore, this can result in long-term illnesses like diabetes and high blood pressure. This may also result in kidney failure. Above all, you can get various nutritional deficiencies when you don’t consume the essential nutrients, vitamins, minerals and more. You become prone to cardiovascular diseases due to the consumption of bad cholesterol and fat plus sodium. In other words, all this interferes with the functioning of your heart. Furthermore, junk food contains a higher level of carbohydrates. It will instantly spike your blood sugar levels. This will result in lethargy, inactiveness, and sleepiness. A person reflex becomes dull overtime and they lead an inactive life. To make things worse, junk food also clogs your arteries and increases the risk of a heart attack. Therefore, it must be avoided at the first instance to save your life from becoming ruined.The main problem with junk food is that people don’t realize its ill effects now. When the time comes, it is too late. Most importantly, the issue is that it does not impact you instantly. It works on your overtime; you will face the consequences sooner or later. Thus, it is better to stop now.You can avoid junk food by encouraging your children from an early age to eat green vegetables. Their taste buds must be developed as such that they find healthy food tasty. Moreover, try to mix things up. Do not serve the same green vegetable daily in the same style. Incorporate different types of healthy food in their diet following different recipes. This will help them to try foods at home rather than being attracted to junk food.In short, do not deprive them completely of it as that will not help. Children will find one way or the other to have it. Make sure you give them junk food in limited quantities and at healthy periods of time.\""
   ]
  },
  {
   "cell_type": "code",
   "execution_count": 5,
   "id": "f38f928c-586c-4bc4-92ac-78c3df3a7cfe",
   "metadata": {
    "tags": []
   },
   "outputs": [
    {
     "name": "stdout",
     "output_type": "stream",
     "text": [
      "Requirement already satisfied: sumy in /Users/max/miniconda3/envs/capstone/lib/python3.11/site-packages (0.11.0)\n",
      "Requirement already satisfied: docopt<0.7,>=0.6.1 in /Users/max/miniconda3/envs/capstone/lib/python3.11/site-packages (from sumy) (0.6.2)\n",
      "Requirement already satisfied: breadability>=0.1.20 in /Users/max/miniconda3/envs/capstone/lib/python3.11/site-packages (from sumy) (0.1.20)\n",
      "Requirement already satisfied: requests>=2.7.0 in /Users/max/miniconda3/envs/capstone/lib/python3.11/site-packages (from sumy) (2.31.0)\n",
      "Requirement already satisfied: pycountry>=18.2.23 in /Users/max/miniconda3/envs/capstone/lib/python3.11/site-packages (from sumy) (22.3.5)\n",
      "Requirement already satisfied: nltk>=3.0.2 in /Users/max/miniconda3/envs/capstone/lib/python3.11/site-packages (from sumy) (3.8.1)\n",
      "Requirement already satisfied: chardet in /Users/max/miniconda3/envs/capstone/lib/python3.11/site-packages (from breadability>=0.1.20->sumy) (5.2.0)\n",
      "Requirement already satisfied: lxml>=2.0 in /Users/max/miniconda3/envs/capstone/lib/python3.11/site-packages (from breadability>=0.1.20->sumy) (4.9.2)\n",
      "Requirement already satisfied: click in /Users/max/miniconda3/envs/capstone/lib/python3.11/site-packages (from nltk>=3.0.2->sumy) (8.1.7)\n",
      "Requirement already satisfied: joblib in /Users/max/miniconda3/envs/capstone/lib/python3.11/site-packages (from nltk>=3.0.2->sumy) (1.3.2)\n",
      "Requirement already satisfied: regex>=2021.8.3 in /Users/max/miniconda3/envs/capstone/lib/python3.11/site-packages (from nltk>=3.0.2->sumy) (2023.8.8)\n",
      "Requirement already satisfied: tqdm in /Users/max/miniconda3/envs/capstone/lib/python3.11/site-packages (from nltk>=3.0.2->sumy) (4.66.1)\n",
      "Requirement already satisfied: setuptools in /Users/max/miniconda3/envs/capstone/lib/python3.11/site-packages (from pycountry>=18.2.23->sumy) (68.0.0)\n",
      "Requirement already satisfied: charset-normalizer<4,>=2 in /Users/max/miniconda3/envs/capstone/lib/python3.11/site-packages (from requests>=2.7.0->sumy) (2.0.4)\n",
      "Requirement already satisfied: idna<4,>=2.5 in /Users/max/miniconda3/envs/capstone/lib/python3.11/site-packages (from requests>=2.7.0->sumy) (3.4)\n",
      "Requirement already satisfied: urllib3<3,>=1.21.1 in /Users/max/miniconda3/envs/capstone/lib/python3.11/site-packages (from requests>=2.7.0->sumy) (1.26.16)\n",
      "Requirement already satisfied: certifi>=2017.4.17 in /Users/max/miniconda3/envs/capstone/lib/python3.11/site-packages (from requests>=2.7.0->sumy) (2023.7.22)\n"
     ]
    },
    {
     "name": "stderr",
     "output_type": "stream",
     "text": [
      "[nltk_data] Downloading package punkt to /Users/max/nltk_data...\n",
      "[nltk_data]   Package punkt is already up-to-date!\n"
     ]
    },
    {
     "name": "stdout",
     "output_type": "stream",
     "text": [
      "Therefore, it must be avoided at the first instance to save your life from becoming ruined.The main problem with junk food is that people don’t realize its ill effects now.\n"
     ]
    }
   ],
   "source": [
    "!pip install sumy\n",
    "import sumy\n",
    "from sumy.parsers.plaintext import PlaintextParser\n",
    "from sumy.nlp.tokenizers import Tokenizer\n",
    "from sumy.summarizers.lsa import LsaSummarizer\n",
    "import nltk\n",
    "nltk.download('punkt')\n",
    "parsed_text = PlaintextParser.from_string(text,Tokenizer('english'))\n",
    "lsa_summarizer = LsaSummarizer()\n",
    "lsa_summary = lsa_summarizer(parsed_text.document,1)\n",
    "\n",
    "for sentence in lsa_summary:\n",
    "    print(sentence)"
   ]
  },
  {
   "cell_type": "code",
   "execution_count": 1,
   "id": "1c9a27bf-1dd6-4c6f-9c32-e898e4ac6b7b",
   "metadata": {},
   "outputs": [
    {
     "name": "stdout",
     "output_type": "stream",
     "text": [
      "Requirement already satisfied: transformers in /Users/max/miniconda3/envs/capstone/lib/python3.11/site-packages (4.31.0)\n",
      "Requirement already satisfied: filelock in /Users/max/miniconda3/envs/capstone/lib/python3.11/site-packages (from transformers) (3.9.0)\n",
      "Requirement already satisfied: huggingface-hub<1.0,>=0.14.1 in /Users/max/miniconda3/envs/capstone/lib/python3.11/site-packages (from transformers) (0.16.4)\n",
      "Requirement already satisfied: numpy>=1.17 in /Users/max/miniconda3/envs/capstone/lib/python3.11/site-packages (from transformers) (1.25.2)\n",
      "Requirement already satisfied: packaging>=20.0 in /Users/max/miniconda3/envs/capstone/lib/python3.11/site-packages (from transformers) (23.0)\n",
      "Requirement already satisfied: pyyaml>=5.1 in /Users/max/miniconda3/envs/capstone/lib/python3.11/site-packages (from transformers) (6.0)\n",
      "Requirement already satisfied: regex!=2019.12.17 in /Users/max/miniconda3/envs/capstone/lib/python3.11/site-packages (from transformers) (2023.8.8)\n",
      "Requirement already satisfied: requests in /Users/max/miniconda3/envs/capstone/lib/python3.11/site-packages (from transformers) (2.31.0)\n",
      "Requirement already satisfied: tokenizers!=0.11.3,<0.14,>=0.11.1 in /Users/max/miniconda3/envs/capstone/lib/python3.11/site-packages (from transformers) (0.13.3)\n",
      "Requirement already satisfied: safetensors>=0.3.1 in /Users/max/miniconda3/envs/capstone/lib/python3.11/site-packages (from transformers) (0.3.2)\n",
      "Requirement already satisfied: tqdm>=4.27 in /Users/max/miniconda3/envs/capstone/lib/python3.11/site-packages (from transformers) (4.66.1)\n",
      "Requirement already satisfied: fsspec in /Users/max/miniconda3/envs/capstone/lib/python3.11/site-packages (from huggingface-hub<1.0,>=0.14.1->transformers) (2023.6.0)\n",
      "Requirement already satisfied: typing-extensions>=3.7.4.3 in /Users/max/miniconda3/envs/capstone/lib/python3.11/site-packages (from huggingface-hub<1.0,>=0.14.1->transformers) (4.7.1)\n",
      "Requirement already satisfied: charset-normalizer<4,>=2 in /Users/max/miniconda3/envs/capstone/lib/python3.11/site-packages (from requests->transformers) (2.0.4)\n",
      "Requirement already satisfied: idna<4,>=2.5 in /Users/max/miniconda3/envs/capstone/lib/python3.11/site-packages (from requests->transformers) (3.4)\n",
      "Requirement already satisfied: urllib3<3,>=1.21.1 in /Users/max/miniconda3/envs/capstone/lib/python3.11/site-packages (from requests->transformers) (1.26.16)\n",
      "Requirement already satisfied: certifi>=2017.4.17 in /Users/max/miniconda3/envs/capstone/lib/python3.11/site-packages (from requests->transformers) (2023.7.22)\n"
     ]
    },
    {
     "data": {
      "application/vnd.jupyter.widget-view+json": {
       "model_id": "9302f3df7df74afba13f58b6c8c78c22",
       "version_major": 2,
       "version_minor": 0
      },
      "text/plain": [
       "Downloading pytorch_model.bin:   0%|          | 0.00/1.63G [00:00<?, ?B/s]"
      ]
     },
     "metadata": {},
     "output_type": "display_data"
    },
    {
     "data": {
      "application/vnd.jupyter.widget-view+json": {
       "model_id": "cc59abc3569c40bbb891ccd5b3c0a867",
       "version_major": 2,
       "version_minor": 0
      },
      "text/plain": [
       "Downloading (…)neration_config.json:   0%|          | 0.00/363 [00:00<?, ?B/s]"
      ]
     },
     "metadata": {},
     "output_type": "display_data"
    }
   ],
   "source": [
    "!pip install transformers\n",
    "from transformers import BartForConditionalGeneration, BartTokenizer, BartConfig\n",
    "tokenizer=BartTokenizer.from_pretrained('facebook/bart-large-cnn')\n",
    "model=BartForConditionalGeneration.from_pretrained('facebook/bart-large-cnn')"
   ]
  },
  {
   "cell_type": "code",
   "execution_count": 12,
   "id": "1a46fb2b-60b0-4750-8ead-f060a27f71c7",
   "metadata": {},
   "outputs": [
    {
     "name": "stdout",
     "output_type": "stream",
     "text": [
      "Junk foods taste good that’s why it is mostly liked by everyone of any age group especially kids and school going children. They generally ask for the junk food daily because they have been trend so by their parents from the childhood. According to the research by scientists, it has been found that junk foods have negative effects on the health.\n"
     ]
    }
   ],
   "source": [
    "inputs = tokenizer.batch_encode_plus([text],return_tensors='pt')\n",
    "summary_ids = model.generate(inputs['input_ids'], early_stopping=True)\n",
    "bart_summary = tokenizer.decode(summary_ids[0], skip_special_tokens=True)\n",
    "print(bart_summary)"
   ]
  }
 ],
 "metadata": {
  "kernelspec": {
   "display_name": "Python 3 (ipykernel)",
   "language": "python",
   "name": "python3"
  },
  "language_info": {
   "codemirror_mode": {
    "name": "ipython",
    "version": 3
   },
   "file_extension": ".py",
   "mimetype": "text/x-python",
   "name": "python",
   "nbconvert_exporter": "python",
   "pygments_lexer": "ipython3",
   "version": "3.11.4"
  }
 },
 "nbformat": 4,
 "nbformat_minor": 5
}
