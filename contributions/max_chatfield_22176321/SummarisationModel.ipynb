{
 "cells": [
  {
   "cell_type": "markdown",
   "id": "5616c483-731c-4ad8-a50e-3b0421d16b05",
   "metadata": {},
   "source": [
    "# Load Summarisation Pipeline\n",
    "\n",
    "Taken from Mitch :)"
   ]
  },
  {
   "cell_type": "code",
   "execution_count": 38,
   "id": "d5adc3f7-3972-43a5-83f1-ac5e0a25b38a",
   "metadata": {},
   "outputs": [],
   "source": [
    "from transformers import pipeline\n",
    "\n",
    "class Summariser:\n",
    "\n",
    "    def __init__(self, max_length, min_length, type=False, do_sample=False):\n",
    "        \"\"\" Summarises text inputs \"\"\"\n",
    "\n",
    "        if type:\n",
    "            trained = type\n",
    "        else:\n",
    "            trained = 'xsum'\n",
    "        self.summarizer = pipeline('summarization', model=f'facebook/bart-large-{trained}')\n",
    "\n",
    "        self.max_length = max_length\n",
    "        self.min_length = min_length\n",
    "        self.do_sample = do_sample\n",
    "\n",
    "    def summarise(self, text):\n",
    "        \"\"\" \n",
    "        max_length (int): Maximum length of the generated summary.\n",
    "        min_length (int): Minimum length of the generated summary.\n",
    "        do_sample (bool): Whether to use greedy sampling when generating summaries.\n",
    "        \n",
    "        Returns: summary\n",
    "        \"\"\"   \n",
    "        try:\n",
    "            summary = self.summarizer(text, max_length=self.max_length, min_length=self.min_length, do_sample=self.do_sample)\n",
    "            return summary\n",
    "        except:\n",
    "            return None"
   ]
  },
  {
   "cell_type": "markdown",
   "id": "db21588d-1a1c-4e25-904a-ae068af79dbd",
   "metadata": {},
   "source": [
    "# Summarise Documents"
   ]
  },
  {
   "cell_type": "code",
   "execution_count": 39,
   "id": "ebe78153-3f31-46ff-a373-de7ae21ff546",
   "metadata": {
    "tags": []
   },
   "outputs": [],
   "source": [
    "import pickle\n",
    "import re\n",
    "import os\n",
    "\n",
    "class Tender:\n",
    "    def __init__(self, reference):\n",
    "        self.reference = reference\n",
    "        self.file_map = {}\n",
    "        \n",
    "    def clean_text(self, text):\n",
    "    # convert from binary string if needed\n",
    "        if type(text) == bytes:\n",
    "            text = text.decode(\"utf-8\")\n",
    "        text = re.sub(\"[^a-zA-z0-9.,]\", \" \", text)\n",
    "        text = re.sub(\"\\\\\\\\\", \" \", text) \n",
    "        text = re.sub(\"\\s+\", \" \", text)\n",
    "        text = re.sub(\"\\.+\", \".\", text)\n",
    "        return text   \n",
    "    \n",
    "    def add(self, file_name, content):\n",
    "        if content == None:\n",
    "            print(f\"Warning: None content for ref:{self.reference}, fname:{file_name}\")\n",
    "        else:\n",
    "            content = self.clean_text(content)\n",
    "            \n",
    "        if file_name in self.file_map:\n",
    "            # hopefully wont happen\n",
    "            print(f\"Warning: duplicate file name added for ref:{self.reference} fname:{file_name}\")\n",
    "        else:\n",
    "            self.file_map[file_name] = content\n",
    "    \n",
    "    def save(self):\n",
    "        with open(f\"{self.reference}.pickle\", 'wb') as file_handle:\n",
    "            pickle.dump(self.file_map, file_handle, protocol=pickle.HIGHEST_PROTOCOL)\n",
    "           \n",
    "    @staticmethod\n",
    "    def __correct_handle(reference):\n",
    "        if \".pickle\" in reference: # assume its a fpath, dont change\n",
    "            return reference\n",
    "        else: # try ref.pickle\n",
    "            return f\"{reference}.pickle\"\n",
    "        \n",
    "    @staticmethod\n",
    "    def exists(reference):\n",
    "        return os.path.exists(Tender._Tender__correct_handle(reference))\n",
    "            \n",
    "    @staticmethod\n",
    "    def load(reference):\n",
    "        if Tender.exists(reference):\n",
    "            with open(Tender._Tender__correct_handle(reference), 'rb') as file_handle:\n",
    "                t = Tender(reference)\n",
    "                t.file_map = pickle.load(file_handle)\n",
    "                return t\n",
    "        else:\n",
    "            return None"
   ]
  },
  {
   "cell_type": "code",
   "execution_count": 45,
   "id": "3d8e27dc-0aae-40f8-b2c2-086bb2057af1",
   "metadata": {
    "tags": []
   },
   "outputs": [
    {
     "name": "stdout",
     "output_type": "stream",
     "text": [
      "Department of Education Kalamunda Senior High School Stem Upgrade\n",
      "Department of Education Kalamunda Senior High School Stem Upgrade A non mandatory site inspection and or tender briefing will be held on Tuesday 29th November 2022 at 10.00 am. To confirm attendance at this briefing, you must contact Michael Spight, Director, TAG Architects Ph 9227 0511 or via email on michael tagarchitects.com.au\n",
      "0 25Government of Finance Department of Buildings and ContractsWestern Australia Q.OmaHDA Hydraulics Design Australia1 300 Fitzgerald Street Perth WA 6000 Telephone 08 9225 9300 Facsimile 08 9388 6117 www.hdawa.com.auHydraulics Design AustraliaGarden BedFootpathStaff Carpark CourtyardWalkway\n",
      "0 25Government of Finance Department of Buildings and ContractsWestern Australia Q.OmaHDA Hydraulics Design Australia1 300 Fitzgerald Street Perth WA 6000 Telephone 08 9225 9300 Facsimile 08 9388 6117 www.hdawa.com.auHydraulics Design Australia\n",
      "3327 BusCANNING ROAD 0 25Government of Finance Department of Buildings and ContractsWestern AustraliaFOCUS CONSULTING WA PO BOX 138, LEEDERVILLE WA 6007 E info focuswa.com.au www.focuswa.com.au FWA Project No. 2021 123TENDER ISSUE\n",
      "0 25Government of Finance Department of Buildings and ContractsWestern AustraliaFOCUS CONSULTING WA PO BOX 138, LEEDERVILLE WA 6007 E info focuswa.com.au www.focuswa.com.au FWA Project No. 2021 123TENDER ISSUE\n",
      "0 25Government of Finance Department of Buildings and ContractsWestern AustraliaFOCUS CONSULTING WA PO BOX 138, LEEDERVILLE WA 6007 E info focuswa.com.au www.focuswa.com.au FWA Project No. 2021 123TENDER ISSUE\n",
      "0 25Government of Finance Department of Buildings and ContractsWestern AustraliaFOCUS CONSULTING WA PO BOX 138, LEEDERVILLE WA 6007 E info focuswa.com.au www.focuswa.com.au FWA Project No. 2021 123TENDER ISSUE\n",
      "0 25Government of Finance Department of Buildings and ContractsWestern AustraliaFOCUS CONSULTING WA PO BOX 138, LEEDERVILLE WA 6007 E info focuswa.com.au www.focuswa.com.au FWA Project No. 2021 123TENDER ISSUE\n",
      "0 25Government of Finance Department of Buildings and ContractsWestern AustraliaFOCUS CONSULTING WA PO BOX 138, LEEDERVILLE WA 6007 E info focuswa.com.au www.focuswa.com.au FWA Project No. 2021 123TENDER ISSUE\n",
      "0 25Government of Finance Department of Buildings and ContractsWestern AustraliaFOCUS CONSULTING WA PO BOX 138, LEEDERVILLE WA 6007 E info focuswa.com.au www.focuswa.com.au FWA Project No. 2021 123TENDER ISSUE\n",
      "0 25Government of Finance Department of Buildings and ContractsWestern AustraliaFOCUS CONSULTING WA PO BOX 138, LEEDERVILLE WA 6007 E info focuswa.com.au www.focuswa.com.au FWA Project No. 2021 123TENDER ISSUE \n",
      "0 25Government of Finance Department of Buildings and ContractsWestern AustraliaFOCUS CONSULTING WA PO BOX 138, LEEDERVILLE WA 6007 E info focuswa.com.au www.focuswa.com.au FWA Project No. 2021 123TENDER ISSUE \n",
      "0 25Government of Finance Department of Buildings and ContractsWestern AustraliaFOCUS CONSULTING WA PO BOX 138, LEEDERVILLE WA 6007 E info focuswa.com.au www.focuswa.com.au FWA Project No. 2021 123TENDER ISSUE \n",
      "0 25Government of Finance Department of Buildings and ContractsWestern AustraliaFOCUS CONSULTING WA PO BOX 138, LEEDERVILLE WA 6007 E info focuswa.com.au www.focuswa.com.au FWA Project No. 2021 123TENDER ISSUE\n",
      "Perth Office Level 19, Kings Square 1 556 Wellington St, Perth WA 6000 P 61 8 6364 3300 E info bgeeng.com bgeeng.com Government \n"
     ]
    }
   ],
   "source": [
    "import itertools\n",
    "import os\n",
    "import pickle\n",
    "\n",
    "summariser = Summariser(max_length=30, min_length=10, do_sample=False)\n",
    "\n",
    "path = r\"/home/ucc/maxichat/Capstone/data/tender_raw\"\n",
    "os.chdir(path)\n",
    "for file in os.listdir(path):\n",
    "    if file.endswith(\".pickle\"):\n",
    "        t = Tender.load(file)\n",
    "        if t != None:\n",
    "            if \"TITLE\" in t.file_map and \"DESCRIPTION\" in t.file_map:  \n",
    "                title = t.file_map[\"TITLE\"]\n",
    "                description = t.file_map[\"DESCRIPTION\"]\n",
    "                if len(t.file_map.keys()) > 2:\n",
    "                    extra_text = \"\"\n",
    "                    for key in t.file_map.keys():\n",
    "                        if key != \"TITLE\" and key != \"DESCRIPTION\":\n",
    "                            extra_text += t.file_map[key] + \"\\n\"\n",
    "                    extra_text = extra_text[0:3000]\n",
    "                    summary = summariser.summarise(extra_text)\n",
    "                    print(title)\n",
    "                    print(description)\n",
    "                    print(extra_text)\n",
    "                    break"
   ]
  }
 ],
 "metadata": {
  "kernelspec": {
   "display_name": "Python 3 (ipykernel)",
   "language": "python",
   "name": "python3"
  },
  "language_info": {
   "codemirror_mode": {
    "name": "ipython",
    "version": 3
   },
   "file_extension": ".py",
   "mimetype": "text/x-python",
   "name": "python",
   "nbconvert_exporter": "python",
   "pygments_lexer": "ipython3",
   "version": "3.11.4"
  }
 },
 "nbformat": 4,
 "nbformat_minor": 5
}
