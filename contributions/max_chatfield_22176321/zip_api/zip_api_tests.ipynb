{
 "cells": [
  {
   "cell_type": "code",
   "execution_count": 15,
   "id": "67bc7ab7-ee55-4534-b207-de9d5f8a0322",
   "metadata": {
    "tags": []
   },
   "outputs": [],
   "source": [
    "import NestedZip as NZ\n",
    "from importlib import reload\n",
    "reload(NZ)\n",
    "import NestedZip as NZ"
   ]
  },
  {
   "cell_type": "code",
   "execution_count": 16,
   "id": "eb91b602-85fc-4719-beea-0e83beac733a",
   "metadata": {
    "tags": []
   },
   "outputs": [],
   "source": [
    "import os\n",
    "os.chdir(r\"/home/ucc/maxichat/Capstone/Tenders/Tenders\")\n",
    "nz = NZ.NestedZip(\"FINW0762320-specification.zip\")"
   ]
  },
  {
   "cell_type": "code",
   "execution_count": 17,
   "id": "30463451-75be-484f-971e-c031f61130bb",
   "metadata": {
    "tags": []
   },
   "outputs": [
    {
     "name": "stdout",
     "output_type": "stream",
     "text": [
      "FINW0762320 Addendum 1.docx\n",
      "SA12-Preliminaries-Master.pdf\n",
      "Scope of Work.pdf\n",
      "tender attatchments.pdf\n"
     ]
    }
   ],
   "source": [
    "for file in nz:\n",
    "    print(file.file_path)"
   ]
  }
 ],
 "metadata": {
  "kernelspec": {
   "display_name": "Python 3 (ipykernel)",
   "language": "python",
   "name": "python3"
  },
  "language_info": {
   "codemirror_mode": {
    "name": "ipython",
    "version": 3
   },
   "file_extension": ".py",
   "mimetype": "text/x-python",
   "name": "python",
   "nbconvert_exporter": "python",
   "pygments_lexer": "ipython3",
   "version": "3.11.4"
  }
 },
 "nbformat": 4,
 "nbformat_minor": 5
}
