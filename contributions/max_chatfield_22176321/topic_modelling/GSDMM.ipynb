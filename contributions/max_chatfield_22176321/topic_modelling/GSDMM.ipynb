{
 "cells": [
  {
   "cell_type": "code",
   "execution_count": 1,
   "id": "28442f8e-6317-47a2-94d8-ffbe6b0bd5f2",
   "metadata": {
    "tags": []
   },
   "outputs": [],
   "source": [
    "docs = []\n",
    "import pandas as pd\n",
    "    \n",
    "tenders_structured_path = r\"../../../data/UpdatedAgainTenders.xlsx\"\n",
    "tenders_structured = pd.read_excel(tenders_structured_path)\n",
    "tenders_structured = tenders_structured[[\"Reference Number\", \"Contract Title\", \"Description\"]].dropna(subset=[\"Reference Number\"]).drop_duplicates()\n",
    "\n",
    "from bs4 import BeautifulSoup\n",
    "def remove_html_tags(text):\n",
    "    soup = BeautifulSoup(text, \"html.parser\")\n",
    "    cleaned = soup.get_text().replace('\\xa0', ' ')\n",
    "    cleaned = ' '.join(cleaned.split())\n",
    "    return cleaned\n",
    "\n",
    "def \n",
    "for index, row in tenders_structured.iterrows():\n",
    "    title = row[\"Contract Title\"]\n",
    "    desc = remove_html_tags(row[\"Description\"])\n",
    "    docs.append(title + \". \" + desc)"
   ]
  },
  {
   "cell_type": "code",
   "execution_count": 37,
   "id": "7bfe6d58-3c76-427a-9236-b785a1924b24",
   "metadata": {
    "tags": []
   },
   "outputs": [
    {
     "name": "stdout",
     "output_type": "stream",
     "text": [
      "corpus=3, words=14, K=2, a=0.100000, b=0.100000, nTopWords=2, iters=15\n"
     ]
    }
   ],
   "source": [
    "from GPyM_TM import GSDMM\n",
    "corpus = [[\"brother\", \"sister\",\"man\", \"is\", \"he\", \"coming\", \"along\"], [\"i\", \"like\", \"a\", \"chocolate\", \"cook\"], [\"is\", \"this\", \"worth\"]]\n",
    "\n",
    "model = GSDMM.DMM(corpus, nTopics=2, nTopWords = 2)\n"
   ]
  },
  {
   "cell_type": "code",
   "execution_count": 39,
   "id": "bdfc2e32-c084-4403-a156-677e4b56323a",
   "metadata": {
    "tags": []
   },
   "outputs": [
    {
     "name": "stdout",
     "output_type": "stream",
     "text": [
      "iteration: 0\n",
      "iteration: 1\n",
      "iteration: 2\n",
      "iteration: 3\n",
      "iteration: 4\n",
      "iteration: 5\n",
      "iteration: 6\n",
      "iteration: 7\n",
      "iteration: 8\n",
      "iteration: 9\n",
      "iteration: 10\n",
      "iteration: 11\n",
      "iteration: 12\n",
      "iteration: 13\n",
      "iteration: 14\n",
      "[0 1]\n",
      "[0 1]\n",
      "is along brother coming he man sister this worth a \n",
      "a chocolate cook i like along brother coming he is \n",
      "average topic:  5.26802492411967\n",
      "Final number of topics found: 2\n"
     ]
    }
   ],
   "source": [
    "model.topicAssigmentInitialise()\n",
    "model.inference()\n",
    "psi, theta, selected_psi, selected_theta = model.worddist()\n",
    "finalAssignments = model.writeTopicAssignments()\n",
    "print(finalAssignments)\n",
    "coherence_topwords = model.writeTopTopicalWords(finalAssignments)\n",
    "score = model.coherence(coherence_topwords, len(finalAssignments))\n",
    "print(\"Final number of topics found: \" + str(len(finalAssignments)))"
   ]
  },
  {
   "cell_type": "code",
   "execution_count": null,
   "id": "6faa4ebf-0117-400f-b080-bfbbc22f98a4",
   "metadata": {},
   "outputs": [],
   "source": []
  },
  {
   "cell_type": "code",
   "execution_count": null,
   "id": "fdb8c37e-7591-494c-97c3-3f7046952a40",
   "metadata": {},
   "outputs": [],
   "source": []
  }
 ],
 "metadata": {
  "kernelspec": {
   "display_name": "Python 3 (ipykernel)",
   "language": "python",
   "name": "python3"
  },
  "language_info": {
   "codemirror_mode": {
    "name": "ipython",
    "version": 3
   },
   "file_extension": ".py",
   "mimetype": "text/x-python",
   "name": "python",
   "nbconvert_exporter": "python",
   "pygments_lexer": "ipython3",
   "version": "3.11.4"
  }
 },
 "nbformat": 4,
 "nbformat_minor": 5
}
