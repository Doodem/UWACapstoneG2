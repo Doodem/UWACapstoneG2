{
 "cells": [
  {
   "cell_type": "code",
   "execution_count": 1,
   "id": "feeb1ec4-32f2-45e3-841a-3b273695230d",
   "metadata": {
    "tags": []
   },
   "outputs": [],
   "source": [
    "import HPA\n",
    "import tomotopy as tp"
   ]
  },
  {
   "cell_type": "code",
   "execution_count": 122,
   "id": "aedb9ce5-fe09-4439-b288-218f7d5d6281",
   "metadata": {
    "tags": []
   },
   "outputs": [
    {
     "name": "stdout",
     "output_type": "stream",
     "text": [
      "Num docs: 20619 , Vocab size: 24869 , Num words: 583348\n",
      "Removed top words: ['services', 'department', 'provision']\n",
      "Training...\n",
      "Iteration: 00010\tll per word: -11.02880\tperplexity: 61623.86074\n",
      "Iteration: 00020\tll per word: -9.20467\tperplexity: 9943.45557\n",
      "Iteration: 00030\tll per word: -8.94802\tperplexity: 7692.65079\n",
      "Iteration: 00040\tll per word: -8.89095\tperplexity: 7265.95397\n",
      "Iteration: 00050\tll per word: -8.78139\tperplexity: 6511.93825\n",
      "Iteration: 00060\tll per word: -8.66441\tperplexity: 5793.01155\n",
      "Iteration: 00070\tll per word: -8.56916\tperplexity: 5266.69480\n",
      "Iteration: 00080\tll per word: -8.50327\tperplexity: 4930.88048\n",
      "Iteration: 00090\tll per word: -8.45227\tperplexity: 4685.69742\n",
      "Iteration: 00100\tll per word: -8.35559\tperplexity: 4253.87692\n",
      "Iteration: 00110\tll per word: -8.25479\tperplexity: 3846.00207\n",
      "Iteration: 00120\tll per word: -8.17062\tperplexity: 3535.53699\n",
      "Iteration: 00130\tll per word: -8.11625\tperplexity: 3348.44955\n",
      "Iteration: 00140\tll per word: -8.03792\tperplexity: 3096.18112\n",
      "Iteration: 00150\tll per word: -8.00004\tperplexity: 2981.07260\n",
      "Iteration: 00160\tll per word: -7.97131\tperplexity: 2896.65163\n",
      "Iteration: 00170\tll per word: -7.89899\tperplexity: 2694.55792\n",
      "Iteration: 00180\tll per word: -7.88696\tperplexity: 2662.32552\n",
      "Iteration: 00190\tll per word: -7.85571\tperplexity: 2580.42154\n",
      "Iteration: 00200\tll per word: -7.82411\tperplexity: 2500.15597\n",
      "Iteration: 00210\tll per word: -7.81147\tperplexity: 2468.75837\n",
      "Iteration: 00220\tll per word: -7.79587\tperplexity: 2430.53558\n",
      "Iteration: 00230\tll per word: -7.75260\tperplexity: 2327.61648\n",
      "Iteration: 00240\tll per word: -7.74900\tperplexity: 2319.24638\n",
      "Iteration: 00250\tll per word: -7.72397\tperplexity: 2261.93260\n",
      "Iteration: 00260\tll per word: -7.68716\tperplexity: 2180.16496\n",
      "Iteration: 00270\tll per word: -7.65500\tperplexity: 2111.18207\n",
      "Iteration: 00280\tll per word: -7.62502\tperplexity: 2048.82236\n",
      "Iteration: 00290\tll per word: -7.60756\tperplexity: 2013.36165\n",
      "Iteration: 00300\tll per word: -7.58113\tperplexity: 1960.84160\n",
      "Iteration: 00310\tll per word: -7.55270\tperplexity: 1905.88246\n",
      "Iteration: 00320\tll per word: -7.53908\tperplexity: 1880.09987\n",
      "Iteration: 00330\tll per word: -7.53384\tperplexity: 1870.27386\n",
      "Iteration: 00340\tll per word: -7.52944\tperplexity: 1862.05612\n",
      "Iteration: 00350\tll per word: -7.51106\tperplexity: 1828.15291\n",
      "Iteration: 00360\tll per word: -7.47744\tperplexity: 1767.71093\n",
      "Iteration: 00370\tll per word: -7.46066\tperplexity: 1738.30239\n",
      "Iteration: 00380\tll per word: -7.46989\tperplexity: 1754.41092\n",
      "Early stopping at 00380 with loss -7.46989\tperplexity: 1754.41092\n",
      "Train for a bit more, finalize topics\n",
      "Iteration: 00390\tll per word: -7.47584\tperplexity: 1764.88538\n",
      "Iteration: 00400\tll per word: -7.46368\tperplexity: 1743.56084\n",
      "Iteration: 00410\tll per word: -7.45225\tperplexity: 1723.74455\n",
      "Iteration: 00420\tll per word: -7.44089\tperplexity: 1704.26134\n",
      "Iteration: 00430\tll per word: -7.43025\tperplexity: 1686.23256\n",
      "Iteration: 00440\tll per word: -7.41596\tperplexity: 1662.30641\n",
      "Iteration: 00450\tll per word: -7.40815\tperplexity: 1649.37757\n",
      "Iteration: 00460\tll per word: -7.39813\tperplexity: 1632.92562\n",
      "Iteration: 00470\tll per word: -7.37858\tperplexity: 1601.31436\n",
      "Iteration: 00480\tll per word: -7.37919\tperplexity: 1602.29151\n",
      "Saving...\n"
     ]
    }
   ],
   "source": [
    "corpus = HPA.load_corpus(\"tenders.hpa.corpus\")\n",
    "if corpus == None:\n",
    "    docs = []\n",
    "    import pandas as pd\n",
    "    \n",
    "    tenders_structured_path = r\"../../../data/UpdatedAgainTenders.xlsx\"\n",
    "    tenders_structured = pd.read_excel(tenders_structured_path).astype(str)\n",
    "    tenders_structured = tenders_structured[[\"Reference Number\", \"Contract Title\", \"Description\"]].dropna(subset=[\"Reference Number\"]).drop_duplicates(subset=[\"Reference Number\"])\n",
    "\n",
    "    from bs4 import BeautifulSoup\n",
    "    def remove_html_tags(text):\n",
    "        soup = BeautifulSoup(text, \"html.parser\")\n",
    "        cleaned = soup.get_text().replace('\\xa0', ' ')\n",
    "        cleaned = ' '.join(cleaned.split())\n",
    "        return cleaned\n",
    "\n",
    "    for index, row in tenders_structured.iterrows():\n",
    "        title = row[\"Contract Title\"]\n",
    "        desc = remove_html_tags(row[\"Description\"])\n",
    "        docs.append(title + \". \" + desc)\n",
    "    corpus = HPA.create_corpus(docs, \"tenders.hpa.corpus\")\n",
    "    \n",
    "model = tp.LDAModel(tw=tp.TermWeight.ONE, k = 2000, rm_top=3, corpus=corpus)\n",
    "# refereed to as HPA but can train any of the models available\n",
    "HPA.train(model, \"tenders.hpa.tmm\", stopping_factor = 1)"
   ]
  },
  {
   "cell_type": "code",
   "execution_count": 2,
   "id": "d046b0fa-ac4f-46eb-b3ed-30779373e873",
   "metadata": {
    "tags": []
   },
   "outputs": [],
   "source": [
    "model = tp.LDAModel.load(\"tenders.hpa.tmm\")"
   ]
  },
  {
   "cell_type": "code",
   "execution_count": 124,
   "id": "279c57ec-70a7-4bb5-b79f-ac41fb5da3cd",
   "metadata": {},
   "outputs": [
    {
     "name": "stdout",
     "output_type": "stream",
     "text": [
      "<tomotopy.Document with words=\"supply delivery aspen bedding material customer requires contractor provide bedding material made aspen must suitable rats mice bedding material product must made entirely aspen species populus tremula\">\n"
     ]
    }
   ],
   "source": [
    "print(model.docs[0])"
   ]
  },
  {
   "cell_type": "code",
   "execution_count": 3,
   "id": "86ef91ab-580a-4e0e-b1d9-99b84e0f930e",
   "metadata": {
    "tags": []
   },
   "outputs": [],
   "source": [
    "lda_wd_cluster_topics = [HPA.get_topic_distribution(model, i, 1)[0][0] for i in range(0, len(model.docs))]"
   ]
  },
  {
   "cell_type": "code",
   "execution_count": 4,
   "id": "bf9b3bdb-bf1d-4c42-ade6-09ff29a240f9",
   "metadata": {},
   "outputs": [],
   "source": [
    "cluster_dict = {}\n",
    "i = 0\n",
    "for ct in lda_wd_cluster_topics:\n",
    "    if ct not in cluster_dict:\n",
    "        cluster_dict[ct] = i\n",
    "        i += 1"
   ]
  },
  {
   "cell_type": "code",
   "execution_count": 5,
   "id": "7f2d093d-3a09-4268-ab83-95ddeb78418d",
   "metadata": {},
   "outputs": [],
   "source": [
    "from TendersWA import Panda\n",
    "wd_tenders = Panda.load_tender_uniques(r\"../../../data/UpdatedAgainTenders.xlsx\")"
   ]
  },
  {
   "cell_type": "code",
   "execution_count": 6,
   "id": "7d11eb8b-0c9f-4077-a7ba-a3145a24b0b2",
   "metadata": {},
   "outputs": [],
   "source": [
    "wd_tenders[\"Topics\"] = lda_wd_cluster_topics\n",
    "wd_tenders[\"Cluster\"] = 0\n",
    "for index, row in wd_tenders.iterrows():\n",
    "    wd_topics = row[\"Topics\"]\n",
    "    cluster = cluster_dict[wd_topics]\n",
    "    wd_tenders.at[index, \"Cluster\"] = cluster\n",
    "wd_tenders.reset_index(drop=True, inplace=True)"
   ]
  },
  {
   "cell_type": "code",
   "execution_count": 159,
   "id": "2b2d706f-426c-442f-a859-fb12b7ac675a",
   "metadata": {},
   "outputs": [],
   "source": [
    "from TendersWA import Evaluation as eval\n",
    "# bert score can take some time, upto 5m\n",
    "def compute_evals(combined_df, use_summaries = False):\n",
    "    references = list(combined_df[\"Description\"])\n",
    "    generates = list(combined_df[\"Topics\"])\n",
    "    rogue = eval.eval_rouge(references, generates)\n",
    "    bert_precision, bert_recall, bert_f1 = eval.eval_bert_score(references, generates)\n",
    "    return rogue, bert_precision, bert_recall, bert_f1"
   ]
  },
  {
   "cell_type": "code",
   "execution_count": 172,
   "id": "2ab8fdc8-d637-4a0b-b29d-698d940c146b",
   "metadata": {},
   "outputs": [
    {
     "name": "stderr",
     "output_type": "stream",
     "text": [
      "Some weights of RobertaModel were not initialized from the model checkpoint at roberta-large and are newly initialized: ['roberta.pooler.dense.bias', 'roberta.pooler.dense.weight']\n",
      "You should probably TRAIN this model on a down-stream task to be able to use it for predictions and inference.\n"
     ]
    }
   ],
   "source": [
    "wd_rogue, wd_bert_p, wd_bert_r, wd_bert_f1 = compute_evals(wd_tenders)"
   ]
  },
  {
   "cell_type": "code",
   "execution_count": 174,
   "id": "64ec71ef-ef60-42d8-804a-e26fe3a8be78",
   "metadata": {},
   "outputs": [],
   "source": [
    "wd_evals = {\"rouge\": wd_rogue, \"bs_precision\": wd_bert_p, \"bs_recall\": wd_bert_r, \"bs_f1\": wd_bert_f1}"
   ]
  },
  {
   "cell_type": "code",
   "execution_count": 8,
   "id": "ab49614d-916f-497f-ac59-3054b9394aba",
   "metadata": {},
   "outputs": [],
   "source": [
    "import pickle\n",
    "def load_evals(fname):\n",
    "    return pickle.load(open(fname, \"rb\"))\n",
    "topic_eval_bert = load_evals(\"../../../notebooks/Evaluation/topic_eval_bert.cached.pickle\")\n",
    "topic_eval_sentence_transformer = load_evals(\"../../../notebooks/Evaluation/topic_eval_sentence_bert.cached.pickle\")\n",
    "topic_eval_summary = load_evals(\"../../../notebooks/Evaluation/topic_eval_summary.cached.pickle\")\n",
    "topic_eval_unspsc = load_evals(\"../../../notebooks/Evaluation/topic_eval_unspsc.cached.pickle\")\n",
    "topic_eval_manual = load_evals(\"../../../notebooks/Evaluation/topic_eval_manual.cached.pickle\")"
   ]
  },
  {
   "cell_type": "code",
   "execution_count": 182,
   "id": "91ed0990-138e-46b6-a745-d6dfb5691038",
   "metadata": {},
   "outputs": [
    {
     "data": {
      "image/png": "[encoded data removed]",
      "text/plain": [
       "<Figure size 1200x800 with 1 Axes>"
      ]
     },
     "metadata": {},
     "output_type": "display_data"
    }
   ],
   "source": [
    "import numpy as np\n",
    "import matplotlib.pyplot as plt\n",
    "import seaborn as sns\n",
    "import torch\n",
    "\n",
    "def extract_average_metrics(data):\n",
    "    \"\"\"Extracts average metrics from the provided data.\"\"\"\n",
    "    avg_rouge1_f1 = np.mean([entry['rouge-1']['f'] for entry in data['rouge']])\n",
    "    avg_rouge2_f1 = np.mean([entry['rouge-2']['f'] for entry in data['rouge']])\n",
    "    avg_rougel_f1 = np.mean([entry['rouge-l']['f'] for entry in data['rouge']])\n",
    "    avg_bs_f1 = np.mean(data['bs_f1'].numpy())  # Assuming you have PyTorch\n",
    "    \n",
    "    return avg_rouge1_f1, avg_rouge2_f1, avg_rougel_f1, avg_bs_f1\n",
    "\n",
    "# Extract average metrics for each method\n",
    "bert_metrics = extract_average_metrics(topic_eval_bert)\n",
    "sentence_transformer_metrics = extract_average_metrics(topic_eval_sentence_transformer)\n",
    "summary_metrics = extract_average_metrics(topic_eval_summary)\n",
    "unspsc_metrics = extract_average_metrics(topic_eval_unspsc)\n",
    "manual_metrics = extract_average_metrics(topic_eval_manual)\n",
    "whole_data_lda_metrics = extract_average_metrics(wd_evals)\n",
    "\n",
    "# Data to plot\n",
    "n_methods = 6\n",
    "f1_scores = [bert_metrics, sentence_transformer_metrics, summary_metrics, unspsc_metrics, manual_metrics, whole_data_lda_metrics]\n",
    "\n",
    "# Create a bar plot\n",
    "barWidth = 0.15\n",
    "r1 = np.arange(n_methods)\n",
    "r2 = [x + barWidth for x in r1]\n",
    "r3 = [x + 2*barWidth for x in r1]\n",
    "r4 = [x + 3*barWidth for x in r1]\n",
    "\n",
    "plt.figure(figsize=(12, 8)) \n",
    "plt.bar(r1, [score[0] for score in f1_scores], width=barWidth, edgecolor='white', label='ROUGE-1 F1')\n",
    "plt.bar(r2, [score[1] for score in f1_scores], width=barWidth, edgecolor='white', label='ROUGE-2 F1')\n",
    "plt.bar(r3, [score[2] for score in f1_scores], width=barWidth, edgecolor='white', label='ROUGE-L F1')\n",
    "plt.bar(r4, [score[3] for score in f1_scores], width=barWidth, edgecolor='white', label='BERTScore F1')\n",
    "\n",
    "# Add labels\n",
    "methods = ['BERT', 'Sentence BERT', 'Summary', 'UNSPSC', 'Manual', \"Whole Data LDA\"]\n",
    "plt.xlabel('Methods', fontweight='bold')\n",
    "plt.xticks([r + 1.5*barWidth for r in range(n_methods)], methods)  # Adjusted tick positioning\n",
    "plt.legend(loc='upper left', bbox_to_anchor=(1, 1))\n",
    "\n",
    "\n",
    "# Show the plot\n",
    "plt.tight_layout()\n",
    "plt.show()"
   ]
  },
  {
   "cell_type": "code",
   "execution_count": 10,
   "id": "e1565013-7e44-4c63-928f-6c3b37d721d4",
   "metadata": {},
   "outputs": [],
   "source": [
    "indices = [1000,1201,10004,20000]"
   ]
  },
  {
   "cell_type": "code",
   "execution_count": 13,
   "id": "0fcfe36f-8abf-445d-8b8e-9dcecd13ab96",
   "metadata": {},
   "outputs": [],
   "source": [
    "import pandas as pd\n",
    "bert_tender_clusters = pd.read_csv(\"../../../data/clustering/bert_clusters.csv\", dtype={\"Reference Number\": str})\n",
    "bert_cluster_topics = pd.read_csv(\"../../../data/clustering/bert_cluster_topics.csv\", dtype={\"Topics\": str})\n",
    "sentence_transformer_tender_clusters = pd.read_csv(\"../../../data/clustering/sentence_bert_clusters.csv\", dtype={\"Reference Number\": str})\n",
    "sentence_transformer_cluster_topics = pd.read_csv(\"../../../data/clustering/sentence_bert_cluster_topics.csv\", dtype={\"Topics\": str})\n",
    "summary_tender_clusters = pd.read_csv(\"../../../data/clustering/summary_clusters.csv\", dtype={\"Reference Number\": str})\n",
    "summary_cluster_topics = pd.read_csv(\"../../../data/clustering/summary_cluster_topics.csv\", dtype={\"Topics\": str})"
   ]
  },
  {
   "cell_type": "code",
   "execution_count": 14,
   "id": "607aa583-03ce-4085-a543-1c0a3e2d29aa",
   "metadata": {},
   "outputs": [],
   "source": [
    "tenders_structured = Panda.load_tender_uniques(\"../../../data/UpdatedAgainTenders.xlsx\")\n",
    "def join_df_with_clusters_and_topics(tender_data, tender_clusters, cluster_topics):\n",
    "    combined = pd.merge(tender_data, tender_clusters, on = \"Reference Number\", how = \"left\")\n",
    "    combined = pd.merge(combined, cluster_topics, on = \"Cluster\", how = \"left\")\n",
    "    return combined"
   ]
  },
  {
   "cell_type": "code",
   "execution_count": 15,
   "id": "2b1fcecc-e992-499e-b720-7ac08443e5a7",
   "metadata": {},
   "outputs": [],
   "source": [
    "sentence_combined = join_df_with_clusters_and_topics(tenders_structured, sentence_transformer_tender_clusters, sentence_transformer_cluster_topics)"
   ]
  },
  {
   "cell_type": "code",
   "execution_count": 17,
   "id": "79f6fcfd-9638-4775-8870-09914e0e145a",
   "metadata": {},
   "outputs": [
    {
     "data": {
      "text/html": [
       "<table border=\"1\" class=\"dataframe\">\n",
       "  <thead>\n",
       "    <tr style=\"text-align: right;\">\n",
       "      <th>Contract Title</th>\n",
       "      <th>Description</th>\n",
       "      <th>Topics</th>\n",
       "    </tr>\n",
       "  </thead>\n",
       "  <tbody>\n",
       "    <tr>\n",
       "      <td>Sale of Aircraft Package VH_DXU 2020</td>\n",
       "      <td>Offers are invited for the purchase of one (1) only second-hand Aircraft American Champion Scout 8GCBC</td>\n",
       "      <td>champion, scout, 8gcbc, american, aircraft</td>\n",
       "    </tr>\n",
       "    <tr>\n",
       "      <td>Building Condition Assessment Site Inspections</td>\n",
       "      <td>The Customer is seeking offers for the provision of services to undertake Building Condition Assessment (BCA) site inspections at Department of Communities residential properties throughout metropolitan Western Australia as described in this Request.</td>\n",
       "      <td>building, sites, inspections, assessment, condition</td>\n",
       "    </tr>\n",
       "    <tr>\n",
       "      <td>Provision of F5 Networks Big-IP Maintenance</td>\n",
       "      <td>The Department requires the provision of a number of F5 Big-IP hardware and software components with corresponding support. The Department requires these items to perform load balancing and provide security for existing DoT applications.</td>\n",
       "      <td>checkpoint, extranet, firewalls, hardware, firewall</td>\n",
       "    </tr>\n",
       "    <tr>\n",
       "      <td>Western Australia Police Force - Scarborough Police Station - CCTV Upgrade</td>\n",
       "      <td>Western Australia Police Force - Scarborough Police Station - CCTV Upgrade A site visit will be held on: 3/6/2020 at 1:00pm CONFIDENTIAL TENDER - PLEASE PROVIDE SIGNED DECLARATION FORM UPON ARRIVAL WITH ID TO COLLECT CD</td>\n",
       "      <td>australia, station, cctv, force, police</td>\n",
       "    </tr>\n",
       "  </tbody>\n",
       "</table>"
      ],
      "text/plain": [
       "<IPython.core.display.HTML object>"
      ]
     },
     "metadata": {},
     "output_type": "display_data"
    }
   ],
   "source": [
    "Panda.pretty_print(sentence_combined.loc[indices][[\"Contract Title\", \"Description\",\"Topics\"]])"
   ]
  },
  {
   "cell_type": "code",
   "execution_count": 18,
   "id": "81cfa5d9-fca5-4561-b7cc-62ed263dff5d",
   "metadata": {},
   "outputs": [
    {
     "data": {
      "text/html": [
       "<table border=\"1\" class=\"dataframe\">\n",
       "  <thead>\n",
       "    <tr style=\"text-align: right;\">\n",
       "      <th>Reference Number</th>\n",
       "      <th>Contract Title</th>\n",
       "      <th>Description</th>\n",
       "      <th>Sentence Transformer Topics</th>\n",
       "      <th>Whole Data LDA Topics</th>\n",
       "    </tr>\n",
       "  </thead>\n",
       "  <tbody>\n",
       "    <tr>\n",
       "      <td>DBCA440S012020</td>\n",
       "      <td>Sale of Aircraft Package VH_DXU 2020</td>\n",
       "      <td>Offers are invited for the purchase of one (1) only second-hand Aircraft American Champion Scout 8GCBC</td>\n",
       "      <td>champion, scout, 8gcbc, american, aircraft</td>\n",
       "      <td>maritime, suppliers, panel, technical, pre-qualified</td>\n",
       "    </tr>\n",
       "    <tr>\n",
       "      <td>DOC202127651</td>\n",
       "      <td>Building Condition Assessment Site Inspections</td>\n",
       "      <td>The Customer is seeking offers for the provision of services to undertake Building Condition Assessment (BCA) site inspections at Department of Communities residential properties throughout metropolitan Western Australia as described in this Request.</td>\n",
       "      <td>building, sites, inspections, assessment, condition</td>\n",
       "      <td>condition, assessment, integrity, bca, poor</td>\n",
       "    </tr>\n",
       "    <tr>\n",
       "      <td>DOT404219c004</td>\n",
       "      <td>Provision of F5 Networks Big-IP Maintenance</td>\n",
       "      <td>The Department requires the provision of a number of F5 Big-IP hardware and software components with corresponding support. The Department requires these items to perform load balancing and provide security for existing DoT applications.</td>\n",
       "      <td>checkpoint, extranet, firewalls, hardware, firewall</td>\n",
       "      <td>hardware, servers, server, software, hpe</td>\n",
       "    </tr>\n",
       "    <tr>\n",
       "      <td>BMW0466419</td>\n",
       "      <td>Western Australia Police Force - Scarborough Police Station - CCTV Upgrade</td>\n",
       "      <td>Western Australia Police Force - Scarborough Police Station - CCTV Upgrade A site visit will be held on: 3/6/2020 at 1:00pm CONFIDENTIAL TENDER - PLEASE PROVIDE SIGNED DECLARATION FORM UPON ARRIVAL WITH ID TO COLLECT CD</td>\n",
       "      <td>australia, station, cctv, force, police</td>\n",
       "      <td>police, force, western, australia, station</td>\n",
       "    </tr>\n",
       "  </tbody>\n",
       "</table>"
      ],
      "text/plain": [
       "<IPython.core.display.HTML object>"
      ]
     },
     "metadata": {},
     "output_type": "display_data"
    }
   ],
   "source": [
    "sentence_combined = sentence_combined.rename(columns={\"Topics\": \"Sentence Transformer Topics\"})\n",
    "wd_tenders = wd_tenders.rename(columns={\"Topics\": \"Whole Data LDA Topics\"})\n",
    "compare_combined = pd.merge(sentence_combined[[\"Reference Number\", \"Contract Title\", \"Description\", \"Sentence Transformer Topics\"]], \n",
    "                            wd_tenders[[\"Reference Number\", \"Whole Data LDA Topics\"]], on = \"Reference Number\")\n",
    "\n",
    "Panda.pretty_print(compare_combined.loc[indices])"
   ]
  },
  {
   "cell_type": "code",
   "execution_count": 19,
   "id": "2086d515-16dc-4e96-8c2f-aa229016f80d",
   "metadata": {},
   "outputs": [],
   "source": [
    "tenders_with_unspsc = Panda.load_tender_uniques(\"../../../data/UpdatedAgainTenders.xlsx\", cols = [\"Reference Number\", \"Contract Title\", \"Description\", \"UNSPSC Title\"])"
   ]
  },
  {
   "cell_type": "code",
   "execution_count": 25,
   "id": "e94ccdd4-672b-452f-8a08-237b3c6c1ca8",
   "metadata": {},
   "outputs": [],
   "source": [
    "# manual labels\n",
    "manual_labelled = pd.read_excel(\"../../../data/manual_labels.xlsx\", dtype={\"Reference Number\": str})\n",
    "manual_labelled = manual_labelled.rename(columns = {\"Content\": \"Description\", \"Unnamed: 4\": \"Manual Topics\"})\n",
    "del manual_labelled[\"Topic\"]\n",
    "del manual_labelled[\"Processed_Content\"]\n",
    "del manual_labelled[\"Description\"]\n",
    "manual_labelled = manual_labelled.astype(str)\n",
    "manual_labelled.reset_index(drop = True, inplace = True)"
   ]
  },
  {
   "cell_type": "code",
   "execution_count": 27,
   "id": "bd865d5f-bf33-487a-ae45-6b04ffb73022",
   "metadata": {},
   "outputs": [],
   "source": [
    "manual_labelled = pd.merge(manual_labelled, tenders_with_unspsc, on = \"Reference Number\")"
   ]
  },
  {
   "cell_type": "code",
   "execution_count": 34,
   "id": "52e110aa-c081-4689-a6ea-c7a063f63fd8",
   "metadata": {},
   "outputs": [
    {
     "data": {
      "text/html": [
       "<table border=\"1\" class=\"dataframe\">\n",
       "  <thead>\n",
       "    <tr style=\"text-align: right;\">\n",
       "      <th>Contract Title</th>\n",
       "      <th>Description</th>\n",
       "      <th>UNSPSC Title</th>\n",
       "      <th>Manual Topics</th>\n",
       "    </tr>\n",
       "  </thead>\n",
       "  <tbody>\n",
       "    <tr>\n",
       "      <td>Bayswater Station and Turnback Project METRONET</td>\n",
       "      <td>The Project will involve all design and construction of the BST Minor Project works including commissioning, interconnection with the existing passenger rail line network and Entry Into Service of those works.</td>\n",
       "      <td>Railway station</td>\n",
       "      <td>railway station, design, construction</td>\n",
       "    </tr>\n",
       "    <tr>\n",
       "      <td>Provision of Security Services to Multiple South Metropolitan TAFE Campuses</td>\n",
       "      <td>This contract is for the provision of security and related services to multiple South Metropolitan TAFE campuses located in the Perth and Peel areas.</td>\n",
       "      <td>Security and personal safety</td>\n",
       "      <td>Security Services</td>\n",
       "    </tr>\n",
       "    <tr>\n",
       "      <td>RFQ13/2021 Grazing and Cropping Licence for Moodiarrup Plantation</td>\n",
       "      <td>The Forest Products Commission invites from livestock owners who are seeking grazing and cropping opportunities under a Deed of Licence at its Moodiarrup Plantation located in the South West of Western Australia.</td>\n",
       "      <td>Crop production and management and protection</td>\n",
       "      <td>Grazing, Cropping Licence, Plantation</td>\n",
       "    </tr>\n",
       "    <tr>\n",
       "      <td>Newborn Bloodspot Screening Laboratory Information System</td>\n",
       "      <td>PathWest Laboratory Medicine WA (PathWest) requires a Bloodspot Screening Laboratory (NBS) Information Management System (LIMS) with a fully-functional modern LIMS capable of supporting the existing screening program and future development.</td>\n",
       "      <td>Laboratory and scientific equipment</td>\n",
       "      <td>health, laboratory, information management, system</td>\n",
       "    </tr>\n",
       "  </tbody>\n",
       "</table>"
      ],
      "text/plain": [
       "<IPython.core.display.HTML object>"
      ]
     },
     "metadata": {},
     "output_type": "display_data"
    }
   ],
   "source": [
    "m_indices = [1,47,70,104]\n",
    "Panda.pretty_print(manual_labelled.loc[m_indices][[\"Contract Title\", \"Description\", \"UNSPSC Title\", \"Manual Topics\"]])"
   ]
  },
  {
   "cell_type": "code",
   "execution_count": null,
   "id": "6a49b512-adf9-4e34-a0ae-534ea583d9f1",
   "metadata": {},
   "outputs": [],
   "source": [
    "# LDA from skearn\n",
    "# was used in the per cluster modelling but not over all data set as it was too slow. "
   ]
  },
  {
   "cell_type": "code",
   "execution_count": 71,
   "id": "5bc05f60-633c-4481-b336-088efa5d7f53",
   "metadata": {
    "tags": []
   },
   "outputs": [],
   "source": [
    "from sklearn.decomposition import LatentDirichletAllocation\n",
    "\n",
    "docs = []\n",
    "import pandas as pd\n",
    "    \n",
    "tenders_structured_path = r\"../../../data/UpdatedAgainTenders.xlsx\"\n",
    "tenders_structured = pd.read_excel(tenders_structured_path)\n",
    "tenders_structured = tenders_structured[[\"Reference Number\", \"Contract Title\", \"Description\"]].dropna(subset=[\"Reference Number\"]).drop_duplicates(subset=[\"Reference Number\"])\n",
    "\n",
    "from bs4 import BeautifulSoup\n",
    "def remove_html_tags(text):\n",
    "    soup = BeautifulSoup(text, \"html.parser\")\n",
    "    cleaned = soup.get_text().replace('\\xa0', ' ')\n",
    "    cleaned = ' '.join(cleaned.split())\n",
    "    return cleaned\n",
    "\n",
    "for index, row in tenders_structured.iterrows():\n",
    "    title = row[\"Contract Title\"]\n",
    "    desc = remove_html_tags(row[\"Description\"])\n",
    "    docs.append(title + \". \" + desc)"
   ]
  },
  {
   "cell_type": "code",
   "execution_count": 74,
   "id": "67e7ab29-c317-4bfc-8297-cf6d4d09a1e7",
   "metadata": {
    "tags": []
   },
   "outputs": [],
   "source": [
    "from sklearn.feature_extraction.text import TfidfVectorizer\n",
    "tender_tfidf = TfidfVectorizer(stop_words=\"english\",\n",
    "                           min_df=3)\n",
    "tfidf = tender_tfidf.fit_transform(docs)"
   ]
  },
  {
   "cell_type": "code",
   "execution_count": 75,
   "id": "7934fec0-060a-48fd-b2a6-3073d94ddb58",
   "metadata": {
    "tags": []
   },
   "outputs": [],
   "source": [
    "lda = LatentDirichletAllocation(\n",
    "    n_components=2000,\n",
    "    max_iter=20,\n",
    "    learning_method=\"online\",\n",
    ")"
   ]
  },
  {
   "cell_type": "code",
   "execution_count": 130,
   "id": "7529f756-8d2d-494f-8f49-9cb2434b8029",
   "metadata": {
    "tags": []
   },
   "outputs": [],
   "source": [
    "import numpy as np\n",
    "topic_dist = lda.transform(tfs[0])"
   ]
  },
  {
   "cell_type": "code",
   "execution_count": 133,
   "id": "dba2456b-a6a2-4a53-8d17-63a98b181246",
   "metadata": {
    "tags": []
   },
   "outputs": [
    {
     "name": "stdout",
     "output_type": "stream",
     "text": [
      "['facia' 'directories' '7500kg' '42835' '6560' 'della' '007' 'eliminating'\n",
      " 'clearing' 'accp']\n"
     ]
    }
   ],
   "source": [
    "topic = lda.components_[np.argmax(topic_dist)]\n",
    "top_features_ind = topic.argsort()[-10:]\n",
    "top_features = tf_feature_names[top_features_ind]\n",
    "print(top_features)"
   ]
  },
  {
   "cell_type": "code",
   "execution_count": 134,
   "id": "593ebaf5-7c3c-4dd4-8977-dcf278d1e47d",
   "metadata": {
    "tags": []
   },
   "outputs": [
    {
     "data": {
      "text/plain": [
       "'Supply and Delivery of Aspen Bedding Material. The Customer requires a Contractor to provide bedding material made from Aspen and must be suitable for its rats and mice. The bedding material product must be made entirely from the Aspen species Populus tremula.'"
      ]
     },
     "execution_count": 134,
     "metadata": {},
     "output_type": "execute_result"
    }
   ],
   "source": [
    "docs[0]"
   ]
  },
  {
   "cell_type": "code",
   "execution_count": null,
   "id": "4dc5ae04-04c7-4566-bd7f-ba2a03312e08",
   "metadata": {},
   "outputs": [],
   "source": []
  }
 ],
 "metadata": {
  "kernelspec": {
   "display_name": "Python 3 (ipykernel)",
   "language": "python",
   "name": "python3"
  },
  "language_info": {
   "codemirror_mode": {
    "name": "ipython",
    "version": 3
   },
   "file_extension": ".py",
   "mimetype": "text/x-python",
   "name": "python",
   "nbconvert_exporter": "python",
   "pygments_lexer": "ipython3",
   "version": "3.10.12"
  }
 },
 "nbformat": 4,
 "nbformat_minor": 5
}
