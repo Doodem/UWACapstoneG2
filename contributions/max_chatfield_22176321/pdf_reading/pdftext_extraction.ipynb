{
 "cells": [
  {
   "cell_type": "code",
   "execution_count": 1,
   "id": "e411027d",
   "metadata": {},
   "outputs": [],
   "source": [
    "#pip install PyPDF2"
   ]
  },
  {
   "cell_type": "code",
   "execution_count": 2,
   "id": "d2d9adb8",
   "metadata": {},
   "outputs": [],
   "source": [
    "#pip install pdfplumber"
   ]
  },
  {
   "cell_type": "code",
   "execution_count": 1,
   "id": "7a5c2e05",
   "metadata": {},
   "outputs": [],
   "source": [
    "import PyPDF2\n",
    "def extract_text_from_pdf(pdf_path):\n",
    "    text = \"\"\n",
    "    with open(pdf_path, \"rb\") as pdf_file:\n",
    "        pdf_reader = PyPDF2.PdfReader(pdf_file)\n",
    "        for page_number in range(len(pdf_reader.pages)):\n",
    "            page = pdf_reader.pages[page_number]\n",
    "            text += page.extract_text()\n",
    "    return text"
   ]
  },
  {
   "cell_type": "code",
   "execution_count": 2,
   "id": "34232e44",
   "metadata": {},
   "outputs": [],
   "source": [
    "import re\n",
    "\n",
    "def normalize_heading(heading):\n",
    "    # Remove extra spaces and other whitespace characters from the heading\n",
    "    return re.sub(r'\\s+', ' ', heading.strip())\n"
   ]
  },
  {
   "cell_type": "code",
   "execution_count": 27,
   "id": "b234b9bd",
   "metadata": {},
   "outputs": [
    {
     "name": "stdout",
     "output_type": "stream",
     "text": [
      "1. INTRODUCTION\n",
      "Brabham East Primary School (planning name) has been included in the Western Australian\n",
      "Government’s Percent for Art Scheme. In this scheme, a percentage of the building budget is\n",
      "allocated for the commissioning of site-specific artworks.\n",
      "This commission will be awarded to an artist that offers the best comprehensive approach to the\n",
      "artwork opportunities offered within this stage of the development.\n",
      "The school will be completed by April 2025.\n",
      "2. BACKGROUND\n",
      "The School is a standard pattern school which will cater for 540 students (Kindergarten – Year 6)\n",
      "within the permanent buildings & 870 students when the Transportables are utilised. The project\n",
      "includes an Administration Block, a Kindergarten/Pre-Primary Teaching Block 1 (TB1), 2 x\n",
      "Double story Teaching Blocks (TB2 & TB3), a Library Resource Centre and Staff Room and a\n",
      "Covered Assembly Area with Music Room and Canteen. Infrastructure will be provided for two\n",
      "Kindergarten/Pre-Primary Transportables and ten standard General Learning Area (GLA’s)\n",
      "transportable classrooms. Additional facilities include tree shaded landscaped zones, sports\n",
      "courts, play areas and bicycle parking.\n",
      "The master plan embodies the following design principles:-\n",
      "• Strong connections between all learning areas, with the library at the heart of the school.\n",
      "• Unrestricted lines of sight for supervision over the students during recess and lunchtime\n",
      "play designed to limit opportunity for antisocial behaviour\n",
      "• The provision of a forecourt to the covered assembly block to allow for spill over for\n",
      "assemblies and other functions. It is envisioned that this area will have a good balance of\n",
      "paving, informal seating and lawn and enable good visual supervision\n",
      "• Indicative landscaped areas for outdoor play\n",
      "• Emergency vehicle access through the centre of the site\n",
      "• Walkways and ramps allowing all areas of the site to be accessible\n",
      "• Provision made for location of required transportable classrooms (up to 12) for Stage\n",
      "1 and\n",
      "• Bike shelters on North & South to encourage use of bikes along existing pedestrian\n",
      "pathways.\n",
      "See Appendix 1 for more information.\n"
     ]
    }
   ],
   "source": [
    "import pdfplumber\n",
    "\n",
    "def extract_section(contents, heading):\n",
    "    section_contents = \"\"\n",
    "    take_content = False\n",
    "    for line in contents:\n",
    "        line = line.strip()\n",
    "        if heading in line:\n",
    "            take_content = True\n",
    "        elif re.match(\"[0-9]\\. *\", line):\n",
    "            take_content = False\n",
    "            \n",
    "        if take_content:\n",
    "            section_contents += line + \"\\n\"\n",
    "    return section_contents\n",
    "\n",
    "def extract_content_by_headings(target_headings, pdf_path):\n",
    "    content = \"\"\n",
    "    with pdfplumber.open(pdf_path) as pdf:\n",
    "        normalized_headings = [normalize_heading(heading) for heading in target_headings]\n",
    "        is_target_heading = False\n",
    "        skip_content = False\n",
    "\n",
    "        contents = []\n",
    "        for page in pdf.pages:\n",
    "            contents.extend(page.extract_text().split('\\n'))\n",
    "        \n",
    "        for heading in normalized_headings:\n",
    "            content += extract_section(contents, heading)\n",
    "\n",
    "    return content.strip()\n",
    "\n",
    "headings_to_extract = ['INTRODUCTION', 'BACKGROUND']\n",
    "pdf_path = \"EOIFINW0688922 - Brabham East Primary School - Percent for Art Brief.pdf\"\n",
    "\n",
    "extracted_content = extract_content_by_heading(headings_to_extract, pdf_path)\n",
    "print(extracted_content)\n"
   ]
  },
  {
   "cell_type": "code",
   "execution_count": 6,
   "id": "117f5a16",
   "metadata": {},
   "outputs": [],
   "source": [
    "#pip install python-docx\n"
   ]
  },
  {
   "cell_type": "code",
   "execution_count": 7,
   "id": "a4a7da89",
   "metadata": {},
   "outputs": [],
   "source": [
    "# Code for Extracting text from .dcox file"
   ]
  },
  {
   "cell_type": "raw",
   "id": "296ce163",
   "metadata": {},
   "source": [
    "from docx import Document\n",
    "\n",
    "def extract_text_from_docx(docx_path):\n",
    "    doc = Document(docx_path)\n",
    "    text = \"\"\n",
    "    for paragraph in doc.paragraphs:\n",
    "        text += paragraph.text + \"\\n\"\n",
    "    return text\n",
    "\n",
    "docx_path = \"C:\\\\Users\\\\skena\\\\Desktop\\\\UWA_DS\\\\Sem4\\\\Capstone_project\\\\20221AGWA - Request - FINAL.docx\"  # Replace with your .docx file path\n",
    "extracted_text = extract_text_from_docx(docx_path)\n",
    "print(extracted_text)\n"
   ]
  },
  {
   "cell_type": "code",
   "execution_count": 10,
   "id": "a62a8fa8",
   "metadata": {},
   "outputs": [
    {
     "ename": "ModuleNotFoundError",
     "evalue": "No module named 'docx'",
     "output_type": "error",
     "traceback": [
      "\u001b[0;31m---------------------------------------------------------------------------\u001b[0m",
      "\u001b[0;31mModuleNotFoundError\u001b[0m                       Traceback (most recent call last)",
      "Cell \u001b[0;32mIn[10], line 1\u001b[0m\n\u001b[0;32m----> 1\u001b[0m \u001b[38;5;28;01mfrom\u001b[39;00m \u001b[38;5;21;01mdocx\u001b[39;00m \u001b[38;5;28;01mimport\u001b[39;00m Document\n\u001b[1;32m      3\u001b[0m \u001b[38;5;28;01mdef\u001b[39;00m \u001b[38;5;21mextract_doc_by_header\u001b[39m(docx_path, target_header):\n\u001b[1;32m      4\u001b[0m     doc \u001b[38;5;241m=\u001b[39m Document(docx_path)\n",
      "\u001b[0;31mModuleNotFoundError\u001b[0m: No module named 'docx'"
     ]
    }
   ],
   "source": [
    "from docx import Document\n",
    "\n",
    "def extract_doc_by_header(docx_path, target_header):\n",
    "    doc = Document(docx_path)\n",
    "    content = []\n",
    "    current_header = None\n",
    "    capture_content = False\n",
    "\n",
    "    for paragraph in doc.paragraphs:\n",
    "        if paragraph.style.name.startswith(\"Heading\") and paragraph.text == target_header:\n",
    "            current_header = paragraph.text\n",
    "            capture_content = True\n",
    "            content.append(current_header)\n",
    "        elif capture_content:\n",
    "            content.append(paragraph.text)\n",
    "        \n",
    "        # Stop capturing content if a new header is encountered\n",
    "        if paragraph.style.name.startswith(\"Heading\") and paragraph.text != current_header:\n",
    "            capture_content = False\n",
    "\n",
    "    return \"\\n\".join(content)\n",
    "\n",
    "docx_path = \"C:\\\\Users\\\\skena\\\\Desktop\\\\UWA_DS\\\\Sem4\\\\Capstone_project\\\\20221AGWA - Request - FINAL.docx\"  # Replace with your .docx file path\n",
    "target_header = \"Background\"  # Replace with the header you're looking for\n",
    "\n",
    "extracted_content = extract_doc_by_header(docx_path, target_header)\n",
    "print(extracted_content)\n"
   ]
  },
  {
   "cell_type": "code",
   "execution_count": 7,
   "id": "e77c3d69",
   "metadata": {},
   "outputs": [
    {
     "ename": "PdfReadError",
     "evalue": "Multiple definitions in dictionary at byte 0x5354b for key /PageMode",
     "output_type": "error",
     "traceback": [
      "\u001b[0;31m---------------------------------------------------------------------------\u001b[0m",
      "\u001b[0;31mPdfReadError\u001b[0m                              Traceback (most recent call last)",
      "Cell \u001b[0;32mIn[7], line 5\u001b[0m\n\u001b[1;32m      3\u001b[0m pdf_reader \u001b[38;5;241m=\u001b[39m PyPDF2\u001b[38;5;241m.\u001b[39mPdfReader(\u001b[38;5;124m\"\u001b[39m\u001b[38;5;124mproblem.pdf\u001b[39m\u001b[38;5;124m\"\u001b[39m, strict \u001b[38;5;241m=\u001b[39m \u001b[38;5;28;01mTrue\u001b[39;00m)\n\u001b[1;32m      4\u001b[0m text \u001b[38;5;241m=\u001b[39m \u001b[38;5;124m\"\u001b[39m\u001b[38;5;124m\"\u001b[39m\n\u001b[0;32m----> 5\u001b[0m \u001b[38;5;28;01mfor\u001b[39;00m page_number \u001b[38;5;129;01min\u001b[39;00m \u001b[38;5;28mrange\u001b[39m(\u001b[38;5;28mlen\u001b[39m(pdf_reader\u001b[38;5;241m.\u001b[39mpages)):\n\u001b[1;32m      6\u001b[0m         page \u001b[38;5;241m=\u001b[39m pdf_reader\u001b[38;5;241m.\u001b[39mpages[page_number]\n\u001b[1;32m      7\u001b[0m         text \u001b[38;5;241m+\u001b[39m\u001b[38;5;241m=\u001b[39m page\u001b[38;5;241m.\u001b[39mextract_text()\n",
      "File \u001b[0;32m~/miniconda3/envs/capstone/lib/python3.11/site-packages/PyPDF2/_page.py:1803\u001b[0m, in \u001b[0;36m_VirtualList.__len__\u001b[0;34m(self)\u001b[0m\n\u001b[1;32m   1802\u001b[0m \u001b[38;5;28;01mdef\u001b[39;00m \u001b[38;5;21m__len__\u001b[39m(\u001b[38;5;28mself\u001b[39m) \u001b[38;5;241m-\u001b[39m\u001b[38;5;241m>\u001b[39m \u001b[38;5;28mint\u001b[39m:\n\u001b[0;32m-> 1803\u001b[0m     \u001b[38;5;28;01mreturn\u001b[39;00m \u001b[38;5;28mself\u001b[39m\u001b[38;5;241m.\u001b[39mlength_function()\n",
      "File \u001b[0;32m~/miniconda3/envs/capstone/lib/python3.11/site-packages/PyPDF2/_reader.py:403\u001b[0m, in \u001b[0;36mPdfReader._get_num_pages\u001b[0;34m(self)\u001b[0m\n\u001b[1;32m    401\u001b[0m \u001b[38;5;28;01melse\u001b[39;00m:\n\u001b[1;32m    402\u001b[0m     \u001b[38;5;28;01mif\u001b[39;00m \u001b[38;5;28mself\u001b[39m\u001b[38;5;241m.\u001b[39mflattened_pages \u001b[38;5;129;01mis\u001b[39;00m \u001b[38;5;28;01mNone\u001b[39;00m:\n\u001b[0;32m--> 403\u001b[0m         \u001b[38;5;28mself\u001b[39m\u001b[38;5;241m.\u001b[39m_flatten()\n\u001b[1;32m    404\u001b[0m     \u001b[38;5;28;01mreturn\u001b[39;00m \u001b[38;5;28mlen\u001b[39m(\u001b[38;5;28mself\u001b[39m\u001b[38;5;241m.\u001b[39mflattened_pages)\n",
      "File \u001b[0;32m~/miniconda3/envs/capstone/lib/python3.11/site-packages/PyPDF2/_reader.py:1031\u001b[0m, in \u001b[0;36mPdfReader._flatten\u001b[0;34m(self, pages, inherit, indirect_ref)\u001b[0m\n\u001b[1;32m   1027\u001b[0m     inherit \u001b[38;5;241m=\u001b[39m {}\n\u001b[1;32m   1028\u001b[0m \u001b[38;5;28;01mif\u001b[39;00m pages \u001b[38;5;129;01mis\u001b[39;00m \u001b[38;5;28;01mNone\u001b[39;00m:\n\u001b[1;32m   1029\u001b[0m     \u001b[38;5;66;03m# Fix issue 327: set flattened_pages attribute only for\u001b[39;00m\n\u001b[1;32m   1030\u001b[0m     \u001b[38;5;66;03m# decrypted file\u001b[39;00m\n\u001b[0;32m-> 1031\u001b[0m     catalog \u001b[38;5;241m=\u001b[39m \u001b[38;5;28mself\u001b[39m\u001b[38;5;241m.\u001b[39mtrailer[TK\u001b[38;5;241m.\u001b[39mROOT]\u001b[38;5;241m.\u001b[39mget_object()\n\u001b[1;32m   1032\u001b[0m     pages \u001b[38;5;241m=\u001b[39m catalog[\u001b[38;5;124m\"\u001b[39m\u001b[38;5;124m/Pages\u001b[39m\u001b[38;5;124m\"\u001b[39m]\u001b[38;5;241m.\u001b[39mget_object()  \u001b[38;5;66;03m# type: ignore\u001b[39;00m\n\u001b[1;32m   1033\u001b[0m     \u001b[38;5;28mself\u001b[39m\u001b[38;5;241m.\u001b[39mflattened_pages \u001b[38;5;241m=\u001b[39m []\n",
      "File \u001b[0;32m~/miniconda3/envs/capstone/lib/python3.11/site-packages/PyPDF2/generic/_data_structures.py:150\u001b[0m, in \u001b[0;36mDictionaryObject.__getitem__\u001b[0;34m(self, key)\u001b[0m\n\u001b[1;32m    149\u001b[0m \u001b[38;5;28;01mdef\u001b[39;00m \u001b[38;5;21m__getitem__\u001b[39m(\u001b[38;5;28mself\u001b[39m, key: Any) \u001b[38;5;241m-\u001b[39m\u001b[38;5;241m>\u001b[39m PdfObject:\n\u001b[0;32m--> 150\u001b[0m     \u001b[38;5;28;01mreturn\u001b[39;00m \u001b[38;5;28mdict\u001b[39m\u001b[38;5;241m.\u001b[39m\u001b[38;5;21m__getitem__\u001b[39m(\u001b[38;5;28mself\u001b[39m, key)\u001b[38;5;241m.\u001b[39mget_object()\n",
      "File \u001b[0;32m~/miniconda3/envs/capstone/lib/python3.11/site-packages/PyPDF2/generic/_base.py:163\u001b[0m, in \u001b[0;36mIndirectObject.get_object\u001b[0;34m(self)\u001b[0m\n\u001b[1;32m    162\u001b[0m \u001b[38;5;28;01mdef\u001b[39;00m \u001b[38;5;21mget_object\u001b[39m(\u001b[38;5;28mself\u001b[39m) \u001b[38;5;241m-\u001b[39m\u001b[38;5;241m>\u001b[39m Optional[PdfObject]:\n\u001b[0;32m--> 163\u001b[0m     obj \u001b[38;5;241m=\u001b[39m \u001b[38;5;28mself\u001b[39m\u001b[38;5;241m.\u001b[39mpdf\u001b[38;5;241m.\u001b[39mget_object(\u001b[38;5;28mself\u001b[39m)\n\u001b[1;32m    164\u001b[0m     \u001b[38;5;28;01mif\u001b[39;00m obj \u001b[38;5;129;01mis\u001b[39;00m \u001b[38;5;28;01mNone\u001b[39;00m:\n\u001b[1;32m    165\u001b[0m         \u001b[38;5;28;01mreturn\u001b[39;00m \u001b[38;5;28;01mNone\u001b[39;00m\n",
      "File \u001b[0;32m~/miniconda3/envs/capstone/lib/python3.11/site-packages/PyPDF2/_reader.py:1178\u001b[0m, in \u001b[0;36mPdfReader.get_object\u001b[0;34m(self, indirect_reference)\u001b[0m\n\u001b[1;32m   1176\u001b[0m \u001b[38;5;28;01mif\u001b[39;00m \u001b[38;5;28mself\u001b[39m\u001b[38;5;241m.\u001b[39mstrict:\n\u001b[1;32m   1177\u001b[0m     \u001b[38;5;28;01massert\u001b[39;00m generation \u001b[38;5;241m==\u001b[39m indirect_reference\u001b[38;5;241m.\u001b[39mgeneration\n\u001b[0;32m-> 1178\u001b[0m retval \u001b[38;5;241m=\u001b[39m read_object(\u001b[38;5;28mself\u001b[39m\u001b[38;5;241m.\u001b[39mstream, \u001b[38;5;28mself\u001b[39m)  \u001b[38;5;66;03m# type: ignore\u001b[39;00m\n\u001b[1;32m   1180\u001b[0m \u001b[38;5;66;03m# override encryption is used for the /Encrypt dictionary\u001b[39;00m\n\u001b[1;32m   1181\u001b[0m \u001b[38;5;28;01mif\u001b[39;00m \u001b[38;5;129;01mnot\u001b[39;00m \u001b[38;5;28mself\u001b[39m\u001b[38;5;241m.\u001b[39m_override_encryption \u001b[38;5;129;01mand\u001b[39;00m \u001b[38;5;28mself\u001b[39m\u001b[38;5;241m.\u001b[39m_encryption \u001b[38;5;129;01mis\u001b[39;00m \u001b[38;5;129;01mnot\u001b[39;00m \u001b[38;5;28;01mNone\u001b[39;00m:\n\u001b[1;32m   1182\u001b[0m     \u001b[38;5;66;03m# if we don't have the encryption key:\u001b[39;00m\n",
      "File \u001b[0;32m~/miniconda3/envs/capstone/lib/python3.11/site-packages/PyPDF2/generic/_data_structures.py:824\u001b[0m, in \u001b[0;36mread_object\u001b[0;34m(stream, pdf, forced_encoding)\u001b[0m\n\u001b[1;32m    821\u001b[0m stream\u001b[38;5;241m.\u001b[39mseek(\u001b[38;5;241m-\u001b[39m\u001b[38;5;241m2\u001b[39m, \u001b[38;5;241m1\u001b[39m)  \u001b[38;5;66;03m# reset to start\u001b[39;00m\n\u001b[1;32m    823\u001b[0m \u001b[38;5;28;01mif\u001b[39;00m peek \u001b[38;5;241m==\u001b[39m \u001b[38;5;124mb\u001b[39m\u001b[38;5;124m\"\u001b[39m\u001b[38;5;124m<<\u001b[39m\u001b[38;5;124m\"\u001b[39m:\n\u001b[0;32m--> 824\u001b[0m     \u001b[38;5;28;01mreturn\u001b[39;00m DictionaryObject\u001b[38;5;241m.\u001b[39mread_from_stream(stream, pdf, forced_encoding)\n\u001b[1;32m    825\u001b[0m \u001b[38;5;28;01melse\u001b[39;00m:\n\u001b[1;32m    826\u001b[0m     \u001b[38;5;28;01mreturn\u001b[39;00m read_hex_string_from_stream(stream, forced_encoding)\n",
      "File \u001b[0;32m~/miniconda3/envs/capstone/lib/python3.11/site-packages/PyPDF2/generic/_data_structures.py:279\u001b[0m, in \u001b[0;36mDictionaryObject.read_from_stream\u001b[0;34m(stream, pdf, forced_encoding)\u001b[0m\n\u001b[1;32m    274\u001b[0m         msg \u001b[38;5;241m=\u001b[39m (\n\u001b[1;32m    275\u001b[0m             \u001b[38;5;124mf\u001b[39m\u001b[38;5;124m\"\u001b[39m\u001b[38;5;124mMultiple definitions in dictionary at byte \u001b[39m\u001b[38;5;124m\"\u001b[39m\n\u001b[1;32m    276\u001b[0m             \u001b[38;5;124mf\u001b[39m\u001b[38;5;124m\"\u001b[39m\u001b[38;5;132;01m{\u001b[39;00mhex_str(stream\u001b[38;5;241m.\u001b[39mtell())\u001b[38;5;132;01m}\u001b[39;00m\u001b[38;5;124m for key \u001b[39m\u001b[38;5;132;01m{\u001b[39;00mkey\u001b[38;5;132;01m}\u001b[39;00m\u001b[38;5;124m\"\u001b[39m\n\u001b[1;32m    277\u001b[0m         )\n\u001b[1;32m    278\u001b[0m         \u001b[38;5;28;01mif\u001b[39;00m pdf \u001b[38;5;129;01mis\u001b[39;00m \u001b[38;5;129;01mnot\u001b[39;00m \u001b[38;5;28;01mNone\u001b[39;00m \u001b[38;5;129;01mand\u001b[39;00m pdf\u001b[38;5;241m.\u001b[39mstrict:\n\u001b[0;32m--> 279\u001b[0m             \u001b[38;5;28;01mraise\u001b[39;00m PdfReadError(msg)\n\u001b[1;32m    280\u001b[0m         logger_warning(msg, \u001b[38;5;18m__name__\u001b[39m)\n\u001b[1;32m    282\u001b[0m pos \u001b[38;5;241m=\u001b[39m stream\u001b[38;5;241m.\u001b[39mtell()\n",
      "\u001b[0;31mPdfReadError\u001b[0m: Multiple definitions in dictionary at byte 0x5354b for key /PageMode"
     ]
    }
   ],
   "source": [
    "# testing that problem pdf\n",
    "import PyPDF2\n",
    "pdf_reader = PyPDF2.PdfReader(\"problem.pdf\", strict = True)\n",
    "text = \"\"\n",
    "for page_number in range(len(pdf_reader.pages)):\n",
    "        page = pdf_reader.pages[page_number]\n",
    "        text += page.extract_text()"
   ]
  },
  {
   "cell_type": "code",
   "execution_count": 9,
   "id": "7f834f7b-b117-48a0-98ff-58dcc7764f76",
   "metadata": {
    "tags": []
   },
   "outputs": [
    {
     "name": "stderr",
     "output_type": "stream",
     "text": [
      "Multiple definitions in dictionary at byte 0x5354b for key /PageMode\n"
     ]
    }
   ],
   "source": [
    "pdf_reader = PyPDF2.PdfReader(\"problem.pdf\")\n",
    "text = \"\"\n",
    "for page_number in range(len(pdf_reader.pages)):\n",
    "        page = pdf_reader.pages[page_number]\n",
    "        text += page.extract_text()"
   ]
  },
  {
   "cell_type": "code",
   "execution_count": 10,
   "id": "ac9af9d9-27a4-47a0-a99a-707dbb8458e0",
   "metadata": {
    "tags": []
   },
   "outputs": [
    {
     "data": {
      "text/plain": [
       "'AD\\nPS\\n10/20200 C100CIVIL GENERAL NOTES\\nN.A.LINE MARKING & SIGNAGE NOTES\\nL1. ALL LINE MARKING AND SIGNAGE IN THE ROAD RESERVE TO BE\\nAPPROVED AND  INSTALLED BY MAIN ROADS W.A. ONLY.\\nTHE CONTRACTOR SHALL MAINTAIN THE ROAD IN A SAFE MANNER AT\\nALL TIMES. PROVIDE TEMPORARY TRAFFIC MANAGEMENT, LINE MARKING,\\nSIGNAGE AND THE LIKE AS REQUIRED OR DIRECTED BY THE\\nSUPERINTENDENT.\\nROAD PAVEMENTS TO BE SWEPT AND SPOTTED BY THE CONTRACTOR\\nPRIOR TO MAIN ROADS INSTALLING LINE MARKING AND SIGNAGE.\\nL2. ALL ON-SITE PARKING BAY & ROAD LINEMARKING TO BE 100mm WIDE\\nUNLESS NOTED OTHERWISE. ALL GIVE WAY & STOP LINES TO BE 300mm\\nWIDE UNLESS NOTED OTHERWISE.\\nL3. DISABLED PARKING BAYS & SHARED ZONES SHALL BE LINE MARKED\\n& SIGNED STRICTLY IN ACCORDANCE WITH A.S. 2890.6.\\nL4. ZONES FOR FIRE TENDER ACCESS AT EXTERNAL HYDRANTS AND\\nBOOSTER CABINETS SHALL BE LINE MARKED AND SIGNED STRICTLY IN\\nACCORDANCE WITH DEPARTMENT OF FIRE & EMERGENCY SERVICES\\nGUIDELINE GL-11.\\nL5. PAVEMENT LETTERING AND NUMERALS SHALL BE AS DETAILED IN\\nFIGURE 7.5 OF AS 1742.1.\\nL6. PAVEMENT ARROWS SHALL COMPLY WITH DETAILS ILLUSTRATED IN\\nFIGURE 7.6 OF AS 1742.1.\\nL7. WHERE SIGNS ARE PROPOSED IN HARD LANDSCAPED ISLANDS OR\\nVERGES, PROVIDE A ∅100 PVC SLEEVE FOR SIGN INSTALLATION.\\nL8. ALL SIGN SIZES SHALL BE AS SPECIFIED IN ACCORDANCE WITH A.S.\\n1742.1. ALL SIGNS SHALL BE CLASS 2 REFLECTORISED UNLESS NOTED\\nOTHERWISE.\\nL9. ALL SIGNS SHALL BE SET 2100mm HIGH FROM FINISHED SURFACE\\nLEVEL TO UNDERSIDE OF SIGN EXCEPT KEEP LEFT SIGNS LOCATED IN\\nROAD MEDIAN ISLANDS.\\nL10. SELECTED PAINT SHALL BE IN ACCORDANCE WITH MAIN ROADS WA.\\nSPECIFICATIONS & INSTALLED IN ACCORDANCE WITH THE\\nMANUFACTURERS SPECIFICATIONS. PAINT APPLICATION TO NEW ASPHALT\\nSHALL BE TO PROGRAMMED TO ENSURE MANUFACTURERS WARRANTY IS\\nMAINTAINED.\\nL11. WHERE PAINT IS TO BE APPLIED TO BITUMINOUS COURSES,\\nPAVEMENT MARKINGS SHALL NOT BE APPLIED WITHIN 14 DAYS OF\\nCOMPLETION OF THE WEARING COURSE. WHERE THE ROAD IS REQUIRED\\nTO BE OPENED TO TRAFFIC PRIOR TO APPLICATION OF PERMANENT LINE\\nMARKING, THE CONTRACTOR SHALL ALLOW FOR APPLICATION OF\\nTEMPORARY LINE MARKING & SIGNAGE ACCEPTABLE TO THE\\nSUPERINTENDENT. PERMANENT MARKINGS SHALL BE APPLIED OVER THE\\nTEMPORARY MARKINGS AFTER THE 14 DAY PERIOD.GENERAL NOTES\\nG1. THESE DRAWINGS SHALL BE READ IN CONJUNCTION WITH ALL OTHER\\nARCHITECTURAL AND OTHER CONSULTANTS DRAWINGS AND\\nSPECIFICATIONS AND SUCH OTHER WRITTEN INSTRUCTIONS AS MAY BE\\nISSUED DURING THE COURSE OF THE CONTRACT. ALL DISCREPANCIES\\nSHALL BE REFERRED TO THE SUPERINTENDENT FOR DECISION BEFORE\\nPROCEEDING WITH THE WORK.\\nG2. ALL DIMENSIONS TO BE CHECKED & CONFIRMED ON SITE.\\nG3. ALL CODES REFERENCED ARE TO BE THE LATEST ISSUE AS\\nAMENDED.\\nG4. ALL FINISHED SURFACE LEVELS ARE TO A.H.D.\\nG5. ALL SITE SETOUT EXCLUDING FINISHED PAVEMENT LEVELS &\\nSTORMWATER DRAINAGE TO ARCHITECTS DRAWINGS. ANY\\nDISCREPANCIES TO BE REPORTED TO SUPERINTENDENT.\\nG6. THIS DRAWING IS BASED ON SURVEY INFORMATION PROVIDED BY\\nTHE CLIENT\\'S SURVEYOR. THE CONTRACTOR\\'S SURVEYOR SHALL OBTAIN\\nDIGITAL SETOUT CONTROL POINTS FROM THE CLIENT\\'S SURVEYOR. THE\\nCONTRACTOR\\'S SURVEYOR MUST CONFIRM DIMENSIONS AND SCALE ON\\nTHE DRAWINGS PRIOR TO SETTING OUT ANY WORKS ON SITE. ANY\\nDISCREPANCIES ARE TO BE REPORTED TO THE SUPERINTENDENT FOR\\nCONFIRMATION OR RESOLUTION PRIOR TO PROCEEDING WITH THE WORKS.\\nG7. ALL PROPRIETARY PRODUCTS SPECIFIED SHALL BE INSTALLED\\nSTRICTLY IN ACCORDANCE WITH THE MANUFACTURERS\\nRECOMMENDATIONS & REQUIREMENTS. LIAISE WITH THE MANUFACTURER\\nAT ALL TIMES TO ENSURE ITEMS ARE INSTALLED CORRECTLY AND TO\\nSUIT SITE CONDITIONS.\\nALL PRODUCTS TO BE SUPPLIED TO SITE COMPLETE TO ALLOW FULL\\nINSTALLATION.\\nG8. THE BUILDER SHALL PROVIDE A TRAFFIC MANAGEMENT PLAN FOR\\nTHE WORKS TO THE APPROVAL OF THE LOCAL AUTHORITY.\\nEXISTING SERVICES\\nS1. ALL EXISTING (INTERNAL & STREET) & PROPOSED SERVICES SHOWN\\nARE INDICATIVE. CONTRACTOR TO DETERMINE THE ACTUAL LOCATION &\\nDEPTH OF ALL EXISTING SERVICES PRIOR TO CONSTRUCTION & PROTECT\\nAT ALL TIMES. ANY SERVICE\\'S LOCATION OR DEPTH FOUND TO BE\\nCONTRARY TO THE DRAWINGS WHICH CAUSES ISSUES OR CLASHES WITH\\nTHE CIVIL DESIGN TO BE BROUGHT TO THE ATTENTION OF THE\\nSUPERINTENDENT PRIOR TO COMMENCING WORKS.\\nS2. EXISTING SERVICES SHOWN IN THE ROAD RESERVE ARE PLOTTED\\nFROM DIAL-BEFORE-YOU-DIG INFORMATION. SERVICES ARE INDICATED AS\\nA GUIDE ONLY AND THE COMPLETENESS OF INFORMATION CANNOT BE\\nGUARANTEED. DUE TO THE NATURE OF SOME SERVICES, IT IS\\nEXTREMELY DIFFICULT TO CONFIRM THE LOCATION AND OR DEPTH OF\\nSERVICE WITHOUT ON-SITE EXPLORATION & DETECTION.\\nS3. THE CONTRACTOR SHALL AT ALL TIMES HAVE CURRENT ONE-CALL\\nINFORMATION FOR THE SITE AVAILABLE FOR REVIEW.\\nS4. AT ALL TIMES WHERE WORKING IN CLOSE PROXIMITY TO AN\\nEXISTING PROPRIETARY SERVICE, THE CONTRACTOR SHALL COMPLETE\\nWORKS STRICTLY IN ACCORDANCE WITH THE RELEVANT SERVICE\\nPROVIDER\\'S SPECIFICATIONS AND REQUIREMENTS.\\nSERVICES MAY INCLUDE BUT ARE NOT LIMITED TO TELSTRA , OPTUS OR\\nAMCOM TELECOMMUNICATIONS, WATER CORPORATION  SEWER AND\\nWATER SERVICES, ATCO GAS MAINS, WESTERN POWER  SERVICES &\\nMUNICIPAL SERVICES.\\nTHE CONTRACTOR IS RESPONSIBLE AT ALL TIMES FOR THE PROTECTION\\nOF THESE SERVICES DURING CONSTRUCTION OF THE WORKS IN\\nACCORDANCE WITH THE RELEVANT SERVICE PROVIDER\\'S SPECIFICATIONS\\nAND REQUIREMENTS. THESE OBLIGATIONS MAY INCLUDE BUT ARE NOT\\nLIMITED TO ACCURATE POT HOLING AND NON-DESTRUCTIVE HAND\\nLOCATION OF THE SERVICES BY ACCREDITED LOCATORS, MAINTAINING\\nMINIMUM CLEARANCES, PARTICULAR COMPACTION METHODOLOGIES AND\\nRESTRICTION ON TRAFFICKING OVER SERVICES DURING CONSTRUCTION.\\nTHE CONTRACTOR SHALL LIAISE WITH THE SERVICE PROVIDERS AT ALL\\nTIMES AS PART OF THE DUTY OF CARE.\\nS5. CONTRACTOR TO ALLOW FOR ANY EXISTING SERVICE PITS LOCATED\\nWITHIN PROPOSED WORKS TO BE ADJUSTED TO SUIT NEW LEVELS AND\\nCONVERT LIDS TO HEAVY DUTY TRAFFICABLE AS REQUIRED.ROADWORKS NOTES\\nR1. ALL KERBS TO BE SEMI-MOUNTABLE PROFILE UNLESS NOTED\\nOTHERWISE. WHERE KERB OCCURS ON RADII LESS THAN 40m OR ON\\nISLANDS, KERBS SHALL BE KEYED TO DETAIL.\\nR2. KERB CONTRACTION JOINTS SHALL BE PROVIDED AT 2.5m\\nINTERVALS, EXPANSION JOINTS AT 5m INTERVALS. EXPANSION JOINTS\\nSHALL ALSO BE PROVIDED TO COINCIDE WITH ANY FORMED\\nCONSTRUCTION JOINT AND ANY DRAINAGE CHAMBER LID OR GULLY.\\nR3. CONCRETE FOR EXTRUDED KERBING & BOLLARD FOOTINGS SHALL BE\\n32 MPa AT 28 DAYS.\\nR4. CONCRETE FOR MASS INFILL OF TRAFFIC AND OR PEDESTRIAN\\nISLANDS SHALL BE 20 MPa AT 28 DAYS. EXPANSION & TOOL JOINTS\\nSHALL BE PROVIDED IN SLABS TO MATCH ADJACENT KERBING. A BOND\\nBREAKER SHALL BE PROVIDED BETWEEN THE BACK OF KERB & MASS\\nCONCRETE INFILL.\\nR5. ALL TRAFFICABLE CONCRETE PAVING SHALL BE 40 MPa UNLESS\\nNOTED OTHERWISE.\\nR6. ALL KERBING AND PAVEMENTS WHERE MEETING EXISTING\\nPAVEMENTS SHALL BLEND SMOOTHLY. SAW CUT EXISTING PAVEMENT\\nAND MAKE GOOD AS REQUIRED.\\nR7. AGGREGATE FOR PRIMING SHALL 7mm NOMINAL SIZE.\\nASPHALT AGGREGATE FOR CARPARK PAVEMENTS SHALL BE 7mm\\nNOMINAL SIZE.\\nALL AGGREGATE USED SHALL BE GRANITE.\\nR8. THE CONTRACTOR SHALL ALLOW FOR A WATER CART TO BE\\nAVAILABLE ON SITE AT THE TIME OF FINAL INSPECTION TO FLOOD TEST\\nTHE COMPLETED PAVEMENT.\\nR9. ALL PRAM RAMPS SHALL BE IN ACCORDANCE WITH A.S. 1428.1.\\nR10. WHEEL STOP INSTALLATION DISTANCES TO BE IN ACCORDANCE\\nWITH A.S.2890.1. REFER TABLE BELOW:STORMWATER DRAINAGE NOTES\\nD1. ALL PRECAST COMPONENTS TO BE TO LOCAL AUTHORITY\\nSPECIFICATION.\\nD2. REINFORCED CONCRETE PIPES SHALL BE FIRST-QUALITY DEFECT\\nFREE PIPES CONFORMING TO AS 4058 AND AMENDMENTS THEREOF, AND\\nSHALL BE CLASS 2 UNLESS SHOWN OTHERWISE.  PIPES SHALL BE\\nSOCKETED WITH SOCKETS SUITABLE FOR RUBBER RING JOINTS. PIPES\\nSHALL BE INSPECTED FOR DEFECTS PRIOR TO INSTALLATION. AND\\nDEFECTIVE PIPES SHALL BE DISCARDED.\\nD3. GULLY PITS, ACCESS CHAMBERS AND SIDE ENTRY PITS SHALL BE\\nHUMES OR SIMILAR APPROVED PRECAST REINFORCED CONCRETE FIRST\\nQUALITY DEFECT FREE WELL LINERS TO SIZES & DIMENSIONS AS SHOWN\\nON THE DRAWINGS.\\nUNLESS NOTED OTHERWISE, STANDARD LINER SIZES SHALL BE IN\\nACCORDANCE WITH THE TABLE BELOW.\\nWHERE MULTIPLE PIPE CONNECTIONS ARE REQUIRED, A MINIMUM OF 40%\\nOF THE LINER IN ANY HORIZONTAL PLANE SHALL BE PROVIDED.\\nD4. ALL PRECAST DRAINAGE CHAMBER LIDS SHALL BE DESIGNED TO\\nSUIT THE LOAD RATINGS SPECIFIED IN ACCORDANCE WITH A.S. 3996.\\nALL GRATE OR GULLY PIT LIDS SHALL BE RAISED 100mm FROM THE\\nCONCRETE SURROUND AND BE SET AT A GRADE TO MATCH THAT OF\\nTHE SURROUNDING PAVEMENT OR FINISHED SURFACE PROFILE.\\nD5. ANY STORMWATER GRATE TO BE LOCATED OUTSIDE OF THE ROAD\\nOR CARPARK SURFACE OR IN PEDESTRIAN AREAS SHALL BE FINISHED\\nWITH AN APPROPRIATE GRATE WITH APERTURE OPENINGS NO GREATER\\nTHAN 20mm.\\nD6. PROVIDE STANDARD STEP IRONS OR LADDERS FOR ANY DRAINAGE\\nSTRUCTURE DEEPER THAN 1.0m IN ACCORDANCE WITH THE\\nMANUFACTURER\\'S SPECIFICATIONS AND REQUIREMENTS.\\nD7. WHERE HYDRAULIC ROOF DRAINAGE SYSTEMS ARE TO CONNECT TO\\nCIVIL DRAINAGE SYSTEMS, ALL DOWN PIPES AND IN-GROUND PIPED\\nCONNECTIONS SHALL BE CONNECTED AS SOON AS THE ROOF IS SEALED,\\nTO PROVIDE APPROPRIATE PROTECTION TO THE SUBGRADE. THIS MAY\\nREQUIRE THE INSTALLATION OF TEMPORARY ABOVE GROUND SYSTEMS.\\nD8. ALL DISTURBED OR UNCOMPACTED GROUND SHALL BE COMPACTED\\nTO 95% OF MAXIMUM DRY DENSITY AS DETERMINED BY A.S. 1289 TEST\\n5.2.1.\\nD9. MAKE GOOD CONNECTIONS TO ALL PIPEWORK ENTERING MANHOLE,\\nGULLY PIT OR SIDE ENTRY PIT. CONTRACTOR TO CUT LINERS TO ENSURE\\nMINIMUM GAP BETWEEN LINER & PIPE. PIPES TO BE FINISHED FLUSH\\nWITH INSIDE OF LINER AND SEALED WITH MORTAR OR APPROVED\\nEPOXY.\\nANY REINFORCEMENT EXPOSED IN PIPES OR LINERS TO BE TREATED\\nWITH SIKATOP 110EC TO THE MANUFACTURERS SPECIFICATIONS.\\nD10. CEMENT MORTAR SHALL BE ONE PART CEMENT AND THREE PARTS\\nFINE AGGREGATE, THOROUGHLY MIXED WITH THE MINIMUM AMOUNT OF\\nWATER TO RENDER THE MIX WORKABLE.\\nD11. DRAINAGE PIPES ∅150 TO ∅225 SHALL BE MINIMUM CLASS uPVC\\nSN8.\\nD12. SLOTTED SUBSOIL DRAINAGE PIPES SHALL BE MINIMUM CLASS uPVC\\nSN8 IN ACCORDANCE WITH A.S. 2439.\\nSLOT CONFIGURATIONS TO BE EQUALLY SPACED AROUND THE\\nCIRCUMFERENCE TO A.S. 2439. MINIMUM 1500mm2 SLOTS PER LINEAR\\nMETER OF PIPE.\\nTYPICAL DRAINAGE LEGEND\\nGRATED GULLY PIT\\nACCESS CHAMBER / JUNCTION PIT\\nSIDE ENTRY PIT\\nSOAKWELL\\nBUBBLE-UP PIT\\nPRECAST HEADWALL TO SUIT PIPE / CULVERT\\nFULLY MORTARED STONE PITCHING\\nPROPOSED STORMWATER DRAINAGE PIPE\\nEXISTING STORMWATER DRAINAGE PIPECIVIL DRAWING SCHEDULE\\nC100CIVIL STANDARD NOTES\\nC105EXISTING SERVICES PLAN\\nC110BULK EARTHWORKS PLAN & SECTION\\nC120STORMWATER DRAINAGE\\nC130SITE PLAN & LEVELS\\nC140LINE MARKING & SIGNAGE\\nC150STANDARD DETAILS - STORMWATER DRAINAGE\\nC151STANDARD DETAILS - ROADWORKSPIPE SIZE\\n∅300 - ∅450\\n∅600LINER SIZE\\n∅1050\\n∅1200\\nPARKING DIRECTION WHEEL STOP DISTANCE TO FRONT OF PARKING SPACE\\nPARKING TO KERB <150 HIGH \\nWHEEL STOP HEIGHT WHEEL STOP HEIGHTPARKING TO KERB > 150 HIGH OR WALL \\nFRONT -IN\\nREAR -IN90\\n630\\n910100\\n620\\n90090\\n830\\n1110100\\n820\\n1100EARTHWORKS NOTES\\nE1. ALL EARTHWORKS TO BE CARRIED OUT IN ACCORDANCE WITH THE\\nSPECIFICATION AND AUSTRALIAN STANDARD A.S. 3798 GUIDELINES ON\\nEARTHWORKS FOR COMMERCIAL AND RESIDENTIAL DEVELOPMENTS.\\nE2. THESE DRAWING SHALL BE READ IN CONJUNCTION WITH ATC WILLIAMS\\nGEOTECHNICAL REPORT No 120056.01LR01.\\nTHE FOLLOWING IS AN EXCERPT OF THE REPORT.\\nTHE SUBSURFACE CONDITIONS AT THE SITE COMPRISED:\\nTOPSOIL: A THIN LAYER OF LOOSE, FINE AND MEDIUM, BLACK SAND WITH\\nTRACE SILT AND GRASS ROOTS WAS ENCOUNTERED IN ALL TEST PITS\\nACROSS THE SITE TO DEPTHS OF 0.1m.\\nUNCONTROLLED FILL: A LAYER OF DENSE TO VERY DENSE FILL MATERIAL\\nWAS ENCOUNTERED BENEATH THE TOPSOIL IN ALL TEST PITS ACROSS THE\\nSITE. THE FILL MATERIAL COMPRISED BROWN/PALE GREY SAND AND SANDY\\nGRAVEL WITH BUILDING RUBBLE (E.G. BROKEN AND FULL BRICKS AND TILES\\nPRESENT IN ALL TEST PITS TO THEIR FULL EXPLORATION DEPTHS OF\\nBETWEEN 0.7m (TP5) AND 1.4m (TP2).\\nEVIDENCE OF PAST CONCRETE FOOTINGS WAS NOTED ON THE SIDES OF TP2\\nAT A DEPTH OF 0.6m.\\nROCK/LATERITE: THE PRESENCE OF ORANGE BROWN ROCK/LATERITE WAS\\nVISUALLY CONFIRMED AT THE BASE OF ALL TEST PITS EXCEPT TP2.\\nGROUNDWATER: GROUNDWATER WAS NOT ENCOUNTERED DURING THE\\nINVESTIGATION.\\nE3. CONTRACTOR TO MAINTAIN STRICT DUST CONTROL MEASURES AT ALL\\nTIMES. CONTRACTOR TO SUBMIT DUST MANAGEMENT PLAN FOR A SITE\\nCLASSIFICATION 4 IN ACCORDANCE WITH DEPARTMENT OF ENVIRONMENT \"A\\nGUIDELINE FOR THE PREVENTION OF DUST AND SMOKE POLLUTION FROM LAND\\nDEVELOPMENT SITES IN WESTERN AUSTRALIA\". ALL CONTROL MEASURES\\nINCLUDING WIND FENCING ARE TO BE INCLUDED IN TENDER.\\nE4. DESIGNATED EXISTING SITE TREES & VEGETATION AS SPECIFIED ON THE\\nARCHITECTURAL DRAWINGS TO BE REMOVED FROM SITE TO AN APPROVED\\nDISPOSAL SITE IN ACCORDANCE WITH EPA & LOCAL COUNCIL REQUIREMENTS\\nPRIOR TO EARTHWORKS COMMENCING. NO BURNING TO BE CARRIED OUT. ANY\\nTOPSOIL (TYPICALLY 100mm), ORGANIC AND DELETERIOUS MATERIAL INCLUDING\\nTREE ROOTS SHALL BE REMOVED PRIOR TO PROOF ROLLING AND/OR\\nPLACEMENT OF ADDITIONAL FILL.\\nALL EXISTING STREET TREES TO BE MAINTAINED & PROTECTED AT ALL TIMES\\nUNLESS NOTED OTHERWISE.\\nE5. SITE PREPARATION AND COMPACTION TO BE IN ACCORDANCE WITH THE\\nSPECIFICATION & GEOTECHNICAL REPORT. CONTRACTOR TO ALLOW FOR PROOF\\nROLLING OF SUBGRADE TO ACHIEVE 95% SMDD.\\nE6. CONTRACTOR IS TO ALLOW FOR IMPORTING & EXPORTING OF ADDITIONAL\\nSAND FILL FOR FINAL HARD & SOFT LANDSCAPING DURING FINAL TRIMMING OF\\nTHE SITE. REFER ARCHITECTS DRAWINGS FOR LOCATIONS & LEVELS.\\nE7. CONTRACTOR TO ALLOW FOR THE REMOVAL OF ALL RUBBISH AND\\nUNCONTROLLED FILL FROM SITE TO AN APPROVED DISPOSAL SITE.\\nE8. MAXIMUM BATTER SLOPE FOR TEMPORARY EXCAVATIONS 1 IN 2. MAXIMUM\\nBATTER SLOPES AT FINISHED SURFACE LEVELS 1 IN 6 WITHOUT GROUND\\nSTABILISATION.\\nE9. UNLESS OTHERWISE APPROVED BY THE ENGINEER, NO EXCAVATION SHALL\\nBE CARRIED OUT CLOSER TO FOOTINGS, SERVICES OR OTHER BELOW GROUND\\nSTRUCTURES THAN A LINE EXTENDING DOWN FROM THEIR EDGE AT 45°.\\nE10. ANY EXCAVATED CLEAN SANDS TO BE STOCKPILED FOR RE-USE AS\\nSTRUCTURAL FILL. CONTRACTOR TO ENSURE IT IS FREE OF TOPSOIL, ORGANIC\\n& DELETERIOUS MATTER.\\nE11. PARTICULAR CARE TO BE TAKEN TO ENSURE COMPACTION IS ACHIEVED\\nAT THE LOCATIONS WHERE TREES OR REDUNDANT BELOW GROUND\\nSTRUCTURES ARE REMOVED.\\nE12. ALTHOUGH NOT ENCOUNTERED DURING THE INVESTIGATION IT IS POSSIBLE\\nTHAT ROADWORKS COULD OCCUR IN THE SOUTHERN PORTION OF THE SITE\\nCLOSER TO DIPROSE CRESCENT ON CLAYEY SOILS. IF ENCOUNTERED, THESE\\nSOILS ARE NOT LIKELY TO BE CONDUCIVE TO INFILTRATION AND WILL DRAIN\\nPOORLY DURING THE WETTER TIMES OF THE YEAR. THIS COULD RESULT IN\\nSATURATED CONDITIONS THAT MAY INHIBIT PREPARATION AND COMPACTION\\nOF THE SUBGRADE. THE CONTRACTOR SHALL ALLOW FOR PRACTICES\\nSUITABLE FOR WORKS IN THE WINTER PERIOD AS NECESSARY TO ENSURE\\nACCEPTABLE WORKMANSHIP.\\nCOMPACTION AND TRAFFICKING OF CLAYEY AREAS MUST NOT BE ATTEMPTED\\nWHEN WET. IT WILL BE NECESSARY TO ALLOW THE AREA TO DRY OUT OR\\nTRIM OFF WET MATERIAL BACK TO COMPETENT, DRIER SUBGRADE. ANY\\nATTEMPT TO TRAFFIC OR COMPACT WET CLAYEY SOILS IS LIKELY TO RESULT\\nIN SOIL DISTURBANCE AND SIGNIFICANT SOFTENING OF THE CLAYEY SOILS.\\nE14. ANY EXCAVATIONS INTO THE EXISTING GROUND FOR REMOVAL OF\\nREDUNDANT STRUCTURES, FOOTINGS, SERVICES AND THE LIKE TO BE\\nBACKFILLED WITH IN-SITU MATERIALS. CONTRACTOR TO ENSURE INSITU\\nCLAYS, GRAVELS & SILTY MATERIALS ARE APPROPRIATELY MOISTURE\\nCONDITIONED AND PREPARED TO ENSURE ADEQUATE COMPACTION AND\\nWORKMANSHIP.\\nE15. PROOF COMPACT ANY EXPOSED SURFACES TO IDENTIFY AND IMPROVE\\nANY WEAK AREAS. ANY SOFT OR WEAK AREAS NOT RESPONDING TO\\nCOMPACTION SHOULD BE REMOVED AND REPLACED WITH A SIMILAR CLAYEY\\nMATERIAL TO MATCH INSITU, OR LEAN MIX CONCRETE. IN ROAD PAVEMENT\\nAREAS, BACKFILL WITH LIMESTONE ROAD BASE IS ACCEPTABLE.\\nWHERE OVER-EXCAVATIONS OCCUR TO REMOVAL UNSUITABLE MATERIAL, THE\\nCONTRACTOR SHALL ALLOW 48 HOURS NOTICE FOR THE SUPERINTENDENT TO\\nADVISE IF A GROUND SURVEY IS REQUIRED TO QUANTIFY THE OVER\\nEXCAVATED MATERIAL.\\nSHOULD MATERIALS BECOME WET AND SOFTEN, THESE WILL ALSO REQUIRE\\nREMOVAL AND REPLACEMENT.\\nUNDER NO CIRCUMSTANCE IS SAND FILL AN ACCEPTABLE REPLACEMENT\\nBACKFILL MATERIAL.\\nE16. MAINTAIN ALL NATURAL SOIL IN A DRY CONDITION. SHAPE AND BATTER\\nGROUND TO FALL AWAY FROM BUILDINGS. WHERE CLAY OR CLAYEY SOILS\\nARE EXPOSED DURING THE WORKS, THE CONTRACTOR SHALL TAKE ALL\\nNECESSARY MEASURES TO PROTECT THE SITE AND PREVENT SOFTENING OF\\nTHE SOILS DUE TO WATER OR MOISTURE  INGRESS AND PONDING INCLUDING,\\nBUT NOT LIMITED TO THE PROVISION OF\\n·BLUE METAL DRAINS\\n·TEMPORARY SUMPS AND CUT-OFF DRAINS\\n·AND GRADING OF THE SURFACE AWAY TO ALLOW FLOW AWAY FROM\\nTHE AREA OF THE WORKS.\\n·SAND BAGGING\\nTHE BUILDER SHALL ALLOW TO BACKFILL AND MAKE GOOD ALL TEMPORARY\\nDRAINS REQUIRED FOR PREPARATION OF SUBGRADE.022.01.21 ISSUED FOR TENDER TB\\nDRAWING No.\\nDoF PROJ No.DESIGNED\\nDATE SCALE @ A1APPROVEDDRAWN\\nCHECKED\\nREV.\\nTHIS IS A CAD DRAWING - DO NOT AMEND MANUALLYTENDER FILE No.NO DATE AMENDMENT CHECKED\\nTENDER\\nAlbany Health Campus - Radiation\\nOncology Service\\n30 Warden Avenue SPENCER PARK, WA, 6330BPA Engineering\\n460 Roberts Road, Subiaco, WA 6008\\nTel: (08) 9382 8008 tbroadwood@bpaeng.com.auStructural / Civil\\nSG&K\\n9 Alvan Street, Mount Lawley, WA 6050\\nTel: (08) 9389 8393 paulm@sgk.com.auMechanical / Medical Gases\\nETC\\n61 Loftus Street, Leederville, WA 6007\\nTel: (08) 9328 5500 rmilburn@etcpl.com.auElectrical\\nJacobs\\nLevel 11, 263 Adelaide Terrace, WA 6000\\nTel: (08) 9469 5480 david.belcastro@jacobs.comHydraulics / Fire\\nFour Landscape Studio\\n11/34 Eighth Avenue, Maylands, WA, 6051\\nTel: (08) 9286 4900 andrew@fourls.com.auLandscaping\\nMilestone Certifiers\\n3/1 The Esplanade, Mount Pleasant, Perth, WA 6153\\nTel: (08) 9330 7476 richarda@milestonebc.com.auBCA Compliancepscott@bpaeng.com.aupeter hunt architectArchitect\\n8 Colin Grove, West Perth, WA 6005\\nTel: (08) 9322 6033 pha@peterhunt.com.au\\n14606 2020/042782\\nN\\nNMAIN WORKS\\nBPA PROJ No.\\nS14319'"
      ]
     },
     "execution_count": 10,
     "metadata": {},
     "output_type": "execute_result"
    }
   ],
   "source": [
    "text"
   ]
  },
  {
   "cell_type": "code",
   "execution_count": null,
   "id": "9fbe38e0-0296-4ac6-bf87-6c54c34409a2",
   "metadata": {},
   "outputs": [],
   "source": []
  }
 ],
 "metadata": {
  "kernelspec": {
   "display_name": "Python 3 (ipykernel)",
   "language": "python",
   "name": "python3"
  },
  "language_info": {
   "codemirror_mode": {
    "name": "ipython",
    "version": 3
   },
   "file_extension": ".py",
   "mimetype": "text/x-python",
   "name": "python",
   "nbconvert_exporter": "python",
   "pygments_lexer": "ipython3",
   "version": "3.11.4"
  }
 },
 "nbformat": 4,
 "nbformat_minor": 5
}
