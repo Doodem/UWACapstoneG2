{
 "cells": [
  {
   "cell_type": "code",
   "execution_count": 1,
   "id": "e411027d",
   "metadata": {},
   "outputs": [],
   "source": [
    "#pip install PyPDF2"
   ]
  },
  {
   "cell_type": "code",
   "execution_count": 2,
   "id": "d2d9adb8",
   "metadata": {},
   "outputs": [],
   "source": [
    "#pip install pdfplumber"
   ]
  },
  {
   "cell_type": "code",
   "execution_count": 1,
   "id": "7a5c2e05",
   "metadata": {},
   "outputs": [],
   "source": [
    "import PyPDF2\n",
    "def extract_text_from_pdf(pdf_path):\n",
    "    text = \"\"\n",
    "    with open(pdf_path, \"rb\") as pdf_file:\n",
    "        pdf_reader = PyPDF2.PdfReader(pdf_file)\n",
    "        for page_number in range(len(pdf_reader.pages)):\n",
    "            page = pdf_reader.pages[page_number]\n",
    "            text += page.extract_text()\n",
    "    return text"
   ]
  },
  {
   "cell_type": "code",
   "execution_count": 2,
   "id": "34232e44",
   "metadata": {},
   "outputs": [],
   "source": [
    "import re\n",
    "\n",
    "def normalize_heading(heading):\n",
    "    # Remove extra spaces and other whitespace characters from the heading\n",
    "    return re.sub(r'\\s+', ' ', heading.strip())\n"
   ]
  },
  {
   "cell_type": "code",
   "execution_count": 27,
   "id": "b234b9bd",
   "metadata": {},
   "outputs": [
    {
     "name": "stdout",
     "output_type": "stream",
     "text": [
      "1. INTRODUCTION\n",
      "Brabham East Primary School (planning name) has been included in the Western Australian\n",
      "Government’s Percent for Art Scheme. In this scheme, a percentage of the building budget is\n",
      "allocated for the commissioning of site-specific artworks.\n",
      "This commission will be awarded to an artist that offers the best comprehensive approach to the\n",
      "artwork opportunities offered within this stage of the development.\n",
      "The school will be completed by April 2025.\n",
      "2. BACKGROUND\n",
      "The School is a standard pattern school which will cater for 540 students (Kindergarten – Year 6)\n",
      "within the permanent buildings & 870 students when the Transportables are utilised. The project\n",
      "includes an Administration Block, a Kindergarten/Pre-Primary Teaching Block 1 (TB1), 2 x\n",
      "Double story Teaching Blocks (TB2 & TB3), a Library Resource Centre and Staff Room and a\n",
      "Covered Assembly Area with Music Room and Canteen. Infrastructure will be provided for two\n",
      "Kindergarten/Pre-Primary Transportables and ten standard General Learning Area (GLA’s)\n",
      "transportable classrooms. Additional facilities include tree shaded landscaped zones, sports\n",
      "courts, play areas and bicycle parking.\n",
      "The master plan embodies the following design principles:-\n",
      "• Strong connections between all learning areas, with the library at the heart of the school.\n",
      "• Unrestricted lines of sight for supervision over the students during recess and lunchtime\n",
      "play designed to limit opportunity for antisocial behaviour\n",
      "• The provision of a forecourt to the covered assembly block to allow for spill over for\n",
      "assemblies and other functions. It is envisioned that this area will have a good balance of\n",
      "paving, informal seating and lawn and enable good visual supervision\n",
      "• Indicative landscaped areas for outdoor play\n",
      "• Emergency vehicle access through the centre of the site\n",
      "• Walkways and ramps allowing all areas of the site to be accessible\n",
      "• Provision made for location of required transportable classrooms (up to 12) for Stage\n",
      "1 and\n",
      "• Bike shelters on North & South to encourage use of bikes along existing pedestrian\n",
      "pathways.\n",
      "See Appendix 1 for more information.\n"
     ]
    }
   ],
   "source": [
    "import pdfplumber\n",
    "\n",
    "def extract_section(contents, heading):\n",
    "    section_contents = \"\"\n",
    "    take_content = False\n",
    "    for line in contents:\n",
    "        line = line.strip()\n",
    "        if heading in line:\n",
    "            take_content = True\n",
    "        elif re.match(\"[0-9]\\. *\", line):\n",
    "            take_content = False\n",
    "            \n",
    "        if take_content:\n",
    "            section_contents += line + \"\\n\"\n",
    "    return section_contents\n",
    "\n",
    "def extract_content_by_headings(target_headings, pdf_path):\n",
    "    content = \"\"\n",
    "    with pdfplumber.open(pdf_path) as pdf:\n",
    "        normalized_headings = [normalize_heading(heading) for heading in target_headings]\n",
    "        is_target_heading = False\n",
    "        skip_content = False\n",
    "\n",
    "        contents = []\n",
    "        for page in pdf.pages:\n",
    "            contents.extend(page.extract_text().split('\\n'))\n",
    "        \n",
    "        for heading in normalized_headings:\n",
    "            content += extract_section(contents, heading)\n",
    "\n",
    "    return content.strip()\n",
    "\n",
    "headings_to_extract = ['INTRODUCTION', 'BACKGROUND']\n",
    "pdf_path = \"EOIFINW0688922 - Brabham East Primary School - Percent for Art Brief.pdf\"\n",
    "\n",
    "extracted_content = extract_content_by_heading(headings_to_extract, pdf_path)\n",
    "print(extracted_content)\n"
   ]
  },
  {
   "cell_type": "code",
   "execution_count": 6,
   "id": "117f5a16",
   "metadata": {},
   "outputs": [],
   "source": [
    "#pip install python-docx\n"
   ]
  },
  {
   "cell_type": "code",
   "execution_count": 7,
   "id": "a4a7da89",
   "metadata": {},
   "outputs": [],
   "source": [
    "# Code for Extracting text from .dcox file"
   ]
  },
  {
   "cell_type": "raw",
   "id": "296ce163",
   "metadata": {},
   "source": [
    "from docx import Document\n",
    "\n",
    "def extract_text_from_docx(docx_path):\n",
    "    doc = Document(docx_path)\n",
    "    text = \"\"\n",
    "    for paragraph in doc.paragraphs:\n",
    "        text += paragraph.text + \"\\n\"\n",
    "    return text\n",
    "\n",
    "docx_path = \"C:\\\\Users\\\\skena\\\\Desktop\\\\UWA_DS\\\\Sem4\\\\Capstone_project\\\\20221AGWA - Request - FINAL.docx\"  # Replace with your .docx file path\n",
    "extracted_text = extract_text_from_docx(docx_path)\n",
    "print(extracted_text)\n"
   ]
  },
  {
   "cell_type": "code",
   "execution_count": 10,
   "id": "a62a8fa8",
   "metadata": {},
   "outputs": [
    {
     "ename": "ModuleNotFoundError",
     "evalue": "No module named 'docx'",
     "output_type": "error",
     "traceback": [
      "\u001b[0;31m---------------------------------------------------------------------------\u001b[0m",
      "\u001b[0;31mModuleNotFoundError\u001b[0m                       Traceback (most recent call last)",
      "Cell \u001b[0;32mIn[10], line 1\u001b[0m\n\u001b[0;32m----> 1\u001b[0m \u001b[38;5;28;01mfrom\u001b[39;00m \u001b[38;5;21;01mdocx\u001b[39;00m \u001b[38;5;28;01mimport\u001b[39;00m Document\n\u001b[1;32m      3\u001b[0m \u001b[38;5;28;01mdef\u001b[39;00m \u001b[38;5;21mextract_doc_by_header\u001b[39m(docx_path, target_header):\n\u001b[1;32m      4\u001b[0m     doc \u001b[38;5;241m=\u001b[39m Document(docx_path)\n",
      "\u001b[0;31mModuleNotFoundError\u001b[0m: No module named 'docx'"
     ]
    }
   ],
   "source": [
    "from docx import Document\n",
    "\n",
    "def extract_doc_by_header(docx_path, target_header):\n",
    "    doc = Document(docx_path)\n",
    "    content = []\n",
    "    current_header = None\n",
    "    capture_content = False\n",
    "\n",
    "    for paragraph in doc.paragraphs:\n",
    "        if paragraph.style.name.startswith(\"Heading\") and paragraph.text == target_header:\n",
    "            current_header = paragraph.text\n",
    "            capture_content = True\n",
    "            content.append(current_header)\n",
    "        elif capture_content:\n",
    "            content.append(paragraph.text)\n",
    "        \n",
    "        # Stop capturing content if a new header is encountered\n",
    "        if paragraph.style.name.startswith(\"Heading\") and paragraph.text != current_header:\n",
    "            capture_content = False\n",
    "\n",
    "    return \"\\n\".join(content)\n",
    "\n",
    "docx_path = \"C:\\\\Users\\\\skena\\\\Desktop\\\\UWA_DS\\\\Sem4\\\\Capstone_project\\\\20221AGWA - Request - FINAL.docx\"  # Replace with your .docx file path\n",
    "target_header = \"Background\"  # Replace with the header you're looking for\n",
    "\n",
    "extracted_content = extract_doc_by_header(docx_path, target_header)\n",
    "print(extracted_content)\n"
   ]
  },
  {
   "cell_type": "code",
   "execution_count": null,
   "id": "e77c3d69",
   "metadata": {},
   "outputs": [],
   "source": []
  }
 ],
 "metadata": {
  "kernelspec": {
   "display_name": "Python 3 (ipykernel)",
   "language": "python",
   "name": "python3"
  },
  "language_info": {
   "codemirror_mode": {
    "name": "ipython",
    "version": 3
   },
   "file_extension": ".py",
   "mimetype": "text/x-python",
   "name": "python",
   "nbconvert_exporter": "python",
   "pygments_lexer": "ipython3",
   "version": "3.11.4"
  }
 },
 "nbformat": 4,
 "nbformat_minor": 5
}
