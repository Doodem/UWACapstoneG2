{
 "cells": [
  {
   "cell_type": "code",
   "execution_count": 1,
   "id": "6713352e-094c-409f-b491-b8261b82182e",
   "metadata": {
    "tags": []
   },
   "outputs": [],
   "source": [
    "import numpy\n",
    "bert_embs = numpy.load(\"../../../data/embedding_data/st_short_desc_summaries.npz\")\n",
    "bert_embs = [bert_embs[f] for f in bert_embs.files]\n",
    "tender_refs = open(\"../../../data/embedding_data/tender_references.txt\", \"r\")\n",
    "content = \"\"\n",
    "for line in tender_refs:\n",
    "    content = line\n",
    "    break\n",
    "content = content.replace(\"[\", \"\")\n",
    "content = content.replace(\"'\", \"\")\n",
    "content = content.replace(\",\", \"\")\n",
    "refs = content.split(\" \")"
   ]
  },
  {
   "cell_type": "code",
   "execution_count": 24,
   "id": "2c0f5395-804b-4d6d-8dad-5bd25b4802f3",
   "metadata": {
    "tags": []
   },
   "outputs": [],
   "source": [
    "import scipy.cluster.hierarchy as hierarchy\n",
    "linkage_matrix = hierarchy.linkage(bert_embs, metric = \"cosine\", method = \"complete\")"
   ]
  },
  {
   "cell_type": "code",
   "execution_count": 25,
   "id": "f9fa3fde-17a2-432b-8dbe-d8332d2f1323",
   "metadata": {
    "tags": []
   },
   "outputs": [],
   "source": [
    "h2000 = hierarchy.cut_tree(linkage_matrix, n_clusters=[2000])"
   ]
  },
  {
   "cell_type": "code",
   "execution_count": 44,
   "id": "0c069654-8f8d-4a65-baf8-3f1728092146",
   "metadata": {
    "tags": []
   },
   "outputs": [
    {
     "data": {
      "text/plain": [
       "array([  164,   169,   183, 10565, 10566, 10570, 14425, 14439, 14478,\n",
       "       18686, 18703, 18712, 18717, 18728, 18733, 18739, 18748, 18761])"
      ]
     },
     "execution_count": 44,
     "metadata": {},
     "output_type": "execute_result"
    }
   ],
   "source": [
    "import numpy as np\n",
    "np.where(h2000 == 100)[0]"
   ]
  }
 ],
 "metadata": {
  "kernelspec": {
   "display_name": "Python 3 (ipykernel)",
   "language": "python",
   "name": "python3"
  },
  "language_info": {
   "codemirror_mode": {
    "name": "ipython",
    "version": 3
   },
   "file_extension": ".py",
   "mimetype": "text/x-python",
   "name": "python",
   "nbconvert_exporter": "python",
   "pygments_lexer": "ipython3",
   "version": "3.11.4"
  }
 },
 "nbformat": 4,
 "nbformat_minor": 5
}
