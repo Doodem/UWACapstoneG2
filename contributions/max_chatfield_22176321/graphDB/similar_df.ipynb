{
 "cells": [
  {
   "cell_type": "code",
   "execution_count": 8,
   "id": "6cb6b0a5-04c9-4afe-820e-e628459fde71",
   "metadata": {
    "tags": []
   },
   "outputs": [],
   "source": [
    "from sklearn.metrics.pairwise import cosine_similarity"
   ]
  },
  {
   "cell_type": "code",
   "execution_count": 67,
   "id": "8b1051ad-6954-4666-9021-0a0a16b02fd9",
   "metadata": {
    "tags": []
   },
   "outputs": [],
   "source": [
    "import numpy as np\n",
    "# concat to df\n",
    "# \n",
    "# df and sims should have same # of rows\n",
    "def form_most_similar(df, sims, n):\n",
    "    # sorts smallest to biggest for the provided similarity matrix\n",
    "    # this call takes about a minute for 24k rows\n",
    "    sorted_inds = np.argsort(sims)\n",
    "    \n",
    "    # put a graph index in\n",
    "    df[\"graphID\"] = np.arange(len(df))\n",
    "    # put similarity cols in\n",
    "    for i in range(n):\n",
    "        col_name = \"top_sim_\" + str(i)\n",
    "        df[col_name] = -1\n",
    "        col_name = \"bot_sim_\" + str(i)\n",
    "        df[col_name] = -1\n",
    "        \n",
    "    # direction: top - get the top n, bot - get the bot n\n",
    "    # assumes row is sorted smallest to biggest\n",
    "    # will ignore row_i if it sees it\n",
    "    def get_n(row, row_i, n, direction):\n",
    "        collected_n = []\n",
    "        row_j = 0\n",
    "        if direction == \"top\":\n",
    "            row_j = len(row) - 1\n",
    "        added = 0\n",
    "        while added < n and row_j >= 0 and row_j < len(row):\n",
    "            if row[row_j] != row_i:\n",
    "                collected_n.append(row[row_j])\n",
    "                added = added + 1\n",
    "            if direction == \"top\":\n",
    "                row_j = row_j - 1\n",
    "            else:\n",
    "                row_j = row_j + 1\n",
    "        return collected_n\n",
    "            \n",
    "    # form the top and bottom n similar tenders\n",
    "    for i, row in enumerate(sorted_inds):\n",
    "        bot_n = get_n(row, i, n, \"bot\")\n",
    "        top_n = get_n(row, i, n, \"top\")\n",
    "        for j in range(n):\n",
    "            col_name = \"top_sim_\" + str(j)\n",
    "            df.iloc[i,col_name] = top_n[j]\n",
    "            col_name = \"bot_sim_\" + str(j)\n",
    "            df.iloc[i,col_name] = bot_n[j]"
   ]
  },
  {
   "cell_type": "code",
   "execution_count": 31,
   "id": "56f05d7b-7f16-4fd5-97b4-d3b0a3d57be8",
   "metadata": {
    "tags": []
   },
   "outputs": [],
   "source": [
    "import pandas as pd\n",
    "fast_text_embs = pd.read_csv(\"../fasttext_emb/fasttext_emb.csv\", header = None)\n",
    "tenders = pd.read_excel(\"../../../data/UpdatedAgainTenders.xlsx\")"
   ]
  },
  {
   "cell_type": "code",
   "execution_count": 35,
   "id": "4be89b5b-7bf3-494c-a26b-08d44396f615",
   "metadata": {
    "tags": []
   },
   "outputs": [],
   "source": [
    "sims = cosine_similarity(fast_text_embs)"
   ]
  },
  {
   "cell_type": "code",
   "execution_count": 68,
   "id": "b0ba20eb-0fa4-49b5-bc2c-733b620c7a5b",
   "metadata": {
    "tags": []
   },
   "outputs": [
    {
     "ename": "KeyboardInterrupt",
     "evalue": "",
     "output_type": "error",
     "traceback": [
      "\u001b[0;31m---------------------------------------------------------------------------\u001b[0m",
      "\u001b[0;31mKeyboardInterrupt\u001b[0m                         Traceback (most recent call last)",
      "File \u001b[0;32m<timed exec>:1\u001b[0m\n",
      "Cell \u001b[0;32mIn[67], line 41\u001b[0m, in \u001b[0;36mform_most_similar\u001b[0;34m(df, sims, n)\u001b[0m\n\u001b[1;32m     39\u001b[0m \u001b[38;5;28;01mfor\u001b[39;00m i, row \u001b[38;5;129;01min\u001b[39;00m \u001b[38;5;28menumerate\u001b[39m(sorted_inds):\n\u001b[1;32m     40\u001b[0m     bot_n \u001b[38;5;241m=\u001b[39m get_n(row, i, n, \u001b[38;5;124m\"\u001b[39m\u001b[38;5;124mbot\u001b[39m\u001b[38;5;124m\"\u001b[39m)\n\u001b[0;32m---> 41\u001b[0m     top_n \u001b[38;5;241m=\u001b[39m get_n(row, i, n, \u001b[38;5;124m\"\u001b[39m\u001b[38;5;124mtop\u001b[39m\u001b[38;5;124m\"\u001b[39m)\n\u001b[1;32m     42\u001b[0m     \u001b[38;5;28;01mfor\u001b[39;00m j \u001b[38;5;129;01min\u001b[39;00m \u001b[38;5;28mrange\u001b[39m(n):\n\u001b[1;32m     43\u001b[0m         col_name \u001b[38;5;241m=\u001b[39m \u001b[38;5;124m\"\u001b[39m\u001b[38;5;124mtop_sim_\u001b[39m\u001b[38;5;124m\"\u001b[39m \u001b[38;5;241m+\u001b[39m \u001b[38;5;28mstr\u001b[39m(j)\n",
      "Cell \u001b[0;32mIn[67], line 28\u001b[0m, in \u001b[0;36mform_most_similar.<locals>.get_n\u001b[0;34m(row, row_i, n, direction)\u001b[0m\n\u001b[1;32m     26\u001b[0m     row_j \u001b[38;5;241m=\u001b[39m \u001b[38;5;28mlen\u001b[39m(row) \u001b[38;5;241m-\u001b[39m \u001b[38;5;241m1\u001b[39m\n\u001b[1;32m     27\u001b[0m added \u001b[38;5;241m=\u001b[39m \u001b[38;5;241m0\u001b[39m\n\u001b[0;32m---> 28\u001b[0m \u001b[38;5;28;01mwhile\u001b[39;00m added \u001b[38;5;241m<\u001b[39m n \u001b[38;5;129;01mand\u001b[39;00m row_j \u001b[38;5;241m>\u001b[39m\u001b[38;5;241m=\u001b[39m \u001b[38;5;241m0\u001b[39m \u001b[38;5;129;01mand\u001b[39;00m row_j \u001b[38;5;241m<\u001b[39m \u001b[38;5;28mlen\u001b[39m(row):\n\u001b[1;32m     29\u001b[0m     \u001b[38;5;28;01mif\u001b[39;00m row[row_j] \u001b[38;5;241m!=\u001b[39m row_i:\n\u001b[1;32m     30\u001b[0m         collected_n\u001b[38;5;241m.\u001b[39mappend(row[row_j])\n",
      "\u001b[0;31mKeyboardInterrupt\u001b[0m: "
     ]
    }
   ],
   "source": [
    "%%time\n",
    "form_most_similar(tenders, sims, 5)\n",
    "tenders"
   ]
  },
  {
   "cell_type": "code",
   "execution_count": null,
   "id": "325d15b3-3f92-4d05-a95c-f1cd40448c5d",
   "metadata": {},
   "outputs": [],
   "source": []
  }
 ],
 "metadata": {
  "kernelspec": {
   "display_name": "Python 3 (ipykernel)",
   "language": "python",
   "name": "python3"
  },
  "language_info": {
   "codemirror_mode": {
    "name": "ipython",
    "version": 3
   },
   "file_extension": ".py",
   "mimetype": "text/x-python",
   "name": "python",
   "nbconvert_exporter": "python",
   "pygments_lexer": "ipython3",
   "version": "3.11.4"
  }
 },
 "nbformat": 4,
 "nbformat_minor": 5
}
