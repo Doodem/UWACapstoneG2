{
 "cells": [
  {
   "cell_type": "code",
   "execution_count": 1,
   "id": "d718ae4b",
   "metadata": {},
   "outputs": [],
   "source": [
    "import pandas as pd\n",
    "import re\n",
    "\n",
    "'''\n",
    "    Manually fix \"140 William Street  Perth WA \" ,\n",
    "    \"Building B, Level 2 140 Royal Street East Perth WA 60004\" \n",
    "    and \"5 Newman Court Fremantle WA 6004\"\n",
    "    in the original file\n",
    "'''\n",
    "# Read the Excel file into a DataFrame\n",
    "df = pd.read_excel('UpdatedAgainTenders.xlsx') \n",
    "\n",
    "# Read the postcode file\n",
    "postcode_df = pd.read_excel('PostCodes.xlsx')"
   ]
  },
  {
   "cell_type": "code",
   "execution_count": 2,
   "id": "fec8293a",
   "metadata": {},
   "outputs": [],
   "source": [
    "# Change the data type of the 'Geo Postcode' column to string\n",
    "postcode_df['Geo Postcode'] = postcode_df['Geo Postcode'].astype(str)"
   ]
  },
  {
   "cell_type": "code",
   "execution_count": 3,
   "id": "1be075dc",
   "metadata": {},
   "outputs": [],
   "source": [
    "# Function to extract postcode from an address\n",
    "def extract_postcode(address):\n",
    "    postcode = re.search(r'\\b\\d{4}\\b', str(address))\n",
    "    if postcode:\n",
    "        return postcode.group(0)\n",
    "    return None\n",
    "\n",
    "# Apply the function to the 'Address' column and store the result in a new column 'Postcode'\n",
    "df['Postcode'] = df['Client Agency Address'].apply(lambda x: extract_postcode(x))\n"
   ]
  },
  {
   "cell_type": "code",
   "execution_count": 4,
   "id": "01ce5d29",
   "metadata": {},
   "outputs": [
    {
     "name": "stdout",
     "output_type": "stream",
     "text": [
      "19\n"
     ]
    }
   ],
   "source": [
    "print(df['Postcode'].isna().sum())"
   ]
  },
  {
   "cell_type": "code",
   "execution_count": 5,
   "id": "ad93dde9",
   "metadata": {},
   "outputs": [
    {
     "name": "stdout",
     "output_type": "stream",
     "text": [
      "Rows with NA Postcode and their Address:\n",
      "     Client Agency Address Postcode\n",
      "6949              . . .  .     None\n",
      "6950              . . .  .     None\n",
      "6951              . . .  .     None\n",
      "6952              . . .  .     None\n",
      "6953              . . .  .     None\n",
      "6954              . . .  .     None\n",
      "6955              . . .  .     None\n",
      "6956              . . .  .     None\n",
      "6957              . . .  .     None\n",
      "6958              . . .  .     None\n",
      "6959              . . .  .     None\n",
      "6960              . . .  .     None\n",
      "6961              . . .  .     None\n",
      "6962              . . .  .     None\n",
      "6963              . . .  .     None\n",
      "6964              . . .  .     None\n",
      "6965              . . .  .     None\n",
      "6966              . . .  .     None\n",
      "6967              . . .  .     None\n"
     ]
    }
   ],
   "source": [
    "# Filter rows where 'Postcode' is NA\n",
    "na_postcode_rows = df[df['Postcode'].isna()]\n",
    "\n",
    "print(\"Rows with NA Postcode and their Address:\")\n",
    "print(na_postcode_rows[['Client Agency Address', 'Postcode']])"
   ]
  },
  {
   "cell_type": "code",
   "execution_count": 6,
   "id": "3d5b5b47",
   "metadata": {},
   "outputs": [],
   "source": [
    "# Create an empty dictionary to hold the suburbs\n",
    "postcode_to_suburbs = {}\n",
    "\n",
    "# Populate the dictionary\n",
    "for _, row in postcode_df.iterrows():\n",
    "    suburb = row['Geo Suburb']\n",
    "    postcode = str(row['Geo Postcode'])  # Convert to string if it's not already\n",
    "    if postcode not in postcode_to_suburbs:\n",
    "        postcode_to_suburbs[postcode] = []\n",
    "    postcode_to_suburbs[postcode].append(suburb)"
   ]
  },
  {
   "cell_type": "code",
   "execution_count": 7,
   "id": "03da98ee",
   "metadata": {},
   "outputs": [],
   "source": [
    "def extract_suburb(address):\n",
    "    for postcode, suburbs in postcode_to_suburbs.items():\n",
    "        for suburb in suburbs:\n",
    "            if suburb in address and postcode in address:\n",
    "                return suburb\n",
    "    return None\n"
   ]
  },
  {
   "cell_type": "code",
   "execution_count": 8,
   "id": "bc6b347e",
   "metadata": {},
   "outputs": [],
   "source": [
    "# Extract the 'Suburb' column\n",
    "df['Suburb'] = df['Client Agency Address'].apply(extract_suburb)"
   ]
  },
  {
   "cell_type": "code",
   "execution_count": 9,
   "id": "a9956ec3",
   "metadata": {},
   "outputs": [
    {
     "name": "stdout",
     "output_type": "stream",
     "text": [
      "Rows with NA Suburb and their Address:\n",
      "     Client Agency Address Suburb\n",
      "6949              . . .  .   None\n",
      "6950              . . .  .   None\n",
      "6951              . . .  .   None\n",
      "6952              . . .  .   None\n",
      "6953              . . .  .   None\n",
      "6954              . . .  .   None\n",
      "6955              . . .  .   None\n",
      "6956              . . .  .   None\n",
      "6957              . . .  .   None\n",
      "6958              . . .  .   None\n",
      "6959              . . .  .   None\n",
      "6960              . . .  .   None\n",
      "6961              . . .  .   None\n",
      "6962              . . .  .   None\n",
      "6963              . . .  .   None\n",
      "6964              . . .  .   None\n",
      "6965              . . .  .   None\n",
      "6966              . . .  .   None\n",
      "6967              . . .  .   None\n"
     ]
    }
   ],
   "source": [
    "# Filter rows where 'Suburb' is NA\n",
    "na_suburb_rows = df[df['Suburb'].isna()]\n",
    "\n",
    "print(\"Rows with NA Suburb and their Address:\")\n",
    "print(na_suburb_rows[['Client Agency Address', 'Suburb']])"
   ]
  },
  {
   "cell_type": "code",
   "execution_count": 10,
   "id": "b4fc5fc9",
   "metadata": {},
   "outputs": [],
   "source": [
    "# Merge the DataFrames on the 'Postcode' and 'Geo Postcode' columns\n",
    "merged_df = pd.merge(df, postcode_df, left_on=['Postcode', 'Suburb'], right_on=['Geo Postcode', 'Geo Suburb'], how='left')\n",
    "\n",
    "# Drop the 'Geo Postcode' column \n",
    "merged_df.drop(['Geo Postcode','Geo Suburb'], axis=1, inplace=True)\n"
   ]
  },
  {
   "cell_type": "code",
   "execution_count": 11,
   "id": "570cb7c1",
   "metadata": {},
   "outputs": [
    {
     "name": "stdout",
     "output_type": "stream",
     "text": [
      "Rows with NA Geo Latitude and their Postcode:\n",
      "6949    None\n",
      "6950    None\n",
      "6951    None\n",
      "6952    None\n",
      "6953    None\n",
      "6954    None\n",
      "6955    None\n",
      "6956    None\n",
      "6957    None\n",
      "6958    None\n",
      "6959    None\n",
      "6960    None\n",
      "6961    None\n",
      "6962    None\n",
      "6963    None\n",
      "6964    None\n",
      "6965    None\n",
      "6966    None\n",
      "6967    None\n",
      "Name: Postcode, dtype: object\n"
     ]
    }
   ],
   "source": [
    "# Filter rows where 'Geo Latitude' is NA\n",
    "na_Latitude_rows = merged_df[merged_df['Geo Latitude'].isna()]\n",
    "\n",
    "print(\"Rows with NA Geo Latitude and their Postcode:\")\n",
    "print(na_Latitude_rows[ 'Postcode'])"
   ]
  },
  {
   "cell_type": "code",
   "execution_count": 12,
   "id": "545850e7",
   "metadata": {},
   "outputs": [],
   "source": [
    "# Save the DataFrame back to Excel\n",
    "merged_df.to_excel('tender_postcode.xlsx', index=False) \n"
   ]
  },
  {
   "cell_type": "code",
   "execution_count": null,
   "id": "e52c0321",
   "metadata": {},
   "outputs": [],
   "source": []
  }
 ],
 "metadata": {
  "kernelspec": {
   "display_name": "Python 3 (ipykernel)",
   "language": "python",
   "name": "python3"
  },
  "language_info": {
   "codemirror_mode": {
    "name": "ipython",
    "version": 3
   },
   "file_extension": ".py",
   "mimetype": "text/x-python",
   "name": "python",
   "nbconvert_exporter": "python",
   "pygments_lexer": "ipython3",
   "version": "3.11.4"
  }
 },
 "nbformat": 4,
 "nbformat_minor": 5
}
