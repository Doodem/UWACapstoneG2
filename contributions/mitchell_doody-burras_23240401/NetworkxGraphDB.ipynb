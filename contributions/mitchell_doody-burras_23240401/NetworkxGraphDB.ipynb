{
 "cells": [
  {
   "cell_type": "markdown",
   "id": "b69ae147-84d8-4220-ac7a-471d598a9887",
   "metadata": {},
   "source": [
    "# Query \"Light Weight\" Networkx Graph Database"
   ]
  },
  {
   "cell_type": "code",
   "execution_count": null,
   "id": "1def0569-0798-42de-bc83-e786390ae27d",
   "metadata": {
    "tags": []
   },
   "outputs": [],
   "source": [
    "import networkx as nx\n",
    "import matplotlib.pyplot as plt\n",
    "from sklearn.metrics.pairwise import cosine_similarity"
   ]
  },
  {
   "cell_type": "code",
   "execution_count": 5,
   "id": "44526f09-e3a2-4935-a713-9520ec95c8b3",
   "metadata": {
    "tags": []
   },
   "outputs": [],
   "source": [
    "import random\n",
    "\n",
    "embedding_dictionary = {\n",
    "    \"ref1\": {\n",
    "        \"embedding\": [0.92, 0.75, 0.61],\n",
    "        \"location\": [random.uniform(-90, 90), random.uniform(-180, 180)]\n",
    "    },\n",
    "    \"ref2\": {\n",
    "        \"embedding\": [0.78, 0.83, 0.55],\n",
    "        \"location\": [random.uniform(-90, 90), random.uniform(-180, 180)]\n",
    "    },\n",
    "    \"ref3\": {\n",
    "        \"embedding\": [0.64, 0.69, 0.72],\n",
    "        \"location\": [random.uniform(-90, 90), random.uniform(-180, 180)]\n",
    "    },\n",
    "    \"ref4\": {\n",
    "        \"embedding\": [0.87, 0.79, 0.91],\n",
    "        \"location\": [random.uniform(-90, 90), random.uniform(-180, 180)]\n",
    "    },\n",
    "    \"ref5\": {\n",
    "        \"embedding\": [0.52, 0.64, 0.58],\n",
    "        \"location\": [random.uniform(-90, 90), random.uniform(-180, 180)]\n",
    "    },\n",
    "    \"ref6\": {\n",
    "        \"embedding\": [0.95, 0.91, 0.98],\n",
    "        \"location\": [random.uniform(-90, 90), random.uniform(-180, 180)]\n",
    "    },\n",
    "    \"ref7\": {\n",
    "        \"embedding\": [0.61, 0.55, 0.72],\n",
    "        \"location\": [random.uniform(-90, 90), random.uniform(-180, 180)]\n",
    "    },\n",
    "    \"ref8\": {\n",
    "        \"embedding\": [0.82, 0.77, 0.88],\n",
    "        \"location\": [random.uniform(-90, 90), random.uniform(-180, 180)]\n",
    "    },\n",
    "    \"ref9\": {\n",
    "        \"embedding\": [0.73, 0.68, 0.80],\n",
    "        \"location\": [random.uniform(-90, 90), random.uniform(-180, 180)]\n",
    "    },\n",
    "    \"ref10\": {\n",
    "        \"embedding\": [0.89, 0.84, 0.94],\n",
    "        \"location\": [random.uniform(-90, 90), random.uniform(-180, 180)]\n",
    "    },\n",
    "    \"ref11\": {\n",
    "        \"embedding\": [0.68, 0.62, 0.75],\n",
    "        \"location\": [random.uniform(-90, 90), random.uniform(-180, 180)]\n",
    "    },\n",
    "    \"ref12\": {\n",
    "        \"embedding\": [0.75, 0.70, 0.83],\n",
    "        \"location\": [random.uniform(-90, 90), random.uniform(-180, 180)]\n",
    "    },\n",
    "    \"ref13\": {\n",
    "        \"embedding\": [0.83, 0.78, 0.90],\n",
    "        \"location\": [random.uniform(-90, 90), random.uniform(-180, 180)]\n",
    "    },\n",
    "    \"ref14\": {\n",
    "        \"embedding\": [0.57, 0.49, 0.63],\n",
    "        \"location\": [random.uniform(-90, 90), random.uniform(-180, 180)]\n",
    "    },\n",
    "    \"ref15\": {\n",
    "        \"embedding\": [0.91, 0.88, 0.97],\n",
    "        \"location\": [random.uniform(-90, 90), random.uniform(-180, 180)]\n",
    "    },\n",
    "    \"ref16\": {\n",
    "        \"embedding\": [0.70, 0.65, 0.76],\n",
    "        \"location\": [random.uniform(-90, 90), random.uniform(-180, 180)]\n",
    "    },\n",
    "    \"ref17\": {\n",
    "        \"embedding\": [0.79, 0.74, 0.85],\n",
    "        \"location\": [random.uniform(-90, 90), random.uniform(-180, 180)]\n",
    "    },\n",
    "    \"ref18\": {\n",
    "        \"embedding\": [0.60, 0.53, 0.68],\n",
    "        \"location\": [random.uniform(-90, 90), random.uniform(-180, 180)]\n",
    "    },\n",
    "    \"ref19\": {\n",
    "        \"embedding\": [0.88, 0.82, 0.92],\n",
    "        \"location\": [random.uniform(-90, 90), random.uniform(-180, 180)]\n",
    "    },\n",
    "    \"ref20\": {\n",
    "        \"embedding\": [0.76, 0.71, 0.81],\n",
    "        \"location\": [random.uniform(-90, 90), random.uniform(-180, 180)]\n",
    "    }\n",
    "}\n"
   ]
  },
  {
   "cell_type": "code",
   "execution_count": null,
   "id": "a9f5a516-3df4-4558-98d3-94387c497726",
   "metadata": {
    "tags": []
   },
   "outputs": [],
   "source": [
    "G = nx.Graph()\n",
    "\n",
    "# add ref as node, vector as attribute\n",
    "for ref, data in embedding_dictionary.items():\n",
    "    embedding = data[\"vector\"]\n",
    "    postcode = data[\"postcode\"]\n",
    "    G.add_node(ref, embedding=embedding, postcode=postcode)"
   ]
  },
  {
   "cell_type": "markdown",
   "id": "cc80cd87-ff41-4768-be22-a8d4829ce368",
   "metadata": {},
   "source": [
    "# Find n most similar tenders"
   ]
  },
  {
   "cell_type": "code",
   "execution_count": null,
   "id": "2c208301-6b40-4333-bd6f-5f1af15ee156",
   "metadata": {
    "tags": []
   },
   "outputs": [],
   "source": [
    "def most_similar_tenders(G, ref, n, thres, same_post=False):\n",
    "    similarity_scores = []\n",
    "    \n",
    "    vector1 = G.nodes[ref][\"embedding\"]\n",
    "    post1 = G.nodes[ref][\"postcode\"]\n",
    "    \n",
    "    # cosine between chosen ref and all other refs\n",
    "    for other_ref in G.nodes():\n",
    "        if other_ref != ref:\n",
    "            vector2 = G.nodes[other_ref][\"embedding\"]\n",
    "            similarity = cosine(vector1, vector2)\n",
    "            \n",
    "            if same_post:\n",
    "                post2 = G.nodes[other_ref][\"postcode\"]\n",
    "                if post1 == post2:\n",
    "                    similarity_scores.append((other_ref, similarity))\n",
    "\n",
    "            else:\n",
    "                similarity_scores.append((other_ref, similarity))\n",
    "\n",
    "    # desc order\n",
    "    similarity_scores.sort(key=lambda x: x[1], reverse=True)\n",
    "\n",
    "    # filter thres\n",
    "    similar_refs = [other_ref for other_ref, similarity in similarity_scores if similarity >= thres]\n",
    "    most_similar_n = similar_refs[:n]\n",
    "    \n",
    "    show_similar_tenders(G, ref, most_similar_n)\n",
    "    \n",
    "    return print(f\"The {n} most similar tenders to {ref} = {most_similar_n[:n]}\")\n",
    "\n",
    "def cosine(vector1, vector2):\n",
    "    similarity = cosine_similarity([vector1], [vector2])[0][0]\n",
    "    return similarity\n",
    "\n",
    "def show_similar_tenders(G, ref, similar_refs):\n",
    "    nodes = similar_refs + [ref]\n",
    "    subgraph = G.subgraph(nodes)\n",
    "    pos = nx.spring_layout(subgraph)\n",
    "    \n",
    "    nx.draw(subgraph, pos, with_labels=True, node_size=1000)\n",
    "    plt.show()\n",
    "\n",
    "ref = \"ref1\"\n",
    "n = 3\n",
    "thres = 0.9\n",
    "similar_refs = most_similar_tenders(G, ref, n, thres)\n",
    "print(similar_refs)"
   ]
  },
  {
   "cell_type": "code",
   "execution_count": 6,
   "id": "c3d859eb-8e77-4b53-93ec-d71244352d73",
   "metadata": {},
   "outputs": [
    {
     "data": {
      "application/vnd.jupyter.widget-view+json": {
       "model_id": "c1c7dab10cec4e8182baedc5f2f09883",
       "version_major": 2,
       "version_minor": 0
      },
      "text/plain": [
       "interactive(children=(Text(value='ref1', description='Enter Reference:'), IntSlider(value=2, description='Clos…"
      ]
     },
     "metadata": {},
     "output_type": "display_data"
    },
    {
     "data": {
      "text/plain": [
       "<function __main__.query_and_display(reference, num_nodes)>"
      ]
     },
     "execution_count": 6,
     "metadata": {},
     "output_type": "execute_result"
    }
   ],
   "source": [
    "from ipywidgets import interact, widgets\n",
    "from graph import GraphDB\n",
    "\n",
    "graph_db = GraphDB(embedding_dictionary)\n",
    "\n",
    "def query_and_display(reference, num_nodes):\n",
    "    query_result = graph_db.closest(reference, num_nodes)\n",
    "    graph_db.draw_graph(query_result)\n",
    "\n",
    "reference_input = widgets.Text(value='ref1', description='Enter Reference:')\n",
    "number_slider = widgets.IntSlider(value=2, min=1, max=10, step=1, description=f'Closest Tenders:')\n",
    "\n",
    "interact(query_and_display, reference=reference_input, num_nodes=number_slider)"
   ]
  }
 ],
 "metadata": {
  "kernelspec": {
   "display_name": "Python 3 (ipykernel)",
   "language": "python",
   "name": "python3"
  },
  "language_info": {
   "codemirror_mode": {
    "name": "ipython",
    "version": 3
   },
   "file_extension": ".py",
   "mimetype": "text/x-python",
   "name": "python",
   "nbconvert_exporter": "python",
   "pygments_lexer": "ipython3",
   "version": "3.9.12"
  }
 },
 "nbformat": 4,
 "nbformat_minor": 5
}
