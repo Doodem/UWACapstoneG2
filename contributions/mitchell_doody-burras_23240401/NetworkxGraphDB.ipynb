{
 "cells": [
  {
   "cell_type": "markdown",
   "id": "646e1da6-7345-4cef-8451-8ca17d0b1e76",
   "metadata": {},
   "source": [
    "# "
   ]
  },
  {
   "cell_type": "markdown",
   "id": "b69ae147-84d8-4220-ac7a-471d598a9887",
   "metadata": {},
   "source": [
    "# Query \"Light Weight\" Networkx Graph Database"
   ]
  },
  {
   "cell_type": "code",
   "execution_count": 101,
   "id": "1def0569-0798-42de-bc83-e786390ae27d",
   "metadata": {
    "tags": []
   },
   "outputs": [],
   "source": [
    "import networkx as nx\n",
    "import matplotlib.pyplot as plt\n",
    "from sklearn.metrics.pairwise import cosine_similarity"
   ]
  },
  {
   "cell_type": "code",
   "execution_count": 102,
   "id": "44526f09-e3a2-4935-a713-9520ec95c8b3",
   "metadata": {
    "tags": []
   },
   "outputs": [],
   "source": [
    "embedding_dictionary = {\n",
    "    \"ref1\": {\n",
    "        \"vector\": [0.92, 0.75, 0.61],\n",
    "        \"postcode\": \"ZIP1\"\n",
    "    },\n",
    "    \"ref2\": {\n",
    "        \"vector\": [0.78, 0.83, 0.55],\n",
    "        \"postcode\": \"ZIP1\"\n",
    "    },\n",
    "    \"ref3\": {\n",
    "        \"vector\": [0.64, 0.69, 0.72],\n",
    "        \"postcode\": \"ZIP1\"\n",
    "    },\n",
    "    \"ref4\": {\n",
    "        \"vector\": [0.87, 0.79, 0.91],\n",
    "        \"postcode\": \"ZIP1\"\n",
    "    },\n",
    "    \"ref5\": {\n",
    "        \"vector\": [0.52, 0.64, 0.58],\n",
    "        \"postcode\": \"ZIP2\"\n",
    "    },\n",
    "    \"ref6\": {\n",
    "        \"vector\": [0.95, 0.91, 0.98],\n",
    "        \"postcode\": \"ZIP2\"\n",
    "    },\n",
    "    \"ref7\": {\n",
    "        \"vector\": [0.61, 0.55, 0.72],\n",
    "        \"postcode\": \"ZIP2\"\n",
    "    },\n",
    "    \"ref8\": {\n",
    "        \"vector\": [0.82, 0.77, 0.88],\n",
    "        \"postcode\": \"ZIP2\"\n",
    "    },\n",
    "    \"ref9\": {\n",
    "        \"vector\": [0.73, 0.68, 0.80],\n",
    "        \"postcode\": \"ZIP3\"\n",
    "    },\n",
    "    \"ref10\": {\n",
    "        \"vector\": [0.89, 0.84, 0.94],\n",
    "        \"postcode\": \"ZIP3\"\n",
    "    },\n",
    "    \"ref11\": {\n",
    "        \"vector\": [0.68, 0.62, 0.75],\n",
    "        \"postcode\": \"ZIP3\"\n",
    "    },\n",
    "    \"ref12\": {\n",
    "        \"vector\": [0.75, 0.70, 0.83],\n",
    "        \"postcode\": \"ZIP3\"\n",
    "    },\n",
    "    \"ref13\": {\n",
    "        \"vector\": [0.83, 0.78, 0.90],\n",
    "        \"postcode\": \"ZIP3\"\n",
    "    },\n",
    "    \"ref14\": {\n",
    "        \"vector\": [0.57, 0.49, 0.63],\n",
    "        \"postcode\": \"ZIP4\"\n",
    "    },\n",
    "    \"ref15\": {\n",
    "        \"vector\": [0.91, 0.88, 0.97],\n",
    "        \"postcode\": \"ZIP4\"\n",
    "    },\n",
    "    \"ref16\": {\n",
    "        \"vector\": [0.70, 0.65, 0.76],\n",
    "        \"postcode\": \"ZIP4\"\n",
    "    },\n",
    "    \"ref17\": {\n",
    "        \"vector\": [0.79, 0.74, 0.85],\n",
    "        \"postcode\": \"ZIP4\"\n",
    "    },\n",
    "    \"ref18\": {\n",
    "        \"vector\": [0.60, 0.53, 0.68],\n",
    "        \"postcode\": \"ZIP4\"\n",
    "    },\n",
    "    \"ref19\": {\n",
    "        \"vector\": [0.88, 0.82, 0.92],\n",
    "        \"postcode\": \"ZIP4\"\n",
    "    },\n",
    "    \"ref20\": {\n",
    "        \"vector\": [0.76, 0.71, 0.81],\n",
    "        \"postcode\": \"ZIP4\"\n",
    "    }\n",
    "}"
   ]
  },
  {
   "cell_type": "code",
   "execution_count": 96,
   "id": "a9f5a516-3df4-4558-98d3-94387c497726",
   "metadata": {
    "tags": []
   },
   "outputs": [],
   "source": [
    "G = nx.Graph()\n",
    "\n",
    "# add ref as node, vector as attribute\n",
    "for ref, data in embedding_dictionary.items():\n",
    "    embedding = data[\"vector\"]\n",
    "    postcode = data[\"postcode\"]\n",
    "    G.add_node(ref, embedding=embedding, postcode=postcode)"
   ]
  },
  {
   "cell_type": "markdown",
   "id": "cc80cd87-ff41-4768-be22-a8d4829ce368",
   "metadata": {},
   "source": [
    "# Find n most similar tenders"
   ]
  },
  {
   "cell_type": "code",
   "execution_count": 100,
   "id": "2c208301-6b40-4333-bd6f-5f1af15ee156",
   "metadata": {
    "tags": []
   },
   "outputs": [
    {
     "data": {
      "image/png": "[encoded data removed]",
      "text/plain": [
       "<Figure size 432x288 with 1 Axes>"
      ]
     },
     "metadata": {},
     "output_type": "display_data"
    },
    {
     "name": "stdout",
     "output_type": "stream",
     "text": [
      "The 3 most similar tenders to ref1 = ['ref2', 'ref6', 'ref19']\n",
      "None\n"
     ]
    }
   ],
   "source": [
    "def most_similar_tenders(G, ref, n, thres, same_post=False):\n",
    "    similarity_scores = []\n",
    "    \n",
    "    vector1 = G.nodes[ref][\"embedding\"]\n",
    "    post1 = G.nodes[ref][\"postcode\"]\n",
    "    \n",
    "    # cosine between chosen ref and all other refs\n",
    "    for other_ref in G.nodes():\n",
    "        if other_ref != ref:\n",
    "            vector2 = G.nodes[other_ref][\"embedding\"]\n",
    "            similarity = cosine(vector1, vector2)\n",
    "            \n",
    "            if same_post:\n",
    "                post2 = G.nodes[other_ref][\"postcode\"]\n",
    "                if post1 == post2:\n",
    "                    similarity_scores.append((other_ref, similarity))\n",
    "\n",
    "            else:\n",
    "                similarity_scores.append((other_ref, similarity))\n",
    "\n",
    "    # desc order\n",
    "    similarity_scores.sort(key=lambda x: x[1], reverse=True)\n",
    "\n",
    "    # filter thres\n",
    "    similar_refs = [other_ref for other_ref, similarity in similarity_scores if similarity >= thres]\n",
    "    most_similar_n = similar_refs[:n]\n",
    "    \n",
    "    show_similar_tenders(G, ref, most_similar_n)\n",
    "    \n",
    "    return print(f\"The {n} most similar tenders to {ref} = {most_similar_n[:n]}\")\n",
    "\n",
    "def cosine(vector1, vector2):\n",
    "    similarity = cosine_similarity([vector1], [vector2])[0][0]\n",
    "    return similarity\n",
    "\n",
    "def show_similar_tenders(G, ref, similar_refs):\n",
    "    nodes = similar_refs + [ref]\n",
    "    subgraph = G.subgraph(nodes)\n",
    "    pos = nx.spring_layout(subgraph)\n",
    "    \n",
    "    nx.draw(subgraph, pos, with_labels=True, node_size=1000)\n",
    "    plt.show()\n",
    "\n",
    "ref = \"ref1\"\n",
    "n = 3\n",
    "thres = 0.9\n",
    "similar_refs = most_similar_tenders(G, ref, n, thres)\n",
    "print(similar_refs)"
   ]
  },
  {
   "cell_type": "code",
   "execution_count": null,
   "id": "c3d859eb-8e77-4b53-93ec-d71244352d73",
   "metadata": {},
   "outputs": [],
   "source": []
  }
 ],
 "metadata": {
  "kernelspec": {
   "display_name": "Python 3 (ipykernel)",
   "language": "python",
   "name": "python3"
  },
  "language_info": {
   "codemirror_mode": {
    "name": "ipython",
    "version": 3
   },
   "file_extension": ".py",
   "mimetype": "text/x-python",
   "name": "python",
   "nbconvert_exporter": "python",
   "pygments_lexer": "ipython3",
   "version": "3.9.12"
  }
 },
 "nbformat": 4,
 "nbformat_minor": 5
}
