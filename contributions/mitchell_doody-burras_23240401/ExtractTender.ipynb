{
 "cells": [
  {
   "cell_type": "code",
   "execution_count": null,
   "id": "2a45f845-8fac-49fc-af7a-2cc2cc527f6b",
   "metadata": {
    "tags": []
   },
   "outputs": [],
   "source": [
    "import os\n",
    "import zipfile\n",
    "import shutil\n",
    "\n",
    "def search(search_path):\n",
    "\n",
    "    ref_dict = {}\n",
    "\n",
    "# recursively through all files and folders\n",
    "    for root, dirs, files in os.walk(search_path):\n",
    "        for filename in files:\n",
    "            if filename.endswith(\".zip\"):\n",
    "                # get ref num\n",
    "                ref = filename.rsplit(\"-specification.zip\", 1)[0]\n",
    "                file_path = os.path.join(root, filename)\n",
    "\n",
    "                # open read zip\n",
    "                with zipfile.ZipFile(file_path, 'r') as zip_ref:\n",
    "                    file_list = zip_ref.namelist()\n",
    "                    doc_files = [file for file in file_list if \"request\" in file.lower() and file.lower().endswith(('.doc', '.docx'))]\n",
    "\n",
    "                    if doc_files:\n",
    "                        # add sub files, if any\n",
    "                        ref_dict.setdefault(ref, []).extend([(doc_name, file_path) for doc_name in doc_files])\n",
    "\n",
    "    for ref, doc_list in ref_dict.items():\n",
    "        print(f\"Reference: {ref}\")\n",
    "        for doc_name, file_path in doc_list:\n",
    "            print(f\"Document Name: {doc_name}, ZIP File Path: {file_path}\")\n",
    "\n",
    "    return ref_dict\n",
    "\n",
    "###########################################\n",
    "### filter for one relevant doc per ref ###\n",
    "###########################################\n",
    "\n",
    "def copy(copy_path, ref_dict):\n",
    "    # make output folder, in not already there\n",
    "    os.makedirs(copy_path, exist_ok=True)\n",
    "\n",
    "    for ref, doc_list in ref_dict.items():\n",
    "        for doc_name, file_path in doc_list:\n",
    "            # copy relevant docs from zip to output folder\n",
    "            with zipfile.ZipFile(file_path, 'r') as zip_ref:\n",
    "                for file in zip_ref.namelist():\n",
    "                    if file == doc_name:\n",
    "                        extracted_path = os.path.join(copy_path, f\"{ref}.doc\")\n",
    "                        with zip_ref.open(file) as source, open(extracted_path, \"wb\") as target:\n",
    "                            shutil.copyfileobj(source, target)\n",
    "                        print(f\"Extracted: {doc_name} from {file_path} to {extracted_path}\")\n",
    "    return\n",
    "\n",
    "zip_files_path = \"C:\\\\Users\\\\Mitch\\\\Capstone\\\\Tenders\"\n",
    "output_folder = \"C:\\\\Users\\\\Mitch\\\\Capstone\\\\ExtractedDocuments\"\n",
    "\n",
    "def extract(search_path, copy_path):\n",
    "    ref_dict = search(search_path)\n",
    "    copy(copy_path, ref_dict)    \n",
    "    return\n",
    "\n",
    "extract(zip_files_path, output_folder)"
   ]
  },
  {
   "cell_type": "code",
   "execution_count": null,
   "id": "f9aa5577-3857-4605-8763-ab6054dcfe48",
   "metadata": {},
   "outputs": [],
   "source": []
  }
 ],
 "metadata": {
  "kernelspec": {
   "display_name": "Python 3 (ipykernel)",
   "language": "python",
   "name": "python3"
  },
  "language_info": {
   "codemirror_mode": {
    "name": "ipython",
    "version": 3
   },
   "file_extension": ".py",
   "mimetype": "text/x-python",
   "name": "python",
   "nbconvert_exporter": "python",
   "pygments_lexer": "ipython3",
   "version": "3.9.12"
  }
 },
 "nbformat": 4,
 "nbformat_minor": 5
}
