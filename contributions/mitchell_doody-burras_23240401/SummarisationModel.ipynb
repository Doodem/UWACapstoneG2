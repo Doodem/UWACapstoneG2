{
 "cells": [
  {
   "cell_type": "code",
   "execution_count": 1,
   "id": "6d43e021-9266-455d-a862-43e44b5fc69a",
   "metadata": {
    "tags": []
   },
   "outputs": [],
   "source": [
    "import os\n",
    "import zipfile\n",
    "import shutil\n",
    "from docx import Document\n",
    "from transformers import pipeline"
   ]
  },
  {
   "cell_type": "markdown",
   "id": "2ca8dfb2-ca1d-432e-a6ec-f1f54eb87816",
   "metadata": {},
   "source": [
    "# Extract Tender Documents"
   ]
  },
  {
   "cell_type": "code",
   "execution_count": null,
   "id": "b8ffa088-3cb6-465a-8535-335f97a18d68",
   "metadata": {
    "tags": []
   },
   "outputs": [],
   "source": [
    "from ExtractTenders import extract\n",
    "\n",
    "search_path = r\"C:\\Users\\Mitch\\Tenders\"\n",
    "copy_path = r\"C:\\Users\\Mitch\\SpecDocs\"\n",
    "extract(search_path, copy_path)"
   ]
  },
  {
   "cell_type": "markdown",
   "id": "74904070-1f67-417f-97cd-0c463a54aa9f",
   "metadata": {},
   "source": [
    "# Extract Text"
   ]
  },
  {
   "cell_type": "code",
   "execution_count": 2,
   "id": "5272bc10-19bd-4a8b-872b-bffd0f6be493",
   "metadata": {
    "tags": []
   },
   "outputs": [],
   "source": [
    "from ReadFiles import extract_doc_by_header\n",
    "\n",
    "directory_path = r\"C:/Users/Mitch/SpecDocs\"\n",
    "header = \"Background\"\n",
    "docs = []\n",
    "\n",
    "for doc in os.listdir(directory_path):\n",
    "    doc_path = os.path.join(directory_path, doc)\n",
    "    try:\n",
    "        docs.append(extract_doc_by_header(doc_path, header))\n",
    "    except:\n",
    "        continue\n",
    "\n",
    "# remove those docs without background\n",
    "docs = [doc for doc in docs if doc != \"\"]"
   ]
  },
  {
   "cell_type": "markdown",
   "id": "5616c483-731c-4ad8-a50e-3b0421d16b05",
   "metadata": {},
   "source": [
    "# Load Summarisation Pipeline"
   ]
  },
  {
   "cell_type": "code",
   "execution_count": 7,
   "id": "d5adc3f7-3972-43a5-83f1-ac5e0a25b38a",
   "metadata": {},
   "outputs": [],
   "source": [
    "class Summariser:\n",
    "    def __init__(self, max_length, min_length, do_sample=False):\n",
    "        \"\"\" Summarises text inputs \"\"\"\n",
    "        # bart-large-xsum has default vocab 50,265\n",
    "        # each layers has default 1024\n",
    "        self.summarizer = pipeline('summarization', model='facebook/bart-large-xsum')\n",
    "        self.max_length = max_length\n",
    "        self.min_length = min_length\n",
    "        self.do_sample = do_sample\n",
    "        self.summarised_docs = [] # need to change this to dict\n",
    "\n",
    "    def summarise_docs(self, docs):\n",
    "        \"\"\" \n",
    "        max_length (int): Maximum length of the generated summary.\n",
    "        min_length (int): Minimum length of the generated summary.\n",
    "        do_sample (bool): Whether to use greedy sampling when generating summaries.\n",
    "        \n",
    "        Returns: list of summarised docs\n",
    "        \"\"\"\n",
    "        \n",
    "        for doc in docs:\n",
    "            try: # some documents still too long\n",
    "                summary = self.summarizer(doc, max_length=self.max_length, min_length=self.min_length, do_sample=self.do_sample)\n",
    "                self.summarised_docs.append(summary[0]['summary_text'])\n",
    "            except:\n",
    "                continue\n",
    "\n",
    "        return self.summarised_docs\n",
    "    \n",
    "    def doc_summary(self):\n",
    "        \n",
    "        # need to change into dictionary to return individual summary by reference number\n",
    "        return self.summarised_docs # summarised_docs[ref]"
   ]
  },
  {
   "cell_type": "markdown",
   "id": "db21588d-1a1c-4e25-904a-ae068af79dbd",
   "metadata": {},
   "source": [
    "# Summarise Documents"
   ]
  },
  {
   "cell_type": "code",
   "execution_count": 8,
   "id": "3d8e27dc-0aae-40f8-b2c2-086bb2057af1",
   "metadata": {
    "tags": []
   },
   "outputs": [
    {
     "name": "stdout",
     "output_type": "stream",
     "text": [
      "Summary for article 0:\n",
      "The Art Gallery of Western Australia (AGWA, the Customer) is looking for a consultant to assist with the day to day running of its Rooftop Bar and AGWA Café and Bar.\n",
      "Summary for article 1:\n",
      "The Western Australian government is seeking a new director for the Child and Adolescent Health Service - Community Health (CAHS-CH) in Western Australia.\n",
      "Summary for article 2:\n",
      "Belfast City Council is looking for a new blood transfusion system for children and young people in the north west of the city and the surrounding area.\n",
      "Summary for article 3:\n",
      "A contract has been submitted for the supply of a surgical microscope to the Child and Adolescent Health Service (CAHS) in Londonderry.\n"
     ]
    }
   ],
   "source": [
    "summariser = Summariser(max_length=50, min_length=30, do_sample=False)\n",
    "\n",
    "summarised_docs = summariser.summarise_docs(docs[1:5])\n",
    "\n",
    "for i, summary in enumerate(summarised_docs):\n",
    "    print(f\"Summary for article {i}:\\n{summary}\")"
   ]
  }
 ],
 "metadata": {
  "kernelspec": {
   "display_name": "Python 3 (ipykernel)",
   "language": "python",
   "name": "python3"
  },
  "language_info": {
   "codemirror_mode": {
    "name": "ipython",
    "version": 3
   },
   "file_extension": ".py",
   "mimetype": "text/x-python",
   "name": "python",
   "nbconvert_exporter": "python",
   "pygments_lexer": "ipython3",
   "version": "3.9.12"
  }
 },
 "nbformat": 4,
 "nbformat_minor": 5
}
