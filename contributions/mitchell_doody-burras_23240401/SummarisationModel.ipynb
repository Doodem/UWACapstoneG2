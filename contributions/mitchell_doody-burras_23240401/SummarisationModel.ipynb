{
 "cells": [
  {
   "cell_type": "code",
   "execution_count": null,
   "id": "6d43e021-9266-455d-a862-43e44b5fc69a",
   "metadata": {
    "tags": []
   },
   "outputs": [],
   "source": [
    "from transformers import pipeline"
   ]
  },
  {
   "cell_type": "markdown",
   "id": "5616c483-731c-4ad8-a50e-3b0421d16b05",
   "metadata": {},
   "source": [
    "# Load Summarisation Pipeline"
   ]
  },
  {
   "cell_type": "code",
   "execution_count": null,
   "id": "5fe76acf-69ea-4e59-afb3-297bf0cd2915",
   "metadata": {
    "tags": []
   },
   "outputs": [],
   "source": [
    "summariser = pipeline('summarization')\n",
    "# specify pipeline(model = model_name_or_path) to chose a model"
   ]
  },
  {
   "cell_type": "markdown",
   "id": "aae68c88-4470-4db3-8b3a-56d66ddd3b36",
   "metadata": {},
   "source": [
    "# Summarise Text"
   ]
  },
  {
   "cell_type": "code",
   "execution_count": null,
   "id": "9fbad800-dc48-495a-8a6a-72b3c018e25d",
   "metadata": {
    "tags": []
   },
   "outputs": [],
   "source": [
    "article = '''\n",
    "\n",
    "The WA Police Force, in collaboration with Department of Fire and Emergency Services (DFES) and Department of Justice (DoJ), are working together to establish an Emergency Services Radio Network (ESRN). \n",
    "WA Police Force, DFES and DoJ, each currently operate and rely on end of useful life devices (portable and mobile devices). The replacement of these devices is a critical activity required to ensure the continuation of reliable and effective communication by each organisation.\n",
    "Below is a brief snapshot of each Agencies Footprint across the State of Western Australia;\n",
    "\n",
    "WA Police Force\n",
    "•\tThe WA Police Force is responsible for policing the world's largest single police jurisdiction.\n",
    "•\tWestern Australia's 2.5 million square kilometres are covered with over 150 police stations across eight greater metropolitan and seven regional districts.\n",
    "•\tThe WA Police Force operates a digital trunked network within the greater Perth metropolitan area and a conventional digital trunked network in regional areas.\n",
    "•\tThe radio networks are comprised of 352 sites servicing over 6,800 mobile and portable devices.\n",
    "\n",
    "DFES\n",
    "•\tDFES is Western Australia’s leading hazard management agency\n",
    "•\tDFES co-ordinates emergency services for a range of natural disasters and emergency incidents threatening life and property\n",
    "•\tDFES is supported by over 29,000 emergency service volunteers and 1,120 career firefighters\n",
    "•\tApproximately 310 administration and support staff\n",
    "•\tDFES operates more than 1,560 response vehicles\n",
    "•\tDFES operates a number of analogue radio networks across the Perth metropolitan and regional Western Australia\n",
    "•\tThe radio networks are comprised of 170 sites servicing over 16,000 mobile and portable devices\n",
    "\n",
    "DoJ\n",
    "•\tDepartment of Justice supports the community, Western Australian Government, Judiciary and Parliament through the provision of access to high quality justice, legal and corrective services.\n",
    "•\tDepartment of Justice utilises and where required augments the West Australia Police trunk network to provide reliable in prison radio coverage.\n",
    "•\tDepartment of Justice utilise approximately 2,700 mobile and portable devices.\n",
    "\n",
    "The intent of this procurement and subsequent contract(s) is to provide WA Police Force, DFES and DoJ with terminal equipment (portable and mobile devices) over the Term of the contract period. WA Police Force will be the Customer for this contract but will work closely with DFES and DoJ to ensure their individual terminal equipment requirements are met. \n",
    "WA Police Force is seeking a panel contract for the supply of suitable devices that can support each agency to continue with their current network, and in their future transition to a collaborative digital network.  For this reason, three categories will be established under the contract(s), including but not limited to: \n",
    "\n",
    "'''\n",
    "\n",
    "removed_text = '''\n",
    "\n",
    "1.\tConventional Radios (consisting of General Spec) - the supply of Terminal Equipment that are equipped to operate in analogue and P25 conventional modes, and capable, but not equipped, to operate in P25 trunking modes;\n",
    "2.\tTrunked Radios (consisting of High Spec 1 and 2) - the supply of Terminal Equipment that is equipped to operate in P25 digital modes (trunked and/or conventional), but capable of operating in analogue conventional mode; and\n",
    "Please note:  the supply of Terminal Equipment accessories and consumables (e.g.  mobile mounting attachments, clips/pouches, antennae, headsets, earpieces, microphones and chargers) will be required for the categories listed above.\n",
    "As the devices may be directed to different agencies there may be differences in the components ordered to allow the devices to function in the different networks that are operating as different operating environments.\n",
    "All orders will be raised by WA Police Force on behalf of each Agency.  There is an expectation that once an order is delivered – the Agency that the devices are delivered to will be responsible for the maintenance and support requirements of those devices.  \n",
    "No guarantee of orders is provided in relation to any category of devices as this will be dependent on current, transitional and future network requirements for each Agency. Respondents can provide multiple models that meet the technical and functional requirements in either or all categories. WA Police Force reserves the right to appoint a sole contractor or a panel of contractors for each category. A Contractor/s can be appointed to more than one category.\n",
    "The devices for WA Police Force and DoJ will primarily be specific multi-band models that will work with the current digital conventional and digital trunked radio network and the future Harmonised Government Spectrum (HGS) compliant ESRN network.\n",
    "The required devices will be purchased and rolled out in stages dependent on current, transitional and future network requirements for each Agency.\n",
    "DFES’ initial devices will work with the current DFES analogue (VHF high band & UHF) radio network. When DFES eventually transitions to the ESRN network, DFES will require additional devices and potentially the scope to have equipment that can operate on both their current radio network and the new HGS compliant ESRN network. \n",
    "\n",
    "'''"
   ]
  },
  {
   "cell_type": "code",
   "execution_count": null,
   "id": "0ba30a3c-48fa-4af8-b622-0e3eeacd15ad",
   "metadata": {
    "tags": []
   },
   "outputs": [],
   "source": [
    "# max_length = maximum number of words in summary\n",
    "# min_length = minimum length of words in summary\n",
    "# do_sample = to use a greedy decoder or not\n",
    "summariser(article, max_length=130, min_length=30, do_sample=False)"
   ]
  }
 ],
 "metadata": {
  "kernelspec": {
   "display_name": "Python 3 (ipykernel)",
   "language": "python",
   "name": "python3"
  },
  "language_info": {
   "codemirror_mode": {
    "name": "ipython",
    "version": 3
   },
   "file_extension": ".py",
   "mimetype": "text/x-python",
   "name": "python",
   "nbconvert_exporter": "python",
   "pygments_lexer": "ipython3",
   "version": "3.9.12"
  }
 },
 "nbformat": 4,
 "nbformat_minor": 5
}
