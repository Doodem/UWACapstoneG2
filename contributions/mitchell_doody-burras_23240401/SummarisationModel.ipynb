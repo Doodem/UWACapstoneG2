{
 "cells": [
  {
   "cell_type": "markdown",
   "id": "5616c483-731c-4ad8-a50e-3b0421d16b05",
   "metadata": {},
   "source": [
    "# Load Summarisation Pipeline"
   ]
  },
  {
   "cell_type": "code",
   "execution_count": null,
   "id": "d5adc3f7-3972-43a5-83f1-ac5e0a25b38a",
   "metadata": {},
   "outputs": [],
   "source": [
    "from transformers import pipeline\n",
    "\n",
    "class Summariser:\n",
    "\n",
    "    def __init__(self, max_length, min_length, do_sample=False):\n",
    "        \"\"\" Summarises text inputs \"\"\"\n",
    "    \n",
    "        self.summarizer = pipeline('summarization', model='facebook/bart-large-xsum')\n",
    "        self.max_length = max_length\n",
    "        self.min_length = min_length\n",
    "        self.do_sample = do_sample\n",
    "        self.summarised_docs = {}\n",
    "\n",
    "    def summarise_docs(self, docs):\n",
    "        \"\"\" \n",
    "        max_length (int): Maximum length of the generated summary.\n",
    "        min_length (int): Minimum length of the generated summary.\n",
    "        do_sample (bool): Whether to use greedy sampling when generating summaries.\n",
    "        \n",
    "        Returns: dict of summaries per ref\n",
    "        \"\"\"\n",
    "        \n",
    "        for ref, text in docs.items(): \n",
    "            try:\n",
    "                summary = self.summarizer(text, max_length=self.max_length, min_length=self.min_length, do_sample=self.do_sample)\n",
    "                self.summarised_docs[ref] = summary[0]['summary_text']\n",
    "            except:\n",
    "                print(f\"Document for '{ref}' is most likely too long\")\n",
    "                continue\n",
    "        \n",
    "        return self.summarised_docs\n",
    "        \n",
    "    def summary(self, ref):\n",
    "        \"\"\" Return summaries from input ref \"\"\"\n",
    "        return print(self.summarised_docs[ref])"
   ]
  },
  {
   "cell_type": "code",
   "execution_count": null,
   "id": "c8923f65-4b19-402a-988a-b2ee81741f61",
   "metadata": {
    "tags": []
   },
   "outputs": [],
   "source": [
    "fake_dictionary = {\n",
    "    \"ref1\": {\n",
    "        \"doc1\": \"Motsugo is a minnow sized fish, also known as the Topmouth Gudgeon. It was introduced in the 1960s into ponds in Nucet, Dâmboviţa County, Romania and it made its way into Danube, then spreading throughout Europe. They pose danger to another species such as the sunbleaks (Leucaspius delineatus), as they are the carrier of a parasite (Sphaerothecum destruens) which while not damaging to the topmouth gudgeon, attacks other fishes like the sunbleaks, which are unable to spawn and have a higher mortality when infected.\",\n",
    "        \"doc4\": \"Motsugo was purchased new by the club, with money from donations and club funds. From the outset, it was designed and built as a file server to replace martello (and do the job much more reliably). 12G more RAM added 20110617.\",\n",
    "        \"doc5\": \"Host of secure user home directories, main user shell server. Took over Martello's tasks. Still used for a couple of Member VMs because people are scared of Medico. Frames loves medico more than everyone else, combined, and is running many big jobs on it for his final year project (2014).\",\n",
    "    },\n",
    "    \"ref2\": {\n",
    "        \"doc1\": \"It was originally purchased by the club in an auction for approximately $600 in 2017. Maltair was then a 1RU IBM System x3550 M4 server with dual 8-core Xeon E5-2680 CPUs and 192GB DDR3 ECC RAM (1600 MHz). Originally labelled maltair, this became maltair (dead) and later old maltair (dead). Following RCD testing one day in August 2018, it very suddenly became completely dead. As it turns out, an IMM2 firmware bug affecting that particular model of server caused a current surge through the built-in voltage regulators every time it was powered on, which could vastly decrease the lifetime of the components and eventually would result in a system board failure requiring a replacement of the entire motherboard. ([BOB] attempted to locate and replace the failed component itself, however in the end it was unsuccessful).\",\n",
    "        \"doc4\": \"A new server of the same model but vastly inferior specifications was then purchased from eBay for $400 to provide a replacement motherboard which was compatible with the components from the original server. This was nicknamed New Maltair for some time, until it died and then became New Dead Maltair. Components were transferred and the firmware was upgraded, which left a functional system almost identical to the original M4.\",\n",
    "        \"doc5\": \"Curiously enough, in February 2019, the replacement x3550 M4 hardware for Maltair died in the exact same fashion as its predecessor, apparently without regard for the firmware upgrade that was intended to fix the issue. Instead, the current HP DL380p G8 hardware was purchased as a replacement. This latest revision is often referred to as New Undead Maltair.\",\n",
    "    },\n",
    "    \"ref3\": {\n",
    "        \"doc1\": \"The University Computer Club is a student club located in Perth, Western Australia at the University of Western Australia with the objective of advancing computer science and technology in the University community. Many students call the UCC home and spend numerous hours hanging out, working on personal projects, gaming, coding and trying to finish assignments in the clubroom.\",\n",
    "        \"doc4\": \"If you want to see things the club has done, have a look at our networked coke machine and Internet enabled doors. The clubroom is generally open from around 9am till 10pm on weekdays and from around 1pm till 10pm on weekends. Opening times may vary wildly depending on weather, schedules and holidays. The easiest way to check if someone is around is by using the webcams. We have directions for getting to the clubroom from Stirling Hwy and the Guild Village.\",\n",
    "        \"doc5\": \"The UCC would be absolutely nothing without the generous sponsorship it receives from companies, organisations and individuals, both in Perth and around the world. Through them, the UCC has been able to get hardware, software and other requirements for its members that it would otherwise be unable to afford.\",\n",
    "    },\n",
    "}"
   ]
  },
  {
   "cell_type": "markdown",
   "id": "db21588d-1a1c-4e25-904a-ae068af79dbd",
   "metadata": {},
   "source": [
    "# Summarise Documents"
   ]
  },
  {
   "cell_type": "code",
   "execution_count": null,
   "id": "db91108a-a194-4b15-91d5-731c524b19c3",
   "metadata": {
    "tags": []
   },
   "outputs": [],
   "source": [
    "def combine(d):\n",
    "    tmp = {}\n",
    "    for ref, docs in d.items():\n",
    "        ref_text = ' '.join(docs.values())\n",
    "        tmp[ref] = ref_text\n",
    "    return tmp\n",
    "\n",
    "combined_docs = combine(fake_dictionary)\n",
    "for ref, text in combined_docs.items():\n",
    "    print(f\"Reference '{ref}':\\n{text}\\n\")"
   ]
  },
  {
   "cell_type": "code",
   "execution_count": null,
   "id": "3d8e27dc-0aae-40f8-b2c2-086bb2057af1",
   "metadata": {
    "tags": []
   },
   "outputs": [],
   "source": [
    "summariser = Summariser(max_length=50, min_length=10, do_sample=False)\n",
    "\n",
    "summarised_docs = summariser.summarise_docs(combined_docs)\n",
    "\n",
    "for ref, summary in summarised_docs.items():\n",
    "    print(f\"Summary for {ref}:\\n{summary}\")"
   ]
  },
  {
   "cell_type": "code",
   "execution_count": null,
   "id": "2badd40c-4a5c-4fa6-8ced-3405d60042b6",
   "metadata": {
    "tags": []
   },
   "outputs": [],
   "source": [
    "summariser.summary(\"ref1\")"
   ]
  }
 ],
 "metadata": {
  "kernelspec": {
   "display_name": "Python 3 (ipykernel)",
   "language": "python",
   "name": "python3"
  },
  "language_info": {
   "codemirror_mode": {
    "name": "ipython",
    "version": 3
   },
   "file_extension": ".py",
   "mimetype": "text/x-python",
   "name": "python",
   "nbconvert_exporter": "python",
   "pygments_lexer": "ipython3",
   "version": "3.9.12"
  }
 },
 "nbformat": 4,
 "nbformat_minor": 5
}
