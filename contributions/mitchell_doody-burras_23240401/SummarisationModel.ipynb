{
 "cells": [
  {
   "cell_type": "markdown",
   "id": "5616c483-731c-4ad8-a50e-3b0421d16b05",
   "metadata": {},
   "source": [
    "# Load Summarisation Pipeline"
   ]
  },
  {
   "cell_type": "code",
   "execution_count": null,
   "id": "d5adc3f7-3972-43a5-83f1-ac5e0a25b38a",
   "metadata": {},
   "outputs": [],
   "source": [
    "from transformers import pipeline\n",
    "\n",
    "class Summariser:\n",
    "\n",
    "    def __init__(self, max_length, min_length, type=False, do_sample=False):\n",
    "        \"\"\" Summarises text inputs \"\"\"\n",
    "\n",
    "        if type:\n",
    "            trained = type\n",
    "        else:\n",
    "            trained = 'xsum'\n",
    "        self.summarizer = pipeline('summarization', model=f'facebook/bart-large-{trained}')\n",
    "\n",
    "        self.max_length = max_length\n",
    "        self.min_length = min_length\n",
    "        self.do_sample = do_sample\n",
    "        self.summarised_docs = {}\n",
    "\n",
    "    def summarise_docs(self, docs):\n",
    "        \"\"\" \n",
    "        max_length (int): Maximum length of the generated summary.\n",
    "        min_length (int): Minimum length of the generated summary.\n",
    "        do_sample (bool): Whether to use greedy sampling when generating summaries.\n",
    "        \n",
    "        Returns: dict of summaries per ref\n",
    "        \"\"\"\n",
    "        \n",
    "        for ref, text in docs.items(): \n",
    "            try:\n",
    "                summary = self.summarizer(text, max_length=self.max_length, min_length=self.min_length, do_sample=self.do_sample)\n",
    "                self.summarised_docs[ref] = summary[0]['summary_text']\n",
    "            except:\n",
    "                print(f\"Document for '{ref}' is most likely too long\")\n",
    "                continue\n",
    "        \n",
    "        return self.summarised_docs\n",
    "        \n",
    "    def summary(self, ref):\n",
    "        \"\"\" Return summaries from input ref \"\"\"\n",
    "        return print(self.summarised_docs[ref])"
   ]
  },
  {
   "cell_type": "markdown",
   "id": "8f82c73c-d1e6-4cc0-b995-f547b4af22a4",
   "metadata": {},
   "source": [
    "# Read Pickles"
   ]
  },
  {
   "cell_type": "code",
   "execution_count": null,
   "id": "c8923f65-4b19-402a-988a-b2ee81741f61",
   "metadata": {
    "tags": []
   },
   "outputs": [],
   "source": [
    "import os\n",
    "import pickle\n",
    "\n",
    "def pickler(path):\n",
    "    pickles_read = {}\n",
    "    pickles_unread = []\n",
    "\n",
    "    for file in os.listdir(path):\n",
    "        if file.endswith('.pickle'):\n",
    "            file_path = os.path.join(path, file)\n",
    "            ref = os.path.splitext(os.path.basename(file_path))[0]\n",
    "            try:\n",
    "                with open(file_path, \"rb\") as data:\n",
    "                    pickles_read[ref] = pickle.load(data)\n",
    "            except:\n",
    "                pickles_unread.append(file)\n",
    "    \n",
    "    return pickles_read, pickles_unread\n",
    "                \n",
    "path = \"C:/Users/Mitch/pickles/\"\n",
    "\n",
    "pickles, empty_pickles = pickler(path)"
   ]
  },
  {
   "cell_type": "markdown",
   "id": "db21588d-1a1c-4e25-904a-ae068af79dbd",
   "metadata": {},
   "source": [
    "# Summarise Documents"
   ]
  },
  {
   "cell_type": "code",
   "execution_count": null,
   "id": "db91108a-a194-4b15-91d5-731c524b19c3",
   "metadata": {
    "tags": []
   },
   "outputs": [],
   "source": [
    "import itertools\n",
    "\n",
    "def combine(d):\n",
    "    tmp = {}\n",
    "    for ref, docs in d.items():\n",
    "        ref_text = ' '.join(docs.values())\n",
    "        tmp[ref] = ref_text\n",
    "    return tmp\n",
    "\n",
    "combined_docs = combine(pickles)\n",
    "\n",
    "n = 10\n",
    "test_docs = dict(itertools.islice(combined_docs.items(), n))\n",
    "\n",
    "#for ref, text in combined_docs.items():\n",
    "#    print(f\"Reference '{ref}':\\n{text}\\n\")"
   ]
  },
  {
   "cell_type": "code",
   "execution_count": null,
   "id": "3d8e27dc-0aae-40f8-b2c2-086bb2057af1",
   "metadata": {
    "tags": []
   },
   "outputs": [],
   "source": [
    "summariser = Summariser(max_length=30, min_length=10, do_sample=False)\n",
    "\n",
    "summarised_docs = summariser.summarise_docs(test_docs)\n",
    "\n",
    "for ref, summary in summarised_docs.items():\n",
    "    print(f\"Summary for {ref}:\\n{summary}\")"
   ]
  }
 ],
 "metadata": {
  "kernelspec": {
   "display_name": "Python 3 (ipykernel)",
   "language": "python",
   "name": "python3"
  },
  "language_info": {
   "codemirror_mode": {
    "name": "ipython",
    "version": 3
   },
   "file_extension": ".py",
   "mimetype": "text/x-python",
   "name": "python",
   "nbconvert_exporter": "python",
   "pygments_lexer": "ipython3",
   "version": "3.9.12"
  }
 },
 "nbformat": 4,
 "nbformat_minor": 5
}
