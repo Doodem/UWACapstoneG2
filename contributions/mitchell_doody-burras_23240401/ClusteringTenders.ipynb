{
 "cells": [
  {
   "cell_type": "code",
   "execution_count": 55,
   "id": "d82ed6a2-b763-4152-b3ba-3790eb2f67f2",
   "metadata": {
    "tags": []
   },
   "outputs": [],
   "source": [
    "from sklearn.preprocessing import StandardScaler\n",
    "from sklearn.decomposition import PCA\n",
    "from sklearn.cluster import AgglomerativeClustering\n",
    "from sklearn.model_selection import GridSearchCV\n",
    "from sklearn.metrics import silhouette_score\n",
    "from scipy.cluster.hierarchy import dendrogram, linkage\n",
    "import matplotlib.pyplot as plt\n",
    "import numpy as np\n",
    "\n",
    "# LOAD EMBEDDINGS\n",
    "a = np.load(\"C:/Users/Mitch/git/UWACapstoneG2/contributions/andre_italiano_22506333/bert model development/document_embeddings.npz\")\n",
    "loaded_array_list = [a[f] for f in a.files]"
   ]
  },
  {
   "cell_type": "code",
   "execution_count": 56,
   "id": "b0313403-b28f-4107-b4a2-6c592515a4ed",
   "metadata": {
    "tags": []
   },
   "outputs": [],
   "source": [
    "# PRINCIPAL COMPONENT ANALYSIS\n",
    "#scaler = StandardScaler()\n",
    "#scaled = scaler.fit_transform(loaded_array_list)\n",
    "#pca = PCA(n_components=2)\n",
    "#scaled_pca = pca.fit_transform(scaled)"
   ]
  },
  {
   "cell_type": "code",
   "execution_count": 57,
   "id": "ad761665-0108-472f-8757-2fb5a94e39eb",
   "metadata": {
    "tags": []
   },
   "outputs": [
    {
     "name": "stdout",
     "output_type": "stream",
     "text": [
      "Fitting 5 folds for each of 18 candidates, totalling 90 fits\n",
      "Best Parameters: {'linkage': 'average', 'n_clusters': 10}\n"
     ]
    }
   ],
   "source": [
    "# GRID SEARCH\n",
    "param_grid = {'n_clusters': [10, 12, 14, 16, 18, 20], 'linkage': ['complete', 'average', 'single']}\n",
    "\n",
    "def silhouette_scorer(estimator, X):\n",
    "    labels = estimator.fit_predict(X)\n",
    "    score = silhouette_score(X, labels)\n",
    "    return score\n",
    "\n",
    "clustering = AgglomerativeClustering()\n",
    "grid_search = GridSearchCV(clustering, param_grid=param_grid, scoring=silhouette_scorer, cv=5, verbose=1)\n",
    "grid_search.fit(loaded_array_list)\n",
    "\n",
    "best_params = grid_search.best_params_\n",
    "best_estimator = grid_search.best_estimator_\n",
    "\n",
    "print(\"Best Parameters:\", best_params)"
   ]
  },
  {
   "cell_type": "code",
   "execution_count": 58,
   "id": "e7f1eab1-59ea-4bc0-8e39-df5a03e7cc0b",
   "metadata": {
    "tags": []
   },
   "outputs": [
    {
     "name": "stdout",
     "output_type": "stream",
     "text": [
      "Silhouette Score: 0.1453773483633995\n",
      "Parameters: {'linkage': 'complete', 'n_clusters': 10}\n",
      "<---------------------------------------------------->\n",
      "Silhouette Score: 0.12936215698719025\n",
      "Parameters: {'linkage': 'complete', 'n_clusters': 12}\n",
      "<---------------------------------------------------->\n",
      "Silhouette Score: 0.11637718677520752\n",
      "Parameters: {'linkage': 'complete', 'n_clusters': 14}\n",
      "<---------------------------------------------------->\n",
      "Silhouette Score: 0.11931603401899338\n",
      "Parameters: {'linkage': 'complete', 'n_clusters': 16}\n",
      "<---------------------------------------------------->\n",
      "Silhouette Score: 0.11721078157424927\n",
      "Parameters: {'linkage': 'complete', 'n_clusters': 18}\n",
      "<---------------------------------------------------->\n",
      "Silhouette Score: 0.1117839902639389\n",
      "Parameters: {'linkage': 'complete', 'n_clusters': 20}\n",
      "<---------------------------------------------------->\n",
      "Silhouette Score: 0.196670201420784\n",
      "Parameters: {'linkage': 'average', 'n_clusters': 10}\n",
      "<---------------------------------------------------->\n",
      "Silhouette Score: 0.17148854434490204\n",
      "Parameters: {'linkage': 'average', 'n_clusters': 12}\n",
      "<---------------------------------------------------->\n",
      "Silhouette Score: 0.15950641930103301\n",
      "Parameters: {'linkage': 'average', 'n_clusters': 14}\n",
      "<---------------------------------------------------->\n",
      "Silhouette Score: 0.14098226875066758\n",
      "Parameters: {'linkage': 'average', 'n_clusters': 16}\n",
      "<---------------------------------------------------->\n",
      "Silhouette Score: 0.13966459631919861\n",
      "Parameters: {'linkage': 'average', 'n_clusters': 18}\n",
      "<---------------------------------------------------->\n",
      "Silhouette Score: 0.1267683520913124\n",
      "Parameters: {'linkage': 'average', 'n_clusters': 20}\n",
      "<---------------------------------------------------->\n",
      "Silhouette Score: 0.09298569113016128\n",
      "Parameters: {'linkage': 'single', 'n_clusters': 10}\n",
      "<---------------------------------------------------->\n",
      "Silhouette Score: 0.050235462933778764\n",
      "Parameters: {'linkage': 'single', 'n_clusters': 12}\n",
      "<---------------------------------------------------->\n",
      "Silhouette Score: 0.04689539279788733\n",
      "Parameters: {'linkage': 'single', 'n_clusters': 14}\n",
      "<---------------------------------------------------->\n",
      "Silhouette Score: 0.04154327092692256\n",
      "Parameters: {'linkage': 'single', 'n_clusters': 16}\n",
      "<---------------------------------------------------->\n",
      "Silhouette Score: 0.02311595194041729\n",
      "Parameters: {'linkage': 'single', 'n_clusters': 18}\n",
      "<---------------------------------------------------->\n",
      "Silhouette Score: 0.016283097863197326\n",
      "Parameters: {'linkage': 'single', 'n_clusters': 20}\n",
      "<---------------------------------------------------->\n"
     ]
    }
   ],
   "source": [
    "results = grid_search.cv_results_\n",
    "mean_silhouette_scores = results['mean_test_score']\n",
    "params_used = results['params']\n",
    "\n",
    "for score, params in zip(mean_silhouette_scores, params_used):\n",
    "    print(\"Silhouette Score:\", score)\n",
    "    print(\"Parameters:\", params)\n",
    "    print(\"<---------------------------------------------------->\")"
   ]
  },
  {
   "cell_type": "code",
   "execution_count": 63,
   "id": "039ccd6c-9760-4db8-b631-a0c757d09ebb",
   "metadata": {
    "tags": []
   },
   "outputs": [
    {
     "data": {
      "image/png": "[encoded data removed]",
      "text/plain": [
       "<Figure size 1440x720 with 1 Axes>"
      ]
     },
     "metadata": {
      "needs_background": "light"
     },
     "output_type": "display_data"
    }
   ],
   "source": [
    "# AGGLOMERATIVE CLUSTERING\n",
    "clusters = best_estimator.fit_predict(loaded_array_list)\n",
    "thres = 3\n",
    "\n",
    "linkage_matrix = linkage(loaded_array_list, method='complete', metric='euclidean')\n",
    "plt.figure(figsize=(20, 10))\n",
    "dendrogram(linkage_matrix, labels=clusters, color_threshold=thres)\n",
    "plt.xlabel('Tenders')\n",
    "plt.ylabel('Distance')\n",
    "plt.title('Hierarchical Clustering Dendrogram of Tenders')\n",
    "plt.axhline(y=thres, color='red', linestyle='--')\n",
    "plt.xticks(rotation=90)\n",
    "plt.show()"
   ]
  }
 ],
 "metadata": {
  "kernelspec": {
   "display_name": "Python 3 (ipykernel)",
   "language": "python",
   "name": "python3"
  },
  "language_info": {
   "codemirror_mode": {
    "name": "ipython",
    "version": 3
   },
   "file_extension": ".py",
   "mimetype": "text/x-python",
   "name": "python",
   "nbconvert_exporter": "python",
   "pygments_lexer": "ipython3",
   "version": "3.9.12"
  }
 },
 "nbformat": 4,
 "nbformat_minor": 5
}
