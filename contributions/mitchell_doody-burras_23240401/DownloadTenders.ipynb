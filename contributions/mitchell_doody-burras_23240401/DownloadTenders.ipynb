{
 "cells": [
  {
   "cell_type": "code",
   "execution_count": 1,
   "id": "32b79302-9e6f-4211-9c4c-e6f4cf8daf2c",
   "metadata": {
    "tags": []
   },
   "outputs": [],
   "source": [
    "import pandas as pd\n",
    "import random\n",
    "from concurrent.futures import ThreadPoolExecutor\n",
    "from selenium import webdriver\n",
    "from selenium.webdriver.common.by import By\n",
    "from selenium.webdriver.chrome.options import Options\n",
    "from selenium.webdriver.support.ui import WebDriverWait\n",
    "from selenium.webdriver.support import expected_conditions as EC\n",
    "import time\n",
    "import logging\n",
    "from tqdm.notebook import tqdm"
   ]
  },
  {
   "cell_type": "code",
   "execution_count": 2,
   "id": "8783e9f1-c2ca-4e37-99e7-c76b83b215ef",
   "metadata": {
    "tags": []
   },
   "outputs": [],
   "source": [
    "Tenders = pd.read_excel(\"C:/Users/Mitch/git/UWACapstoneG2/data/UpdatedTenders.xlsx\")\n",
    "CleanTenders = Tenders[[\"Reference Number\", \"TenderLink\"]].dropna(subset=[\"TenderLink\"]).drop_duplicates()\n",
    "TenderDict = dict(zip(CleanTenders[\"Reference Number\"], CleanTenders[\"TenderLink\"]))"
   ]
  },
  {
   "cell_type": "code",
   "execution_count": 3,
   "id": "197c2823-c66f-4a49-80e8-552fe523439d",
   "metadata": {
    "tags": []
   },
   "outputs": [],
   "source": [
    "LOG_FILENAME = 'download_error_log.txt'\n",
    "logging.basicConfig(filename=LOG_FILENAME)\n",
    "\n",
    "BUTTON_LOCATORS  = {\n",
    "    \"Download Now\": By.LINK_TEXT,\n",
    "    \"Download for Information Only\": By.XPATH,\n",
    "    \"Download Documents\": By.XPATH\n",
    "}\n",
    "\n",
    "CUSTOM_USER_AGENT  = \"Mozilla/5.0 (Windows NT 10.0; Win64; x64) AppleWebKit/537.36 (KHTML, like Gecko) Chrome/94.0.4606.61 Safari/537.36\"\n",
    "\n",
    "def click_button(driver, wait, button_text, ref):\n",
    "    \n",
    "    locator = BUTTON_LOCATORS[button_text]\n",
    "    if locator == \"xpath\":\n",
    "        button_text = f\"//input[@value='{button_text}']\"\n",
    "    \n",
    "    while True:\n",
    "        try:\n",
    "            button = wait.until(EC.element_to_be_clickable((locator, button_text)))\n",
    "            button.click()\n",
    "        except Exception as e:\n",
    "            log_error(ref, e)\n",
    "            driver.quit()\n",
    "            break\n",
    "        return\n",
    "\n",
    "def open_link(driver, link, ref):\n",
    "    while True:\n",
    "        try:\n",
    "            driver.get(link)\n",
    "        except Exception as e:\n",
    "            log_error(ref, e)\n",
    "            driver.quit()\n",
    "            break\n",
    "        return\n",
    "\n",
    "def log_error(ref, e):\n",
    "    error_message = f\"Error: {ref}, {e}\"\n",
    "    logging.error(error_message)\n",
    "    \n",
    "def download_tender(link, ref, path):\n",
    "    options = Options()\n",
    "    options.add_argument(\"--headless=new\")\n",
    "    options.add_argument(f\"user-agent={CUSTOM_USER_AGENT }\")\n",
    "    prefs = {\"download.default_directory\": path}\n",
    "    options.add_experimental_option(\"prefs\", prefs)\n",
    "\n",
    "    driver = webdriver.Chrome(options=options)\n",
    "    open_link(driver, link, ref)\n",
    "    \n",
    "    wait = WebDriverWait(driver, 10)\n",
    "    buttons = [\"Download Now\", \"Download for Information Only\", \"Download Documents\"]\n",
    "    for button in buttons:\n",
    "        click_button(driver, wait, button, ref)\n",
    "            \n",
    "    # Wait for downloads to complete\n",
    "    time.sleep(20)\n",
    "    driver.quit()\n",
    "\n",
    "#def download_multiple_tenders(max_workers, tender_dict, path):\n",
    "#    with ThreadPoolExecutor(max_workers=max_workers) as executor:\n",
    "#        futures = []        \n",
    "#        for ref, link in tender_dict.items():\n",
    "#            future = executor.submit(download_tender, link, ref, path)\n",
    "#            futures.append(future)\n",
    "#            \n",
    "#        with tqdm(total=len(futures), desc=\"Downloading Tenders\", colour='green') as pbar:\n",
    "#            for future in futures:\n",
    "#                future.result()\n",
    "#                pbar.update(1)\n",
    "\n",
    "def download_multiple_tenders(max_workers, tender_dict, path, batch_size, batch_interval):\n",
    "    with ThreadPoolExecutor(max_workers=max_workers) as executor:\n",
    "        total_batches = len(tender_dict) // batch_size + (1 if len(tender_dict) % batch_size > 0 else 0)\n",
    "        \n",
    "        with tqdm(total=total_batches, desc=\"Downloading Batches\", colour='green') as pbar:\n",
    "            for i in range(0, len(tender_dict), batch_size):\n",
    "                batch_tenders = list(tender_dict.items())[i:i+batch_size]\n",
    "                futures = []\n",
    "                \n",
    "                for ref, link in batch_tenders:\n",
    "                    future = executor.submit(download_tender, link, ref, path)\n",
    "                    futures.append(future)\n",
    "      \n",
    "                pbar.update(1)\n",
    "                \n",
    "                if batch_interval > 0 and i + batch_size < len(tender_dict):\n",
    "                    time.sleep(batch_interval)"
   ]
  },
  {
   "cell_type": "code",
   "execution_count": 4,
   "id": "290c22c3-b20c-4026-8007-e56d6f11bc11",
   "metadata": {
    "tags": []
   },
   "outputs": [],
   "source": [
    "# Production Enviroment 60 files\n",
    "ProTenders = {key: value for key, value in TenderDict.items() if \"qas\" not in value}\n",
    "ProTenders = dict(list(ProTenders.items())[20:40])\n",
    "# QA Enviroment 3312 files\n",
    "#QATenders = {key: value for key, value in TenderDict.items() if \"qas\" in value}\n",
    "# QA Test\n",
    "#n = 20\n",
    "#RandKeys = random.sample(list(TenderDict.keys()), n)\n",
    "#TestTenders = {key: TenderDict[key] for key in RandKeys}\n",
    "# Test error handling of tender without button\n",
    "#TestBadTender = {key: value for key, value in ProTenders.items() if \"DOC202324623\" in key}"
   ]
  },
  {
   "cell_type": "code",
   "execution_count": 5,
   "id": "692b9b93-7ce3-4aa8-85c5-342b64582c94",
   "metadata": {
    "tags": []
   },
   "outputs": [
    {
     "data": {
      "application/vnd.jupyter.widget-view+json": {
       "model_id": "d8d286c8ef044ad3b14db6ce508b87ed",
       "version_major": 2,
       "version_minor": 0
      },
      "text/plain": [
       "Downloading Batches:   0%|          | 0/4 [00:00<?, ?it/s]"
      ]
     },
     "metadata": {},
     "output_type": "display_data"
    }
   ],
   "source": [
    "download_multiple_tenders(max_workers=10,\n",
    "                         tender_dict=ProTenders, \n",
    "                         path=\"C:\\\\Users\\\\Mitch\\\\Capstone\\\\Tenders\",\n",
    "                         batch_size=5,\n",
    "                         batch_interval=10)"
   ]
  }
 ],
 "metadata": {
  "kernelspec": {
   "display_name": "Python 3 (ipykernel)",
   "language": "python",
   "name": "python3"
  },
  "language_info": {
   "codemirror_mode": {
    "name": "ipython",
    "version": 3
   },
   "file_extension": ".py",
   "mimetype": "text/x-python",
   "name": "python",
   "nbconvert_exporter": "python",
   "pygments_lexer": "ipython3",
   "version": "3.9.12"
  }
 },
 "nbformat": 4,
 "nbformat_minor": 5
}
