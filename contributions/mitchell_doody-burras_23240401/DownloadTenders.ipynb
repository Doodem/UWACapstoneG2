{
 "cells": [
  {
   "cell_type": "code",
   "execution_count": 1,
   "id": "32b79302-9e6f-4211-9c4c-e6f4cf8daf2c",
   "metadata": {
    "tags": []
   },
   "outputs": [],
   "source": [
    "import pandas as pd\n",
    "Tenders = pd.read_excel(\"C:/Users/Mitch/git/UWACapstoneG2/data/Tenders.xlsx\")"
   ]
  },
  {
   "cell_type": "code",
   "execution_count": 2,
   "id": "8783e9f1-c2ca-4e37-99e7-c76b83b215ef",
   "metadata": {
    "tags": []
   },
   "outputs": [],
   "source": [
    "# unique links\n",
    "Prep = Tenders[\"TenderLink\"].unique()\n",
    "# without nan\n",
    "Links = Prep[~pd.isnull(Prep)]"
   ]
  },
  {
   "cell_type": "code",
   "execution_count": 3,
   "id": "197c2823-c66f-4a49-80e8-552fe523439d",
   "metadata": {
    "tags": []
   },
   "outputs": [],
   "source": [
    "# Extracts tender zip files from links\n",
    "from selenium import webdriver\n",
    "from selenium.webdriver.common.by import By\n",
    "from selenium.webdriver.support.ui import WebDriverWait\n",
    "from selenium.webdriver.support import expected_conditions as EC\n",
    "import time\n",
    "\n",
    "# buttons \n",
    "locators = {\n",
    "    \"Download Now\": By.LINK_TEXT,\n",
    "    \"Download for Information Only\": By.XPATH,\n",
    "    \"Download Documents\": By.XPATH\n",
    "}\n",
    "\n",
    "def click_button(driver, wait, button_text):\n",
    "    \n",
    "    locator = locators[button_text]\n",
    "    if locator == \"xpath\":\n",
    "        button_text = f\"//input[@value='{button_text}']\"\n",
    "    \n",
    "    try:\n",
    "        button = wait.until(EC.element_to_be_clickable((locator, button_text)))\n",
    "        button.click()\n",
    "    except Exception as e:\n",
    "        print(f\"Error while clicking button '{button_text}': {e}\")\n",
    "\n",
    "def get_tenders(link):\n",
    "    driver = webdriver.Chrome()\n",
    "\n",
    "    # tender webpage\n",
    "    driver.get(link)\n",
    "\n",
    "    # wait for button to be clickable\n",
    "    wait = WebDriverWait(driver, 10)\n",
    "    \n",
    "    # click button in this order\n",
    "    buttons = [\"Download Now\", \"Download for Information Only\", \"Download Documents\"]\n",
    "    \n",
    "    for button in buttons:\n",
    "        click_button(driver, wait, button)\n",
    "\n",
    "    # enough time to download files before quitting\n",
    "    time.sleep(5)\n",
    "    driver.quit()"
   ]
  },
  {
   "cell_type": "code",
   "execution_count": 4,
   "id": "69320043-a782-4e8e-86b5-e466d58954a7",
   "metadata": {
    "tags": []
   },
   "outputs": [],
   "source": [
    "get_tenders(Links[0])\n",
    "#for i in Links:\n",
    "#    get_tenders(i)"
   ]
  }
 ],
 "metadata": {
  "kernelspec": {
   "display_name": "Python 3 (ipykernel)",
   "language": "python",
   "name": "python3"
  },
  "language_info": {
   "codemirror_mode": {
    "name": "ipython",
    "version": 3
   },
   "file_extension": ".py",
   "mimetype": "text/x-python",
   "name": "python",
   "nbconvert_exporter": "python",
   "pygments_lexer": "ipython3",
   "version": "3.9.12"
  }
 },
 "nbformat": 4,
 "nbformat_minor": 5
}
