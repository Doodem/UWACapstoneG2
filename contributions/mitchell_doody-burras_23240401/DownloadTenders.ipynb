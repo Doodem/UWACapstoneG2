{
 "cells": [
  {
   "cell_type": "code",
   "execution_count": 112,
   "id": "197c2823-c66f-4a49-80e8-552fe523439d",
   "metadata": {
    "tags": []
   },
   "outputs": [],
   "source": [
    "# Extracts tender zip files from links\n",
    "\n",
    "from selenium import webdriver\n",
    "from selenium.webdriver.common.by import By\n",
    "from selenium.webdriver.support.ui import WebDriverWait\n",
    "from selenium.webdriver.support import expected_conditions as EC\n",
    "import time\n",
    "\n",
    "def click_button(driver, wait, button_text):\n",
    "    try:\n",
    "        button = wait.until(EC.element_to_be_clickable((By.XPATH, f\"//input[@value='{button_text}']\")))\n",
    "        button.click()\n",
    "    except Exception as e:\n",
    "        print(f\"Error while clicking button '{button_text}': {e}\")\n",
    "\n",
    "def get_tenders(link):\n",
    "    driver = webdriver.Chrome()\n",
    "\n",
    "    # tender webpage\n",
    "    driver.get(link)\n",
    "\n",
    "    # wait for button to be clickable\n",
    "    wait = WebDriverWait(driver, 10)\n",
    "\n",
    "    # password protected, click button for information only version\n",
    "    click_button(driver, wait, \"Download for Information Only\")\n",
    "\n",
    "    # download zip\n",
    "    click_button(driver, wait, \"Download Documents\")\n",
    "\n",
    "    # enough time to download files before quitting\n",
    "    time.sleep(5)\n",
    "    driver.quit()\n",
    "\n",
    "get_tenders(\"https://www.tenders.wa.gov.au/watenders/tender/request/request-spec-docs.do?CSRFNONCE=687D24C86AA5CD5A167CC3C60BDDD821&tenderId=57321&method=downloadViaHTML\")"
   ]
  }
 ],
 "metadata": {
  "kernelspec": {
   "display_name": "Python 3 (ipykernel)",
   "language": "python",
   "name": "python3"
  },
  "language_info": {
   "codemirror_mode": {
    "name": "ipython",
    "version": 3
   },
   "file_extension": ".py",
   "mimetype": "text/x-python",
   "name": "python",
   "nbconvert_exporter": "python",
   "pygments_lexer": "ipython3",
   "version": "3.9.12"
  }
 },
 "nbformat": 4,
 "nbformat_minor": 5
}
