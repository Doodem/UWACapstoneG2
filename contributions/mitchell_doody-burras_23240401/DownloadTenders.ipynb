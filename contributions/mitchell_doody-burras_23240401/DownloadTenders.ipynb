{
 "cells": [
  {
   "cell_type": "code",
   "execution_count": null,
   "id": "32b79302-9e6f-4211-9c4c-e6f4cf8daf2c",
   "metadata": {
    "tags": []
   },
   "outputs": [],
   "source": [
    "import pandas as pd\n",
    "import random\n",
    "from tqdm.notebook import tqdm\n",
    "Tenders = pd.read_excel(\"C:/Users/Mitch/git/UWACapstoneG2/data/UpdatedTenders.xlsx\")"
   ]
  },
  {
   "cell_type": "code",
   "execution_count": null,
   "id": "8783e9f1-c2ca-4e37-99e7-c76b83b215ef",
   "metadata": {
    "tags": []
   },
   "outputs": [],
   "source": [
    "CleanTenders = Tenders[[\"Reference Number\", \"TenderLink\"]].dropna(subset=[\"TenderLink\"]).drop_duplicates()\n",
    "TenderDict = dict(zip(CleanTenders[\"Reference Number\"], CleanTenders[\"TenderLink\"]))"
   ]
  },
  {
   "cell_type": "code",
   "execution_count": null,
   "id": "197c2823-c66f-4a49-80e8-552fe523439d",
   "metadata": {
    "tags": []
   },
   "outputs": [],
   "source": [
    "from concurrent.futures import ThreadPoolExecutor\n",
    "from selenium import webdriver\n",
    "from selenium.webdriver.common.by import By\n",
    "from selenium.webdriver.chrome.options import Options\n",
    "from selenium.webdriver.support.ui import WebDriverWait\n",
    "from selenium.webdriver.support import expected_conditions as EC\n",
    "import time\n",
    "import logging\n",
    "\n",
    "LOG_FILENAME = 'download_error_log.txt'\n",
    "logging.basicConfig(filename=LOG_FILENAME)\n",
    "\n",
    "BUTTON_LOCATORS  = {\n",
    "    \"Download Now\": By.LINK_TEXT,\n",
    "    \"Download for Information Only\": By.XPATH,\n",
    "    \"Download Documents\": By.XPATH\n",
    "}\n",
    "\n",
    "CUSTOM_USER_AGENT  = \"Mozilla/5.0 (Windows NT 10.0; Win64; x64) AppleWebKit/537.36 (KHTML, like Gecko) Chrome/94.0.4606.61 Safari/537.36\"\n",
    "\n",
    "def click_button(driver, wait, button_text, ref):\n",
    "    \n",
    "    locator = BUTTON_LOCATORS[button_text]\n",
    "    if locator == \"xpath\":\n",
    "        button_text = f\"//input[@value='{button_text}']\"\n",
    "    \n",
    "    try:\n",
    "        button = wait.until(EC.element_to_be_clickable((locator, button_text)))\n",
    "        button.click()\n",
    "    except Exception as e:\n",
    "        error_message = f\"Error: {ref}, {e}\"\n",
    "        logging.error(error_message)\n",
    "        return False\n",
    "    return True\n",
    "\n",
    "def open_link(driver, link, ref):\n",
    "    while True:\n",
    "        try:\n",
    "            driver.get(link)\n",
    "        except Exception as e:\n",
    "            error_message = f\"Error: {ref}, {e}\"\n",
    "            logging.error(error_message)\n",
    "            print(f\"Quitting {ref} Driver\")\n",
    "            driver.quit()\n",
    "            break\n",
    "        return\n",
    "\n",
    "def download_tender(link, ref, path):\n",
    "    options = Options()\n",
    "    options.add_argument(\"--headless=new\")\n",
    "    options.add_argument(f\"user-agent={CUSTOM_USER_AGENT }\")\n",
    "    prefs = {\"download.default_directory\": path}\n",
    "    options.add_experimental_option(\"prefs\", prefs)\n",
    "\n",
    "    driver = webdriver.Chrome(options=options)\n",
    "    open_link(driver, link, ref)\n",
    "    \n",
    "    # wait for button to be clickable\n",
    "    wait = WebDriverWait(driver, 10)\n",
    "\n",
    "    buttons = [\"Download Now\", \"Download for Information Only\", \"Download Documents\"]\n",
    "    for button in buttons:\n",
    "        if not click_button(driver, wait, button, ref):\n",
    "            print(f\"Quitting {ref} Driver\")\n",
    "            driver.quit()\n",
    "            break\n",
    "        \n",
    "    # Wait for downloads to complete\n",
    "    time.sleep(15)\n",
    "    driver.quit()\n",
    "\n",
    "def download_multiple_tenders(max_workers, tender_dict, path):\n",
    "    with ThreadPoolExecutor(max_workers=max_workers) as executor:\n",
    "        futures = []        \n",
    "        for ref, link in tender_dict.items():\n",
    "            future = executor.submit(download_tender, link, ref, path)\n",
    "            futures.append(future)\n",
    "            \n",
    "        with tqdm(total=len(futures), desc=\"Downloading Tenders\", colour='green') as pbar:\n",
    "            for future in futures:\n",
    "                future.result()\n",
    "                pbar.update(1)"
   ]
  },
  {
   "cell_type": "code",
   "execution_count": null,
   "id": "290c22c3-b20c-4026-8007-e56d6f11bc11",
   "metadata": {
    "tags": []
   },
   "outputs": [],
   "source": [
    "# Production Enviroment 60 files\n",
    "ProTenders = {key: value for key, value in TenderDict.items() if \"qas\" not in value}\n",
    "# QA Enviroment 3312 files\n",
    "#QATenders = {key: value for key, value in TenderDict.items() if \"qas\" in value}\n",
    "# QA Test\n",
    "#n = 20\n",
    "#RandKeys = random.sample(list(QATenders.keys()), n)\n",
    "#TestTendersQA = {key: QATenders[key] for key in RandKeys}\n",
    "# Test error handling of tender without button\n",
    "#TestBadTender = {key: value for key, value in ProTenders.items() if \"DOC202324623\" in key}"
   ]
  },
  {
   "cell_type": "code",
   "execution_count": null,
   "id": "692b9b93-7ce3-4aa8-85c5-342b64582c94",
   "metadata": {
    "tags": []
   },
   "outputs": [],
   "source": [
    "download_multiple_tenders(max_workers=10, \n",
    "                          tender_dict=ProTenders, \n",
    "                          path=\"C:\\\\Users\\\\Mitch\\\\Capstone\\\\Tenders\")"
   ]
  },
  {
   "cell_type": "code",
   "execution_count": null,
   "id": "0f9fc71f-55ef-44bc-a34f-3fd714ceff71",
   "metadata": {},
   "outputs": [],
   "source": []
  }
 ],
 "metadata": {
  "kernelspec": {
   "display_name": "Python 3 (ipykernel)",
   "language": "python",
   "name": "python3"
  },
  "language_info": {
   "codemirror_mode": {
    "name": "ipython",
    "version": 3
   },
   "file_extension": ".py",
   "mimetype": "text/x-python",
   "name": "python",
   "nbconvert_exporter": "python",
   "pygments_lexer": "ipython3",
   "version": "3.9.12"
  }
 },
 "nbformat": 4,
 "nbformat_minor": 5
}
