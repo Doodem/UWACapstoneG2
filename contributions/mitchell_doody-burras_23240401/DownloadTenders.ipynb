{
 "cells": [
  {
   "cell_type": "code",
   "execution_count": null,
   "id": "32b79302-9e6f-4211-9c4c-e6f4cf8daf2c",
   "metadata": {
    "tags": []
   },
   "outputs": [],
   "source": [
    "import pandas as pd\n",
    "Tenders = pd.read_excel(\"C:/Users/Mitch/git/UWACapstoneG2/data/UpdatedTenders.xlsx\")"
   ]
  },
  {
   "cell_type": "code",
   "execution_count": null,
   "id": "8783e9f1-c2ca-4e37-99e7-c76b83b215ef",
   "metadata": {
    "tags": []
   },
   "outputs": [],
   "source": [
    "CleanTenders = Tenders[[\"Reference Number\", \"TenderLink\"]].dropna(subset=[\"TenderLink\"]).drop_duplicates()\n",
    "TenderDict = dict(zip(CleanTenders[\"Reference Number\"], CleanTenders[\"TenderLink\"]))"
   ]
  },
  {
   "cell_type": "code",
   "execution_count": null,
   "id": "197c2823-c66f-4a49-80e8-552fe523439d",
   "metadata": {
    "tags": []
   },
   "outputs": [],
   "source": [
    "from concurrent.futures import ThreadPoolExecutor\n",
    "from selenium import webdriver\n",
    "from selenium.webdriver.common.by import By\n",
    "from selenium.webdriver.chrome.options import Options\n",
    "from selenium.webdriver.support.ui import WebDriverWait\n",
    "from selenium.webdriver.support import expected_conditions as EC\n",
    "import time\n",
    "\n",
    "BUTTON_LOCATORS  = {\n",
    "    \"Download Now\": By.LINK_TEXT,\n",
    "    \"Download for Information Only\": By.XPATH,\n",
    "    \"Download Documents\": By.XPATH\n",
    "}\n",
    "\n",
    "CUSTOM_USER_AGENT  = \"Mozilla/5.0 (Windows NT 10.0; Win64; x64) AppleWebKit/537.36 (KHTML, like Gecko) Chrome/94.0.4606.61 Safari/537.36\"\n",
    "\n",
    "def click_button(driver, wait, button_text, ref):\n",
    "    \n",
    "    locator = BUTTON_LOCATORS[button_text]\n",
    "    if locator == \"xpath\":\n",
    "        button_text = f\"//input[@value='{button_text}']\"\n",
    "    \n",
    "    try:\n",
    "        button = wait.until(EC.element_to_be_clickable((locator, button_text)))\n",
    "        button.click()\n",
    "    except Exception as e:\n",
    "        print(f\"Error while clicking button '{button_text}' for ref {ref}: {e}\")\n",
    "\n",
    "def download_tender(link, ref, path):\n",
    "    options = Options()\n",
    "    options.add_argument(\"--headless=new\")\n",
    "    options.add_argument(f\"user-agent={CUSTOM_USER_AGENT }\")\n",
    "    prefs = {\"download.default_directory\": path}\n",
    "    options.add_experimental_option(\"prefs\", prefs)\n",
    "    driver = webdriver.Chrome(options=options)\n",
    "    driver.get(link)\n",
    "\n",
    "    # wait for button to be clickable + delay requests\n",
    "    driver = webdriver.Chrome(options=options)\n",
    "    driver.get(link)\n",
    "\n",
    "    wait = WebDriverWait(driver, 10)\n",
    "\n",
    "    buttons = [\"Download Now\", \"Download for Information Only\", \"Download Documents\"]\n",
    "    for button in buttons:\n",
    "        click_button(driver, wait, button, ref)\n",
    "\n",
    "    # Wait for downloads to complete\n",
    "    time.sleep(5)\n",
    "    driver.quit()\n",
    "\n",
    "def download_multiple_tenders(max_workers, tender_dict, path):\n",
    "    with ThreadPoolExecutor(max_workers=max_workers) as executor:\n",
    "        for ref, link in tender_dict.items():\n",
    "            executor.submit(download_tender, link, ref, path)"
   ]
  },
  {
   "cell_type": "code",
   "execution_count": null,
   "id": "290c22c3-b20c-4026-8007-e56d6f11bc11",
   "metadata": {
    "tags": []
   },
   "outputs": [],
   "source": [
    "FilterdTenders = {key: value for key, value in TenderDict.items() if \"qas\" not in value}\n",
    "\n",
    "download_multiple_tenders(max_workers=10, \n",
    "                          tender_dict=FilterdTenders, \n",
    "                          path=\"C:\\\\Users\\\\Mitch\\\\Capstone\\\\Tenders\")"
   ]
  },
  {
   "cell_type": "code",
   "execution_count": null,
   "id": "b8cf1bd7-b2e6-4457-b793-d86eac60d3da",
   "metadata": {
    "tags": []
   },
   "outputs": [],
   "source": [
    "# of filtered tenders, cannot download one file.\n",
    "FilterdTenders['DOC202324623'] # This is the reason why we can't click those 3 buttons. They aren't there !!!"
   ]
  }
 ],
 "metadata": {
  "kernelspec": {
   "display_name": "Python 3 (ipykernel)",
   "language": "python",
   "name": "python3"
  },
  "language_info": {
   "codemirror_mode": {
    "name": "ipython",
    "version": 3
   },
   "file_extension": ".py",
   "mimetype": "text/x-python",
   "name": "python",
   "nbconvert_exporter": "python",
   "pygments_lexer": "ipython3",
   "version": "3.9.12"
  }
 },
 "nbformat": 4,
 "nbformat_minor": 5
}
