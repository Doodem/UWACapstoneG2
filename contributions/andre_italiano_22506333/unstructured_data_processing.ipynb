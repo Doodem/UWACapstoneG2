{
 "cells": [
  {
   "cell_type": "code",
   "execution_count": null,
   "id": "72f5baa6-9a80-4b93-821c-23607339088e",
   "metadata": {},
   "outputs": [],
   "source": [
    "'''\n",
    "not sure exactly which parts of the document we should be focusing on, discuss at next group meeting\n",
    "\n",
    "to do: \n",
    "\n",
    "loop through different docx files to access content from more than one tender at a time \n",
    "figure out sections to keep data from \n",
    "unrelated to data processing, but need to figure out how to group tenders with differing lengths, centroid? \n",
    "\n",
    "'''"
   ]
  },
  {
   "cell_type": "code",
   "execution_count": 76,
   "id": "37476295-6407-40f8-b1a6-f2453f5524d0",
   "metadata": {},
   "outputs": [],
   "source": [
    "from docx.api import Document\n",
    "import os"
   ]
  },
  {
   "cell_type": "code",
   "execution_count": 74,
   "id": "345a3b71-916f-4100-906f-9a4ed77c94a0",
   "metadata": {
    "tags": []
   },
   "outputs": [],
   "source": [
    "def extract_content(headings,document):    \n",
    "    '''\n",
    "    extract text after heading, currently just testing function on grabbing \n",
    "    text after introduction heading.\n",
    "    \n",
    "    headings: list of headings you want to extract text from \n",
    "    document: document to parse\n",
    "    '''    \n",
    "    content = []\n",
    "    iters = 0\n",
    "    while headings:          \n",
    "        \n",
    "        if document.paragraphs[iters].style.name.startswith(\"Heading\") and document.paragraphs[iters].text in headings:\n",
    "            heading_name = document.paragraphs[iters].text\n",
    "            content.append(heading_name)\n",
    "            while document.paragraphs[iters+1].style.name.startswith(\"Body\"):                \n",
    "                content.append(document.paragraphs[iters+1].text)\n",
    "                iters+=1            \n",
    "            headings.remove(heading_name)\n",
    "            continue\n",
    "        iters+=1\n",
    "    \n",
    "    return content    "
   ]
  },
  {
   "cell_type": "code",
   "execution_count": 82,
   "id": "83f239b9-9750-4f94-8c17-c9b6b92c5d36",
   "metadata": {},
   "outputs": [],
   "source": [
    "def extract_content_from_files(headings,path):\n",
    "    content = []\n",
    "   \n",
    "    for filename in os.listdir(path):\n",
    "        try:\n",
    "            \n",
    "            file_path = os.path.join(path,filename)\n",
    "            document = Document(file_path)\n",
    "            content.append(extract_content(headings,document))\n",
    "        except:\n",
    "            continue\n",
    "    return content"
   ]
  },
  {
   "cell_type": "code",
   "execution_count": null,
   "id": "3f308494-05f5-4b5c-a116-16b285b33d04",
   "metadata": {},
   "outputs": [],
   "source": []
  }
 ],
 "metadata": {
  "kernelspec": {
   "display_name": "Python 3 (ipykernel)",
   "language": "python",
   "name": "python3"
  },
  "language_info": {
   "codemirror_mode": {
    "name": "ipython",
    "version": 3
   },
   "file_extension": ".py",
   "mimetype": "text/x-python",
   "name": "python",
   "nbconvert_exporter": "python",
   "pygments_lexer": "ipython3",
   "version": "3.9.15"
  }
 },
 "nbformat": 4,
 "nbformat_minor": 5
}
