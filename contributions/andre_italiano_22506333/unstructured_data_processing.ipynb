{
 "cells": [
  {
   "cell_type": "code",
   "execution_count": null,
   "id": "72f5baa6-9a80-4b93-821c-23607339088e",
   "metadata": {},
   "outputs": [],
   "source": [
    "'''\n",
    "not sure exactly which parts of the document we should be focusing on, discuss at next group meeting\n",
    "\n",
    "to do: \n",
    "\n",
    "loop through different docx files to access content from more than one tender at a time \n",
    "figure out sections to keep data from \n",
    "\n",
    "'''"
   ]
  },
  {
   "cell_type": "code",
   "execution_count": 3,
   "id": "37476295-6407-40f8-b1a6-f2453f5524d0",
   "metadata": {},
   "outputs": [],
   "source": [
    "from docx.api import Document"
   ]
  },
  {
   "cell_type": "code",
   "execution_count": 18,
   "id": "cdbb81e6-1fa4-4d15-872a-3866f7b951fe",
   "metadata": {},
   "outputs": [],
   "source": [
    "document = Document(r\"C:\\Users\\Andre Italiano\\Desktop\\masters folder\\semester 2 2023\\capstone project files\\test.docx\")"
   ]
  },
  {
   "cell_type": "code",
   "execution_count": 74,
   "id": "345a3b71-916f-4100-906f-9a4ed77c94a0",
   "metadata": {
    "tags": []
   },
   "outputs": [],
   "source": [
    "def extract_content(headings,document):\n",
    "    \n",
    "    '''\n",
    "    extract text after heading, currently just testing function on grabbing \n",
    "    text after introduction heading.\n",
    "    \n",
    "    headings: list of headings you want to extract text from \n",
    "    document: document to parse\n",
    "    '''\n",
    "    \n",
    "    content = []\n",
    "    iters = 0\n",
    "    while headings:          \n",
    "        \n",
    "        if document.paragraphs[iters].style.name.startswith(\"Heading\") and document.paragraphs[iters].text in headings:\n",
    "            heading_name = document.paragraphs[iters].text\n",
    "            content.append(heading_name)\n",
    "            while document.paragraphs[iters+1].style.name.startswith(\"Body\"):\n",
    "                \n",
    "                content.append(document.paragraphs[iters+1].text)\n",
    "                iters+=1\n",
    "            \n",
    "            headings.remove(heading_name)\n",
    "            continue\n",
    "        iters+=1\n",
    "    \n",
    "    return content\n",
    "    "
   ]
  },
  {
   "cell_type": "code",
   "execution_count": 75,
   "id": "cc01d43e-5b36-4a1b-9797-e43b7b22f2f1",
   "metadata": {},
   "outputs": [
    {
     "data": {
      "text/plain": [
       "['Introduction',\n",
       " 'The Chemistry Centre (CCWA) requires the supply, installation, integration and post-implementation support of an “out-of-the-box” Enterprise Financial Management Solution (Solution).',\n",
       " 'The solution is required to provide appropriate enterprise wide financial functionality to support effective financial management and to keep CCWA legislatively compliant.',\n",
       " 'The Customer expects all requirements would be delivered through a single software solution. Furthermore, the solution requires integration with a number of other solutions (both internally developed and off-the shelf), currently being utilised by CCWA. These are listed under Schedule 2 – Specification/Statement of Works.',\n",
       " 'Background',\n",
       " \"As the State's leading chemistry and forensic science service provider, Chemistry Centre (CCWA) ensures a safe and prosperous Western Australia through the provision of services and expertise that mitigate State risks, protect the community and support sustainable development.\",\n",
       " 'Primary functions are:',\n",
       " \"Provision of essential forensic services to key justice agencies (WA Police, Coroner's Office) that meet legislative and court evidentiary requirements.\",\n",
       " 'Chemical analyses, research and advice to Government and industry for the purposes of addressing risks to public health, safety and the environment and to assist with State economic development.',\n",
       " 'Maintaining a 24/7 emergency response capability to fulfil Chemistry Centre (CCWA) defined roles and responsibilities in the State Hazard Plan (HAZMAT), as a major response agency in the Joint Hazardous Response Team of the Australia New Zealand Counter Terrorism Committee and as the WA representative on the Chemical Warfare Agent Laboratory Network.']"
      ]
     },
     "execution_count": 75,
     "metadata": {},
     "output_type": "execute_result"
    }
   ],
   "source": [
    "extract_content(['Introduction','Background'],document)"
   ]
  },
  {
   "cell_type": "code",
   "execution_count": null,
   "id": "3f308494-05f5-4b5c-a116-16b285b33d04",
   "metadata": {},
   "outputs": [],
   "source": []
  }
 ],
 "metadata": {
  "kernelspec": {
   "display_name": "Python 3 (ipykernel)",
   "language": "python",
   "name": "python3"
  },
  "language_info": {
   "codemirror_mode": {
    "name": "ipython",
    "version": 3
   },
   "file_extension": ".py",
   "mimetype": "text/x-python",
   "name": "python",
   "nbconvert_exporter": "python",
   "pygments_lexer": "ipython3",
   "version": "3.9.15"
  }
 },
 "nbformat": 4,
 "nbformat_minor": 5
}
