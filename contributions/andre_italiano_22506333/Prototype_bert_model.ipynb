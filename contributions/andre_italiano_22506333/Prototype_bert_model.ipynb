{
 "cells": [
  {
   "cell_type": "code",
   "execution_count": 1,
   "id": "38f82d65-286c-4637-b87e-490b68ff9ba4",
   "metadata": {
    "tags": []
   },
   "outputs": [
    {
     "name": "stderr",
     "output_type": "stream",
     "text": [
      "[nltk_data] Downloading package wordnet to C:\\Users\\Andre\n",
      "[nltk_data]     Italiano\\AppData\\Roaming\\nltk_data...\n",
      "[nltk_data]   Package wordnet is already up-to-date!\n",
      "[nltk_data] Downloading package punkt to C:\\Users\\Andre\n",
      "[nltk_data]     Italiano\\AppData\\Roaming\\nltk_data...\n",
      "[nltk_data]   Package punkt is already up-to-date!\n",
      "[nltk_data] Downloading package averaged_perceptron_tagger to\n",
      "[nltk_data]     C:\\Users\\Andre Italiano\\AppData\\Roaming\\nltk_data...\n",
      "[nltk_data]   Package averaged_perceptron_tagger is already up-to-\n",
      "[nltk_data]       date!\n"
     ]
    }
   ],
   "source": [
    "import Embedding_Model as em\n",
    "import pandas as pd\n",
    "import numpy as np\n",
    "import torch\n",
    "import torch.nn.functional as F\n",
    "from transformers import BertTokenizer\n",
    "from sklearn.decomposition import PCA"
   ]
  },
  {
   "cell_type": "code",
   "execution_count": 2,
   "id": "34e44249-0089-4dc3-9a8d-88050e9ca6f5",
   "metadata": {},
   "outputs": [],
   "source": [
    "# load data\n",
    "data = pd.read_excel('UpdatedTenders.xlsx')"
   ]
  },
  {
   "cell_type": "code",
   "execution_count": 3,
   "id": "d62c1a81-8d0d-4d08-ad6d-4ecc19394e7a",
   "metadata": {},
   "outputs": [],
   "source": [
    "# initialize model and preprocesser \n",
    "model = em.Pretrained_model()\n",
    "preprocessor = em.Textprocessor()"
   ]
  },
  {
   "cell_type": "code",
   "execution_count": 4,
   "id": "9ec4718d-365a-4711-9f95-ae581dc99198",
   "metadata": {},
   "outputs": [],
   "source": [
    "data['Description'] = data['Description'].apply(em.remove_html_tags)"
   ]
  },
  {
   "cell_type": "code",
   "execution_count": 5,
   "id": "6e376170-0d50-4821-8500-9dff57b4acb5",
   "metadata": {},
   "outputs": [],
   "source": [
    "data_list = list(data['Description'])"
   ]
  },
  {
   "cell_type": "code",
   "execution_count": null,
   "id": "be338b83-e7d4-4d43-970e-a009dd9aa6ac",
   "metadata": {
    "tags": []
   },
   "outputs": [
    {
     "name": "stdout",
     "output_type": "stream",
     "text": [
      "100\n",
      "200\n",
      "300\n"
     ]
    }
   ],
   "source": [
    "# get embeddings\n",
    "output = []\n",
    "c = 0\n",
    "for item in data_list:\n",
    "    output.append(em.preprocess_and_forward(item,preprocessor,model).numpy()[0])\n",
    "    \n",
    "    c +=1\n",
    "    if c % 100 ==0:\n",
    "        print(c)\n",
    "    if c == 1000:\n",
    "        break"
   ]
  },
  {
   "cell_type": "code",
   "execution_count": 7,
   "id": "5a7b0bf0-f676-46e9-8042-652ca7f23c52",
   "metadata": {},
   "outputs": [],
   "source": [
    "pca = PCA(n_components = 50)"
   ]
  },
  {
   "cell_type": "code",
   "execution_count": 8,
   "id": "21ff3034-c4cb-4735-8e7c-937c9a35689d",
   "metadata": {
    "tags": []
   },
   "outputs": [
    {
     "data": {
      "text/plain": [
       "-0.37539753"
      ]
     },
     "execution_count": 8,
     "metadata": {},
     "output_type": "execute_result"
    }
   ],
   "source": [
    "# reshape d\n",
    "output[0][0]"
   ]
  },
  {
   "cell_type": "code",
   "execution_count": 9,
   "id": "a9e9ae58-d5a8-4ae5-9814-5d7653fbb9ff",
   "metadata": {},
   "outputs": [],
   "source": [
    "pca.fit(output)\n",
    "output_reduced = pca.transform(output)"
   ]
  },
  {
   "cell_type": "code",
   "execution_count": 10,
   "id": "daa5339d-8d3c-4efd-b9d9-70b31787732c",
   "metadata": {},
   "outputs": [
    {
     "data": {
      "text/plain": [
       "array([[ 1.13349674e+00, -2.39753741e+00,  1.02578795e+00, ...,\n",
       "         1.25034874e-02,  2.74246824e-05,  1.64588744e-01],\n",
       "       [-3.06357882e+00,  2.09582205e-01,  2.13591131e-01, ...,\n",
       "        -3.50371792e-03,  2.38326071e-01, -1.79390082e-01],\n",
       "       [-2.02452953e-01, -6.15734177e-01,  1.04325135e+00, ...,\n",
       "        -5.88543073e-02,  1.44547873e-01,  1.82323499e-02],\n",
       "       ...,\n",
       "       [-2.06602771e+00,  1.20991674e+00, -2.32472200e-01, ...,\n",
       "        -2.91039796e-02,  1.17260509e-01,  1.46939266e-01],\n",
       "       [-3.25464598e+00, -5.13819735e-01,  9.37346428e-02, ...,\n",
       "         1.40579465e-02,  8.33138809e-02,  7.70584901e-02],\n",
       "       [-2.56930051e+00, -2.57049778e-01,  2.30919141e-01, ...,\n",
       "        -7.65985841e-02,  7.33818217e-02,  6.11162690e-03]])"
      ]
     },
     "execution_count": 10,
     "metadata": {},
     "output_type": "execute_result"
    }
   ],
   "source": [
    "output_reduced"
   ]
  },
  {
   "cell_type": "code",
   "execution_count": 12,
   "id": "bcca1756-9272-4ed2-8ddd-69926fda956f",
   "metadata": {},
   "outputs": [
    {
     "data": {
      "text/plain": [
       "0.00724617697412939"
      ]
     },
     "execution_count": 12,
     "metadata": {},
     "output_type": "execute_result"
    }
   ],
   "source": [
    "em.cosine_sim(output_reduced[1],output_reduced[2])"
   ]
  },
  {
   "cell_type": "code",
   "execution_count": 13,
   "id": "78bc771a-84f0-4abf-937e-0cdedbfe26e7",
   "metadata": {},
   "outputs": [
    {
     "data": {
      "text/plain": [
       "0.8188504723485274"
      ]
     },
     "execution_count": 13,
     "metadata": {},
     "output_type": "execute_result"
    }
   ],
   "source": [
    "a = [2,1,2,3,2,9]\n",
    "b = [3,4,2,4,5,5]\n",
    "em.cosine_sim(a,b)"
   ]
  },
  {
   "cell_type": "code",
   "execution_count": 49,
   "id": "d863c11a-12d9-48f1-b4d8-1e2ec6baa428",
   "metadata": {},
   "outputs": [],
   "source": [
    "i_no = 0\n",
    "t_no = 0\n",
    "match = []\n",
    "for item in output_reduced:\n",
    "    t_no = 0\n",
    "    \n",
    "    for thing in output_reduced:\n",
    "        if em.cosine_sim(item,thing) > 0.95 and i_no==8:\n",
    "            match.append(i_no)\n",
    "            match.append(t_no)\n",
    "        t_no +=1\n",
    "    i_no +=1"
   ]
  },
  {
   "cell_type": "code",
   "execution_count": 50,
   "id": "ced1fc5e-9c70-4e0d-8f65-b4df972d979e",
   "metadata": {},
   "outputs": [
    {
     "name": "stdout",
     "output_type": "stream",
     "text": [
      "[8, 8, 8, 9, 8, 332, 8, 356]\n"
     ]
    }
   ],
   "source": [
    "print(match)"
   ]
  },
  {
   "cell_type": "code",
   "execution_count": null,
   "id": "ee2d6e4b-da2f-4e47-9f9b-8900c4e1b268",
   "metadata": {},
   "outputs": [],
   "source": []
  }
 ],
 "metadata": {
  "kernelspec": {
   "display_name": "Python 3 (ipykernel)",
   "language": "python",
   "name": "python3"
  },
  "language_info": {
   "codemirror_mode": {
    "name": "ipython",
    "version": 3
   },
   "file_extension": ".py",
   "mimetype": "text/x-python",
   "name": "python",
   "nbconvert_exporter": "python",
   "pygments_lexer": "ipython3",
   "version": "3.9.15"
  }
 },
 "nbformat": 4,
 "nbformat_minor": 5
}
