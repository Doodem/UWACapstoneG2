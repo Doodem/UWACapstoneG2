{
 "cells": [
  {
   "cell_type": "code",
   "execution_count": 1,
   "id": "38f82d65-286c-4637-b87e-490b68ff9ba4",
   "metadata": {
    "tags": []
   },
   "outputs": [
    {
     "name": "stderr",
     "output_type": "stream",
     "text": [
      "[nltk_data] Downloading package wordnet to C:\\Users\\Andre\n",
      "[nltk_data]     Italiano\\AppData\\Roaming\\nltk_data...\n",
      "[nltk_data]   Package wordnet is already up-to-date!\n",
      "[nltk_data] Downloading package punkt to C:\\Users\\Andre\n",
      "[nltk_data]     Italiano\\AppData\\Roaming\\nltk_data...\n",
      "[nltk_data]   Package punkt is already up-to-date!\n",
      "[nltk_data] Downloading package averaged_perceptron_tagger to\n",
      "[nltk_data]     C:\\Users\\Andre Italiano\\AppData\\Roaming\\nltk_data...\n",
      "[nltk_data]   Package averaged_perceptron_tagger is already up-to-\n",
      "[nltk_data]       date!\n"
     ]
    }
   ],
   "source": [
    "import Embedding_Model as em\n",
    "import pandas as pd\n",
    "import numpy as np\n",
    "import torch\n",
    "import torch.nn.functional as F\n",
    "from transformers import BertTokenizer\n"
   ]
  },
  {
   "cell_type": "code",
   "execution_count": 2,
   "id": "34e44249-0089-4dc3-9a8d-88050e9ca6f5",
   "metadata": {},
   "outputs": [],
   "source": [
    "# load data\n",
    "data = pd.read_excel('UpdatedTenders.xlsx')"
   ]
  },
  {
   "cell_type": "code",
   "execution_count": 3,
   "id": "d62c1a81-8d0d-4d08-ad6d-4ecc19394e7a",
   "metadata": {},
   "outputs": [],
   "source": [
    "# initialize model and preprocesser \n",
    "model = em.Pretrained_model()\n",
    "preprocessor = em.Textprocessor()"
   ]
  },
  {
   "cell_type": "code",
   "execution_count": 4,
   "id": "9ec4718d-365a-4711-9f95-ae581dc99198",
   "metadata": {},
   "outputs": [],
   "source": [
    "data['Description'] = data['Description'].apply(em.remove_html_tags)"
   ]
  },
  {
   "cell_type": "code",
   "execution_count": 5,
   "id": "6e376170-0d50-4821-8500-9dff57b4acb5",
   "metadata": {},
   "outputs": [],
   "source": [
    "data_list = list(data['Description'])"
   ]
  },
  {
   "cell_type": "code",
   "execution_count": 6,
   "id": "be338b83-e7d4-4d43-970e-a009dd9aa6ac",
   "metadata": {
    "collapsed": true,
    "jupyter": {
     "outputs_hidden": true
    },
    "tags": []
   },
   "outputs": [
    {
     "name": "stdout",
     "output_type": "stream",
     "text": [
      "100\n",
      "200\n",
      "300\n",
      "400\n",
      "500\n",
      "600\n",
      "700\n",
      "800\n",
      "900\n",
      "1000\n",
      "1100\n",
      "1200\n",
      "1300\n",
      "1400\n",
      "1500\n",
      "1600\n"
     ]
    },
    {
     "name": "stderr",
     "output_type": "stream",
     "text": [
      "\n",
      "KeyboardInterrupt\n",
      "\n"
     ]
    }
   ],
   "source": [
    "# get embeddings\n",
    "output = []\n",
    "c = 0\n",
    "for item in data_list:\n",
    "    output.append(em.preprocess_and_forward(item,model))\n",
    "    c +=1\n",
    "    if c % 100 ==0:\n",
    "        print(c)\n",
    "    "
   ]
  },
  {
   "cell_type": "code",
   "execution_count": 23,
   "id": "a227d327-603c-4142-aae0-86b5c30b3efc",
   "metadata": {
    "collapsed": true,
    "jupyter": {
     "outputs_hidden": true
    },
    "tags": []
   },
   "outputs": [
    {
     "ename": "KeyboardInterrupt",
     "evalue": "",
     "output_type": "error",
     "traceback": [
      "\u001b[1;31m---------------------------------------------------------------------------\u001b[0m",
      "\u001b[1;31mKeyboardInterrupt\u001b[0m                         Traceback (most recent call last)",
      "Cell \u001b[1;32mIn[23], line 5\u001b[0m\n\u001b[0;32m      3\u001b[0m d2\u001b[38;5;241m=\u001b[39m \u001b[38;5;241m0\u001b[39m \n\u001b[0;32m      4\u001b[0m \u001b[38;5;28;01mfor\u001b[39;00m thing \u001b[38;5;129;01min\u001b[39;00m output:\n\u001b[1;32m----> 5\u001b[0m     a \u001b[38;5;241m=\u001b[39m \u001b[43mem\u001b[49m\u001b[38;5;241;43m.\u001b[39;49m\u001b[43mcosine_sim\u001b[49m\u001b[43m(\u001b[49m\u001b[43mitem\u001b[49m\u001b[43m,\u001b[49m\u001b[43mthing\u001b[49m\u001b[43m)\u001b[49m\n\u001b[0;32m      6\u001b[0m     x[d1,d2] \u001b[38;5;241m=\u001b[39m a[\u001b[38;5;241m0\u001b[39m]\u001b[38;5;241m.\u001b[39mitem()\n\u001b[0;32m      7\u001b[0m     d2 \u001b[38;5;241m+\u001b[39m\u001b[38;5;241m=\u001b[39m\u001b[38;5;241m1\u001b[39m\n",
      "File \u001b[1;32m~\\Desktop\\masters folder\\semester 2 2023\\capstone project files\\github repo\\UWACapstoneG2\\contributions\\andre_italiano_22506333\\Embedding_Model.py:62\u001b[0m, in \u001b[0;36mcosine_sim\u001b[1;34m(x1, x2)\u001b[0m\n\u001b[0;32m     61\u001b[0m \u001b[38;5;28;01mdef\u001b[39;00m \u001b[38;5;21mcosine_sim\u001b[39m(x1,x2):\n\u001b[1;32m---> 62\u001b[0m     \u001b[38;5;28;01mreturn\u001b[39;00m \u001b[43mF\u001b[49m\u001b[38;5;241;43m.\u001b[39;49m\u001b[43mcosine_similarity\u001b[49m\u001b[43m(\u001b[49m\u001b[43mx1\u001b[49m\u001b[43m,\u001b[49m\u001b[43mx2\u001b[49m\u001b[43m)\u001b[49m\n",
      "\u001b[1;31mKeyboardInterrupt\u001b[0m: "
     ]
    }
   ],
   "source": [
    "# create similarity matrix \n",
    "d1 = 0\n",
    "x = np.zeros([len(output),len(output)])\n",
    "for item in output:\n",
    "    d2= 0 \n",
    "    for thing in output:\n",
    "        a = em.cosine_sim(item,thing)\n",
    "        x[d1,d2] = a[0].item()\n",
    "        d2 +=1\n",
    "    d1 +=1\n",
    "        "
   ]
  },
  {
   "cell_type": "code",
   "execution_count": 18,
   "id": "3735caba-9b54-4f61-b1b8-a73cc979e059",
   "metadata": {},
   "outputs": [],
   "source": [
    "a = em.cosine_sim(output[0],output[1])"
   ]
  },
  {
   "cell_type": "code",
   "execution_count": 16,
   "id": "653f0769-cd47-41ca-a61c-85d520a61caf",
   "metadata": {},
   "outputs": [],
   "source": []
  },
  {
   "cell_type": "code",
   "execution_count": 17,
   "id": "2e014997-4cb2-4e30-b959-f11f62ebc84b",
   "metadata": {},
   "outputs": [],
   "source": [
    "x[0,0] = 1"
   ]
  },
  {
   "cell_type": "code",
   "execution_count": 22,
   "id": "ce1ac65d-a359-49f7-93be-204e5062c3a4",
   "metadata": {},
   "outputs": [
    {
     "data": {
      "text/plain": [
       "0.6959069967269897"
      ]
     },
     "execution_count": 22,
     "metadata": {},
     "output_type": "execute_result"
    }
   ],
   "source": [
    "a[0].item()"
   ]
  },
  {
   "cell_type": "code",
   "execution_count": 26,
   "id": "cd31d63b-e2f3-4d1d-9606-762f7b944284",
   "metadata": {},
   "outputs": [
    {
     "data": {
      "text/plain": [
       "0.9999998211860657"
      ]
     },
     "execution_count": 26,
     "metadata": {},
     "output_type": "execute_result"
    }
   ],
   "source": [
    "x[0][0]"
   ]
  },
  {
   "cell_type": "code",
   "execution_count": null,
   "id": "956f95bb-6384-4276-bc09-d7e54e69308b",
   "metadata": {},
   "outputs": [],
   "source": []
  }
 ],
 "metadata": {
  "kernelspec": {
   "display_name": "Python 3 (ipykernel)",
   "language": "python",
   "name": "python3"
  },
  "language_info": {
   "codemirror_mode": {
    "name": "ipython",
    "version": 3
   },
   "file_extension": ".py",
   "mimetype": "text/x-python",
   "name": "python",
   "nbconvert_exporter": "python",
   "pygments_lexer": "ipython3",
   "version": "3.9.15"
  }
 },
 "nbformat": 4,
 "nbformat_minor": 5
}
