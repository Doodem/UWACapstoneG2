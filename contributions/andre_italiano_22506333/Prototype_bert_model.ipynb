{
 "cells": [
  {
   "cell_type": "code",
   "execution_count": 1,
   "id": "38f82d65-286c-4637-b87e-490b68ff9ba4",
   "metadata": {
    "tags": []
   },
   "outputs": [
    {
     "name": "stderr",
     "output_type": "stream",
     "text": [
      "[nltk_data] Downloading package wordnet to C:\\Users\\Andre\n",
      "[nltk_data]     Italiano\\AppData\\Roaming\\nltk_data...\n",
      "[nltk_data]   Package wordnet is already up-to-date!\n",
      "[nltk_data] Downloading package punkt to C:\\Users\\Andre\n",
      "[nltk_data]     Italiano\\AppData\\Roaming\\nltk_data...\n",
      "[nltk_data]   Package punkt is already up-to-date!\n",
      "[nltk_data] Downloading package averaged_perceptron_tagger to\n",
      "[nltk_data]     C:\\Users\\Andre Italiano\\AppData\\Roaming\\nltk_data...\n",
      "[nltk_data]   Package averaged_perceptron_tagger is already up-to-\n",
      "[nltk_data]       date!\n",
      "[nltk_data] Downloading package wordnet to C:\\Users\\Andre\n",
      "[nltk_data]     Italiano\\AppData\\Roaming\\nltk_data...\n",
      "[nltk_data]   Package wordnet is already up-to-date!\n",
      "[nltk_data] Downloading package punkt to C:\\Users\\Andre\n",
      "[nltk_data]     Italiano\\AppData\\Roaming\\nltk_data...\n",
      "[nltk_data]   Package punkt is already up-to-date!\n",
      "[nltk_data] Downloading package averaged_perceptron_tagger to\n",
      "[nltk_data]     C:\\Users\\Andre Italiano\\AppData\\Roaming\\nltk_data...\n",
      "[nltk_data]   Package averaged_perceptron_tagger is already up-to-\n",
      "[nltk_data]       date!\n"
     ]
    }
   ],
   "source": [
    "import Embedding_Model\n",
    "import pandas as pd\n",
    "import Processing as p\n",
    "import torch\n",
    "import torch.nn.functional as F\n",
    "from transformers import BertTokenizer\n"
   ]
  },
  {
   "cell_type": "code",
   "execution_count": 2,
   "id": "34e44249-0089-4dc3-9a8d-88050e9ca6f5",
   "metadata": {},
   "outputs": [],
   "source": [
    "# load data\n",
    "data = pd.read_excel('UpdatedTenders.xlsx')"
   ]
  },
  {
   "cell_type": "code",
   "execution_count": 3,
   "id": "d62c1a81-8d0d-4d08-ad6d-4ecc19394e7a",
   "metadata": {},
   "outputs": [],
   "source": [
    "# initialize model and preprocesser \n",
    "model = Embedding_Model.Pretrained_model()\n",
    "preprocessor = Embedding_Model.Textprocessor()"
   ]
  },
  {
   "cell_type": "code",
   "execution_count": 4,
   "id": "9ec4718d-365a-4711-9f95-ae581dc99198",
   "metadata": {},
   "outputs": [],
   "source": [
    "data['Description'] = data['Description'].apply(p.remove_html_tags)"
   ]
  },
  {
   "cell_type": "code",
   "execution_count": 5,
   "id": "6e376170-0d50-4821-8500-9dff57b4acb5",
   "metadata": {},
   "outputs": [],
   "source": [
    "data_list = list(data['Description'])"
   ]
  },
  {
   "cell_type": "code",
   "execution_count": 11,
   "id": "84798ed9-c70d-459c-a20b-8e16c03c2a3d",
   "metadata": {},
   "outputs": [],
   "source": [
    "def preprocess_for_bert(data):\n",
    "    tokenizer = BertTokenizer.from_pretrained('bert-base-uncased')\n",
    "    x = tokenizer(text = data,return_tensors = 'pt')\n",
    "    return x\n",
    "\n",
    "def preprocess_and_forward(data):\n",
    "    x = preprocess_for_bert(data)\n",
    "    \n",
    "    with torch.no_grad():\n",
    "        hidden_out = model(x['input_ids'],x['attention_mask'],x['token_type_ids'])\n",
    "    cls_token = hidden_out.last_hidden_state\n",
    "    cls_token = cls_token[0][0]\n",
    "    cls_token = cls_token.unsqueeze(0)\n",
    "    return cls_token\n",
    "\n",
    "def cosine_sim(x1,x2):\n",
    "    return F.cosine_similarity(x1,x2)\n"
   ]
  },
  {
   "cell_type": "code",
   "execution_count": 15,
   "id": "75ea53ab-e677-4b7b-a23a-354afe92f2ce",
   "metadata": {},
   "outputs": [
    {
     "data": {
      "text/plain": [
       "tensor([0.7468])"
      ]
     },
     "execution_count": 15,
     "metadata": {},
     "output_type": "execute_result"
    }
   ],
   "source": [
    "y1 = preprocess_and_forward(data_list[0])\n",
    "y2 = preprocess_and_forward(data_list[20])\n",
    "cosine_sim(y1,y2)"
   ]
  },
  {
   "cell_type": "code",
   "execution_count": null,
   "id": "be338b83-e7d4-4d43-970e-a009dd9aa6ac",
   "metadata": {
    "tags": []
   },
   "outputs": [],
   "source": [
    "scores = []\n",
    "best = []\n",
    "for items in data_list:\n",
    "    x1 = data_list[5]\n",
    "    x2 = items\n",
    "    y1 = preprocess_and_forward(x1)\n",
    "    y2 = preprocess_and_forward(x2)\n",
    "    a = cosine_sim(y1,y2)\n",
    "    \n",
    "    if a > 0.85:\n",
    "        best.append(items)\n",
    "    scores.append(a)"
   ]
  },
  {
   "cell_type": "code",
   "execution_count": null,
   "id": "1252dad0-18e1-4cd4-a4d8-97d06e0cb986",
   "metadata": {
    "tags": []
   },
   "outputs": [],
   "source": [
    "best"
   ]
  },
  {
   "cell_type": "code",
   "execution_count": null,
   "id": "983efbfb-f17c-4940-90d2-2afd0687cf80",
   "metadata": {},
   "outputs": [],
   "source": []
  }
 ],
 "metadata": {
  "kernelspec": {
   "display_name": "Python 3 (ipykernel)",
   "language": "python",
   "name": "python3"
  },
  "language_info": {
   "codemirror_mode": {
    "name": "ipython",
    "version": 3
   },
   "file_extension": ".py",
   "mimetype": "text/x-python",
   "name": "python",
   "nbconvert_exporter": "python",
   "pygments_lexer": "ipython3",
   "version": "3.9.15"
  }
 },
 "nbformat": 4,
 "nbformat_minor": 5
}
