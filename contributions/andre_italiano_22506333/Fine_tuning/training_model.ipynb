{
 "cells": [
  {
   "cell_type": "code",
   "execution_count": 1,
   "id": "b4a449b3-1b77-4586-b989-2e3e6851811e",
   "metadata": {},
   "outputs": [
    {
     "name": "stderr",
     "output_type": "stream",
     "text": [
      "[nltk_data] Downloading package wordnet to C:\\Users\\Andre\n",
      "[nltk_data]     Italiano\\AppData\\Roaming\\nltk_data...\n",
      "[nltk_data]   Package wordnet is already up-to-date!\n",
      "[nltk_data] Downloading package punkt to C:\\Users\\Andre\n",
      "[nltk_data]     Italiano\\AppData\\Roaming\\nltk_data...\n",
      "[nltk_data]   Package punkt is already up-to-date!\n",
      "[nltk_data] Downloading package averaged_perceptron_tagger to\n",
      "[nltk_data]     C:\\Users\\Andre Italiano\\AppData\\Roaming\\nltk_data...\n",
      "[nltk_data]   Package averaged_perceptron_tagger is already up-to-\n",
      "[nltk_data]       date!\n"
     ]
    }
   ],
   "source": [
    "from transformers import BertTokenizer, BertForPreTraining, BertModel\n",
    "import torch\n",
    "import Embedding_Model as em\n",
    "from transformers import AdamW\n",
    "import random"
   ]
  },
  {
   "cell_type": "code",
   "execution_count": null,
   "id": "b4be58c3-5253-4640-8c68-2c5ae378ef8c",
   "metadata": {},
   "outputs": [],
   "source": [
    "tokenizer = BertTokenizer.from_pretrained('bert-base-uncased')\n",
    "model = BertForPreTraining.from_pretrained('bert-base-uncased')"
   ]
  },
  {
   "cell_type": "markdown",
   "id": "3c1a2bcc-ebd6-4ddf-8509-e47f6b59b244",
   "metadata": {},
   "source": [
    "<h3>Setting up next sentence prediction data<h3>"
   ]
  },
  {
   "cell_type": "code",
   "execution_count": null,
   "id": "bea28835-115a-489d-83ce-70d3e1106a26",
   "metadata": {},
   "outputs": [],
   "source": [
    "def bag_data(data):\n",
    "    tokenized_data = []\n",
    "    for item in data:\n",
    "        try:\n",
    "            text = [item for sentence in text for item sentence.split('.') if item !='']\n",
    "            tokenized_data.append(text)\n",
    "            \n",
    "    return tokenized_data\n",
    "\n"
   ]
  },
  {
   "cell_type": "code",
   "execution_count": null,
   "id": "dc9d343c-8490-40ce-95b4-7599a31be0dc",
   "metadata": {},
   "outputs": [],
   "source": [
    "def training_loop(model,loader,epochs):\n",
    "    optim = AdamW(model.parameters(), lr=1e-4)\n",
    "    model.train()\n",
    "    \n",
    "    # set up GPU/CPU \n",
    "    device = torch.device('cuda') if torch.cuda.is_available() else torch.device('cpu')\n",
    "    # and move our model over to the selected device\n",
    "    model.to(device)\n",
    "    for item in range(epochs):\n",
    "        \n",
    "        for batch in loader: \n",
    "            # initialize gradients\n",
    "            optim.zero_grad()\n",
    "            input_ids = batch['input_ids'].to(device)\n",
    "            token_type_ids = batch['token_type_ids'].to(device)\n",
    "            attention_mask = batch['attention_mask'].to(device)\n",
    "            next_sentence_label = batch['next_sentence_label'].to(device)\n",
    "            labels = batch['labels'].to(device)\n",
    "            # forward function\n",
    "            output = model(input_ids,attention_mask,token_type_ids,next_sentence_label,labels)\n",
    "            # loss\n",
    "            loss = outputs.loss\n",
    "            loss.backward()\n",
    "            # update\n",
    "            optim.step()"
   ]
  }
 ],
 "metadata": {
  "kernelspec": {
   "display_name": "Python 3 (ipykernel)",
   "language": "python",
   "name": "python3"
  },
  "language_info": {
   "codemirror_mode": {
    "name": "ipython",
    "version": 3
   },
   "file_extension": ".py",
   "mimetype": "text/x-python",
   "name": "python",
   "nbconvert_exporter": "python",
   "pygments_lexer": "ipython3",
   "version": "3.9.15"
  }
 },
 "nbformat": 4,
 "nbformat_minor": 5
}
