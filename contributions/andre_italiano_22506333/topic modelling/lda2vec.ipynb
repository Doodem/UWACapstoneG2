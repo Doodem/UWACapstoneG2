{
 "cells": [
  {
   "cell_type": "code",
   "execution_count": null,
   "id": "4b45738e-9fef-4fab-a87c-0d7a5eed2b65",
   "metadata": {},
   "outputs": [],
   "source": [
    "from top2vec import Top2Vec\n",
    "import pandas as pd\n",
    "import Embedding_Model as em"
   ]
  },
  {
   "cell_type": "code",
   "execution_count": null,
   "id": "d4a825a9-6254-48ff-921f-fefa5762bb14",
   "metadata": {},
   "outputs": [],
   "source": [
    "data = pd.read_excel(\"tender_postcode.xlsx\")"
   ]
  },
  {
   "cell_type": "code",
   "execution_count": null,
   "id": "babeb761-7d9e-4c16-abd8-3a1585248e93",
   "metadata": {},
   "outputs": [],
   "source": [
    "D = [em.remove_html_tags(text) for text in list(data['Description'])]\n",
    "t = data['Contract Title']\n",
    "corpus = []\n",
    "for x,y in zip(t,D):\n",
    "    corpus.append(x+\" \"+y)"
   ]
  },
  {
   "cell_type": "code",
   "execution_count": null,
   "id": "4b0fcc4b-c7a5-4b21-baa2-e1f342ba61ed",
   "metadata": {},
   "outputs": [],
   "source": [
    "\n",
    "\n",
    "umap_args = {'n_neighbors': 10,\n",
    "             'n_components': 5,\n",
    "             'metric': 'cosine',\n",
    "             \"random_state\": 42}\n",
    "hdbscan_args = {'min_cluster_size': 10,\n",
    "                'min_samples':5,\n",
    "                'metric': 'euclidean',\n",
    "                'cluster_selection_method': 'eom'}\n",
    "model = Top2Vec(documents= corpus, speed='learn', min_count = 0, embedding_model='distiluse-base-multilingual-cased', umap_args = umap_args, hdbscan_args = hdbscan_args)\n",
    "model.get_num_topics()\n"
   ]
  },
  {
   "cell_type": "code",
   "execution_count": null,
   "id": "56c932d5-1ca7-42af-ab97-32cb49fce18d",
   "metadata": {},
   "outputs": [],
   "source": []
  }
 ],
 "metadata": {
  "kernelspec": {
   "display_name": "Python 3 (ipykernel)",
   "language": "python",
   "name": "python3"
  },
  "language_info": {
   "codemirror_mode": {
    "name": "ipython",
    "version": 3
   },
   "file_extension": ".py",
   "mimetype": "text/x-python",
   "name": "python",
   "nbconvert_exporter": "python",
   "pygments_lexer": "ipython3",
   "version": "3.9.15"
  }
 },
 "nbformat": 4,
 "nbformat_minor": 5
}
