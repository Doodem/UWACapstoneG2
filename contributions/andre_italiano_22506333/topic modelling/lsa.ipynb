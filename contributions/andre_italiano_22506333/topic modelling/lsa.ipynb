{
 "cells": [
  {
   "cell_type": "code",
   "execution_count": 31,
   "id": "f629c42d-c3c4-4335-b021-b01f5f1e81bc",
   "metadata": {},
   "outputs": [],
   "source": [
    "from sklearn.decomposition import TruncatedSVD\n",
    "from sklearn.feature_extraction.text import TfidfVectorizer\n",
    "import pandas as pd\n",
    "import Embedding_Model as em"
   ]
  },
  {
   "cell_type": "code",
   "execution_count": 32,
   "id": "2efe3e4e-065b-46c3-a713-cc3b13b81fc7",
   "metadata": {},
   "outputs": [],
   "source": [
    "data = pd.read_excel(\"tender_postcode.xlsx\")"
   ]
  },
  {
   "cell_type": "code",
   "execution_count": 33,
   "id": "0a03b318-ba7c-4ee6-925e-296112c6929f",
   "metadata": {},
   "outputs": [],
   "source": [
    "D = [em.remove_html_tags(text) for text in list(data['Description'])]\n",
    "t = data['Contract Title']\n",
    "corpus = []\n",
    "for x,y in zip(t,D):\n",
    "    corpus.append(x+\" \"+y)"
   ]
  },
  {
   "cell_type": "code",
   "execution_count": 34,
   "id": "5cf7c539-a11a-4fd1-895f-fee4b25d9a89",
   "metadata": {},
   "outputs": [],
   "source": [
    "n_features = 1000\n",
    "n_components = 100\n",
    "#n_top_words = 5"
   ]
  },
  {
   "cell_type": "code",
   "execution_count": 35,
   "id": "6ce2f666-7182-491a-9e31-ce63395143e7",
   "metadata": {},
   "outputs": [],
   "source": [
    "vect = TfidfVectorizer(max_df=0.95, min_df=2, max_features=n_features, stop_words='english', ngram_range=(1, 2))\n",
    "vect_text = vect.fit_transform(corpus)"
   ]
  },
  {
   "cell_type": "code",
   "execution_count": 38,
   "id": "37a66ee2-0e1c-4ac7-b4e3-db1d1361c49f",
   "metadata": {},
   "outputs": [],
   "source": [
    "lsa_model = TruncatedSVD(n_components=n_components,random_state=42, algorithm='arpack')\n",
    "lsa_out = lsa_model.fit_transform(vect_text)"
   ]
  },
  {
   "cell_type": "code",
   "execution_count": null,
   "id": "c45b3d91-58c7-4d6f-9a77-329b1d3b4721",
   "metadata": {},
   "outputs": [],
   "source": [
    "l=lsa_out[0]\n",
    "print(\"Document 0 :\")\n",
    "for i,topic in enumerate(l):\n",
    "  print(\"Topic \",i,\" : \",topic*100)"
   ]
  },
  {
   "cell_type": "code",
   "execution_count": null,
   "id": "8912a69a-10b3-4553-8670-afeb328d69e8",
   "metadata": {},
   "outputs": [],
   "source": [
    "# most important words for each topic\n",
    "vocab = vect.get_feature_names_out()\n",
    "\n",
    "for i, comp in enumerate(lsa_model.components_):\n",
    "    vocab_comp = zip(vocab, comp)\n",
    "    sorted_words = sorted(vocab_comp, key= lambda x:x[1], reverse=True)[:10]\n",
    "    print(\"Topic \"+str(i)+\": \")\n",
    "    for t in sorted_words:\n",
    "        print(t[0],end=\" \")\n",
    "    print(\"\\n\")"
   ]
  },
  {
   "cell_type": "code",
   "execution_count": null,
   "id": "7c46a4b1-e92c-4a73-a0f8-de0be77f9d12",
   "metadata": {},
   "outputs": [],
   "source": []
  },
  {
   "cell_type": "code",
   "execution_count": null,
   "id": "1f0eb543-b913-4c83-b60b-0deaa890502a",
   "metadata": {},
   "outputs": [],
   "source": []
  }
 ],
 "metadata": {
  "kernelspec": {
   "display_name": "Python 3 (ipykernel)",
   "language": "python",
   "name": "python3"
  },
  "language_info": {
   "codemirror_mode": {
    "name": "ipython",
    "version": 3
   },
   "file_extension": ".py",
   "mimetype": "text/x-python",
   "name": "python",
   "nbconvert_exporter": "python",
   "pygments_lexer": "ipython3",
   "version": "3.9.15"
  }
 },
 "nbformat": 4,
 "nbformat_minor": 5
}
