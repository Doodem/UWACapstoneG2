{
 "cells": [
  {
   "cell_type": "code",
   "execution_count": 2,
   "id": "b121c047-0562-4135-b6be-2cb6ca9565b1",
   "metadata": {},
   "outputs": [],
   "source": [
    "import pandas as pd\n",
    "from bs4 import BeautifulSoup\n",
    "import numpy as np"
   ]
  },
  {
   "cell_type": "code",
   "execution_count": 3,
   "id": "89471dc3-b7b0-480f-8543-34dea91196fa",
   "metadata": {},
   "outputs": [],
   "source": [
    "# log \n",
    "\n",
    "# removed html tags from descriptions\n",
    "# removed outlier from number of submissions column\n",
    "\n"
   ]
  },
  {
   "cell_type": "code",
   "execution_count": 4,
   "id": "45f10a2d-a5df-4a5e-afd5-2efc007e6a65",
   "metadata": {},
   "outputs": [],
   "source": [
    "df = pd.read_excel('copy Tenders WA Extract for AI PoC - 04082023.xlsx')"
   ]
  },
  {
   "cell_type": "code",
   "execution_count": 5,
   "id": "eaa07c70-38fe-4b87-b07f-56be540ec3e5",
   "metadata": {},
   "outputs": [],
   "source": [
    "def remove_html_tags(text):\n",
    "    \n",
    "    soup = BeautifulSoup(text, \"html.parser\")\n",
    "    return soup.get_text()\n",
    "\n",
    "df['Description'] = df['Description'].apply(remove_html_tags)"
   ]
  },
  {
   "cell_type": "code",
   "execution_count": 6,
   "id": "582e9a89-2ff0-46f6-a4d3-22c5a231f5fb",
   "metadata": {},
   "outputs": [],
   "source": [
    "# number of submissions\n",
    "# remove outlier for number of submissions\n",
    "df.at[18339,\"Number of Submissions\"] = 0"
   ]
  },
  {
   "cell_type": "code",
   "execution_count": 7,
   "id": "796ff047-2b57-4a1e-86f2-4a3ced4b6031",
   "metadata": {},
   "outputs": [
    {
     "data": {
      "text/plain": [
       "19827"
      ]
     },
     "execution_count": 7,
     "metadata": {},
     "output_type": "execute_result"
    }
   ],
   "source": [
    "df['TenderLink'].isna().sum()"
   ]
  },
  {
   "cell_type": "code",
   "execution_count": 8,
   "id": "54b25ad1-bf10-46b7-93ed-1f97e8402da8",
   "metadata": {},
   "outputs": [],
   "source": [
    "# contract and supplier price "
   ]
  },
  {
   "cell_type": "code",
   "execution_count": 11,
   "id": "62fc9d06-4664-4d2c-bbe1-7932fdef35c8",
   "metadata": {},
   "outputs": [],
   "source": [
    "# save df to file\n",
    "df.to_excel(\"Cleaned Tenders WA Extract for AI PoC - 04082023.xlsx\")"
   ]
  },
  {
   "cell_type": "code",
   "execution_count": null,
   "id": "93db1a9d-f6c2-42e8-b268-92787ca4a5b3",
   "metadata": {},
   "outputs": [],
   "source": []
  }
 ],
 "metadata": {
  "kernelspec": {
   "display_name": "Python 3 (ipykernel)",
   "language": "python",
   "name": "python3"
  },
  "language_info": {
   "codemirror_mode": {
    "name": "ipython",
    "version": 3
   },
   "file_extension": ".py",
   "mimetype": "text/x-python",
   "name": "python",
   "nbconvert_exporter": "python",
   "pygments_lexer": "ipython3",
   "version": "3.9.15"
  }
 },
 "nbformat": 4,
 "nbformat_minor": 5
}
