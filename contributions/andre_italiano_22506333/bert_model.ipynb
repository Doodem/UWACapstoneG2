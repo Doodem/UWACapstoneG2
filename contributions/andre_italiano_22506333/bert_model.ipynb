{
 "cells": [
  {
   "cell_type": "code",
   "execution_count": 1,
   "id": "a7abd4e6-5cb3-418c-93b8-cf80bded64ff",
   "metadata": {},
   "outputs": [],
   "source": [
    "# importing modules \n",
    "import pandas as pd\n",
    "from torch import nn\n",
    "from transformers import BertTokenizer, BertModel\n"
   ]
  },
  {
   "cell_type": "code",
   "execution_count": null,
   "id": "65e959ea-8182-47d1-b352-df9b72e502ec",
   "metadata": {},
   "outputs": [],
   "source": [
    "# bert model class \n",
    "\n",
    "class BertModel(nn.module):\n",
    "    def __init__(self,model='bert-base-uncased'):\n",
    "        super(BertModel,self).__init__()\n",
    "        \n",
    "        self.model_type = model\n",
    "        \n",
    "        self.embedding_model = BertModel.from_pretrained(self.model_type)\n",
    "        \n",
    "    def forward(self,input_data):\n",
    "        _,pooled_output = self.embedding_model(input_data)\n",
    "        return pooled_output\n",
    "        \n",
    "       "
   ]
  },
  {
   "cell_type": "code",
   "execution_count": null,
   "id": "6f623640-b5ad-4f8b-b857-d6fa41435ac0",
   "metadata": {},
   "outputs": [],
   "source": [
    "# preprocessing function\n",
    "def preprocessing(data):\n",
    "    pass"
   ]
  },
  {
   "cell_type": "code",
   "execution_count": null,
   "id": "a34af866-3aba-41c1-bc21-9290334f5805",
   "metadata": {},
   "outputs": [],
   "source": [
    "# evalaute function\n",
    "def evaluate(data)"
   ]
  }
 ],
 "metadata": {
  "kernelspec": {
   "display_name": "Python 3 (ipykernel)",
   "language": "python",
   "name": "python3"
  },
  "language_info": {
   "codemirror_mode": {
    "name": "ipython",
    "version": 3
   },
   "file_extension": ".py",
   "mimetype": "text/x-python",
   "name": "python",
   "nbconvert_exporter": "python",
   "pygments_lexer": "ipython3",
   "version": "3.9.15"
  }
 },
 "nbformat": 4,
 "nbformat_minor": 5
}
