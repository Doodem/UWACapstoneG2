{
 "cells": [
  {
   "cell_type": "code",
   "execution_count": 5,
   "id": "f9d940e4-d7f9-4f94-8cc5-7c7071ffd207",
   "metadata": {
    "tags": []
   },
   "outputs": [],
   "source": [
    "from graph import GraphDB\n",
    "import random\n",
    "\n",
    "wa_latitude_range = (-35.0, -13.5) \n",
    "wa_longitude_range = (112.5, 129.0)  \n",
    "\n",
    "def generate_random_location():\n",
    "    latitude = random.uniform(wa_latitude_range[0], wa_latitude_range[1])\n",
    "    longitude = random.uniform(wa_longitude_range[0], wa_longitude_range[1])\n",
    "    return [latitude, longitude]\n",
    "\n",
    "embedding_dictionary = {}\n",
    "for i in range(1, 21):\n",
    "    ref = f\"ref{i}\"\n",
    "    embedding_dictionary[ref] = {\n",
    "        \"embedding\": [random.uniform(0, 1) for _ in range(3)],\n",
    "        \"location\": generate_random_location()\n",
    "}\n",
    "    \n",
    "graph_db = GraphDB(embedding_dictionary)"
   ]
  },
  {
   "cell_type": "code",
   "execution_count": 6,
   "id": "49da93b3-20f8-4a1e-a8c3-b38abadde17a",
   "metadata": {
    "tags": []
   },
   "outputs": [
    {
     "data": {
      "application/vnd.jupyter.widget-view+json": {
       "model_id": "b958ce28220940aa873c3411a78cac18",
       "version_major": 2,
       "version_minor": 0
      },
      "text/plain": [
       "interactive(children=(Text(value='ref1', description='Enter Reference:'), IntSlider(value=2, description='Clos…"
      ]
     },
     "metadata": {},
     "output_type": "display_data"
    },
    {
     "data": {
      "text/plain": [
       "<function __main__.query_and_display(reference, num_nodes, max_distance)>"
      ]
     },
     "execution_count": 6,
     "metadata": {},
     "output_type": "execute_result"
    }
   ],
   "source": [
    "import folium\n",
    "from folium import plugins\n",
    "from folium.features import DivIcon\n",
    "from ipywidgets import interact, widgets\n",
    "import networkx as nx  \n",
    "\n",
    "def get_node_positions(reference, num_nodes, max_distance):\n",
    "    query_result = graph_db.closest(reference, num_nodes, max_distance)\n",
    "    \n",
    "    G = graph_db.draw_graph(query_result)\n",
    "    return nx.get_node_attributes(G, \"location\"), nx.get_edge_attributes(G,\"similarity\")\n",
    "\n",
    "def create_map(map_center):\n",
    "    m = folium.Map(location=map_center, zoom_start=5)\n",
    "    return m\n",
    "\n",
    "map_center = (-25.0, 121.0)  # Western Australia center\n",
    "\n",
    "def query_and_display(reference, num_nodes, max_distance):\n",
    "    m = create_map(map_center)\n",
    "    edge_text_group = folium.FeatureGroup()\n",
    "    node_positions,node_similarity = get_node_positions(reference, num_nodes, max_distance)\n",
    "    print(node_similarity)\n",
    "    \n",
    "    # add markers for ref positions on map\n",
    "    for ref,position in node_positions.items():\n",
    "        \n",
    "        # plot ref marker\n",
    "        folium.CircleMarker(location=position,popup=reference,fill_color='blue').add_to(m)\n",
    "        \n",
    "        # plot ref label\n",
    "        folium.Marker(location=position,popup=reference,icon=DivIcon(\n",
    "        icon_size=(150,36),\n",
    "        icon_anchor=(0,0),\n",
    "        html=f'<div style=\"font-size: 12pt\">{ref}</div>',\n",
    "        )).add_to(m)\n",
    "        \n",
    "        if ref != reference:\n",
    "            edge = folium.PolyLine([node_positions[reference],position])\n",
    "            edge.add_to(m)\n",
    "            edge_text = plugins.PolyLineTextPath(edge,text = str(node_similarity[(reference, ref)]),center=True,offset=7,attributes={'fill': '007DEF', 'font-weight': 'bold', 'font-size': '24'})\n",
    "            edge_text_group.add_child(edge_text)\n",
    "            \n",
    "      \n",
    "    m.add_child(edge_text_group)\n",
    "\n",
    "    display(m)\n",
    "\n",
    "reference_input = widgets.Text(value='ref1', description='Enter Reference:')\n",
    "number_slider = widgets.IntSlider(value=2, min=1, max=10, step=1, description='Closest Tenders:')\n",
    "distance_slider = widgets.FloatSlider(value=100, min=1, max=300, step=1, description='Max Distance:')\n",
    "\n",
    "interact(query_and_display, reference=reference_input, num_nodes=number_slider, max_distance=distance_slider)\n"
   ]
  },
  {
   "cell_type": "code",
   "execution_count": null,
   "id": "7640fd19-0960-468f-9147-7f9f8f38d948",
   "metadata": {},
   "outputs": [],
   "source": []
  },
  {
   "cell_type": "code",
   "execution_count": null,
   "id": "f393006a-8ee5-463b-b475-0c1d5f6f32cb",
   "metadata": {},
   "outputs": [],
   "source": []
  }
 ],
 "metadata": {
  "kernelspec": {
   "display_name": "Python 3 (ipykernel)",
   "language": "python",
   "name": "python3"
  },
  "language_info": {
   "codemirror_mode": {
    "name": "ipython",
    "version": 3
   },
   "file_extension": ".py",
   "mimetype": "text/x-python",
   "name": "python",
   "nbconvert_exporter": "python",
   "pygments_lexer": "ipython3",
   "version": "3.9.15"
  }
 },
 "nbformat": 4,
 "nbformat_minor": 5
}
