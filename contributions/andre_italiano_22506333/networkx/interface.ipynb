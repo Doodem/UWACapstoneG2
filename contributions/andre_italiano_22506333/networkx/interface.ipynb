{
 "cells": [
  {
   "cell_type": "code",
   "execution_count": null,
   "id": "f9d940e4-d7f9-4f94-8cc5-7c7071ffd207",
   "metadata": {
    "tags": []
   },
   "outputs": [],
   "source": [
    "from graph import GraphDB\n",
    "import random\n",
    "import numpy as np\n",
    "import re\n",
    "wa_latitude_range = (-35.0, -13.5) \n",
    "wa_longitude_range = (112.5, 129.0)  \n",
    "\n",
    "def generate_random_location():\n",
    "    latitude = random.uniform(wa_latitude_range[0], wa_latitude_range[1])\n",
    "    longitude = random.uniform(wa_longitude_range[0], wa_longitude_range[1])\n",
    "    return [latitude, longitude]\n",
    "\n",
    "embedding_dictionary = {}\n",
    "for i in range(1, 21):\n",
    "    ref = f\"ref{i}\"\n",
    "    embedding_dictionary[ref] = {\n",
    "        \"embedding\": [random.uniform(0, 1) for _ in range(3)],\n",
    "        \"location\": generate_random_location()\n",
    "}\n",
    "    \n",
    "graph_db = GraphDB(embedding_dictionary)"
   ]
  },
  {
   "cell_type": "code",
   "execution_count": null,
   "id": "f483eeca-69d1-451d-b164-023adb90bcdb",
   "metadata": {},
   "outputs": [],
   "source": [
    "# getting data \n",
    "path = r'../../../data/embedding_data/'\n",
    "embedding_data = np.load(path+\"sent_transformer_embeddings.npz\")\n",
    "embedding_data = [list(embedding_data[f]) for f in embedding_data.files]\n",
    "\n",
    "tender_references_raw = ''\n",
    "tender_titles_raw = ''\n",
    "\n",
    "with open(path+'tender_references.txt', 'r') as file:\n",
    "    for line in file:\n",
    "        tender_references_raw += line\n",
    "        \n",
    "with open(path+\"tender_titles.txt\",'r') as file:\n",
    "    for line in file:\n",
    "        tender_titles_raw += line\n",
    "        \n",
    "        \n",
    "for item in ['\"',\"'\",'[',']',\" \"]:\n",
    "    tender_references_raw = tender_references_raw.replace(item, \"\")\n",
    "tender_references = tender_references_raw.split(\",\")\n",
    "\n",
    "tender_titles = []\n",
    "for item in tender_titles_raw.split(\",\"):\n",
    "    tender_titles.append(re.sub(r'[\\[\\]/\\\\\\'\"]', '', item))\n",
    "\n",
    "coordinate_data = np.load(path+\"tender_coordinates.npz\")\n",
    "coordinate_data = [list(coordinate_data[f]) for f in coordinate_data]"
   ]
  },
  {
   "cell_type": "code",
   "execution_count": null,
   "id": "33fb7812-30b4-4258-a74d-6b93ea576ba1",
   "metadata": {
    "tags": []
   },
   "outputs": [],
   "source": [
    "# save to dictionary format\n",
    "embedding_dictionary = {}\n",
    "for i in range(len(tender_references)):\n",
    "    embedding_dictionary[tender_references[i]] = {\"embedding\":embedding_data[i],\"titles\":tender_titles[i],\"location\":coordinate_data[i]}"
   ]
  },
  {
   "cell_type": "code",
   "execution_count": null,
   "id": "28315736-cbc0-431d-87eb-ab5804fe9d0b",
   "metadata": {},
   "outputs": [],
   "source": [
    "graph_db = GraphDB(embedding_dictionary)"
   ]
  },
  {
   "cell_type": "code",
   "execution_count": null,
   "id": "49da93b3-20f8-4a1e-a8c3-b38abadde17a",
   "metadata": {
    "tags": []
   },
   "outputs": [],
   "source": [
    "import folium\n",
    "from folium import plugins\n",
    "from folium.features import DivIcon\n",
    "from ipywidgets import interact, widgets\n",
    "import networkx as nx  \n",
    "\n",
    "\n",
    "def get_node_positions(reference, num_nodes, max_distance):\n",
    "    query_result = graph_db.closest(reference, num_nodes, max_distance)\n",
    "    \n",
    "    G = graph_db.draw_graph(query_result)\n",
    "    \n",
    "    return nx.get_node_attributes(G, \"location\"), nx.get_edge_attributes(G,\"similarity\")\n",
    "\n",
    "def create_map(map_center):\n",
    "    m = folium.Map(location=map_center, zoom_start=5)\n",
    "    return m\n",
    "\n",
    "def query_and_display(reference, num_nodes, max_distance):\n",
    "    \n",
    "    edge_text_group = folium.FeatureGroup()\n",
    "    node_positions,node_similarity = get_node_positions(reference, num_nodes, max_distance)\n",
    "    map_center = node_positions[reference]    \n",
    "    \n",
    "    # create map with centered on reference \n",
    "    m = create_map(map_center)\n",
    "    \n",
    "    # add markers for ref positions on map\n",
    "    for ref,position in node_positions.items():\n",
    "        \n",
    "        # plot ref marker\n",
    "        folium.CircleMarker(location=position,popup=reference,fill_color='blue').add_to(m)\n",
    "        \n",
    "        # plot ref label\n",
    "        folium.Marker(location=position,popup=reference,icon=DivIcon(\n",
    "        icon_size=(150,36),\n",
    "        icon_anchor=(0,0),\n",
    "        html=f'<div style=\"font-size: 12pt\">{ref}</div>',\n",
    "        )).add_to(m)\n",
    "        \n",
    "        if ref != reference:\n",
    "            edge = folium.PolyLine([node_positions[reference],position],popup=str(node_similarity[(reference, ref)]))\n",
    "            edge.add_to(m)\n",
    "            edge_text = plugins.PolyLineTextPath(edge,text = str(node_similarity[(reference, ref)]),center=True,attributes={'fill': '007DEF', 'font-weight': 'bold', 'font-size': '24'})\n",
    "            edge_text_group.add_child(edge_text)\n",
    "            \n",
    "      \n",
    "    m.add_child(edge_text_group)\n",
    "\n",
    "    display(m)\n",
    "\n",
    "reference_input = widgets.Text(value='ARA201901891', description='Enter Reference:')\n",
    "number_slider = widgets.IntSlider(value=2, min=1, max=10, step=1, description='Closest Tenders:')\n",
    "distance_slider = widgets.FloatSlider(value=100, min=1, max=300, step=1, description='Max Distance:')\n",
    "\n",
    "interact(query_and_display, reference=reference_input, num_nodes=number_slider, max_distance=distance_slider)\n"
   ]
  },
  {
   "cell_type": "code",
   "execution_count": null,
   "id": "f393006a-8ee5-463b-b475-0c1d5f6f32cb",
   "metadata": {},
   "outputs": [],
   "source": []
  },
  {
   "cell_type": "code",
   "execution_count": null,
   "id": "f62d2114-9bc9-4c1b-889d-8e8efa5be389",
   "metadata": {},
   "outputs": [],
   "source": []
  },
  {
   "cell_type": "code",
   "execution_count": null,
   "id": "8abeb818-fdc9-4f40-8b6f-74ca69d9ca83",
   "metadata": {},
   "outputs": [],
   "source": []
  }
 ],
 "metadata": {
  "kernelspec": {
   "display_name": "Python 3 (ipykernel)",
   "language": "python",
   "name": "python3"
  },
  "language_info": {
   "codemirror_mode": {
    "name": "ipython",
    "version": 3
   },
   "file_extension": ".py",
   "mimetype": "text/x-python",
   "name": "python",
   "nbconvert_exporter": "python",
   "pygments_lexer": "ipython3",
   "version": "3.9.15"
  }
 },
 "nbformat": 4,
 "nbformat_minor": 5
}
