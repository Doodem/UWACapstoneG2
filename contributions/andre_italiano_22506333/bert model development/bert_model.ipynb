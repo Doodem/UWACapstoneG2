{
 "cells": [
  {
   "cell_type": "code",
   "execution_count": 1,
   "id": "a7abd4e6-5cb3-418c-93b8-cf80bded64ff",
   "metadata": {},
   "outputs": [],
   "source": [
    "# importing modules \n",
    "import pandas as pd\n",
    "from torch import nn\n",
    "from transformers import BertTokenizer, BertModel, BigBirdModel,AutoModelForSequenceClassification\n"
   ]
  },
  {
   "cell_type": "code",
   "execution_count": 2,
   "id": "3f49a65d-171d-4694-a72e-52c3ec14b7f0",
   "metadata": {},
   "outputs": [],
   "source": [
    "class Pretrained_model(nn.Module):\n",
    "    def __init__(self,model='bert'):\n",
    "        super(Pretrained_model,self).__init__()\n",
    "        \n",
    "        if model.lower() =='bert':\n",
    "            self.embedding_model = BertModel.from_pretrained('bert-base-cased')\n",
    "            self.model_base = 'bert-base-cased'\n",
    "        elif model.lower() == \"longformer\":\n",
    "            self.embedding_model = AutoModelForSequenceClassification.from_pretrained(\"allenai/longformer-base-4096\")\n",
    "            self.model_base = \"allenai/longformer-base-4096\"\n",
    "        elif model.lower() == \"bigbird\":\n",
    "            self.embedding_model = BigBirdModel.from_pretrained(\"google/bigbird-roberta-large\")\n",
    "            self.model_base =\"google/bigbird-roberta-base\"\n",
    "        \n",
    "        \n",
    "        \n",
    "    def forward(self,input_data):\n",
    "        _,pooled_output = self.embedding_model(input_data)\n",
    "        return pooled_output\n",
    "    \n"
   ]
  },
  {
   "cell_type": "code",
   "execution_count": 6,
   "id": "0b7e6d15-4092-49b8-b1a4-90cd64d47961",
   "metadata": {},
   "outputs": [
    {
     "data": {
      "application/vnd.jupyter.widget-view+json": {
       "model_id": "cc077938885a46e2b6c832695cf6f8f4",
       "version_major": 2,
       "version_minor": 0
      },
      "text/plain": [
       "Downloading pytorch_model.bin:   0%|          | 0.00/1.44G [00:00<?, ?B/s]"
      ]
     },
     "metadata": {},
     "output_type": "display_data"
    },
    {
     "name": "stderr",
     "output_type": "stream",
     "text": [
      "\n",
      "KeyboardInterrupt\n",
      "\n"
     ]
    }
   ],
   "source": [
    "a = Bert_model('BigBird')"
   ]
  },
  {
   "cell_type": "code",
   "execution_count": null,
   "id": "6f623640-b5ad-4f8b-b857-d6fa41435ac0",
   "metadata": {},
   "outputs": [],
   "source": [
    "# preprocessing function\n",
    "def preprocessing(data):\n",
    "    pass"
   ]
  },
  {
   "cell_type": "code",
   "execution_count": null,
   "id": "a34af866-3aba-41c1-bc21-9290334f5805",
   "metadata": {},
   "outputs": [],
   "source": [
    "# evalaute function\n",
    "def evaluate(data)"
   ]
  }
 ],
 "metadata": {
  "kernelspec": {
   "display_name": "Python 3 (ipykernel)",
   "language": "python",
   "name": "python3"
  },
  "language_info": {
   "codemirror_mode": {
    "name": "ipython",
    "version": 3
   },
   "file_extension": ".py",
   "mimetype": "text/x-python",
   "name": "python",
   "nbconvert_exporter": "python",
   "pygments_lexer": "ipython3",
   "version": "3.9.15"
  }
 },
 "nbformat": 4,
 "nbformat_minor": 5
}
