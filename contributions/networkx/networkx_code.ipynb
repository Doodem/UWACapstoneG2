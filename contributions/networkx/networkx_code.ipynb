{
 "cells": [
  {
   "cell_type": "code",
   "execution_count": 128,
   "id": "fc0fa75c-7f35-437c-a232-2e1db2c1d606",
   "metadata": {},
   "outputs": [],
   "source": [
    "# import modules \n",
    "import networkx\n",
    "import numpy as np\n",
    "from Embedding_Model import remove_html_tags\n",
    "from sentence_transformers import SentenceTransformer, util\n",
    "import pandas as pd\n",
    "from sklearn.metrics.pairwise import cosine_similarity\n",
    "from nltk import tokenize"
   ]
  },
  {
   "cell_type": "code",
   "execution_count": 143,
   "id": "c208d9df-d3c7-4aed-b6c6-ce13d7050c57",
   "metadata": {},
   "outputs": [],
   "source": [
    "model = SentenceTransformer('all-mpnet-base-v2')\n",
    "data = pd.read_excel(\"../../../data/UpdatedAgainTenders.xlsx\")\n",
    "data['Description'] = data['Description'].apply(remove_html_tags)\n",
    "documents  = list(data['Description'])[:1000]"
   ]
  },
  {
   "cell_type": "code",
   "execution_count": 144,
   "id": "27c9f1a3-4f92-4d68-9016-09fa368f2cad",
   "metadata": {
    "tags": []
   },
   "outputs": [
    {
     "name": "stdout",
     "output_type": "stream",
     "text": [
      "0\n",
      "100\n",
      "200\n",
      "300\n",
      "400\n",
      "500\n",
      "600\n",
      "700\n",
      "800\n",
      "900\n"
     ]
    }
   ],
   "source": [
    "outputs = []\n",
    "i = 0 \n",
    "\n",
    "for item in documents:\n",
    "    \n",
    "    temp = []\n",
    "    a = tokenize.sent_tokenize(item)\n",
    "    \n",
    "    temp.append(model.encode(a))\n",
    "    \n",
    "    sum_embeddings = np.sum(temp, axis=1)\n",
    "    outputs.extend(sum_embeddings/len(temp))\n",
    "    \n",
    "    \n",
    "    \n",
    "    if i % 100 ==0:\n",
    "        print(i)\n",
    "    \n",
    "    i +=1\n"
   ]
  },
  {
   "cell_type": "code",
   "execution_count": 145,
   "id": "4653e515-6872-4aff-ab0f-25333259d1f9",
   "metadata": {
    "tags": []
   },
   "outputs": [],
   "source": [
    "embeddings_matrix = np.array(outputs)\n",
    "\n",
    "# Calculate the cosine similarity matrix\n",
    "similarity_matrix = cosine_similarity(embeddings_matrix)"
   ]
  },
  {
   "cell_type": "code",
   "execution_count": 147,
   "id": "fe233622-51e8-4ae4-8836-23fbd251b700",
   "metadata": {},
   "outputs": [
    {
     "data": {
      "text/plain": [
       "numpy.ndarray"
      ]
     },
     "execution_count": 147,
     "metadata": {},
     "output_type": "execute_result"
    }
   ],
   "source": [
    "type(similarity_matrix)"
   ]
  },
  {
   "cell_type": "code",
   "execution_count": null,
   "id": "bdc610f4-59ec-482c-b343-f062c62a81a7",
   "metadata": {},
   "outputs": [],
   "source": []
  }
 ],
 "metadata": {
  "kernelspec": {
   "display_name": "Python 3 (ipykernel)",
   "language": "python",
   "name": "python3"
  },
  "language_info": {
   "codemirror_mode": {
    "name": "ipython",
    "version": 3
   },
   "file_extension": ".py",
   "mimetype": "text/x-python",
   "name": "python",
   "nbconvert_exporter": "python",
   "pygments_lexer": "ipython3",
   "version": "3.9.15"
  }
 },
 "nbformat": 4,
 "nbformat_minor": 5
}
