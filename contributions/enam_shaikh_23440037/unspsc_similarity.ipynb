{
 "cells": [
  {
   "cell_type": "code",
   "execution_count": null,
   "id": "78ecbcfd",
   "metadata": {},
   "outputs": [],
   "source": [
    "import numpy as np\n",
    "\n",
    "# Load the NPZ file\n",
    "data = np.load('unspsc_embeddings.npz')\n",
    "\n",
    "# List the keys (names) of the arrays in the NPZ file\n",
    "array_names = data.files\n",
    "\n",
    "# Create a text file to save the output\n",
    "with open('unspsc.txt', 'w') as text_file:\n",
    "    # Access and use the arrays by their names\n",
    "    for name in array_names:\n",
    "        array = data[name]\n",
    "        text_file.write(f'Array name: {name}\\n')\n",
    "        text_file.write(f'Array data:\\n{array}\\n')\n"
   ]
  },
  {
   "cell_type": "code",
   "execution_count": null,
   "id": "27bb7461",
   "metadata": {},
   "outputs": [],
   "source": [
    "#check the length of the npz file\n",
    "\n",
    "import numpy as np\n",
    "\n",
    "# Load the NPZ file\n",
    "data = np.load('unspsc_embeddings.npz')\n",
    "array_names = data.files\n",
    "num_arrays = len(array_names)\n",
    "print(f'Number of arrays in the NPZ file: {num_arrays}')\n",
    "\n"
   ]
  },
  {
   "cell_type": "code",
   "execution_count": null,
   "id": "69fb632a",
   "metadata": {},
   "outputs": [],
   "source": [
    "import pickle\n",
    "\n",
    "# Open the .pickle file for reading\n",
    "with open('unspsc_title_list.pickle', 'rb') as file:\n",
    "    pickle_title = pickle.load(file)"
   ]
  },
  {
   "cell_type": "code",
   "execution_count": null,
   "id": "5344b7fe",
   "metadata": {},
   "outputs": [],
   "source": [
    "\n",
    "import re\n",
    "\n",
    "# Specify unspsc text file\n",
    "text_file_path = 'unspsc.txt'\n",
    "\n",
    "\n",
    "array_names = []\n",
    "array_data = []\n",
    "\n",
    "# Open the text file and process its contents\n",
    "with open(text_file_path, 'r') as file:\n",
    "    lines = file.readlines()\n",
    "    \n",
    "\n",
    "    # Initialize variables to capture Array_name and Array_data\n",
    "    current_name = None\n",
    "    current_data = []\n",
    "\n",
    "    # Iterate through lines in the file\n",
    "    for line in lines:\n",
    "        #print(line)\n",
    "        # Check if the line contains Array_name\n",
    "        name_match = re.match(r'Array\\s*name\\s*:\\s*(\\w+)', line)\n",
    "        #print(name_match)\n",
    "        if name_match:\n",
    "            # If we already have data from a previous Array_data section, append it\n",
    "            if current_name is not None:\n",
    "                array_names.append(current_name)\n",
    "                array_data.append(current_data)\n",
    "            \n",
    "            # Set the current Array_name and reset data\n",
    "            current_name = name_match.group(1)\n",
    "            current_data = []\n",
    "        elif current_name is not None:\n",
    "            # Check if the line contains numeric data\n",
    "            data_match = re.findall(r'([-+]?\\d*\\.\\d+e[+-]?\\d+|\\d+)', line)\n",
    "            if data_match:\n",
    "                # Convert scientific notation strings to floating-point numbers\n",
    "                current_data.extend([float(num) for num in data_match])\n",
    "\n",
    "    # Append the last set of data if any\n",
    "    if current_name is not None:\n",
    "        array_names.append(current_name)\n",
    "        array_data.append(current_data)\n",
    "\n",
    "# Create a DataFrame\n",
    "df_unspsc = pd.DataFrame({'Array_name': array_names, 'Array_data': array_data})"
   ]
  },
  {
   "cell_type": "code",
   "execution_count": null,
   "id": "f0b528c1",
   "metadata": {},
   "outputs": [],
   "source": [
    "#Rename the Array_name to UNSPSC titles\n",
    "df_unspsc['Array_name'] = pickle_title[:len(df_unspsc)]"
   ]
  },
  {
   "cell_type": "code",
   "execution_count": null,
   "id": "564dc247",
   "metadata": {},
   "outputs": [],
   "source": [
    "df_unspsc = df_unspsc.rename(columns={'Array_name': 'UNSPSC Title'})"
   ]
  },
  {
   "cell_type": "code",
   "execution_count": null,
   "id": "ad9d9d9d",
   "metadata": {},
   "outputs": [],
   "source": [
    "type(df_unspsc['Array_data'][0])"
   ]
  },
  {
   "cell_type": "code",
   "execution_count": null,
   "id": "248a44d5",
   "metadata": {},
   "outputs": [],
   "source": [
    "#this file contains the tender details with Descrption embeddings\n",
    "df_tenders = pd.read_excel('merged_file.xlsx')\n"
   ]
  },
  {
   "cell_type": "code",
   "execution_count": null,
   "id": "897b35fb",
   "metadata": {},
   "outputs": [],
   "source": [
    "#change the embeddings from str to list\n",
    "import ast\n",
    "df_tenders['Embeddings'] = df_tenders['Embeddings'].apply(ast.literal_eval)"
   ]
  },
  {
   "cell_type": "code",
   "execution_count": null,
   "id": "b1c47873",
   "metadata": {},
   "outputs": [],
   "source": [
    "#from df_tenders dropping the duplicate value\n",
    "reference_column_name = \"UNSPSC Title\"\n",
    "unique_references_df = df_tenders.drop_duplicates(subset=reference_column_name, keep='first')\n",
    "unique_references_df = unique_references_df.reset_index(drop=True)"
   ]
  },
  {
   "cell_type": "code",
   "execution_count": null,
   "id": "1b8ef8b8",
   "metadata": {
    "scrolled": true
   },
   "outputs": [],
   "source": [
    "#joining the two data frames by \"UNSPSC Title\"\n",
    "merged_df = unique_references_df.merge(df_unspsc, on='UNSPSC Title', how='inner')"
   ]
  },
  {
   "cell_type": "code",
   "execution_count": null,
   "id": "8a27eccc",
   "metadata": {},
   "outputs": [],
   "source": [
    "#creating a new data frame with below columns.\n",
    "selected_columns = ['Reference Number', 'UNSPSC Title', 'Embeddings','Array_data']\n",
    "filter_df = merged_df[selected_columns]"
   ]
  },
  {
   "cell_type": "markdown",
   "id": "e55a9b54",
   "metadata": {},
   "source": [
    "2 of the tenders description embeddings has more than 768 embeddings removing 2 rows."
   ]
  },
  {
   "cell_type": "code",
   "execution_count": null,
   "id": "5d208d54",
   "metadata": {},
   "outputs": [],
   "source": [
    "desired_size = 768  # Change this to your desired size (e.g., 768)\n",
    "filter_df = filter_df[filter_df['Embeddings'].apply(lambda x: len(x) == desired_size)]"
   ]
  },
  {
   "cell_type": "code",
   "execution_count": null,
   "id": "6425be02",
   "metadata": {},
   "outputs": [],
   "source": [
    "filter_df"
   ]
  },
  {
   "cell_type": "code",
   "execution_count": null,
   "id": "965cdfe8",
   "metadata": {},
   "outputs": [],
   "source": [
    "\n",
    "from sklearn.metrics.pairwise import cosine_similarity\n",
    "# Calculate cosine similarity for each pair of embeddings\n",
    "cosine_similarities = []\n",
    "for index, row in filter_df.iterrows():\n",
    "    embedding1 = row['Embeddings']\n",
    "    embedding2 = row['Array_data']\n",
    "    similarity = cosine_similarity([embedding1], [embedding2])[0][0]\n",
    "    cosine_similarities.append(similarity)\n",
    "\n",
    "# Add the cosine similarities as a new column in the DataFrame\n",
    "filter_df['Cosine_Similarity'] = cosine_similarities\n",
    "\n"
   ]
  },
  {
   "cell_type": "code",
   "execution_count": null,
   "id": "90b0b7f1",
   "metadata": {},
   "outputs": [],
   "source": [
    "threshold_val = -0.05  # Replace with your desired threshold value\n",
    "\n",
    "# Filter rows based on 'Cosine_Similarity' column\n",
    "prblm_embedding = filter_df[filter_df['Cosine_Similarity'] < threshold_val]"
   ]
  },
  {
   "cell_type": "code",
   "execution_count": null,
   "id": "1fa6ffcd",
   "metadata": {},
   "outputs": [],
   "source": [
    "prblm_embedding"
   ]
  },
  {
   "cell_type": "code",
   "execution_count": null,
   "id": "a2fbcce1",
   "metadata": {},
   "outputs": [],
   "source": [
    "# Specify the file path where you want to save the Excel file\n",
    "excel_file_path = 'unspsc_similarity.xlsx'\n",
    "\n",
    "# Save the DataFrame to an Excel file\n",
    "filter_df.to_excel(excel_file_path, index=False)"
   ]
  },
  {
   "cell_type": "code",
   "execution_count": null,
   "id": "6e27978e",
   "metadata": {},
   "outputs": [],
   "source": []
  }
 ],
 "metadata": {
  "kernelspec": {
   "display_name": "Python 3 (ipykernel)",
   "language": "python",
   "name": "python3"
  },
  "language_info": {
   "codemirror_mode": {
    "name": "ipython",
    "version": 3
   },
   "file_extension": ".py",
   "mimetype": "text/x-python",
   "name": "python",
   "nbconvert_exporter": "python",
   "pygments_lexer": "ipython3",
   "version": "3.11.4"
  }
 },
 "nbformat": 4,
 "nbformat_minor": 5
}
