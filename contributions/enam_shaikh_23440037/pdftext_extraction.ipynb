{
 "cells": [
  {
   "cell_type": "code",
   "execution_count": 1,
   "id": "e411027d",
   "metadata": {},
   "outputs": [],
   "source": [
    "#pip install PyPDF2"
   ]
  },
  {
   "cell_type": "code",
   "execution_count": 2,
   "id": "d2d9adb8",
   "metadata": {},
   "outputs": [],
   "source": [
    "#pip install pdfplumber"
   ]
  },
  {
   "cell_type": "code",
   "execution_count": 4,
   "id": "7a5c2e05",
   "metadata": {},
   "outputs": [],
   "source": [
    "import PyPDF2\n",
    "def extract_text_from_pdf(pdf_path):\n",
    "    text = \"\"\n",
    "    with open(pdf_path, \"rb\") as pdf_file:\n",
    "        pdf_reader = PyPDF2.PdfReader(pdf_file)\n",
    "        for page_number in range(len(pdf_reader.pages)):\n",
    "            page = pdf_reader.pages[page_number]\n",
    "            text += page.extract_text()\n",
    "    return text"
   ]
  },
  {
   "cell_type": "code",
   "execution_count": 5,
   "id": "34232e44",
   "metadata": {},
   "outputs": [],
   "source": [
    "import re\n",
    "\n",
    "def normalize_heading(heading):\n",
    "    # Remove extra spaces and other whitespace characters from the heading\n",
    "    return re.sub(r'\\s+', ' ', heading.strip())\n"
   ]
  },
  {
   "cell_type": "code",
   "execution_count": 8,
   "id": "b234b9bd",
   "metadata": {},
   "outputs": [
    {
     "name": "stdout",
     "output_type": "stream",
     "text": [
      "1. INTRODUCTION\n",
      "Brabham East Primary School (planning name) has been included in the Western Australian\n",
      "Government’s Percent for Art Scheme. In this scheme, a percentage of the building budget is\n",
      "allocated for the commissioning of site-specific artworks.\n",
      "This commission will be awarded to an artist that offers the best comprehensive approach to the\n",
      "artwork opportunities offered within this stage of the development.\n",
      "The school will be completed by April 2025.\n"
     ]
    }
   ],
   "source": [
    "import pdfplumber\n",
    "\n",
    "def extract_content_by_heading(target_headings, pdf_path):\n",
    "    content = \"\"\n",
    "    with pdfplumber.open(pdf_path) as pdf:\n",
    "        normalized_headings = [normalize_heading(heading) for heading in target_headings]\n",
    "        is_target_heading = False\n",
    "        skip_content = False\n",
    "\n",
    "        for page in pdf.pages:\n",
    "            for line in page.extract_text().split('\\n'):\n",
    "                line = line.strip()\n",
    "                if any(heading in line for heading in normalized_headings):\n",
    "                    is_target_heading = True\n",
    "                    skip_content = False\n",
    "                    content += line + '\\n'  # Add the heading line to content\n",
    "                    continue\n",
    "                elif line and is_target_heading:\n",
    "                    if line.startswith('2.'):\n",
    "                        is_target_heading = False\n",
    "                        skip_content = True\n",
    "                    if not skip_content:\n",
    "                        content += line + '\\n'\n",
    "                elif line and not line.startswith(' '):\n",
    "                    is_target_heading = False\n",
    "\n",
    "    return content.strip()\n",
    "\n",
    "headings_to_extract = ['INTRODUCTION']\n",
    "pdf_path = \"C:\\\\Users\\\\skena\\\\Desktop\\\\UWA_DS\\\\Sem4\\\\Capstone_project\\\\EOIFINW0688922 - Brabham East Primary School - Percent for Art Brief.pdf\"\n",
    "\n",
    "extracted_content = extract_content_by_heading(headings_to_extract, pdf_path)\n",
    "print(extracted_content)\n"
   ]
  },
  {
   "cell_type": "code",
   "execution_count": null,
   "id": "3472d828",
   "metadata": {},
   "outputs": [],
   "source": []
  }
 ],
 "metadata": {
  "kernelspec": {
   "display_name": "Python 3 (ipykernel)",
   "language": "python",
   "name": "python3"
  },
  "language_info": {
   "codemirror_mode": {
    "name": "ipython",
    "version": 3
   },
   "file_extension": ".py",
   "mimetype": "text/x-python",
   "name": "python",
   "nbconvert_exporter": "python",
   "pygments_lexer": "ipython3",
   "version": "3.10.8"
  }
 },
 "nbformat": 4,
 "nbformat_minor": 5
}
