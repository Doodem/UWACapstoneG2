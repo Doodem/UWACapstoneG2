{
 "cells": [
  {
   "cell_type": "code",
   "execution_count": 1,
   "id": "e411027d",
   "metadata": {},
   "outputs": [],
   "source": [
    "#pip install PyPDF2"
   ]
  },
  {
   "cell_type": "code",
   "execution_count": 2,
   "id": "d2d9adb8",
   "metadata": {},
   "outputs": [],
   "source": [
    "#pip install pdfplumber"
   ]
  },
  {
   "cell_type": "code",
   "execution_count": 4,
   "id": "7a5c2e05",
   "metadata": {},
   "outputs": [],
   "source": [
    "import PyPDF2\n",
    "def extract_text_from_pdf(pdf_path):\n",
    "    text = \"\"\n",
    "    with open(pdf_path, \"rb\") as pdf_file:\n",
    "        pdf_reader = PyPDF2.PdfReader(pdf_file)\n",
    "        for page_number in range(len(pdf_reader.pages)):\n",
    "            page = pdf_reader.pages[page_number]\n",
    "            text += page.extract_text()\n",
    "    return text"
   ]
  },
  {
   "cell_type": "code",
   "execution_count": 5,
   "id": "34232e44",
   "metadata": {},
   "outputs": [],
   "source": [
    "import re\n",
    "\n",
    "def normalize_heading(heading):\n",
    "    # Remove extra spaces and other whitespace characters from the heading\n",
    "    return re.sub(r'\\s+', ' ', heading.strip())\n"
   ]
  },
  {
   "cell_type": "code",
   "execution_count": 8,
   "id": "b234b9bd",
   "metadata": {},
   "outputs": [
    {
     "name": "stdout",
     "output_type": "stream",
     "text": [
      "1. INTRODUCTION\n",
      "Brabham East Primary School (planning name) has been included in the Western Australian\n",
      "Government’s Percent for Art Scheme. In this scheme, a percentage of the building budget is\n",
      "allocated for the commissioning of site-specific artworks.\n",
      "This commission will be awarded to an artist that offers the best comprehensive approach to the\n",
      "artwork opportunities offered within this stage of the development.\n",
      "The school will be completed by April 2025.\n"
     ]
    }
   ],
   "source": [
    "import pdfplumber\n",
    "\n",
    "def extract_content_by_heading(target_headings, pdf_path):\n",
    "    content = \"\"\n",
    "    with pdfplumber.open(pdf_path) as pdf:\n",
    "        normalized_headings = [normalize_heading(heading) for heading in target_headings]\n",
    "        is_target_heading = False\n",
    "        skip_content = False\n",
    "\n",
    "        for page in pdf.pages:\n",
    "            for line in page.extract_text().split('\\n'):\n",
    "                line = line.strip()\n",
    "                if any(heading in line for heading in normalized_headings):\n",
    "                    is_target_heading = True\n",
    "                    skip_content = False\n",
    "                    content += line + '\\n'  # Add the heading line to content\n",
    "                    continue\n",
    "                elif line and is_target_heading:\n",
    "                    if line.startswith('2.'):\n",
    "                        is_target_heading = False\n",
    "                        skip_content = True\n",
    "                    if not skip_content:\n",
    "                        content += line + '\\n'\n",
    "                elif line and not line.startswith(' '):\n",
    "                    is_target_heading = False\n",
    "\n",
    "    return content.strip()\n",
    "\n",
    "headings_to_extract = ['INTRODUCTION']\n",
    "pdf_path = \"C:\\\\Users\\\\skena\\\\Desktop\\\\UWA_DS\\\\Sem4\\\\Capstone_project\\\\EOIFINW0688922 - Brabham East Primary School - Percent for Art Brief.pdf\"\n",
    "\n",
    "extracted_content = extract_content_by_heading(headings_to_extract, pdf_path)\n",
    "print(extracted_content)\n"
   ]
  },
  {
   "cell_type": "code",
   "execution_count": 6,
   "id": "117f5a16",
   "metadata": {},
   "outputs": [],
   "source": [
    "#pip install python-docx\n"
   ]
  },
  {
   "cell_type": "code",
   "execution_count": 7,
   "id": "a4a7da89",
   "metadata": {},
   "outputs": [],
   "source": [
    "# Code for Extracting text from .dcox file"
   ]
  },
  {
   "cell_type": "raw",
   "id": "296ce163",
   "metadata": {},
   "source": [
    "from docx import Document\n",
    "\n",
    "def extract_text_from_docx(docx_path):\n",
    "    doc = Document(docx_path)\n",
    "    text = \"\"\n",
    "    for paragraph in doc.paragraphs:\n",
    "        text += paragraph.text + \"\\n\"\n",
    "    return text\n",
    "\n",
    "docx_path = \"C:\\\\Users\\\\skena\\\\Desktop\\\\UWA_DS\\\\Sem4\\\\Capstone_project\\\\20221AGWA - Request - FINAL.docx\"  # Replace with your .docx file path\n",
    "extracted_text = extract_text_from_docx(docx_path)\n",
    "print(extracted_text)\n"
   ]
  },
  {
   "cell_type": "code",
   "execution_count": 5,
   "id": "a62a8fa8",
   "metadata": {},
   "outputs": [
    {
     "name": "stdout",
     "output_type": "stream",
     "text": [
      "Background\n",
      "The Art Gallery of Western Australia (AGWA, the Customer) requires the services of a consultant to assist with the day to day running of AGWA Rooftop Bar and AGWA Café and Bar.\n",
      "The Rooftop Bar opens three nights per week Friday through Sunday to the general public, as well as for special hired events.  The bar offers the best of West Australian inspired food and beverage from 3pm on these evenings. Since its opening in November 2021 the AGWA Rooftop Bar has welcomed 30,000 people to the premises.\n",
      "The recently opened AGWA Café and Bar (April 2022) operates seven days a week until 5pm, offering coffee, lunch and snacks as well as running as a bar in the afternoon.  The Café and Bar serves food and beverage from local producers and endeavours to serve the best coffee and food in Perth\n",
      "The successful consultant will be responsible for the daily operation of the bar and café including the provision of a venue manager, logistical staff and bar and cafe staff. \n",
      "As both the AGWA Rooftop bar and the AGWA Café and Bar are both new operations the AGWA are looking for someone with experience who can share their expertise and knowledge to grow the business and offer advice on how to improve customer experience.\n",
      "Note: The liquor license is held by Art Gallery of Western Australia. Operation of the Rooftop Bar and the AGWA Café and Bar are held under this liquor license. \n",
      "Submission of Offer\n"
     ]
    }
   ],
   "source": [
    "from docx import Document\n",
    "\n",
    "def extract_doc_by_header(docx_path, target_header):\n",
    "    doc = Document(docx_path)\n",
    "    content = []\n",
    "    current_header = None\n",
    "    capture_content = False\n",
    "\n",
    "    for paragraph in doc.paragraphs:\n",
    "        if paragraph.style.name.startswith(\"Heading\") and paragraph.text == target_header:\n",
    "            current_header = paragraph.text\n",
    "            capture_content = True\n",
    "            content.append(current_header)\n",
    "        elif capture_content:\n",
    "            content.append(paragraph.text)\n",
    "        \n",
    "        # Stop capturing content if a new header is encountered\n",
    "        if paragraph.style.name.startswith(\"Heading\") and paragraph.text != current_header:\n",
    "            capture_content = False\n",
    "\n",
    "    return \"\\n\".join(content)\n",
    "\n",
    "docx_path = \"C:\\\\Users\\\\skena\\\\Desktop\\\\UWA_DS\\\\Sem4\\\\Capstone_project\\\\20221AGWA - Request - FINAL.docx\"  # Replace with your .docx file path\n",
    "target_header = \"Background\"  # Replace with the header you're looking for\n",
    "\n",
    "extracted_content = extract_doc_by_header(docx_path, target_header)\n",
    "print(extracted_content)\n"
   ]
  },
  {
   "cell_type": "code",
   "execution_count": null,
   "id": "e77c3d69",
   "metadata": {},
   "outputs": [],
   "source": []
  }
 ],
 "metadata": {
  "kernelspec": {
   "display_name": "Python 3 (ipykernel)",
   "language": "python",
   "name": "python3"
  },
  "language_info": {
   "codemirror_mode": {
    "name": "ipython",
    "version": 3
   },
   "file_extension": ".py",
   "mimetype": "text/x-python",
   "name": "python",
   "nbconvert_exporter": "python",
   "pygments_lexer": "ipython3",
   "version": "3.10.8"
  }
 },
 "nbformat": 4,
 "nbformat_minor": 5
}
