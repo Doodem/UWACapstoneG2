{
 "cells": [
  {
   "cell_type": "markdown",
   "id": "f37c5ed6",
   "metadata": {},
   "source": [
    "For converting text files of embeddings into xl file"
   ]
  },
  {
   "cell_type": "code",
   "execution_count": 9,
   "id": "bb5eaeea",
   "metadata": {},
   "outputs": [
    {
     "name": "stdout",
     "output_type": "stream",
     "text": [
      "Data saved to output_data.xlsx\n"
     ]
    }
   ],
   "source": [
    "import pandas as pd\n",
    "import re\n",
    "\n",
    "# Specify the path to your text file\n",
    "text_file_path = 'tender_dictionary.txt'\n",
    "\n",
    "# Initialize lists to store the extracted data\n",
    "array_names = []\n",
    "array_data = []\n",
    "\n",
    "# Open the text file and process its contents\n",
    "with open(text_file_path, 'r') as file:\n",
    "    lines = file.readlines()\n",
    "\n",
    "    # Initialize variables to capture Array_name and Array_data\n",
    "    current_name = None\n",
    "    current_data = []\n",
    "\n",
    "    # Iterate through lines in the file\n",
    "    for line in lines:\n",
    "        # Check if the line contains Array_name\n",
    "        name_match = re.match(r'Array_name: (\\w+)', line)\n",
    "        if name_match:\n",
    "            # If we already have data from a previous Array_data section, append it\n",
    "            if current_name is not None:\n",
    "                array_names.append(current_name)\n",
    "                array_data.append(current_data)\n",
    "            \n",
    "            # Set the current Array_name and reset data\n",
    "            current_name = name_match.group(1)\n",
    "            current_data = []\n",
    "        elif current_name is not None:\n",
    "            # Check if the line contains numeric data\n",
    "            data_match = re.findall(r'([-+]?\\d*\\.\\d+e[+-]?\\d+|\\d+)', line)\n",
    "            if data_match:\n",
    "                # Convert scientific notation strings to floating-point numbers\n",
    "                current_data.extend([float(num) for num in data_match])\n",
    "\n",
    "    # Append the last set of data if any\n",
    "    if current_name is not None:\n",
    "        array_names.append(current_name)\n",
    "        array_data.append(current_data)\n",
    "\n",
    "# Create a DataFrame\n",
    "df = pd.DataFrame({'Array_name': array_names, 'Array_data': array_data})\n",
    "\n",
    "# Save the DataFrame to an Excel file\n",
    "excel_file_path = 'output_data.xlsx'\n",
    "df.to_excel(excel_file_path, index=False)\n",
    "\n",
    "print(f'Data saved to {excel_file_path}')\n"
   ]
  },
  {
   "cell_type": "markdown",
   "id": "f04d335e",
   "metadata": {},
   "source": [
    "Updating tenders reference number into embeddings excel sheet "
   ]
  },
  {
   "cell_type": "code",
   "execution_count": 14,
   "id": "fbca1f9c",
   "metadata": {},
   "outputs": [
    {
     "name": "stdout",
     "output_type": "stream",
     "text": [
      "Column values updated and file saved.\n"
     ]
    }
   ],
   "source": [
    "import pandas as pd\n",
    "\n",
    "# Load the Excel file without a header\n",
    "file_path = 'output_data.xlsx'\n",
    "df = pd.read_excel(file_path, header=0)\n",
    "\n",
    "# Load the text file and convert it into a list\n",
    "text_file_path = 'tender_array.txt'\n",
    "with open(text_file_path, 'r') as text_file:\n",
    "    new_column_values = eval(text_file.read())  # Assuming your text file contains a valid Python list\n",
    "\n",
    "# Ensure the lengths match or handle any mismatches\n",
    "if len(new_column_values) == len(df):\n",
    "    df.iloc[:, 0] = new_column_values\n",
    "else:\n",
    "    # Handle the mismatch (e.g., truncate or fill with default values)\n",
    "    # Example: Truncate the list to match the DataFrame length\n",
    "    df.iloc[:, 0] = new_column_values[:len(df)]\n",
    "\n",
    "# Save the updated DataFrame back to the Excel file\n",
    "df.to_excel(file_path, index=False, header=None)\n",
    "\n",
    "print(\"Column values updated and file saved.\")\n"
   ]
  },
  {
   "cell_type": "code",
   "execution_count": 18,
   "id": "6116bd0d",
   "metadata": {},
   "outputs": [],
   "source": [
    "import pandas as pd\n",
    "\n",
    "\n",
    "file1_path = 'output_data.xlsx'\n",
    "df1 = pd.read_excel(file1_path)\n",
    "\n",
    "# Load the second Excel file with 423 rows and header row\n",
    "file2_path = 'Tenders_WA_descriptionExtracted.xlsx'\n",
    "df2 = pd.read_excel(file2_path, header=0)\n",
    "\n",
    "# Perform a left join to keep all rows from df2 and matching rows from df1\n",
    "merged_df = pd.merge(df2, df1, on='Reference Number', how='inner')\n",
    "\n",
    "# Save the merged DataFrame to a new Excel file\n",
    "merged_file_path = 'merged_file.xlsx'\n",
    "merged_df.to_excel(merged_file_path, index=False)\n"
   ]
  },
  {
   "cell_type": "markdown",
   "id": "d9140f1e",
   "metadata": {},
   "source": [
    "As we have 1000 records with 424 tenders , some of the tenders are repeating. hence the cluster isn't efficient.\n",
    "Taking the unique tenders to create cluster."
   ]
  },
  {
   "cell_type": "code",
   "execution_count": 25,
   "id": "5cdf4307",
   "metadata": {},
   "outputs": [
    {
     "data": {
      "text/plain": [
       "416"
      ]
     },
     "execution_count": 25,
     "metadata": {},
     "output_type": "execute_result"
    }
   ],
   "source": [
    "import pandas as pd\n",
    "\n",
    "# Load the Excel file into a DataFrame\n",
    "file_path = 'merged_file.xlsx'\n",
    "df = pd.read_excel(file_path)\n",
    "\n",
    "# Specify the column containing the reference numbers (replace 'Reference_Column' with the actual column name)\n",
    "reference_column_name = 'Reference Number'\n",
    "\n",
    "# Extract unique reference numbers along with all columns\n",
    "unique_references_df = df.drop_duplicates(subset=reference_column_name, keep='first')\n",
    "\n",
    "# Save the DataFrame with unique reference numbers to a new Excel file\n",
    "unique_references_file_path = 'unique_references.xlsx'\n",
    "unique_references_df.to_excel(unique_references_file_path, index=False)\n"
   ]
  },
  {
   "cell_type": "code",
   "execution_count": 24,
   "id": "86a79196",
   "metadata": {},
   "outputs": [
    {
     "data": {
      "text/plain": [
       "424"
      ]
     },
     "execution_count": 24,
     "metadata": {},
     "output_type": "execute_result"
    }
   ],
   "source": [
    "file_path = 'output_data.xlsx'\n",
    "df = pd.read_excel(file_path)\n",
    "\n",
    "\n",
    "column_name = 'Reference Number'\n",
    "\n",
    "# Count the number of unique values in the specified column\n",
    "unique_count = df[column_name].nunique()\n",
    "unique_count"
   ]
  },
  {
   "cell_type": "markdown",
   "id": "9c02e6df",
   "metadata": {},
   "source": [
    "Noticed some of the tenders are missing ,so printing the tenders that are missing"
   ]
  },
  {
   "cell_type": "code",
   "execution_count": 27,
   "id": "2da041d2",
   "metadata": {},
   "outputs": [
    {
     "name": "stdout",
     "output_type": "stream",
     "text": [
      "Tenders missing in the Excel sheet with 416 records:\n",
      "WAPOL04723\n",
      "WAPOL0\n",
      "DOC202246435\n",
      "FINW0144423\n",
      "DWER101323\n",
      "HSS605220\n",
      "ED230060\n",
      "ED229594\n"
     ]
    }
   ],
   "source": [
    "import pandas as pd\n",
    "\n",
    "file1_path = 'unique_references.xlsx'\n",
    "df1 = pd.read_excel(file1_path)\n",
    "\n",
    "file2_path = 'output_data.xlsx'\n",
    "df2 = pd.read_excel(file2_path)\n",
    "\n",
    "reference_column_name = 'Reference Number'\n",
    "\n",
    "# Extract the tender reference numbers from both DataFrames\n",
    "tenders_416 = set(df1[reference_column_name].tolist())\n",
    "tenders_424 = set(df2[reference_column_name].tolist())\n",
    "\n",
    "missing_tenders = tenders_424 - tenders_416\n",
    "\n",
    "# Print the missing tenders\n",
    "print(\"Tenders missing in the Excel sheet with 416 records:\")\n",
    "for tender in missing_tenders:\n",
    "    print(tender)\n"
   ]
  },
  {
   "cell_type": "code",
   "execution_count": null,
   "id": "4346a114",
   "metadata": {},
   "outputs": [],
   "source": []
  }
 ],
 "metadata": {
  "kernelspec": {
   "display_name": "Python 3 (ipykernel)",
   "language": "python",
   "name": "python3"
  },
  "language_info": {
   "codemirror_mode": {
    "name": "ipython",
    "version": 3
   },
   "file_extension": ".py",
   "mimetype": "text/x-python",
   "name": "python",
   "nbconvert_exporter": "python",
   "pygments_lexer": "ipython3",
   "version": "3.10.8"
  }
 },
 "nbformat": 4,
 "nbformat_minor": 5
}
