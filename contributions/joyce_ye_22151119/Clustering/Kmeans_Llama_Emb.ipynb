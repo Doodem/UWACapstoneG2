{
 "cells": [
  {
   "cell_type": "code",
   "execution_count": 22,
   "id": "f5c0c9b1",
   "metadata": {},
   "outputs": [],
   "source": [
    "import random\n",
    "import numpy as np\n",
    "import re\n",
    "import pandas as pd\n",
    "import os"
   ]
  },
  {
   "cell_type": "code",
   "execution_count": 27,
   "id": "41c1e642",
   "metadata": {},
   "outputs": [],
   "source": [
    "llama_path = \"./data/llama_embeddings\"\n",
    "llama_embs = []"
   ]
  },
  {
   "cell_type": "code",
   "execution_count": 28,
   "id": "d7006cdc",
   "metadata": {},
   "outputs": [],
   "source": [
    "for filename in os.listdir(llama_path):\n",
    "    if filename.endswith(\".npy\"):\n",
    "        file_path = os.path.join(llama_path, filename)\n",
    "        data = np.load(file_path)\n",
    "        llama_embs.append(data)"
   ]
  },
  {
   "cell_type": "code",
   "execution_count": 34,
   "id": "dd729c3a",
   "metadata": {},
   "outputs": [],
   "source": [
    "tender_refs = open(\"./data/tender_references.txt\", \"r\")\n",
    "content = \"\"\n",
    "for line in tender_refs:\n",
    "    content = line\n",
    "    break"
   ]
  },
  {
   "cell_type": "code",
   "execution_count": 35,
   "id": "5c09c5c3",
   "metadata": {},
   "outputs": [],
   "source": [
    "content = content.replace(\"[\", \"\")\n",
    "content = content.replace(\"'\", \"\")\n",
    "content = content.replace(\",\", \"\")\n",
    "refs = content.split(\" \")"
   ]
  },
  {
   "cell_type": "code",
   "execution_count": 45,
   "id": "43a859aa",
   "metadata": {},
   "outputs": [],
   "source": [
    "llama_embs_reshaped = [arr.reshape(-1) for arr in llama_embs]"
   ]
  },
  {
   "cell_type": "code",
   "execution_count": 47,
   "id": "f0c1e642",
   "metadata": {},
   "outputs": [],
   "source": [
    "from sklearn.cluster import KMeans\n",
    "from sklearn import preprocessing\n",
    "kmeans = KMeans(n_clusters = 2000, n_init = 1).fit_predict(preprocessing.normalize(llama_embs_reshaped))"
   ]
  },
  {
   "cell_type": "code",
   "execution_count": 48,
   "id": "8bf6d435",
   "metadata": {},
   "outputs": [],
   "source": [
    "import pandas as pd\n",
    "tenders_structured_path = r\"./data/UpdatedAgainTenders.xlsx\"\n",
    "\n",
    "tenders_structured = pd.read_excel(tenders_structured_path)\n",
    "tenders_structured = tenders_structured[[\"Reference Number\", \"Contract Title\", \"Description\"]].dropna(subset=[\"Reference Number\"])"
   ]
  },
  {
   "cell_type": "code",
   "execution_count": null,
   "id": "fa81d257",
   "metadata": {},
   "outputs": [],
   "source": []
  }
 ],
 "metadata": {
  "kernelspec": {
   "display_name": "Python 3 (ipykernel)",
   "language": "python",
   "name": "python3"
  },
  "language_info": {
   "codemirror_mode": {
    "name": "ipython",
    "version": 3
   },
   "file_extension": ".py",
   "mimetype": "text/x-python",
   "name": "python",
   "nbconvert_exporter": "python",
   "pygments_lexer": "ipython3",
   "version": "3.9.13"
  }
 },
 "nbformat": 4,
 "nbformat_minor": 5
}
