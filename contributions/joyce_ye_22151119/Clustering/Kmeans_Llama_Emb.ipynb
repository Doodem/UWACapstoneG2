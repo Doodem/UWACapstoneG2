{
 "cells": [
  {
   "cell_type": "code",
   "execution_count": 2,
   "id": "f5c0c9b1",
   "metadata": {},
   "outputs": [],
   "source": [
    "import random\n",
    "import numpy as np\n",
    "import re\n",
    "import pandas as pd\n",
    "import os"
   ]
  },
  {
   "cell_type": "code",
   "execution_count": 3,
   "id": "41c1e642",
   "metadata": {},
   "outputs": [],
   "source": [
    "llama_path = \"./data/llama_embeddings\"\n",
    "llama_embs = []"
   ]
  },
  {
   "cell_type": "code",
   "execution_count": 12,
   "id": "d7006cdc",
   "metadata": {},
   "outputs": [],
   "source": [
    "for filename in os.listdir(llama_path):\n",
    "    if filename.endswith(\".npy\"):\n",
    "        file_path = os.path.join(llama_path, filename)\n",
    "        data = np.load(file_path)\n",
    "        llama_embs.append(data)"
   ]
  },
  {
   "cell_type": "code",
   "execution_count": 5,
   "id": "ab7adcb4",
   "metadata": {},
   "outputs": [
    {
     "name": "stdout",
     "output_type": "stream",
     "text": [
      "文件名已经存储在 references.txt 中。\n"
     ]
    }
   ],
   "source": [
    "import os\n",
    "import glob\n",
    "\n",
    "\n",
    "npy_files = glob.glob(os.path.join(llama_path, \"*.npy\"))\n",
    "\n",
    "output_txt_file = \"references.txt\"\n",
    "\n",
    "with open(output_txt_file, \"w\") as txt_file:\n",
    "    for npy_file in npy_files:\n",
    "        file_name = os.path.basename(npy_file)\n",
    "        file_name_without_extension = os.path.splitext(file_name)[0]\n",
    "        txt_file.write(file_name_without_extension + \"\\n\")"
   ]
  },
  {
   "cell_type": "code",
   "execution_count": 13,
   "id": "1c599818",
   "metadata": {},
   "outputs": [],
   "source": [
    "refs = []\n",
    "\n",
    "with open(\"references.txt\", \"r\") as txt_file:\n",
    "    for line in txt_file:\n",
    "        refs.append(line.strip())\n"
   ]
  },
  {
   "cell_type": "code",
   "execution_count": 14,
   "id": "43a859aa",
   "metadata": {},
   "outputs": [],
   "source": [
    "llama_embs_reshaped = [arr.reshape(-1) for arr in llama_embs]"
   ]
  },
  {
   "cell_type": "code",
   "execution_count": 15,
   "id": "f0c1e642",
   "metadata": {},
   "outputs": [],
   "source": [
    "from sklearn.cluster import KMeans\n",
    "from sklearn import preprocessing\n",
    "kmeans = KMeans(n_clusters = 2000, n_init = 1).fit_predict(preprocessing.normalize(llama_embs_reshaped))"
   ]
  },
  {
   "cell_type": "code",
   "execution_count": 17,
   "id": "8bf6d435",
   "metadata": {},
   "outputs": [],
   "source": [
    "import pandas as pd\n",
    "tenders_structured_path = r\"./data/UpdatedAgainTenders.xlsx\"\n",
    "\n",
    "tenders_structured = pd.read_excel(tenders_structured_path)\n",
    "tenders_structured = tenders_structured[[\"Reference Number\", \"Contract Title\", \"Description\"]].dropna(subset=[\"Reference Number\"])"
   ]
  },
  {
   "cell_type": "code",
   "execution_count": 21,
   "id": "fa81d257",
   "metadata": {},
   "outputs": [],
   "source": [
    "clusters = pd.DataFrame({\"Reference Number\": refs, \"cluster\": kmeans})\n",
    "clusters = pd.merge(clusters, tenders_structured, on = \"Reference Number\")"
   ]
  },
  {
   "cell_type": "code",
   "execution_count": 22,
   "id": "d9d41b30",
   "metadata": {},
   "outputs": [],
   "source": [
    "from bs4 import BeautifulSoup\n",
    "def remove_html_tags(text):\n",
    "    soup = BeautifulSoup(text, \"html.parser\")\n",
    "    cleaned = soup.get_text().replace('\\xa0', ' ')\n",
    "    cleaned = ' '.join(cleaned.split())\n",
    "    return cleaned\n",
    "\n",
    "docs = []\n",
    "for index, row in clusters.iterrows():\n",
    "    title = row[\"Contract Title\"]\n",
    "    desc = remove_html_tags(row[\"Description\"])\n",
    "    clusters.at[index, \"Description\"] = desc\n",
    "    docs.append(title + \". \" + desc)"
   ]
  },
  {
   "cell_type": "code",
   "execution_count": 25,
   "id": "e3d0338a",
   "metadata": {},
   "outputs": [
    {
     "data": {
      "text/html": [
       "<div>\n",
       "<style scoped>\n",
       "    .dataframe tbody tr th:only-of-type {\n",
       "        vertical-align: middle;\n",
       "    }\n",
       "\n",
       "    .dataframe tbody tr th {\n",
       "        vertical-align: top;\n",
       "    }\n",
       "\n",
       "    .dataframe thead th {\n",
       "        text-align: right;\n",
       "    }\n",
       "</style>\n",
       "<table border=\"1\" class=\"dataframe\">\n",
       "  <thead>\n",
       "    <tr style=\"text-align: right;\">\n",
       "      <th></th>\n",
       "      <th>Reference Number</th>\n",
       "      <th>Contract Title</th>\n",
       "      <th>Description</th>\n",
       "    </tr>\n",
       "  </thead>\n",
       "  <tbody>\n",
       "    <tr>\n",
       "      <th>9530</th>\n",
       "      <td>ED210189</td>\n",
       "      <td>Provision of Probity Services for Program Kaar...</td>\n",
       "      <td>Provision of Probity Services for Program Kaar...</td>\n",
       "    </tr>\n",
       "    <tr>\n",
       "      <th>14461</th>\n",
       "      <td>HOU9617820</td>\n",
       "      <td>Maintenance of Housing Assets in the Ngaanyatj...</td>\n",
       "      <td>Maintenance of Housing Assets in the Ngaanyatj...</td>\n",
       "    </tr>\n",
       "    <tr>\n",
       "      <th>16348</th>\n",
       "      <td>LW2302</td>\n",
       "      <td>Probity auditor for gaming system renewal</td>\n",
       "      <td>Probity audit and ad hoc advice for procuremen...</td>\n",
       "    </tr>\n",
       "    <tr>\n",
       "      <th>19015</th>\n",
       "      <td>NMTAFEP2021021</td>\n",
       "      <td>Provision and Implementation of an Electronic ...</td>\n",
       "      <td>Provision and Implementation of an Electronic ...</td>\n",
       "    </tr>\n",
       "    <tr>\n",
       "      <th>23406</th>\n",
       "      <td>RFTMRWA001217STG6</td>\n",
       "      <td>Panel Contract for the Provision of Sprayed Bi...</td>\n",
       "      <td>Broome - Cape Leveque Road (BCLR) second-seals</td>\n",
       "    </tr>\n",
       "    <tr>\n",
       "      <th>24324</th>\n",
       "      <td>TWA2122136</td>\n",
       "      <td>Provision of Report on Tourism Investment Oppo...</td>\n",
       "      <td>Provision of Report on Tourism Investment Oppo...</td>\n",
       "    </tr>\n",
       "  </tbody>\n",
       "</table>\n",
       "</div>"
      ],
      "text/plain": [
       "        Reference Number                                     Contract Title  \\\n",
       "9530            ED210189  Provision of Probity Services for Program Kaar...   \n",
       "14461         HOU9617820  Maintenance of Housing Assets in the Ngaanyatj...   \n",
       "16348             LW2302          Probity auditor for gaming system renewal   \n",
       "19015     NMTAFEP2021021  Provision and Implementation of an Electronic ...   \n",
       "23406  RFTMRWA001217STG6  Panel Contract for the Provision of Sprayed Bi...   \n",
       "24324         TWA2122136  Provision of Report on Tourism Investment Oppo...   \n",
       "\n",
       "                                             Description  \n",
       "9530   Provision of Probity Services for Program Kaar...  \n",
       "14461  Maintenance of Housing Assets in the Ngaanyatj...  \n",
       "16348  Probity audit and ad hoc advice for procuremen...  \n",
       "19015  Provision and Implementation of an Electronic ...  \n",
       "23406     Broome - Cape Leveque Road (BCLR) second-seals  \n",
       "24324  Provision of Report on Tourism Investment Oppo...  "
      ]
     },
     "execution_count": 25,
     "metadata": {},
     "output_type": "execute_result"
    }
   ],
   "source": [
    "clusters.loc[clusters[\"cluster\"] == 300 , [\"Reference Number\", \"Contract Title\", \"Description\"]]"
   ]
  },
  {
   "cell_type": "code",
   "execution_count": null,
   "id": "fe05ba96",
   "metadata": {},
   "outputs": [],
   "source": []
  }
 ],
 "metadata": {
  "kernelspec": {
   "display_name": "Python 3 (ipykernel)",
   "language": "python",
   "name": "python3"
  },
  "language_info": {
   "codemirror_mode": {
    "name": "ipython",
    "version": 3
   },
   "file_extension": ".py",
   "mimetype": "text/x-python",
   "name": "python",
   "nbconvert_exporter": "python",
   "pygments_lexer": "ipython3",
   "version": "3.9.13"
  }
 },
 "nbformat": 4,
 "nbformat_minor": 5
}
