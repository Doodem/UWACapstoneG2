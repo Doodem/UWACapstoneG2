{
 "cells": [
  {
   "cell_type": "code",
   "execution_count": 2,
   "id": "6fc3151e",
   "metadata": {},
   "outputs": [
    {
     "name": "stdout",
     "output_type": "stream",
     "text": [
      "Collecting sentence_transformers\n",
      "  Downloading sentence-transformers-2.2.2.tar.gz (85 kB)\n",
      "     ---------------------------------------- 86.0/86.0 kB 4.7 MB/s eta 0:00:00\n",
      "  Preparing metadata (setup.py): started\n",
      "  Preparing metadata (setup.py): finished with status 'done'\n",
      "Requirement already satisfied: transformers<5.0.0,>=4.6.0 in c:\\users\\yfr\\anaconda3\\lib\\site-packages (from sentence_transformers) (4.32.1)\n",
      "Requirement already satisfied: tqdm in c:\\users\\yfr\\anaconda3\\lib\\site-packages (from sentence_transformers) (4.64.1)\n",
      "Requirement already satisfied: torch>=1.6.0 in c:\\users\\yfr\\anaconda3\\lib\\site-packages (from sentence_transformers) (2.0.1)\n",
      "Collecting torchvision\n",
      "  Downloading torchvision-0.16.0-cp39-cp39-win_amd64.whl (1.3 MB)\n",
      "     ---------------------------------------- 1.3/1.3 MB 7.3 MB/s eta 0:00:00\n",
      "Requirement already satisfied: numpy in c:\\users\\yfr\\anaconda3\\lib\\site-packages (from sentence_transformers) (1.21.5)\n",
      "Requirement already satisfied: scikit-learn in c:\\users\\yfr\\anaconda3\\lib\\site-packages (from sentence_transformers) (1.0.2)\n",
      "Requirement already satisfied: scipy in c:\\users\\yfr\\anaconda3\\lib\\site-packages (from sentence_transformers) (1.9.1)\n",
      "Requirement already satisfied: nltk in c:\\users\\yfr\\anaconda3\\lib\\site-packages (from sentence_transformers) (3.7)\n",
      "Collecting sentencepiece\n",
      "  Downloading sentencepiece-0.1.99-cp39-cp39-win_amd64.whl (977 kB)\n",
      "     -------------------------------------- 977.6/977.6 kB 6.2 MB/s eta 0:00:00\n",
      "Requirement already satisfied: huggingface-hub>=0.4.0 in c:\\users\\yfr\\anaconda3\\lib\\site-packages (from sentence_transformers) (0.16.4)\n",
      "Requirement already satisfied: filelock in c:\\users\\yfr\\anaconda3\\lib\\site-packages (from huggingface-hub>=0.4.0->sentence_transformers) (3.6.0)\n",
      "Requirement already satisfied: packaging>=20.9 in c:\\users\\yfr\\anaconda3\\lib\\site-packages (from huggingface-hub>=0.4.0->sentence_transformers) (21.3)\n",
      "Requirement already satisfied: fsspec in c:\\users\\yfr\\anaconda3\\lib\\site-packages (from huggingface-hub>=0.4.0->sentence_transformers) (2022.7.1)\n",
      "Requirement already satisfied: requests in c:\\users\\yfr\\anaconda3\\lib\\site-packages (from huggingface-hub>=0.4.0->sentence_transformers) (2.28.1)\n",
      "Requirement already satisfied: typing-extensions>=3.7.4.3 in c:\\users\\yfr\\anaconda3\\lib\\site-packages (from huggingface-hub>=0.4.0->sentence_transformers) (4.3.0)\n",
      "Requirement already satisfied: pyyaml>=5.1 in c:\\users\\yfr\\anaconda3\\lib\\site-packages (from huggingface-hub>=0.4.0->sentence_transformers) (6.0)\n",
      "Requirement already satisfied: jinja2 in c:\\users\\yfr\\anaconda3\\lib\\site-packages (from torch>=1.6.0->sentence_transformers) (2.11.3)\n",
      "Requirement already satisfied: networkx in c:\\users\\yfr\\anaconda3\\lib\\site-packages (from torch>=1.6.0->sentence_transformers) (2.8.4)\n",
      "Requirement already satisfied: sympy in c:\\users\\yfr\\anaconda3\\lib\\site-packages (from torch>=1.6.0->sentence_transformers) (1.10.1)\n",
      "Requirement already satisfied: colorama in c:\\users\\yfr\\anaconda3\\lib\\site-packages (from tqdm->sentence_transformers) (0.4.5)\n",
      "Requirement already satisfied: regex!=2019.12.17 in c:\\users\\yfr\\anaconda3\\lib\\site-packages (from transformers<5.0.0,>=4.6.0->sentence_transformers) (2022.7.9)\n",
      "Requirement already satisfied: tokenizers!=0.11.3,<0.14,>=0.11.1 in c:\\users\\yfr\\anaconda3\\lib\\site-packages (from transformers<5.0.0,>=4.6.0->sentence_transformers) (0.13.3)\n",
      "Requirement already satisfied: safetensors>=0.3.1 in c:\\users\\yfr\\anaconda3\\lib\\site-packages (from transformers<5.0.0,>=4.6.0->sentence_transformers) (0.3.3)\n",
      "Requirement already satisfied: click in c:\\users\\yfr\\anaconda3\\lib\\site-packages (from nltk->sentence_transformers) (8.0.4)\n",
      "Requirement already satisfied: joblib in c:\\users\\yfr\\anaconda3\\lib\\site-packages (from nltk->sentence_transformers) (1.1.0)\n",
      "Requirement already satisfied: threadpoolctl>=2.0.0 in c:\\users\\yfr\\anaconda3\\lib\\site-packages (from scikit-learn->sentence_transformers) (2.2.0)\n",
      "Collecting torch>=1.6.0\n",
      "  Downloading torch-2.1.0-cp39-cp39-win_amd64.whl (192.2 MB)\n",
      "     -------------------------------------- 192.2/192.2 MB 2.3 MB/s eta 0:00:00\n",
      "Requirement already satisfied: pillow!=8.3.*,>=5.3.0 in c:\\users\\yfr\\anaconda3\\lib\\site-packages (from torchvision->sentence_transformers) (9.2.0)\n",
      "Requirement already satisfied: pyparsing!=3.0.5,>=2.0.2 in c:\\users\\yfr\\anaconda3\\lib\\site-packages (from packaging>=20.9->huggingface-hub>=0.4.0->sentence_transformers) (3.0.9)\n",
      "Requirement already satisfied: MarkupSafe>=0.23 in c:\\users\\yfr\\anaconda3\\lib\\site-packages (from jinja2->torch>=1.6.0->sentence_transformers) (2.0.1)\n",
      "Requirement already satisfied: certifi>=2017.4.17 in c:\\users\\yfr\\anaconda3\\lib\\site-packages (from requests->huggingface-hub>=0.4.0->sentence_transformers) (2022.9.14)\n",
      "Requirement already satisfied: charset-normalizer<3,>=2 in c:\\users\\yfr\\anaconda3\\lib\\site-packages (from requests->huggingface-hub>=0.4.0->sentence_transformers) (2.0.4)\n",
      "Requirement already satisfied: idna<4,>=2.5 in c:\\users\\yfr\\anaconda3\\lib\\site-packages (from requests->huggingface-hub>=0.4.0->sentence_transformers) (3.3)\n",
      "Requirement already satisfied: urllib3<1.27,>=1.21.1 in c:\\users\\yfr\\anaconda3\\lib\\site-packages (from requests->huggingface-hub>=0.4.0->sentence_transformers) (1.26.11)\n",
      "Requirement already satisfied: mpmath>=0.19 in c:\\users\\yfr\\anaconda3\\lib\\site-packages (from sympy->torch>=1.6.0->sentence_transformers) (1.2.1)\n",
      "Building wheels for collected packages: sentence_transformers\n",
      "  Building wheel for sentence_transformers (setup.py): started\n",
      "  Building wheel for sentence_transformers (setup.py): finished with status 'done'\n",
      "  Created wheel for sentence_transformers: filename=sentence_transformers-2.2.2-py3-none-any.whl size=125925 sha256=d9dbe74d7ae2eb262f2954c8f1de7e25d5a0183a693c5c90fb622cb8712ee765\n",
      "  Stored in directory: c:\\users\\yfr\\appdata\\local\\pip\\cache\\wheels\\71\\67\\06\\162a3760c40d74dd40bc855d527008d26341c2b0ecf3e8e11f\n",
      "Successfully built sentence_transformers\n",
      "Installing collected packages: sentencepiece, torch, torchvision, sentence_transformers\n",
      "  Attempting uninstall: torch\n",
      "    Found existing installation: torch 2.0.1\n",
      "    Uninstalling torch-2.0.1:\n",
      "      Successfully uninstalled torch-2.0.1\n",
      "Successfully installed sentence_transformers-2.2.2 sentencepiece-0.1.99 torch-2.1.0 torchvision-0.16.0\n",
      "Note: you may need to restart the kernel to use updated packages.\n"
     ]
    }
   ],
   "source": [
    "pip install sentence_transformers"
   ]
  },
  {
   "cell_type": "code",
   "execution_count": 6,
   "id": "0c5a2b5e",
   "metadata": {},
   "outputs": [],
   "source": [
    "from sentence_transformers import SentenceTransformer, util\n",
    "import os\n",
    "import shutil\n",
    "import pandas as pd\n",
    "import numpy as np\n",
    "import torch\n",
    "import torch.nn.functional as F\n",
    "from nltk import tokenize"
   ]
  },
  {
   "cell_type": "code",
   "execution_count": 7,
   "id": "85eba4d3",
   "metadata": {},
   "outputs": [],
   "source": [
    "model = SentenceTransformer('all-mpnet-base-v2')"
   ]
  },
  {
   "cell_type": "code",
   "execution_count": 8,
   "id": "1c1211e5",
   "metadata": {},
   "outputs": [],
   "source": [
    "# enter the query here\n",
    "q = 'Can you give me some tenders related to cleaning services'\n",
    "query_embedding = model.encode(q)"
   ]
  },
  {
   "cell_type": "code",
   "execution_count": 9,
   "id": "64e94220",
   "metadata": {},
   "outputs": [],
   "source": [
    "# get sentence transformer embedding\n",
    "em = np.load('sent_transformer_embeddings.npz')\n",
    "sBert_em = [em[f] for f in em.files]\n",
    "# convert into data frame\n",
    "tender_df = pd.DataFrame(sBert_em)"
   ]
  },
  {
   "cell_type": "code",
   "execution_count": 27,
   "id": "f92f555b",
   "metadata": {},
   "outputs": [],
   "source": [
    "import pandas as pd\n",
    "tenders_structured_path = r\"./data/UpdatedAgainTenders.xlsx\"\n",
    "\n",
    "tenders_structured = pd.read_excel(tenders_structured_path)\n",
    "tenders_structured = tenders_structured[[\"Reference Number\", \"Contract Title\"]].dropna(subset=[\"Reference Number\"])"
   ]
  },
  {
   "cell_type": "code",
   "execution_count": 29,
   "id": "8fe2d449",
   "metadata": {},
   "outputs": [
    {
     "name": "stdout",
     "output_type": "stream",
     "text": [
      "20619\n",
      "20619\n"
     ]
    }
   ],
   "source": [
    "tender_refs = open(\"./data/tender_references.txt\", \"r\")\n",
    "content = \"\"\n",
    "for line in tender_refs:\n",
    "    content = line\n",
    "    break\n",
    "    \n",
    "content = content.replace(\"[\", \"\")\n",
    "content = content.replace(\"'\", \"\")\n",
    "content = content.replace(\",\", \"\")\n",
    "refs = content.split(\" \")"
   ]
  },
  {
   "cell_type": "code",
   "execution_count": 35,
   "id": "17777842",
   "metadata": {},
   "outputs": [],
   "source": [
    "tender_data = pd.DataFrame(tender_df)\n",
    "tender_data['Reference Number'] = refs\n",
    "merged_data = tender_data.merge(tenders_structured, on=\"Reference Number\", how=\"left\")"
   ]
  },
  {
   "cell_type": "code",
   "execution_count": 46,
   "id": "79e8464a",
   "metadata": {},
   "outputs": [
    {
     "name": "stdout",
     "output_type": "stream",
     "text": [
      "Top 10 most similar tenders:\n",
      "Tender Title: Provision of Cleaning Services, Similarity Score: 0.7198266983032227\n",
      "Tender Title: Cleaning Services - Northam Regional Office, Similarity Score: 0.7125318646430969\n",
      "Tender Title: Provision of Cleaning Services for the Department of Primary industries and Regional Development Karratha District Office, Similarity Score: 0.7109395265579224\n",
      "Tender Title: Provision of Cleaning Services ? 72 Walters Drive, Osborne Park, 6017, Similarity Score: 0.7089492678642273\n",
      "Tender Title: Provision of Cleaning Services, Similarity Score: 0.6979150772094727\n",
      "Tender Title: Request for Cleaning Services to Clean Department of Transport Broome Office, Similarity Score: 0.6953589916229248\n",
      "Tender Title: Provision of Cleaning Services for South Regional TAFE, Esperance Campus, Similarity Score: 0.6941353678703308\n",
      "Tender Title: Cleaning Services for Karratha Office, Similarity Score: 0.6936020851135254\n",
      "Tender Title: Provision of Cleaning Services for the Department of Primary Industries and Regional Development, Moora District Office, Similarity Score: 0.6933431625366211\n",
      "Tender Title: Regular Cleaning Services at Endeavour Road Centre, Hillarys., Similarity Score: 0.6904072165489197\n"
     ]
    }
   ],
   "source": [
    "from sklearn.metrics.pairwise import cosine_similarity\n",
    "\n",
    "similarities = cosine_similarity(query_embedding.reshape(1, -1), merged_data.iloc[:, :768])\n",
    "\n",
    "top_10_indices = similarities[0].argsort()[-10:][::-1]\n",
    "\n",
    "top_10_tenders = merged_data.iloc[top_10_indices]\n",
    "\n",
    "print(\"Top 10 most similar tenders:\")\n",
    "for index, row in top_10_tenders.iterrows():\n",
    "    title = merged_data.iloc[index, -1]  \n",
    "    similarity_score = similarities[0][index]\n",
    "    print(f\"Tender Title: {title}, Similarity Score: {similarity_score}\")"
   ]
  },
  {
   "cell_type": "code",
   "execution_count": 11,
   "id": "a8c0d1cd",
   "metadata": {},
   "outputs": [],
   "source": [
    "def find_top_similar_tenders(query, model, merged_data, top_k=10):\n",
    "    # Encode the query\n",
    "    query_embedding = model.encode(query)\n",
    "    \n",
    "    # Calculate cosine similarities\n",
    "    similarities = cosine_similarity(query_embedding.reshape(1, -1), merged_data.iloc[:, :768])\n",
    "    \n",
    "    # Get the indices of the top k similar tenders\n",
    "    top_k_indices = similarities[0].argsort()[-top_k:][::-1]\n",
    "    \n",
    "    # Create a DataFrame to store the results\n",
    "    result_df = pd.DataFrame(columns=[\"Tender Title\", \"Similarity Score\"])\n",
    "    \n",
    "    for index in top_k_indices:\n",
    "        title = merged_data.iloc[index, -1]\n",
    "        similarity_score = similarities[0][index]\n",
    "        result_df = result_df.append({\"Tender Title\": title, \"Similarity Score\": similarity_score}, ignore_index=True)\n",
    "    \n",
    "    return result_df"
   ]
  }
 ],
 "metadata": {
  "kernelspec": {
   "display_name": "Python 3 (ipykernel)",
   "language": "python",
   "name": "python3"
  },
  "language_info": {
   "codemirror_mode": {
    "name": "ipython",
    "version": 3
   },
   "file_extension": ".py",
   "mimetype": "text/x-python",
   "name": "python",
   "nbconvert_exporter": "python",
   "pygments_lexer": "ipython3",
   "version": "3.9.13"
  }
 },
 "nbformat": 4,
 "nbformat_minor": 5
}
