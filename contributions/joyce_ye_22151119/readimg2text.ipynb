{
 "cells": [
  {
   "cell_type": "code",
   "execution_count": null,
   "id": "cde38af4",
   "metadata": {},
   "outputs": [],
   "source": [
    "import zipfile\n",
    "import requests\n",
    "import io\n",
    "import os\n",
    "from PIL import Image\n",
    "import matplotlib.image as mpimg\n",
    "import matplotlib.pyplot as plt\n",
    "\n",
    "path = './temporary'\n",
    "\n",
    "if not os.path.exists(path):\n",
    "    os.mkdir(path)\n",
    "    \n",
    "API_URL = \"https://api-inference.huggingface.co/models/Zayn/AICVTG_What_if_a_machine_could_create_captions_automatically\"\n",
    "\n",
    "def query(filename):\n",
    "    with open(filename, \"rb\") as f:\n",
    "        data = f.read()\n",
    "    response = requests.post(API_URL, data=data)\n",
    "    return response.text  # Modified to return the text content of the response\n",
    "\n",
    "def save_output_to_text(output, output_path):\n",
    "    with open(output_path, \"w\") as text_file:\n",
    "        text_file.write(output)\n",
    "\n",
    "def print_zip_files(file_path):\n",
    "    with zipfile.ZipFile(file_path, 'r') as zip_ref:\n",
    "        print_files_in_zip(zip_ref)\n",
    "\n",
    "def print_files_in_zip(zip_ref):\n",
    "    for name in zip_ref.namelist():\n",
    "        if name.lower().endswith(('.png', '.jpg', '.jpeg', '.gif')):\n",
    "            zip_ref.extract(name, path)\n",
    "            print(name)\n",
    "            with zip_ref.open(name) as imgflie:\n",
    "                img = Image.open(io.BytesIO(imgflie.read()))\n",
    "                plt.imshow(img)\n",
    "                plt.title(name)\n",
    "                plt.show()\n",
    "                print(img)\n",
    "                output = query('./temporary'+'//'+name)\n",
    "                print(output)\n",
    "                save_output_to_text(output, './temporary'+'//'+'output_'+name+'.txt')  # Save the output to a text file\n",
    "        if name.endswith('.zip'):\n",
    "            with zip_ref.open(name) as zfile:\n",
    "                with zipfile.ZipFile(io.BytesIO(zfile.read())) as sub_zip:\n",
    "                    print_files_in_zip(sub_zip)\n",
    "\n",
    "if os.path.isfile(path):\n",
    "    os.rmdir(path)\n",
    "\n",
    "# Example usage:\n",
    "zip_file_path = 'path_to_your_zip_file.zip'  # Replace with the actual path to your zip file\n",
    "print_zip_files(zip_file_path)"
   ]
  }
 ],
 "metadata": {
  "kernelspec": {
   "display_name": "Python 3 (ipykernel)",
   "language": "python",
   "name": "python3"
  },
  "language_info": {
   "codemirror_mode": {
    "name": "ipython",
    "version": 3
   },
   "file_extension": ".py",
   "mimetype": "text/x-python",
   "name": "python",
   "nbconvert_exporter": "python",
   "pygments_lexer": "ipython3",
   "version": "3.9.13"
  },
  "widgets": {
   "application/vnd.jupyter.widget-state+json": {
    "state": {},
    "version_major": 2,
    "version_minor": 0
   }
  }
 },
 "nbformat": 4,
 "nbformat_minor": 5
}
