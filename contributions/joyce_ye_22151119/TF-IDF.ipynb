{
 "cells": [
  {
   "cell_type": "code",
   "execution_count": 1,
   "id": "45a4b6d6",
   "metadata": {},
   "outputs": [
    {
     "name": "stderr",
     "output_type": "stream",
     "text": [
      "[nltk_data] Downloading package punkt to\n",
      "[nltk_data]     C:\\Users\\yfr\\AppData\\Roaming\\nltk_data...\n",
      "[nltk_data]   Package punkt is already up-to-date!\n",
      "[nltk_data] Downloading package stopwords to\n",
      "[nltk_data]     C:\\Users\\yfr\\AppData\\Roaming\\nltk_data...\n",
      "[nltk_data]   Package stopwords is already up-to-date!\n"
     ]
    }
   ],
   "source": [
    "import nltk\n",
    "nltk.download('punkt')\n",
    "from nltk.tokenize import word_tokenize, sent_tokenize\n",
    "\n",
    "import re\n",
    "import numpy as np\n",
    "import os\n",
    "\n",
    "from collections import Counter\n",
    "import math\n",
    "\n",
    "nltk.download('stopwords')\n",
    "from nltk.corpus import stopwords as sw"
   ]
  },
  {
   "cell_type": "code",
   "execution_count": 2,
   "id": "a332e8d0",
   "metadata": {},
   "outputs": [],
   "source": [
    "class TextProcessor:\n",
    "    def __init__(self, contraction_mapping):\n",
    "        self.contraction_mapping = contraction_mapping\n",
    "\n",
    "    def preprocess_text(self, text):\n",
    "        text = self._to_lower(text)\n",
    "        text = self._expand_contractions(text)\n",
    "        text = self._remove_punctuation(text)\n",
    "        tokens = self._tokenize(text)\n",
    "        return tokens\n",
    "\n",
    "    def _to_lower(self, text):\n",
    "        return text.lower()\n",
    "\n",
    "    def _expand_contractions(self, text):\n",
    "        for word, new_word in self.contraction_mapping.items():\n",
    "            text = text.replace(word, new_word)\n",
    "        return text\n",
    "\n",
    "    def _remove_punctuation(self, text):\n",
    "        return re.sub(r'[^\\w\\s]', '', text)\n",
    "\n",
    "    def _tokenize(self, text):\n",
    "        return word_tokenize(text)"
   ]
  },
  {
   "cell_type": "code",
   "execution_count": null,
   "id": "ef0de4a4",
   "metadata": {},
   "outputs": [],
   "source": [
    "text_processor = TextProcessor(contraction_mapping={})  # 你需要提供合适的contraction_mapping\n",
    "\n",
    "\n",
    "directory_path = \"C:/Users/yfr/Downloads/Capstone/data/tender_raw\"\n",
    "os.chdir(directory_path)\n",
    "\n",
    "\n",
    "file_names = os.listdir(directory_path)\n",
    "\n",
    "\n",
    "tf_idf_results = {}\n",
    "\n",
    "# loop over all txt files\n",
    "for file_name in file_names:\n",
    "    if file_name.endswith('.txt'):\n",
    "        \n",
    "        with open(file_name, 'r', encoding='utf-8') as file:\n",
    "            file_content = file.read()\n",
    "\n",
    "        \n",
    "        tokenized_doc = text_processor.preprocess_text(file_content)\n",
    "\n",
    "        \n",
    "        DF = {}\n",
    "        for term in np.unique(tokenized_doc):\n",
    "            try:\n",
    "                DF[term] += 1\n",
    "            except:\n",
    "                DF[term] = 1\n",
    "\n",
    "        \n",
    "        tf_idf = {}\n",
    "\n",
    "        \n",
    "        N = 1\n",
    "\n",
    "        # calculate（TF）和TF-IDF\n",
    "        counter = Counter(tokenized_doc)\n",
    "        total_num_words = len(tokenized_doc)\n",
    "\n",
    "        for term in np.unique(tokenized_doc):\n",
    "            tf = counter[term] / total_num_words\n",
    "            df = DF[term]\n",
    "            idf = math.log(N / (df + 1)) + 1\n",
    "            tf_idf[term] = tf * idf\n",
    "\n",
    "        \n",
    "        tf_idf_results[file_name] = tf_idf\n",
    "\n",
    "\n",
    "with open(\"all_tf_idf_results.txt\", \"w\", encoding=\"utf-8\") as output_file:\n",
    "    for file_name, tf_idf in tf_idf_results.items():\n",
    "        output_file.write(f\"File: {file_name}\\n\")\n",
    "        for term, value in tf_idf.items():\n",
    "            output_file.write(f\"Term '{term}': TF-IDF = {value}\\n\")\n"
   ]
  },
  {
   "cell_type": "code",
   "execution_count": 4,
   "id": "e13a9b42",
   "metadata": {},
   "outputs": [
    {
     "ename": "MemoryError",
     "evalue": "Unable to allocate 1.35 TiB for an array with shape (58730716,) and data type <U6298",
     "output_type": "error",
     "traceback": [
      "\u001b[1;31m---------------------------------------------------------------------------\u001b[0m",
      "\u001b[1;31mMemoryError\u001b[0m                               Traceback (most recent call last)",
      "\u001b[1;32m~\\AppData\\Local\\Temp\\ipykernel_14456\\1292769329.py\u001b[0m in \u001b[0;36m<module>\u001b[1;34m\u001b[0m\n\u001b[0;32m     25\u001b[0m \u001b[1;33m\u001b[0m\u001b[0m\n\u001b[0;32m     26\u001b[0m         \u001b[0mDF\u001b[0m \u001b[1;33m=\u001b[0m \u001b[1;33m{\u001b[0m\u001b[1;33m}\u001b[0m\u001b[1;33m\u001b[0m\u001b[1;33m\u001b[0m\u001b[0m\n\u001b[1;32m---> 27\u001b[1;33m         \u001b[1;32mfor\u001b[0m \u001b[0mterm\u001b[0m \u001b[1;32min\u001b[0m \u001b[0mnp\u001b[0m\u001b[1;33m.\u001b[0m\u001b[0munique\u001b[0m\u001b[1;33m(\u001b[0m\u001b[0mtokenized_doc\u001b[0m\u001b[1;33m)\u001b[0m\u001b[1;33m:\u001b[0m\u001b[1;33m\u001b[0m\u001b[1;33m\u001b[0m\u001b[0m\n\u001b[0m\u001b[0;32m     28\u001b[0m             \u001b[1;32mtry\u001b[0m\u001b[1;33m:\u001b[0m\u001b[1;33m\u001b[0m\u001b[1;33m\u001b[0m\u001b[0m\n\u001b[0;32m     29\u001b[0m                 \u001b[0mDF\u001b[0m\u001b[1;33m[\u001b[0m\u001b[0mterm\u001b[0m\u001b[1;33m]\u001b[0m \u001b[1;33m+=\u001b[0m \u001b[1;36m1\u001b[0m\u001b[1;33m\u001b[0m\u001b[1;33m\u001b[0m\u001b[0m\n",
      "\u001b[1;32m<__array_function__ internals>\u001b[0m in \u001b[0;36munique\u001b[1;34m(*args, **kwargs)\u001b[0m\n",
      "\u001b[1;32m~\\anaconda3\\lib\\site-packages\\numpy\\lib\\arraysetops.py\u001b[0m in \u001b[0;36munique\u001b[1;34m(ar, return_index, return_inverse, return_counts, axis)\u001b[0m\n\u001b[0;32m    268\u001b[0m \u001b[1;33m\u001b[0m\u001b[0m\n\u001b[0;32m    269\u001b[0m     \"\"\"\n\u001b[1;32m--> 270\u001b[1;33m     \u001b[0mar\u001b[0m \u001b[1;33m=\u001b[0m \u001b[0mnp\u001b[0m\u001b[1;33m.\u001b[0m\u001b[0masanyarray\u001b[0m\u001b[1;33m(\u001b[0m\u001b[0mar\u001b[0m\u001b[1;33m)\u001b[0m\u001b[1;33m\u001b[0m\u001b[1;33m\u001b[0m\u001b[0m\n\u001b[0m\u001b[0;32m    271\u001b[0m     \u001b[1;32mif\u001b[0m \u001b[0maxis\u001b[0m \u001b[1;32mis\u001b[0m \u001b[1;32mNone\u001b[0m\u001b[1;33m:\u001b[0m\u001b[1;33m\u001b[0m\u001b[1;33m\u001b[0m\u001b[0m\n\u001b[0;32m    272\u001b[0m         \u001b[0mret\u001b[0m \u001b[1;33m=\u001b[0m \u001b[0m_unique1d\u001b[0m\u001b[1;33m(\u001b[0m\u001b[0mar\u001b[0m\u001b[1;33m,\u001b[0m \u001b[0mreturn_index\u001b[0m\u001b[1;33m,\u001b[0m \u001b[0mreturn_inverse\u001b[0m\u001b[1;33m,\u001b[0m \u001b[0mreturn_counts\u001b[0m\u001b[1;33m)\u001b[0m\u001b[1;33m\u001b[0m\u001b[1;33m\u001b[0m\u001b[0m\n",
      "\u001b[1;31mMemoryError\u001b[0m: Unable to allocate 1.35 TiB for an array with shape (58730716,) and data type <U6298"
     ]
    }
   ],
   "source": []
  },
  {
   "cell_type": "code",
   "execution_count": null,
   "id": "31014f9e",
   "metadata": {},
   "outputs": [],
   "source": []
  }
 ],
 "metadata": {
  "kernelspec": {
   "display_name": "Python 3 (ipykernel)",
   "language": "python",
   "name": "python3"
  },
  "language_info": {
   "codemirror_mode": {
    "name": "ipython",
    "version": 3
   },
   "file_extension": ".py",
   "mimetype": "text/x-python",
   "name": "python",
   "nbconvert_exporter": "python",
   "pygments_lexer": "ipython3",
   "version": "3.9.13"
  }
 },
 "nbformat": 4,
 "nbformat_minor": 5
}
