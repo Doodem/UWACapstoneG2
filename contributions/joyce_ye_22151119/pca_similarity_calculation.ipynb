{
 "cells": [
  {
   "cell_type": "code",
   "execution_count": 1,
   "id": "c34c5e6f",
   "metadata": {},
   "outputs": [
    {
     "name": "stderr",
     "output_type": "stream",
     "text": [
      "[nltk_data] Downloading package wordnet to\n",
      "[nltk_data]     C:\\Users\\yfr\\AppData\\Roaming\\nltk_data...\n",
      "[nltk_data]   Package wordnet is already up-to-date!\n",
      "[nltk_data] Downloading package punkt to\n",
      "[nltk_data]     C:\\Users\\yfr\\AppData\\Roaming\\nltk_data...\n",
      "[nltk_data]   Package punkt is already up-to-date!\n",
      "[nltk_data] Downloading package averaged_perceptron_tagger to\n",
      "[nltk_data]     C:\\Users\\yfr\\AppData\\Roaming\\nltk_data...\n",
      "[nltk_data]   Package averaged_perceptron_tagger is already up-to-\n",
      "[nltk_data]       date!\n"
     ]
    }
   ],
   "source": [
    "import Embedding_Model as em\n",
    "import pandas as pd\n",
    "import numpy as np\n",
    "import torch\n",
    "import torch.nn.functional as F\n",
    "from transformers import BertTokenizer\n",
    "from sklearn.decomposition import PCA"
   ]
  },
  {
   "cell_type": "code",
   "execution_count": 2,
   "id": "378d4dac",
   "metadata": {},
   "outputs": [
    {
     "name": "stderr",
     "output_type": "stream",
     "text": [
      "[nltk_data] Downloading package wordnet to\n",
      "[nltk_data]     C:\\Users\\yfr\\AppData\\Roaming\\nltk_data...\n",
      "[nltk_data]   Package wordnet is already up-to-date!\n",
      "[nltk_data] Downloading package punkt to\n",
      "[nltk_data]     C:\\Users\\yfr\\AppData\\Roaming\\nltk_data...\n",
      "[nltk_data]   Package punkt is already up-to-date!\n",
      "[nltk_data] Downloading package averaged_perceptron_tagger to\n",
      "[nltk_data]     C:\\Users\\yfr\\AppData\\Roaming\\nltk_data...\n",
      "[nltk_data]   Package averaged_perceptron_tagger is already up-to-\n",
      "[nltk_data]       date!\n"
     ]
    },
    {
     "data": {
      "text/plain": [
       "True"
      ]
     },
     "execution_count": 2,
     "metadata": {},
     "output_type": "execute_result"
    }
   ],
   "source": [
    "# importing modules \n",
    "from torch import nn\n",
    "from transformers import BertTokenizer, BertModel, BigBirdModel, LongformerModel , BertConfig,BigBirdTokenizer\n",
    "import math\n",
    "import gensim.downloader as api\n",
    "from torch import nn\n",
    "import re\n",
    "import nltk\n",
    "nltk.download('wordnet')\n",
    "from nltk.corpus import wordnet\n",
    "from nltk.stem import WordNetLemmatizer\n",
    "nltk.download('punkt')\n",
    "nltk.download('averaged_perceptron_tagger')"
   ]
  },
  {
   "cell_type": "code",
   "execution_count": 3,
   "id": "fdc8721b",
   "metadata": {},
   "outputs": [],
   "source": [
    "from nltk.tokenize import word_tokenize\n",
    "from nltk.stem import WordNetLemmatizer\n",
    "import torch.nn.functional as F\n",
    "from transformers import BertTokenizer, LongformerTokenizer\n",
    "from bs4 import BeautifulSoup\n",
    "from numpy.linalg import norm\n",
    "from nltk import tokenize"
   ]
  },
  {
   "cell_type": "code",
   "execution_count": 4,
   "id": "e3d9fe6c",
   "metadata": {},
   "outputs": [],
   "source": [
    "# load data\n",
    "data = pd.read_excel('UpdatedTenders.xlsx')"
   ]
  },
  {
   "cell_type": "code",
   "execution_count": 5,
   "id": "b402aab6",
   "metadata": {},
   "outputs": [],
   "source": [
    "# initialize model and preprocesser \n",
    "model = em.Pretrained_model('bert')\n",
    "preprocessor = em.Textprocessor(model=\"bert\")"
   ]
  },
  {
   "cell_type": "code",
   "execution_count": 6,
   "id": "7e178ece",
   "metadata": {},
   "outputs": [],
   "source": [
    "data['Description'] = data['Description'].apply(em.remove_html_tags)"
   ]
  },
  {
   "cell_type": "code",
   "execution_count": 7,
   "id": "ef273fea",
   "metadata": {},
   "outputs": [],
   "source": [
    "data_list = list(data['Description'])"
   ]
  },
  {
   "cell_type": "code",
   "execution_count": 9,
   "id": "ac568642",
   "metadata": {},
   "outputs": [
    {
     "name": "stderr",
     "output_type": "stream",
     "text": [
      "[nltk_data] Downloading package omw-1.4 to\n",
      "[nltk_data]     C:\\Users\\yfr\\AppData\\Roaming\\nltk_data...\n"
     ]
    },
    {
     "data": {
      "text/plain": [
       "True"
      ]
     },
     "execution_count": 9,
     "metadata": {},
     "output_type": "execute_result"
    }
   ],
   "source": [
    "nltk.download('omw-1.4')"
   ]
  },
  {
   "cell_type": "code",
   "execution_count": 10,
   "id": "c3bfb48e",
   "metadata": {},
   "outputs": [
    {
     "name": "stdout",
     "output_type": "stream",
     "text": [
      "100\n",
      "200\n",
      "300\n",
      "400\n",
      "500\n",
      "600\n",
      "700\n",
      "800\n",
      "900\n",
      "1000\n"
     ]
    }
   ],
   "source": [
    "# get embeddings\n",
    "output = []\n",
    "c = 0\n",
    "for item in data_list:\n",
    "    output.append(em.preprocess_and_forward(item,preprocessor,model))\n",
    "    \n",
    "    c +=1\n",
    "    if c % 100 ==0:\n",
    "        print(c)\n",
    "    if c == 1000:\n",
    "        break"
   ]
  },
  {
   "cell_type": "code",
   "execution_count": 11,
   "id": "9ca4556f",
   "metadata": {},
   "outputs": [
    {
     "data": {
      "text/plain": [
       "1000"
      ]
     },
     "execution_count": 11,
     "metadata": {},
     "output_type": "execute_result"
    }
   ],
   "source": [
    "len(output)"
   ]
  },
  {
   "cell_type": "code",
   "execution_count": 13,
   "id": "ac492e25",
   "metadata": {},
   "outputs": [
    {
     "data": {
      "text/plain": [
       "array([-5.03191411e-01,  4.85053539e-01,  1.59919322e-01, -1.64135486e-01,\n",
       "       -3.70091051e-01,  1.07640281e-01,  1.10193300e+00,  6.27217233e-01,\n",
       "        6.98964223e-02, -1.15784377e-01, -7.91921377e-01, -9.75385904e-01,\n",
       "       -8.09935212e-01,  6.43575788e-01,  6.35607183e-01,  5.04795909e-02,\n",
       "        4.13019955e-01,  4.06841785e-01,  4.27082092e-01, -4.03636515e-01,\n",
       "       -1.70018330e-01, -2.57676452e-01, -3.82972121e-01, -7.29996562e-02,\n",
       "        3.18183005e-01, -9.22517031e-02,  5.13313040e-02, -4.31421816e-01,\n",
       "        8.07980061e-01,  2.19782457e-01,  2.42542356e-01, -1.47516012e-01,\n",
       "       -5.33971548e-01,  9.16335210e-02,  9.65677053e-02, -1.96532309e-01,\n",
       "        8.05885673e-01, -1.07626289e-01,  5.09679690e-02,  4.97223139e-01,\n",
       "       -8.15702796e-01, -5.74770048e-02,  9.50424224e-02,  1.13518983e-01,\n",
       "       -2.20920578e-01, -6.61940992e-01, -3.57106018e+00, -2.97929645e-01,\n",
       "       -4.23535913e-01, -3.84775996e-01,  1.97901845e-01, -6.37335896e-01,\n",
       "       -1.79672405e-01,  7.88148761e-01, -6.25149727e-01,  6.35903418e-01,\n",
       "       -8.95972624e-02, -1.27172664e-01,  7.75734067e-01,  1.48864344e-01,\n",
       "        7.37201393e-01,  2.53061563e-01, -1.09425141e-02,  6.02821290e-01,\n",
       "       -3.45056564e-01,  9.83703017e-01, -4.75486040e-01,  5.43763638e-01,\n",
       "       -1.43855974e-01,  3.17366906e-02, -8.11352730e-01,  4.03856128e-01,\n",
       "        6.96958065e-01, -3.60158205e-01,  7.40828440e-02, -3.42787325e-01,\n",
       "       -2.93687005e-02, -3.13515037e-01, -4.81547356e-01, -4.47524875e-01,\n",
       "        2.05615535e-02,  8.76546383e-01,  1.12720191e-01,  2.25853860e-01,\n",
       "        1.53061017e-01,  4.90616620e-01, -8.01261306e-01, -6.01721764e-01,\n",
       "       -9.20502424e-01,  6.60670042e-01,  6.95743337e-02, -4.41797465e-01,\n",
       "       -6.93667293e-01,  5.06636739e-01, -3.37296203e-02,  4.32796106e-02,\n",
       "       -7.15190887e-01,  6.38246983e-02, -1.22625284e-01,  4.66403961e-01,\n",
       "        3.95330340e-02,  1.02730274e-01,  1.36861444e-01, -1.25689909e-01,\n",
       "       -4.43335958e-02, -2.87278175e-01,  1.37483612e-01, -1.89454988e-01,\n",
       "        1.74527913e-01, -1.48543477e+00, -5.06134868e-01,  4.21350360e-01,\n",
       "       -2.21403122e-01, -3.64261985e-01, -2.89774030e-01,  1.78665832e-01,\n",
       "        5.38346410e-01, -7.92928636e-02, -8.33130330e-02,  5.91023445e-01,\n",
       "        2.01811552e-01,  8.09890330e-02, -8.28288496e-01,  1.55220598e-01,\n",
       "        3.40176672e-02,  1.32090315e-01,  4.37822759e-01, -1.63070798e-01,\n",
       "        3.92121196e-01,  6.36101842e-01, -1.73157007e-01,  8.45573187e-01,\n",
       "       -4.21452761e-01, -8.68993044e-01,  4.33637127e-02, -4.39147115e-01,\n",
       "        6.99052870e-01, -2.49859542e-01, -4.41674232e-01, -7.01283574e-01,\n",
       "       -1.04786009e-01, -3.62900645e-01, -2.02253389e+00,  5.54225445e-01,\n",
       "        9.17229891e-01, -3.65502983e-01, -4.81379867e-01,  5.96183181e-01,\n",
       "        3.75012100e-01,  1.70110807e-01,  1.23383500e-01, -2.85872728e-01,\n",
       "        3.48793954e-01,  1.16862215e-01, -5.78632355e-01, -1.71379089e-01,\n",
       "       -1.63746059e-01,  1.13460779e-01, -3.97950150e-02,  3.69575024e-01,\n",
       "        1.27705216e+00,  7.10640192e-01,  1.74817830e-01, -3.09788622e-02,\n",
       "        5.93486547e-01, -4.31105644e-01,  6.26521707e-01, -2.59789564e-02,\n",
       "       -6.83669925e-01,  1.13701448e-01, -1.95626229e-01,  1.33835003e-01,\n",
       "        1.15989304e+00,  1.66475281e-01,  2.74181873e-01, -6.40077889e-01,\n",
       "       -5.89805365e-01,  2.16672011e-02,  3.96853238e-01, -1.34284988e-01,\n",
       "       -8.32289577e-01,  8.10975432e-01,  6.96116984e-02,  3.47739875e-01,\n",
       "        1.15151033e-01,  2.11734742e-01,  6.74491584e-01, -4.94314969e-01,\n",
       "       -5.89005053e-02, -4.33766454e-01, -6.93027496e-01, -7.89818287e-01,\n",
       "        2.86214352e-01, -1.31011397e-01,  8.91931593e-01, -4.37894791e-01,\n",
       "       -5.92905357e-02, -9.82619584e-01,  4.14953902e-02,  9.94043231e-01,\n",
       "        2.56527126e-01,  1.90047085e-01,  5.83070703e-02, -6.19175509e-02,\n",
       "       -3.37299585e-01,  3.13573217e+00,  2.80734450e-01, -1.68320045e-01,\n",
       "        4.59364116e-01,  5.36821112e-02, -7.19469935e-02,  2.23664157e-02,\n",
       "        3.29252891e-02, -1.05153370e+00,  3.39212894e-01,  6.08965099e-01,\n",
       "        9.71819639e-01, -1.01109490e-01, -7.19563842e-01,  6.43025041e-01,\n",
       "        5.98929413e-02, -2.46428281e-01, -7.52853274e-01,  1.14918232e+00,\n",
       "        5.66385686e-02,  3.82203281e-01,  3.49974811e-01, -2.54042633e-02,\n",
       "       -4.22001556e-02, -1.78305078e+00, -3.84795815e-02,  2.14888856e-01,\n",
       "       -2.50936210e-01,  3.95246923e-01, -1.59392461e-01,  1.13789305e-01,\n",
       "       -2.70896554e-01,  2.68013608e-02,  2.87917376e-01, -8.84122133e-01,\n",
       "        1.86855912e-01,  5.34515560e-01,  1.71958864e-01,  4.71406579e-01,\n",
       "       -2.32650250e-01,  9.93870437e-01,  2.62407027e-02, -5.68152010e-01,\n",
       "       -8.72389376e-02,  3.59103978e-01,  1.50907915e-02, -4.64165449e-01,\n",
       "        5.64339608e-02, -1.27184796e+00, -1.82822675e-01, -5.99493906e-02,\n",
       "        5.95974147e-01, -1.50497016e-02, -1.42082334e+00, -4.85336304e-01,\n",
       "       -6.07454956e-01, -4.82690275e-01,  8.25910330e-01,  1.83245346e-01,\n",
       "       -9.04230654e-01, -5.99178910e-01, -8.20814431e-01, -8.23842406e-01,\n",
       "       -6.67997822e-02, -5.72889447e-02,  4.24952805e-01, -6.00883901e-01,\n",
       "       -1.94352314e-01, -1.93967104e+00, -8.04926276e-01,  4.37053554e-02,\n",
       "        3.23228478e-01,  4.58478093e-01, -4.42629844e-01, -7.19818473e-03,\n",
       "        8.71584043e-02,  9.25362110e-01, -2.79330552e-01,  2.32581690e-01,\n",
       "        1.79285221e-02,  7.37680554e-01,  3.07611763e-01,  1.12111270e-01,\n",
       "        2.17621967e-01, -3.75284851e-01,  3.52141112e-01, -5.06724596e-01,\n",
       "       -6.23246729e-01, -2.16799125e-01,  2.69480288e-01, -1.18904018e+00,\n",
       "       -4.25079226e-01,  8.58642682e-02,  9.59237292e-02, -8.55798364e-01,\n",
       "       -4.78971899e-01, -4.70263064e-01, -6.02699965e-02, -1.39513299e-01,\n",
       "        1.28509060e-01,  4.04769517e-02, -7.08000213e-02, -3.43584239e-01,\n",
       "       -2.96142530e+00,  4.07378316e-01, -1.93335041e-01,  1.92816913e-01,\n",
       "       -3.31003040e-01, -4.24061358e-01,  5.79774559e-01, -1.03760391e-01,\n",
       "       -6.30819798e-01, -7.35577703e-01,  2.57244796e-01, -2.55122632e-02,\n",
       "       -7.56918788e-02,  2.19053864e-01,  1.68146551e-01,  4.67546135e-01,\n",
       "        4.59785730e-01,  2.88372666e-01,  6.89946413e-01,  2.44078219e-01,\n",
       "       -1.59804806e-01,  6.22156501e-01, -5.95846400e-02,  1.27950579e-01,\n",
       "        6.01404011e-01,  3.79293025e-01, -5.49531460e-01,  1.07253797e-01,\n",
       "       -1.56481117e-01, -4.18497086e-01,  1.45411655e-01, -4.16991532e-01,\n",
       "        1.73738018e-01, -4.86876726e-01, -1.70307994e-01, -1.50665209e-01,\n",
       "        5.10529578e-01,  6.14578500e-02,  7.14621246e-01,  1.70731127e-01,\n",
       "       -1.62211671e-01,  7.75758505e-01,  2.87698984e-01,  3.25972795e-01,\n",
       "        1.25725150e-01,  1.18817642e-01,  1.89196169e-01, -1.77237332e-01,\n",
       "        6.83492899e-01,  6.29211664e-01,  5.94923422e-02,  5.33054411e-01,\n",
       "        4.41517413e-01,  5.36483765e-01,  4.14377004e-01, -5.02552390e-01,\n",
       "       -3.13942879e-01, -5.59935793e-02,  7.25705624e-01, -7.89833516e-02,\n",
       "        1.27319086e+00, -3.02216858e-01, -9.96599346e-02, -6.48890138e-01,\n",
       "        4.94525045e-01, -8.39757085e-01,  1.70593709e-01, -1.29933149e-01,\n",
       "        9.26542953e-02,  7.82294691e-01, -3.15703340e-02,  7.01959252e-01,\n",
       "       -5.66447228e-02, -1.05349183e+00, -1.83991075e-01,  2.31414080e-01,\n",
       "        8.29586163e-02, -1.68737590e-01,  3.98324072e-01, -1.45153105e-01,\n",
       "       -9.30966884e-02, -1.17231898e-01, -4.72220719e-01,  6.72841907e-01,\n",
       "       -5.70093632e-01,  2.26800904e-01, -9.32267368e-01,  3.17874253e-01,\n",
       "       -1.08286703e+00,  8.24020952e-02,  3.03044617e-01,  5.43031931e-01,\n",
       "       -5.32665730e-01,  3.90065372e-01, -4.70552802e-01, -9.73602161e-02,\n",
       "        8.11766446e-01, -8.95929694e-01,  5.80903769e-01, -7.44460225e-01,\n",
       "       -5.82161546e-01, -3.09103727e-01, -7.23519564e-01,  2.45648935e-01,\n",
       "       -1.26782194e-01, -2.50194550e-01, -8.03871632e-01,  1.29849136e-01,\n",
       "       -4.02532548e-01,  1.66665286e-01, -2.01998919e-01, -4.27953184e-01,\n",
       "        6.10130653e-02, -9.33506116e-02,  1.03131604e+00, -3.64697576e-01,\n",
       "       -3.97304177e-01,  9.39541459e-01, -1.77324284e-02, -2.70617276e-01,\n",
       "        5.97183287e-01,  5.22577167e-02,  2.38283366e-01, -7.73541808e-01,\n",
       "        8.49165320e-02,  3.76504660e-01,  2.09282815e-01, -3.51970196e-01,\n",
       "       -4.16542590e-01, -1.53373510e-01, -3.91507626e-01,  2.19848361e-02,\n",
       "       -2.68837929e-01, -1.12294149e+00, -1.05618155e+00, -1.32105201e-01,\n",
       "        5.13579771e-02,  3.82138580e-01,  3.52733552e-01,  4.01746392e-01,\n",
       "        8.93075392e-03,  4.98844206e-01, -6.36313319e-01,  5.98657310e-01,\n",
       "       -2.29365200e-01,  6.83305383e-01,  6.15615606e-01, -7.62122333e-01,\n",
       "       -4.53953385e-01,  9.48383212e-01, -4.08791691e-01, -9.82595682e-01,\n",
       "        7.18813598e-01, -7.36749709e-01, -1.45894051e-01, -3.90407860e-01,\n",
       "       -3.16569954e-02, -6.00477010e-02,  6.35455251e-02,  6.69966638e-02,\n",
       "        4.19831499e-02,  2.41956264e-02, -1.67339611e+00,  2.36100748e-01,\n",
       "        7.11500883e-01,  3.44419539e-01,  9.67396557e-01, -7.07918704e-01,\n",
       "       -1.01058495e+00,  2.07680799e-02, -1.56013548e-01,  1.92884013e-01,\n",
       "       -3.83659899e-01, -9.14922476e-01, -3.15127015e-01,  3.03319454e-01,\n",
       "        6.01120472e-01,  5.41464627e-01, -3.88549566e-01, -1.43795693e+00,\n",
       "        1.31619185e-01,  3.27302635e-01, -9.66801167e-01,  7.05159307e-01,\n",
       "       -3.37537229e-02, -5.70142746e-01,  1.35840043e-01, -5.85030168e-02,\n",
       "        4.96909209e-02, -5.02426624e-02,  3.47461671e-01, -1.03171088e-01,\n",
       "        3.33917499e-01, -1.03828683e-01, -3.31496596e-01,  9.28769857e-02,\n",
       "        8.55845928e-01,  5.11612177e-01, -3.32441926e-02, -1.28369749e-01,\n",
       "        1.49343705e+00,  5.54980576e-01, -4.26229268e-01,  2.75181532e-01,\n",
       "        6.29964352e-01,  1.32451952e-01,  5.49935579e-01,  1.79556802e-01,\n",
       "        8.81257430e-02,  7.10927248e-01,  5.81251204e-01, -4.22711253e-01,\n",
       "        3.39077175e-01,  4.63160068e-01,  3.95583719e-01,  7.15593547e-02,\n",
       "       -1.12554997e-01, -6.07407093e-03, -3.68718803e-03, -2.48961866e-01,\n",
       "       -3.43787670e-01, -2.49229580e-01,  1.82501748e-02, -1.55989870e-01,\n",
       "       -4.20522362e-01,  7.70040035e-01, -5.72672606e-01, -6.68426812e-01,\n",
       "        1.29639044e-01, -4.48028803e-01, -4.19248283e-01,  1.56871259e-01,\n",
       "        1.44188032e-01,  5.28068125e-01, -5.81687272e-01,  8.40791464e-02,\n",
       "       -1.03413284e-01,  5.54096580e-01, -5.94552755e-01, -4.27649431e-02,\n",
       "       -4.43713367e-03, -2.12833613e-01,  4.89998043e-01, -3.53715241e-01,\n",
       "       -4.06607747e-01,  2.69911915e-01,  2.84674317e-01,  2.39018843e-01,\n",
       "       -5.06616950e-01, -1.71268806e-02,  4.55103159e-01,  2.81794786e-01,\n",
       "       -5.06734014e-01, -7.21425474e-01, -4.35720086e-02, -1.45515367e-01,\n",
       "        1.29920959e-01, -4.14485812e-01,  5.11359572e-01, -1.23509847e-01,\n",
       "        1.95624545e-01,  5.83143234e-01, -1.52181879e-01, -2.27770358e-02,\n",
       "        7.04659820e-02,  3.46141577e-01,  8.45809221e-01,  5.99777937e-01,\n",
       "        4.80936974e-01,  1.61072508e-01, -1.08506620e+00, -5.71164191e-01,\n",
       "        6.32501006e-01,  4.31200325e-01,  6.16488419e-02,  1.03489771e-01,\n",
       "       -3.73196185e-01, -6.20909452e-01, -2.76651502e-01,  1.01828046e-01,\n",
       "        1.40584433e+00,  3.98626566e-01, -7.48799443e-02, -2.90599704e-01,\n",
       "        4.83243883e-01,  4.05953079e-02, -8.22569013e-01,  1.41748935e-01,\n",
       "       -7.03828454e-01, -6.00721687e-04, -6.30750656e-01, -4.57023345e-02,\n",
       "       -5.93361795e-01,  7.48872161e-01,  5.94501376e-01,  6.68931484e-01,\n",
       "       -6.29392982e-01, -2.29880035e-01, -3.91311437e-01,  3.20155174e-01,\n",
       "       -1.15465355e+00, -5.96070066e-02,  7.07010984e-01,  3.85956615e-01,\n",
       "       -4.66571361e-01,  1.00536692e+00, -1.06837356e+00, -1.28249228e+00,\n",
       "        3.93123657e-01,  5.29785872e-01, -7.90054917e-01,  4.06741410e-01,\n",
       "        2.80342370e-01,  6.90259695e-01, -5.65325499e-01, -4.79179442e-01,\n",
       "        4.66002166e-01, -3.01182300e-01, -5.07792056e-01, -2.41979230e-02,\n",
       "       -6.90354466e-01, -1.89292490e-01,  1.01397109e+00,  9.12214369e-02,\n",
       "        1.16236165e-01,  1.84649006e-01, -1.41220152e-01, -1.77441746e-01,\n",
       "       -7.59405643e-03,  5.73303699e-01, -3.71965051e-01, -8.34806934e-02,\n",
       "       -4.59163189e-01,  3.30585092e-01,  4.70216312e-02,  4.24148858e-01,\n",
       "       -4.85821009e-01, -2.46205002e-01, -1.79219335e-01,  4.46883619e-01,\n",
       "        3.55095983e-01,  3.79555702e-01,  5.47316611e-01, -4.85865116e-01,\n",
       "       -3.40655535e-01,  3.00447822e-01,  1.72839001e-01, -7.65608549e-02,\n",
       "        1.86244994e-01, -2.62989581e-01, -1.34133875e-01,  8.86959434e-01,\n",
       "        3.33514929e-01,  2.68223822e-01,  7.03748763e-02,  8.32662642e-01,\n",
       "       -2.03034431e-01, -1.44101903e-02,  4.72287275e-03, -1.56537497e+00,\n",
       "       -7.66222477e-02, -1.71831056e-01,  5.44784307e-01, -3.22959363e-01,\n",
       "       -4.57863510e-01,  3.14678550e-02, -5.59947453e-02,  2.51155972e-01,\n",
       "        1.47608444e-01, -3.47779483e-01,  4.20302898e-01,  6.26574680e-02,\n",
       "        1.82770550e-01,  8.18057656e-01,  7.06144571e-01, -1.00229181e-01,\n",
       "       -7.06796497e-02,  1.41086861e-01, -4.33491990e-02, -2.56012678e-01,\n",
       "       -1.62274003e-01, -8.29168260e-02,  1.81949213e-01, -9.74551320e-01,\n",
       "       -9.46570653e-03, -3.93330067e-01, -4.62329626e-01,  7.96909928e-01,\n",
       "        7.01082349e-01, -1.16400898e-01, -3.78350504e-02,  5.28671890e-02,\n",
       "        2.62570679e-01, -1.42134294e-01,  2.81857818e-01, -8.43339488e-02,\n",
       "       -2.17006847e-01,  1.73317954e-01,  4.83132452e-02,  1.95419446e-01,\n",
       "        2.82708079e-01,  5.67968905e-01, -1.35972649e-02,  3.12811911e-01,\n",
       "        2.53818125e-01,  5.19315839e-01, -3.04332912e-01,  1.24755692e+00,\n",
       "       -3.09442699e-01, -3.11023593e-01, -1.86974585e-01, -3.22530389e-01,\n",
       "        5.52758813e-01,  8.20639670e-01,  5.17915636e-02,  2.29372680e-01,\n",
       "       -2.99990714e-01,  1.67947680e-01, -6.69184804e-01,  3.33323836e-01,\n",
       "        4.66585696e-01, -4.73843902e-01,  9.12145078e-02,  3.45842928e-01,\n",
       "       -3.63843262e-01, -4.11061734e-01, -1.65249594e-02,  3.44237775e-01,\n",
       "        9.70053822e-02,  1.29085198e-01,  1.01247922e-01,  7.71486819e-01,\n",
       "        1.46407813e-01, -4.33168888e-01,  3.82347882e-01,  3.55651736e-01,\n",
       "        3.60644519e-01,  6.90959573e-01, -4.76056069e-01, -3.32702786e-01,\n",
       "        5.97505309e-02, -2.76023358e-01,  7.03520715e-01,  8.13609958e-01,\n",
       "       -3.79127932e+00, -2.50360012e-01, -8.21833968e-01, -7.54136205e-01,\n",
       "       -3.14292371e-01, -8.92459035e-01,  3.86636555e-01, -1.70600832e-01,\n",
       "       -8.01425949e-02, -2.78432220e-01,  6.34762466e-01,  2.41406113e-01,\n",
       "        8.50732103e-02, -4.09422934e-01,  4.08748686e-02,  1.15813804e+00],\n",
       "      dtype=float32)"
      ]
     },
     "execution_count": 13,
     "metadata": {},
     "output_type": "execute_result"
    }
   ],
   "source": [
    "em.preprocess_and_forward(data_list[0],preprocessor,model)"
   ]
  },
  {
   "cell_type": "code",
   "execution_count": 15,
   "id": "9fcd8568",
   "metadata": {},
   "outputs": [
    {
     "data": {
      "text/plain": [
       "'The Customer requires a Contractor to provide bedding material made from Aspen and must be suitable for its rats and mice.'"
      ]
     },
     "execution_count": 15,
     "metadata": {},
     "output_type": "execute_result"
    }
   ],
   "source": [
    "preprocessor.tokenize_sentence(data_list[0])[0]"
   ]
  },
  {
   "cell_type": "code",
   "execution_count": 25,
   "id": "14bc54d5",
   "metadata": {},
   "outputs": [],
   "source": [
    "output_reduced = []\n",
    "pca = PCA(n_components=50)\n",
    "pca.fit(output)\n",
    "output_reduced = pca.transform(output)"
   ]
  },
  {
   "cell_type": "code",
   "execution_count": 27,
   "id": "d5b8c9e8",
   "metadata": {},
   "outputs": [
    {
     "name": "stdout",
     "output_type": "stream",
     "text": [
      "[ 2.42900528e+00 -2.41544351e+00 -1.17920889e+00  5.64050664e-01\n",
      " -2.63258122e-01  5.63610221e-01 -2.90567329e-01  1.17190398e-01\n",
      " -5.95826948e-01 -2.25888249e-01 -3.24107434e-01  4.82341717e-01\n",
      "  4.02592162e-01 -5.33344205e-01  7.07590298e-02 -2.73630761e-01\n",
      "  3.35287479e-01 -2.37729791e-01  1.50558198e-01  2.19899969e-01\n",
      "  2.92729793e-01 -2.08696517e-01 -1.20130332e-02  1.32798717e-01\n",
      "  1.62201103e-01  2.55806703e-01  2.00595698e-02 -1.46419322e-01\n",
      " -2.06931355e-01  9.01233208e-03  3.23474291e-01 -3.67332190e-05\n",
      "  2.59866698e-01  1.55669542e-01  3.46348899e-02 -3.17369491e-01\n",
      " -6.65763525e-03 -8.53200215e-03 -7.54704461e-03 -1.00210636e-02\n",
      "  5.44507951e-02 -1.36259766e-01  5.98491472e-02 -3.25554766e-01\n",
      " -8.33927120e-02  3.81338082e-02 -1.40763770e-01  3.55889496e-02\n",
      "  1.03893008e-01  2.34136861e-03]\n"
     ]
    }
   ],
   "source": [
    "print(output_reduced[0])"
   ]
  },
  {
   "cell_type": "code",
   "execution_count": 28,
   "id": "8f3f3300",
   "metadata": {},
   "outputs": [],
   "source": [
    "import matplotlib.pyplot as plt"
   ]
  },
  {
   "cell_type": "code",
   "execution_count": 29,
   "id": "31197084",
   "metadata": {},
   "outputs": [],
   "source": [
    "explained_variance_ratio = pca.explained_variance_ratio_\n",
    "cumulative_explained_variance = explained_variance_ratio.cumsum()"
   ]
  },
  {
   "cell_type": "code",
   "execution_count": 30,
   "id": "b0904d23",
   "metadata": {},
   "outputs": [
    {
     "data": {
      "image/png": "[encoded data removed]",
      "text/plain": [
       "<Figure size 1000x500 with 1 Axes>"
      ]
     },
     "metadata": {},
     "output_type": "display_data"
    }
   ],
   "source": [
    "plt.figure(figsize=(10, 5))\n",
    "plt.plot(range(1, 51), cumulative_explained_variance, marker='o', linestyle='-', color='b')\n",
    "plt.xlabel('Number of Principal Components')\n",
    "plt.ylabel('Cumulative Explained Variance')\n",
    "plt.title('Explained Variance by Principal Components')\n",
    "plt.grid(True)\n",
    "plt.show()"
   ]
  },
  {
   "cell_type": "code",
   "execution_count": 31,
   "id": "051d77e5",
   "metadata": {},
   "outputs": [
    {
     "data": {
      "image/png": "[encoded data removed]",
      "text/plain": [
       "<Figure size 1000x500 with 1 Axes>"
      ]
     },
     "metadata": {},
     "output_type": "display_data"
    },
    {
     "name": "stdout",
     "output_type": "stream",
     "text": [
      "Total sum of eigenvalues: 9.651889799390085\n"
     ]
    }
   ],
   "source": [
    "# Compute eigenvalues\n",
    "eigenvalues = pca.explained_variance_\n",
    "\n",
    "# Scree plot\n",
    "plt.figure(figsize=(10, 5))\n",
    "plt.bar(range(1, 51), eigenvalues, alpha=0.5, align='center', label='Individual explained variance')\n",
    "plt.plot(range(1, 51), np.cumsum(eigenvalues), marker='o', linestyle='-', label='Cumulative explained variance')\n",
    "plt.xlabel('Principal Components')\n",
    "plt.ylabel('Eigenvalues')\n",
    "plt.title('Scree Plot of Eigenvalues')\n",
    "plt.legend()\n",
    "plt.grid(True)\n",
    "plt.show()\n",
    "\n",
    "# Calculate the total sum of eigenvalues\n",
    "total_eigenvalues = np.sum(eigenvalues)\n",
    "print(f\"Total sum of eigenvalues: {total_eigenvalues}\")\n"
   ]
  },
  {
   "cell_type": "code",
   "execution_count": 39,
   "id": "dfd0d10d",
   "metadata": {},
   "outputs": [
    {
     "name": "stdout",
     "output_type": "stream",
     "text": [
      "Similarity between entry 632 and entry 632: 1.0000001192092896\n",
      "Similarity between entry 633 and entry 633: 1.0000001192092896\n",
      "Similarity between entry 624 and entry 624: 1.0000001192092896\n",
      "Similarity between entry 634 and entry 632: 1.0000001192092896\n",
      "Similarity between entry 632 and entry 633: 1.0000001192092896\n",
      "Similarity between entry 634 and entry 634: 1.0000001192092896\n",
      "Similarity between entry 650 and entry 650: 1.0000001192092896\n",
      "Similarity between entry 623 and entry 623: 1.0000001192092896\n",
      "Similarity between entry 623 and entry 622: 1.0000001192092896\n",
      "Similarity between entry 623 and entry 621: 1.0000001192092896\n",
      "Similarity between entry 623 and entry 618: 1.0000001192092896\n",
      "Similarity between entry 623 and entry 617: 1.0000001192092896\n",
      "Similarity between entry 623 and entry 616: 1.0000001192092896\n",
      "Similarity between entry 634 and entry 633: 1.0000001192092896\n",
      "Similarity between entry 775 and entry 775: 1.0000001192092896\n",
      "Similarity between entry 693 and entry 693: 1.0000001192092896\n",
      "Similarity between entry 653 and entry 653: 1.0000001192092896\n",
      "Similarity between entry 654 and entry 654: 1.0000001192092896\n",
      "Similarity between entry 655 and entry 655: 1.0000001192092896\n",
      "Similarity between entry 667 and entry 667: 1.0000001192092896\n",
      "Similarity between entry 669 and entry 669: 1.0000001192092896\n",
      "Similarity between entry 672 and entry 672: 1.0000001192092896\n",
      "Similarity between entry 676 and entry 676: 1.0000001192092896\n",
      "Similarity between entry 676 and entry 677: 1.0000001192092896\n",
      "Similarity between entry 677 and entry 676: 1.0000001192092896\n",
      "Similarity between entry 677 and entry 677: 1.0000001192092896\n",
      "Similarity between entry 687 and entry 687: 1.0000001192092896\n",
      "Similarity between entry 689 and entry 689: 1.0000001192092896\n",
      "Similarity between entry 689 and entry 690: 1.0000001192092896\n",
      "Similarity between entry 690 and entry 689: 1.0000001192092896\n",
      "Similarity between entry 690 and entry 690: 1.0000001192092896\n",
      "Similarity between entry 766 and entry 766: 1.0000001192092896\n",
      "Similarity between entry 622 and entry 622: 1.0000001192092896\n",
      "Similarity between entry 622 and entry 621: 1.0000001192092896\n",
      "Similarity between entry 776 and entry 776: 1.0000001192092896\n",
      "Similarity between entry 776 and entry 777: 1.0000001192092896\n",
      "Similarity between entry 777 and entry 776: 1.0000001192092896\n",
      "Similarity between entry 777 and entry 777: 1.0000001192092896\n",
      "Similarity between entry 785 and entry 785: 1.0000001192092896\n",
      "Similarity between entry 786 and entry 786: 1.0000001192092896\n",
      "Similarity between entry 788 and entry 788: 1.0000001192092896\n",
      "Similarity between entry 792 and entry 792: 1.0000001192092896\n",
      "Similarity between entry 794 and entry 794: 1.0000001192092896\n",
      "Similarity between entry 799 and entry 799: 1.0000001192092896\n",
      "Similarity between entry 800 and entry 800: 1.0000001192092896\n",
      "Similarity between entry 807 and entry 807: 1.0000001192092896\n",
      "Similarity between entry 812 and entry 812: 1.0000001192092896\n",
      "Similarity between entry 813 and entry 813: 1.0000001192092896\n",
      "Similarity between entry 814 and entry 814: 1.0000001192092896\n",
      "Similarity between entry 829 and entry 829: 1.0000001192092896\n",
      "Similarity between entry 831 and entry 831: 1.0000001192092896\n",
      "Similarity between entry 834 and entry 834: 1.0000001192092896\n",
      "Similarity between entry 835 and entry 835: 1.0000001192092896\n",
      "Similarity between entry 848 and entry 848: 1.0000001192092896\n",
      "Similarity between entry 850 and entry 850: 1.0000001192092896\n",
      "Similarity between entry 854 and entry 854: 1.0000001192092896\n",
      "Similarity between entry 859 and entry 859: 1.0000001192092896\n",
      "Similarity between entry 868 and entry 868: 1.0000001192092896\n",
      "Similarity between entry 873 and entry 873: 1.0000001192092896\n",
      "Similarity between entry 882 and entry 882: 1.0000001192092896\n",
      "Similarity between entry 883 and entry 883: 1.0000001192092896\n",
      "Similarity between entry 892 and entry 892: 1.0000001192092896\n",
      "Similarity between entry 903 and entry 903: 1.0000001192092896\n",
      "Similarity between entry 905 and entry 905: 1.0000001192092896\n",
      "Similarity between entry 922 and entry 922: 1.0000001192092896\n",
      "Similarity between entry 926 and entry 926: 1.0000001192092896\n",
      "Similarity between entry 927 and entry 709: 1.0000001192092896\n",
      "Similarity between entry 927 and entry 927: 1.0000001192092896\n",
      "Similarity between entry 927 and entry 928: 1.0000001192092896\n",
      "Similarity between entry 928 and entry 709: 1.0000001192092896\n",
      "Similarity between entry 928 and entry 927: 1.0000001192092896\n",
      "Similarity between entry 928 and entry 928: 1.0000001192092896\n",
      "Similarity between entry 930 and entry 930: 1.0000001192092896\n",
      "Similarity between entry 931 and entry 931: 1.0000001192092896\n",
      "Similarity between entry 932 and entry 932: 1.0000001192092896\n",
      "Similarity between entry 936 and entry 936: 1.0000001192092896\n",
      "Similarity between entry 937 and entry 937: 1.0000001192092896\n",
      "Similarity between entry 942 and entry 942: 1.0000001192092896\n",
      "Similarity between entry 943 and entry 943: 1.0000001192092896\n",
      "Similarity between entry 947 and entry 947: 1.0000001192092896\n",
      "Similarity between entry 948 and entry 948: 1.0000001192092896\n",
      "Similarity between entry 953 and entry 953: 1.0000001192092896\n",
      "Similarity between entry 954 and entry 954: 1.0000001192092896\n",
      "Similarity between entry 954 and entry 955: 1.0000001192092896\n",
      "Similarity between entry 954 and entry 956: 1.0000001192092896\n",
      "Similarity between entry 955 and entry 954: 1.0000001192092896\n",
      "Similarity between entry 955 and entry 955: 1.0000001192092896\n",
      "Similarity between entry 955 and entry 956: 1.0000001192092896\n",
      "Similarity between entry 956 and entry 954: 1.0000001192092896\n",
      "Similarity between entry 956 and entry 955: 1.0000001192092896\n",
      "Similarity between entry 956 and entry 956: 1.0000001192092896\n",
      "Similarity between entry 958 and entry 958: 1.0000001192092896\n",
      "Similarity between entry 959 and entry 959: 1.0000001192092896\n",
      "Similarity between entry 963 and entry 716: 1.0000001192092896\n",
      "Similarity between entry 963 and entry 963: 1.0000001192092896\n",
      "Similarity between entry 967 and entry 967: 1.0000001192092896\n",
      "Similarity between entry 970 and entry 970: 1.0000001192092896\n",
      "Similarity between entry 977 and entry 977: 1.0000001192092896\n",
      "Similarity between entry 979 and entry 979: 1.0000001192092896\n",
      "Similarity between entry 980 and entry 980: 1.0000001192092896\n",
      "Similarity between entry 981 and entry 981: 1.0000001192092896\n",
      "Similarity between entry 986 and entry 986: 1.0000001192092896\n",
      "Similarity between entry 987 and entry 987: 1.0000001192092896\n",
      "Similarity between entry 988 and entry 988: 1.0000001192092896\n",
      "Similarity between entry 622 and entry 623: 1.0000001192092896\n",
      "Similarity between entry 996 and entry 996: 1.0000001192092896\n",
      "Similarity between entry 227 and entry 221: 1.0000001192092896\n",
      "Similarity between entry 622 and entry 618: 1.0000001192092896\n",
      "Similarity between entry 622 and entry 617: 1.0000001192092896\n",
      "Similarity between entry 622 and entry 616: 1.0000001192092896\n",
      "Similarity between entry 621 and entry 623: 1.0000001192092896\n",
      "Similarity between entry 621 and entry 622: 1.0000001192092896\n",
      "Similarity between entry 621 and entry 621: 1.0000001192092896\n",
      "Similarity between entry 621 and entry 618: 1.0000001192092896\n",
      "Similarity between entry 621 and entry 617: 1.0000001192092896\n",
      "Similarity between entry 621 and entry 616: 1.0000001192092896\n",
      "Similarity between entry 619 and entry 619: 1.0000001192092896\n",
      "Similarity between entry 618 and entry 623: 1.0000001192092896\n",
      "Similarity between entry 618 and entry 622: 1.0000001192092896\n",
      "Similarity between entry 618 and entry 621: 1.0000001192092896\n",
      "Similarity between entry 618 and entry 618: 1.0000001192092896\n",
      "Similarity between entry 618 and entry 617: 1.0000001192092896\n",
      "Similarity between entry 618 and entry 616: 1.0000001192092896\n",
      "Similarity between entry 617 and entry 623: 1.0000001192092896\n",
      "Similarity between entry 617 and entry 622: 1.0000001192092896\n",
      "Similarity between entry 617 and entry 621: 1.0000001192092896\n",
      "Similarity between entry 617 and entry 618: 1.0000001192092896\n",
      "Similarity between entry 617 and entry 617: 1.0000001192092896\n",
      "Similarity between entry 617 and entry 616: 1.0000001192092896\n",
      "Similarity between entry 616 and entry 623: 1.0000001192092896\n",
      "Similarity between entry 616 and entry 622: 1.0000001192092896\n",
      "Similarity between entry 616 and entry 621: 1.0000001192092896\n",
      "Similarity between entry 616 and entry 618: 1.0000001192092896\n",
      "Similarity between entry 616 and entry 617: 1.0000001192092896\n",
      "Similarity between entry 616 and entry 616: 1.0000001192092896\n",
      "Similarity between entry 613 and entry 613: 1.0000001192092896\n",
      "Similarity between entry 610 and entry 610: 1.0000001192092896\n",
      "Similarity between entry 600 and entry 600: 1.0000001192092896\n",
      "Similarity between entry 599 and entry 599: 1.0000001192092896\n",
      "Similarity between entry 597 and entry 597: 1.0000001192092896\n",
      "Similarity between entry 596 and entry 596: 1.0000001192092896\n",
      "Similarity between entry 595 and entry 595: 1.0000001192092896\n",
      "Similarity between entry 594 and entry 594: 1.0000001192092896\n",
      "Similarity between entry 586 and entry 586: 1.0000001192092896\n",
      "Similarity between entry 584 and entry 584: 1.0000001192092896\n",
      "Similarity between entry 582 and entry 582: 1.0000001192092896\n",
      "Similarity between entry 572 and entry 572: 1.0000001192092896\n",
      "Similarity between entry 569 and entry 569: 1.0000001192092896\n",
      "Similarity between entry 568 and entry 568: 1.0000001192092896\n",
      "Similarity between entry 566 and entry 566: 1.0000001192092896\n",
      "Similarity between entry 566 and entry 565: 1.0000001192092896\n",
      "Similarity between entry 565 and entry 566: 1.0000001192092896\n",
      "Similarity between entry 565 and entry 565: 1.0000001192092896\n",
      "Similarity between entry 562 and entry 562: 1.0000001192092896\n",
      "Similarity between entry 554 and entry 554: 1.0000001192092896\n",
      "Similarity between entry 553 and entry 553: 1.0000001192092896\n",
      "Similarity between entry 552 and entry 552: 1.0000001192092896\n",
      "Similarity between entry 543 and entry 543: 1.0000001192092896\n",
      "Similarity between entry 541 and entry 541: 1.0000001192092896\n",
      "Similarity between entry 533 and entry 533: 1.0000001192092896\n",
      "Similarity between entry 522 and entry 522: 1.0000001192092896\n",
      "Similarity between entry 520 and entry 520: 1.0000001192092896\n",
      "Similarity between entry 517 and entry 517: 1.0000001192092896\n",
      "Similarity between entry 515 and entry 515: 1.0000001192092896\n",
      "Similarity between entry 511 and entry 511: 1.0000001192092896\n",
      "Similarity between entry 509 and entry 509: 1.0000001192092896\n",
      "Similarity between entry 504 and entry 504: 1.0000001192092896\n",
      "Similarity between entry 499 and entry 499: 1.0000001192092896\n",
      "Similarity between entry 497 and entry 497: 1.0000001192092896\n",
      "Similarity between entry 482 and entry 482: 1.0000001192092896\n",
      "Similarity between entry 473 and entry 473: 1.0000001192092896\n",
      "Similarity between entry 468 and entry 468: 1.0000001192092896\n",
      "Similarity between entry 459 and entry 459: 1.0000001192092896\n",
      "Similarity between entry 450 and entry 450: 1.0000001192092896\n",
      "Similarity between entry 446 and entry 446: 1.0000001192092896\n",
      "Similarity between entry 444 and entry 444: 1.0000001192092896\n",
      "Similarity between entry 444 and entry 443: 1.0000001192092896\n",
      "Similarity between entry 443 and entry 444: 1.0000001192092896\n",
      "Similarity between entry 443 and entry 443: 1.0000001192092896\n",
      "Similarity between entry 442 and entry 442: 1.0000001192092896\n",
      "Similarity between entry 440 and entry 440: 1.0000001192092896\n",
      "Similarity between entry 432 and entry 432: 1.0000001192092896\n",
      "Similarity between entry 430 and entry 430: 1.0000001192092896\n",
      "Similarity between entry 430 and entry 429: 1.0000001192092896\n",
      "Similarity between entry 429 and entry 430: 1.0000001192092896\n",
      "Similarity between entry 429 and entry 429: 1.0000001192092896\n",
      "Similarity between entry 426 and entry 426: 1.0000001192092896\n",
      "Similarity between entry 408 and entry 408: 1.0000001192092896\n",
      "Similarity between entry 405 and entry 405: 1.0000001192092896\n",
      "Similarity between entry 399 and entry 399: 1.0000001192092896\n",
      "Similarity between entry 398 and entry 398: 1.0000001192092896\n",
      "Similarity between entry 397 and entry 397: 1.0000001192092896\n",
      "Similarity between entry 396 and entry 396: 1.0000001192092896\n",
      "Similarity between entry 392 and entry 392: 1.0000001192092896\n",
      "Similarity between entry 386 and entry 386: 1.0000001192092896\n",
      "Similarity between entry 384 and entry 384: 1.0000001192092896\n",
      "Similarity between entry 382 and entry 382: 1.0000001192092896\n",
      "Similarity between entry 378 and entry 378: 1.0000001192092896\n",
      "Similarity between entry 371 and entry 371: 1.0000001192092896\n",
      "Similarity between entry 362 and entry 362: 1.0000001192092896\n",
      "Similarity between entry 357 and entry 357: 1.0000001192092896\n",
      "Similarity between entry 355 and entry 355: 1.0000001192092896\n",
      "Similarity between entry 347 and entry 347: 1.0000001192092896\n",
      "Similarity between entry 346 and entry 346: 1.0000001192092896\n",
      "Similarity between entry 342 and entry 342: 1.0000001192092896\n",
      "Similarity between entry 341 and entry 341: 1.0000001192092896\n",
      "Similarity between entry 334 and entry 334: 1.0000001192092896\n",
      "Similarity between entry 333 and entry 333: 1.0000001192092896\n",
      "Similarity between entry 332 and entry 332: 1.0000001192092896\n",
      "Similarity between entry 330 and entry 330: 1.0000001192092896\n",
      "Similarity between entry 329 and entry 329: 1.0000001192092896\n",
      "Similarity between entry 325 and entry 325: 1.0000001192092896\n",
      "Similarity between entry 314 and entry 314: 1.0000001192092896\n",
      "Similarity between entry 310 and entry 310: 1.0000001192092896\n",
      "Similarity between entry 308 and entry 308: 1.0000001192092896\n",
      "Similarity between entry 304 and entry 304: 1.0000001192092896\n",
      "Similarity between entry 303 and entry 303: 1.0000001192092896\n",
      "Similarity between entry 302 and entry 302: 1.0000001192092896\n",
      "Similarity between entry 297 and entry 297: 1.0000001192092896\n",
      "Similarity between entry 286 and entry 286: 1.0000001192092896\n",
      "Similarity between entry 286 and entry 285: 1.0000001192092896\n",
      "Similarity between entry 286 and entry 284: 1.0000001192092896\n",
      "Similarity between entry 286 and entry 283: 1.0000001192092896\n",
      "Similarity between entry 285 and entry 286: 1.0000001192092896\n",
      "Similarity between entry 285 and entry 285: 1.0000001192092896\n",
      "Similarity between entry 285 and entry 284: 1.0000001192092896\n",
      "Similarity between entry 285 and entry 283: 1.0000001192092896\n",
      "Similarity between entry 284 and entry 286: 1.0000001192092896\n",
      "Similarity between entry 284 and entry 285: 1.0000001192092896\n",
      "Similarity between entry 284 and entry 284: 1.0000001192092896\n",
      "Similarity between entry 284 and entry 283: 1.0000001192092896\n",
      "Similarity between entry 283 and entry 286: 1.0000001192092896\n",
      "Similarity between entry 283 and entry 285: 1.0000001192092896\n",
      "Similarity between entry 283 and entry 284: 1.0000001192092896\n",
      "Similarity between entry 283 and entry 283: 1.0000001192092896\n",
      "Similarity between entry 268 and entry 268: 1.0000001192092896\n",
      "Similarity between entry 267 and entry 267: 1.0000001192092896\n",
      "Similarity between entry 256 and entry 256: 1.0000001192092896\n",
      "Similarity between entry 250 and entry 250: 1.0000001192092896\n",
      "Similarity between entry 249 and entry 249: 1.0000001192092896\n",
      "Similarity between entry 248 and entry 248: 1.0000001192092896\n",
      "Similarity between entry 232 and entry 232: 1.0000001192092896\n",
      "Similarity between entry 231 and entry 231: 1.0000001192092896\n",
      "Similarity between entry 230 and entry 230: 1.0000001192092896\n",
      "Similarity between entry 227 and entry 227: 1.0000001192092896\n",
      "Similarity between entry 227 and entry 226: 1.0000001192092896\n",
      "Similarity between entry 227 and entry 225: 1.0000001192092896\n",
      "Similarity between entry 227 and entry 224: 1.0000001192092896\n",
      "Similarity between entry 227 and entry 223: 1.0000001192092896\n",
      "Similarity between entry 227 and entry 222: 1.0000001192092896\n"
     ]
    }
   ],
   "source": [
    "# Convert the 'output' list into a NumPy array\n",
    "output = np.array(output)\n",
    "\n",
    "# Calculate cosine similarities for all pairs of entries in the output matrix\n",
    "output_shape = output.shape\n",
    "output_normalized = output / np.linalg.norm(output, axis=1, keepdims=True)\n",
    "\n",
    "# Calculate cosine similarities between all pairs of entries\n",
    "similarities = np.zeros((output_shape[0], output_shape[0]))\n",
    "\n",
    "# Calculate cosine similarities between all pairs of entries\n",
    "for i in range(output_shape[0]):\n",
    "    for j in range(output_shape[0]):\n",
    "        similarities[i, j] = em.cosine_sim(output_normalized[i], output_normalized[j])\n",
    "\n",
    "# Get the indices of the top 250 similarities (excluding self-similarity, which is 1)\n",
    "top_indices = np.argpartition(similarities, -251, axis=None)[-251:-1]\n",
    "\n",
    "# Print the top 250 similarities and their corresponding indices\n",
    "for idx in top_indices:\n",
    "    i, j = divmod(idx, output_shape[0])\n",
    "    similarity = similarities[i, j]\n",
    "    print(f\"Similarity between entry {i} and entry {j}: {similarity}\")\n"
   ]
  },
  {
   "cell_type": "code",
   "execution_count": 38,
   "id": "926238d5",
   "metadata": {},
   "outputs": [
    {
     "name": "stdout",
     "output_type": "stream",
     "text": [
      "Pair 1: Similarity between entry 472 and entry 705: 0.9180778861045837\n",
      "Pair 2: Similarity between entry 262 and entry 147: 0.9408025741577148\n",
      "Pair 3: Similarity between entry 224 and entry 331: 0.9124478101730347\n",
      "Pair 4: Similarity between entry 472 and entry 676: 0.8961948156356812\n",
      "Pair 5: Similarity between entry 473 and entry 367: 0.9768402576446533\n",
      "Pair 6: Similarity between entry 822 and entry 67: 0.987675130367279\n",
      "Pair 7: Similarity between entry 473 and entry 240: 0.904630184173584\n",
      "Pair 8: Similarity between entry 656 and entry 555: 0.9659403562545776\n",
      "Pair 9: Similarity between entry 472 and entry 675: 0.9779186844825745\n",
      "Pair 10: Similarity between entry 223 and entry 99: 0.9891355633735657\n"
     ]
    }
   ],
   "source": [
    "least_similar_indices = np.unravel_index(np.argsort(similarities, axis=None)[:10], output_shape)\n",
    "\n",
    "# Print the 10 pairs with the least similarities and their corresponding values\n",
    "for k in range(10):\n",
    "    i, j = least_similar_indices[0][k], least_similar_indices[1][k]\n",
    "    similarity = similarities[i, j]\n",
    "    print(f\"Pair {k + 1}: Similarity between entry {i} and entry {j}: {similarity}\")"
   ]
  },
  {
   "cell_type": "code",
   "execution_count": null,
   "id": "227cb01d",
   "metadata": {},
   "outputs": [],
   "source": []
  }
 ],
 "metadata": {
  "kernelspec": {
   "display_name": "Python 3 (ipykernel)",
   "language": "python",
   "name": "python3"
  },
  "language_info": {
   "codemirror_mode": {
    "name": "ipython",
    "version": 3
   },
   "file_extension": ".py",
   "mimetype": "text/x-python",
   "name": "python",
   "nbconvert_exporter": "python",
   "pygments_lexer": "ipython3",
   "version": "3.9.13"
  }
 },
 "nbformat": 4,
 "nbformat_minor": 5
}
