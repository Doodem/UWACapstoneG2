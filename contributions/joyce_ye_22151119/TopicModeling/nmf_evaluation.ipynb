{
 "cells": [
  {
   "cell_type": "code",
   "execution_count": 16,
   "id": "49c59dbc",
   "metadata": {},
   "outputs": [],
   "source": [
    "import pandas as pd\n",
    "# Read the Excel file into a DataFrame\n",
    "df = pd.read_excel(\"combined_data.xlsx\")"
   ]
  },
  {
   "cell_type": "code",
   "execution_count": 19,
   "id": "865954bb",
   "metadata": {},
   "outputs": [],
   "source": [
    "def convert_to_space_separated(text):\n",
    "    if isinstance(text, str):\n",
    "        return text.replace(', ', ' ')\n",
    "    else:\n",
    "        return text  # Return the value as-is if it's not a string\n",
    "\n",
    "df['Top Words'] = df['Top Words'].apply(convert_to_space_separated)\n",
    "df['Label'] = df['Label'].apply(convert_to_space_separated)"
   ]
  },
  {
   "cell_type": "code",
   "execution_count": 22,
   "id": "1f0de8d5",
   "metadata": {},
   "outputs": [],
   "source": [
    "from sklearn.feature_extraction.text import CountVectorizer\n",
    "from sklearn.metrics import adjusted_rand_score, normalized_mutual_info_score, fowlkes_mallows_score, jaccard_score\n",
    "\n",
    "df['Label'].fillna(\"\", inplace=True)\n",
    "# Convert the \"top words\" and \"label\" columns into bag-of-words representations\n",
    "vectorizer = CountVectorizer()\n",
    "nmf_bow = vectorizer.fit_transform(df['Top Words'])\n",
    "ground_truth_bow = vectorizer.transform(df['Label'])\n",
    "\n",
    "# Evaluate the performance of NMF\n",
    "nmf_results = nmf_bow.toarray()\n",
    "ground_truth_labels = ground_truth_bow.toarray()"
   ]
  },
  {
   "cell_type": "code",
   "execution_count": 23,
   "id": "d4fb8d89",
   "metadata": {},
   "outputs": [
    {
     "name": "stdout",
     "output_type": "stream",
     "text": [
      "[[0 0 0 ... 0 0 0]\n",
      " [0 0 0 ... 0 0 0]\n",
      " [0 0 0 ... 0 0 0]\n",
      " ...\n",
      " [0 0 0 ... 0 0 0]\n",
      " [0 0 0 ... 0 0 0]\n",
      " [0 0 0 ... 0 0 0]]\n"
     ]
    }
   ],
   "source": []
  },
  {
   "cell_type": "code",
   "execution_count": 9,
   "id": "3f0999cb",
   "metadata": {},
   "outputs": [
    {
     "data": {
      "text/plain": [
       "'school bus, transport, assistance, public, nearest, administers'"
      ]
     },
     "execution_count": 9,
     "metadata": {},
     "output_type": "execute_result"
    }
   ],
   "source": [
    "# Calculate evaluation metrics\n",
    "ari = adjusted_rand_score(ground_truth_labels, nmf_results)\n",
    "nmi = normalized_mutual_info_score(ground_truth_labels, nmf_results)\n",
    "fmi = fowlkes_mallows_score(ground_truth_labels, nmf_results)\n",
    "\n",
    "# The Jaccard similarity score requires binary labels\n",
    "# Convert labels to binary format if not already\n",
    "binary_ground_truth = [1 if label.any() > 0 else 0 for label in ground_truth_labels]\n",
    "binary_nmf_results = [1 if label.any() > 0 else 0 for label in nmf_results]\n",
    "\n",
    "jaccard = jaccard_score(binary_ground_truth, binary_nmf_results)\n",
    "\n",
    "# Print the evaluation metrics\n",
    "print(f\"Adjusted Rand Index (ARI): {ari}\")\n",
    "print(f\"Normalized Mutual Information (NMI): {nmi}\")\n",
    "print(f\"Fowlkes-Mallows Index (FMI): {fmi}\")\n",
    "print(f\"Jaccard Similarity Score: {jaccard}\")"
   ]
  },
  {
   "cell_type": "code",
   "execution_count": null,
   "id": "b43dcdc2",
   "metadata": {},
   "outputs": [],
   "source": []
  }
 ],
 "metadata": {
  "kernelspec": {
   "display_name": "Python 3 (ipykernel)",
   "language": "python",
   "name": "python3"
  },
  "language_info": {
   "codemirror_mode": {
    "name": "ipython",
    "version": 3
   },
   "file_extension": ".py",
   "mimetype": "text/x-python",
   "name": "python",
   "nbconvert_exporter": "python",
   "pygments_lexer": "ipython3",
   "version": "3.9.13"
  }
 },
 "nbformat": 4,
 "nbformat_minor": 5
}
