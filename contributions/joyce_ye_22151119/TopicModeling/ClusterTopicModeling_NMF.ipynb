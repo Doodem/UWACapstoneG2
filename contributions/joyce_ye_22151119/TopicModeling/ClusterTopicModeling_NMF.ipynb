{
 "cells": [
  {
   "cell_type": "code",
   "execution_count": 1,
   "id": "01813b89",
   "metadata": {},
   "outputs": [],
   "source": [
    "import random\n",
    "import numpy as np\n",
    "import re\n",
    "import pandas as pd"
   ]
  },
  {
   "cell_type": "code",
   "execution_count": 5,
   "id": "436bbf79",
   "metadata": {},
   "outputs": [],
   "source": [
    "# read in data and doing kmeans using max's code\n",
    "bert_embs = np.load(\"./data/st_short_desc_summaries.npz\")\n",
    "bert_embs = [bert_embs[f] for f in bert_embs.files]"
   ]
  },
  {
   "cell_type": "code",
   "execution_count": 7,
   "id": "c81fbe21",
   "metadata": {},
   "outputs": [],
   "source": [
    "tender_refs = open(\"./data/tender_references.txt\", \"r\")\n",
    "content = \"\"\n",
    "for line in tender_refs:\n",
    "    content = line\n",
    "    break"
   ]
  },
  {
   "cell_type": "code",
   "execution_count": 8,
   "id": "68169f11",
   "metadata": {},
   "outputs": [
    {
     "name": "stdout",
     "output_type": "stream",
     "text": [
      "20619\n",
      "20619\n"
     ]
    }
   ],
   "source": [
    "content = content.replace(\"[\", \"\")\n",
    "content = content.replace(\"'\", \"\")\n",
    "content = content.replace(\",\", \"\")\n",
    "refs = content.split(\" \")\n",
    "print(len(refs))\n",
    "print(len(bert_embs))"
   ]
  },
  {
   "cell_type": "code",
   "execution_count": 9,
   "id": "60188766",
   "metadata": {},
   "outputs": [],
   "source": [
    "from sklearn.cluster import KMeans\n",
    "from sklearn import preprocessing\n",
    "kmeans = KMeans(n_clusters = 2000, n_init = 1).fit_predict(preprocessing.normalize(bert_embs))"
   ]
  },
  {
   "cell_type": "code",
   "execution_count": 11,
   "id": "a98fcce1",
   "metadata": {},
   "outputs": [],
   "source": [
    "import pandas as pd\n",
    "tenders_structured_path = r\"./data/UpdatedAgainTenders.xlsx\"\n",
    "\n",
    "tenders_structured = pd.read_excel(tenders_structured_path)\n",
    "tenders_structured = tenders_structured[[\"Reference Number\", \"Contract Title\", \"Description\"]].dropna(subset=[\"Reference Number\"])"
   ]
  },
  {
   "cell_type": "code",
   "execution_count": 12,
   "id": "e977cf45",
   "metadata": {},
   "outputs": [],
   "source": [
    "clusters = pd.DataFrame({\"Reference Number\": refs, \"cluster\": kmeans})\n",
    "clusters = pd.merge(clusters, tenders_structured, on = \"Reference Number\")"
   ]
  },
  {
   "cell_type": "code",
   "execution_count": 13,
   "id": "6cca6e10",
   "metadata": {},
   "outputs": [],
   "source": [
    "from bs4 import BeautifulSoup\n",
    "def remove_html_tags(text):\n",
    "    soup = BeautifulSoup(text, \"html.parser\")\n",
    "    cleaned = soup.get_text().replace('\\xa0', ' ')\n",
    "    cleaned = ' '.join(cleaned.split())\n",
    "    return cleaned\n",
    "\n",
    "docs = []\n",
    "for index, row in clusters.iterrows():\n",
    "    title = row[\"Contract Title\"]\n",
    "    desc = remove_html_tags(row[\"Description\"])\n",
    "    clusters.at[index, \"Description\"] = desc\n",
    "    docs.append(title + \". \" + desc)"
   ]
  },
  {
   "cell_type": "code",
   "execution_count": 15,
   "id": "ea3da0e2",
   "metadata": {},
   "outputs": [
    {
     "data": {
      "text/html": [
       "<div>\n",
       "<style scoped>\n",
       "    .dataframe tbody tr th:only-of-type {\n",
       "        vertical-align: middle;\n",
       "    }\n",
       "\n",
       "    .dataframe tbody tr th {\n",
       "        vertical-align: top;\n",
       "    }\n",
       "\n",
       "    .dataframe thead th {\n",
       "        text-align: right;\n",
       "    }\n",
       "</style>\n",
       "<table border=\"1\" class=\"dataframe\">\n",
       "  <thead>\n",
       "    <tr style=\"text-align: right;\">\n",
       "      <th></th>\n",
       "      <th>Reference Number</th>\n",
       "      <th>Contract Title</th>\n",
       "      <th>Description</th>\n",
       "    </tr>\n",
       "  </thead>\n",
       "  <tbody>\n",
       "    <tr>\n",
       "      <th>9421</th>\n",
       "      <td>DMIRS22099</td>\n",
       "      <td>DMIRS22099 - Provision of .Net Developer Servi...</td>\n",
       "      <td>DMIRS22099 - Provision of .Net Developer Servi...</td>\n",
       "    </tr>\n",
       "    <tr>\n",
       "      <th>9457</th>\n",
       "      <td>DMIRS22026</td>\n",
       "      <td>Provision of .Net Developer Services - ASM</td>\n",
       "      <td>Provision of .Net Developer Services - ASM</td>\n",
       "    </tr>\n",
       "    <tr>\n",
       "      <th>9597</th>\n",
       "      <td>DMIRS21606</td>\n",
       "      <td>Provision of .Net Developer Services</td>\n",
       "      <td>Provision of .Net Developer Services</td>\n",
       "    </tr>\n",
       "    <tr>\n",
       "      <th>9668</th>\n",
       "      <td>DMIRS20382</td>\n",
       "      <td>Provision of ASM .Net Developer Services</td>\n",
       "      <td>Provision of ASM .Net Developer Services</td>\n",
       "    </tr>\n",
       "    <tr>\n",
       "      <th>9707</th>\n",
       "      <td>DMIRS20334</td>\n",
       "      <td>Provision of ASM .NET Developer Services</td>\n",
       "      <td>Provision of ASM .NET Developer Services</td>\n",
       "    </tr>\n",
       "    <tr>\n",
       "      <th>9807</th>\n",
       "      <td>DMIRS160220</td>\n",
       "      <td>Provision of ASM .Net Developer Services</td>\n",
       "      <td>DMIRS160220 - Provision of ASM .Net Developer ...</td>\n",
       "    </tr>\n",
       "    <tr>\n",
       "      <th>9841</th>\n",
       "      <td>DMIRS1481119</td>\n",
       "      <td>Provision of .NET and Angular Development Serv...</td>\n",
       "      <td>DMIRS1481119 Provision of .NET and Angular Dev...</td>\n",
       "    </tr>\n",
       "  </tbody>\n",
       "</table>\n",
       "</div>"
      ],
      "text/plain": [
       "     Reference Number                                     Contract Title  \\\n",
       "9421       DMIRS22099  DMIRS22099 - Provision of .Net Developer Servi...   \n",
       "9457       DMIRS22026         Provision of .Net Developer Services - ASM   \n",
       "9597       DMIRS21606               Provision of .Net Developer Services   \n",
       "9668       DMIRS20382          Provision of ASM .Net Developer Services    \n",
       "9707       DMIRS20334           Provision of ASM .NET Developer Services   \n",
       "9807      DMIRS160220           Provision of ASM .Net Developer Services   \n",
       "9841     DMIRS1481119  Provision of .NET and Angular Development Serv...   \n",
       "\n",
       "                                            Description  \n",
       "9421  DMIRS22099 - Provision of .Net Developer Servi...  \n",
       "9457         Provision of .Net Developer Services - ASM  \n",
       "9597               Provision of .Net Developer Services  \n",
       "9668           Provision of ASM .Net Developer Services  \n",
       "9707           Provision of ASM .NET Developer Services  \n",
       "9807  DMIRS160220 - Provision of ASM .Net Developer ...  \n",
       "9841  DMIRS1481119 Provision of .NET and Angular Dev...  "
      ]
     },
     "execution_count": 15,
     "metadata": {},
     "output_type": "execute_result"
    }
   ],
   "source": [
    "clusters.loc[clusters[\"cluster\"] == 200 , [\"Reference Number\", \"Contract Title\", \"Description\"]] "
   ]
  },
  {
   "cell_type": "code",
   "execution_count": 16,
   "id": "21632493",
   "metadata": {},
   "outputs": [
    {
     "data": {
      "text/plain": [
       "TfidfVectorizer(max_df=0.3, stop_words='english')"
      ]
     },
     "execution_count": 16,
     "metadata": {},
     "output_type": "execute_result"
    }
   ],
   "source": [
    "import numpy as np\n",
    "from sklearn.feature_extraction.text import TfidfVectorizer\n",
    "tender_tfidf = TfidfVectorizer(stop_words=\"english\",\n",
    "                               min_df=1, max_df = 0.3)\n",
    "tender_tfidf.fit(docs)"
   ]
  },
  {
   "cell_type": "code",
   "execution_count": 17,
   "id": "0711b087",
   "metadata": {},
   "outputs": [],
   "source": [
    "from sklearn.decomposition import NMF\n",
    "\n",
    "def display_topic_nmf(n_cluster):\n",
    "    subset_docs = [docs[i] for i in list(np.where(clusters[\"cluster\"] == n_cluster)[0])]\n",
    "    tfidf = tender_tfidf.transform(subset_docs)\n",
    "    \n",
    "    nmf = NMF(n_components=1, max_iter=20)\n",
    "    nmf_fitted = nmf.fit(tfidf)\n",
    "\n",
    "    topics = nmf_fitted.components_\n",
    "    topic_keywords = [tender_tfidf.get_feature_names_out()[topic.argsort()[-5:]] for topic in topics]\n",
    "\n",
    "    print(topic_keywords)\n",
    "    \n",
    "    return clusters.loc[clusters[\"cluster\"] == n_cluster, [\"Reference Number\", \"Contract Title\", \"Description\"]]\n"
   ]
  },
  {
   "cell_type": "code",
   "execution_count": 20,
   "id": "699e74c5",
   "metadata": {},
   "outputs": [
    {
     "name": "stdout",
     "output_type": "stream",
     "text": [
      "[array(['hudson', 'response', 'security', 'alarm', 'patrols'], dtype=object)]\n"
     ]
    },
    {
     "name": "stderr",
     "output_type": "stream",
     "text": [
      "C:\\Users\\yfr\\anaconda3\\lib\\site-packages\\sklearn\\decomposition\\_nmf.py:289: FutureWarning: The 'init' value, when 'init=None' and n_components is less than n_samples and n_features, will be changed from 'nndsvd' to 'nndsvda' in 1.1 (renaming of 0.26).\n",
      "  warnings.warn(\n",
      "C:\\Users\\yfr\\anaconda3\\lib\\site-packages\\sklearn\\decomposition\\_nmf.py:1637: ConvergenceWarning: Maximum number of iterations 20 reached. Increase it to improve convergence.\n",
      "  warnings.warn(\n"
     ]
    },
    {
     "data": {
      "text/html": [
       "<div>\n",
       "<style scoped>\n",
       "    .dataframe tbody tr th:only-of-type {\n",
       "        vertical-align: middle;\n",
       "    }\n",
       "\n",
       "    .dataframe tbody tr th {\n",
       "        vertical-align: top;\n",
       "    }\n",
       "\n",
       "    .dataframe thead th {\n",
       "        text-align: right;\n",
       "    }\n",
       "</style>\n",
       "<table border=\"1\" class=\"dataframe\">\n",
       "  <thead>\n",
       "    <tr style=\"text-align: right;\">\n",
       "      <th></th>\n",
       "      <th>Reference Number</th>\n",
       "      <th>Contract Title</th>\n",
       "      <th>Description</th>\n",
       "    </tr>\n",
       "  </thead>\n",
       "  <tbody>\n",
       "    <tr>\n",
       "      <th>13447</th>\n",
       "      <td>EMHS20205761</td>\n",
       "      <td>Carpark Emergency Intercoms at Royal Perth Hos...</td>\n",
       "      <td>Carpark Emergency Intercoms at Royal Perth Hos...</td>\n",
       "    </tr>\n",
       "    <tr>\n",
       "      <th>18396</th>\n",
       "      <td>MAPD2021012</td>\n",
       "      <td>Provision of Services for a Combined Mobile Se...</td>\n",
       "      <td>Provision of Services for a Combined Mobile Se...</td>\n",
       "    </tr>\n",
       "    <tr>\n",
       "      <th>18438</th>\n",
       "      <td>MAPD2021005</td>\n",
       "      <td>Provision of after-hours security patrols for ...</td>\n",
       "      <td>Provision of after-hours security patrols for ...</td>\n",
       "    </tr>\n",
       "    <tr>\n",
       "      <th>24466</th>\n",
       "      <td>WACHS202311329</td>\n",
       "      <td>Security patrols and alarm response for Hudson...</td>\n",
       "      <td>The Customer is seeking offers for the provisi...</td>\n",
       "    </tr>\n",
       "    <tr>\n",
       "      <th>24467</th>\n",
       "      <td>WACHS202311329</td>\n",
       "      <td>Security patrols and alarm response for Hudson...</td>\n",
       "      <td>The Customer is seeking offers for the provisi...</td>\n",
       "    </tr>\n",
       "    <tr>\n",
       "      <th>24468</th>\n",
       "      <td>WACHS202311329</td>\n",
       "      <td>Security patrols and alarm response for Hudson...</td>\n",
       "      <td>The Customer is seeking offers for the provisi...</td>\n",
       "    </tr>\n",
       "    <tr>\n",
       "      <th>24928</th>\n",
       "      <td>WACHS20217671</td>\n",
       "      <td>STATIC GUARD SERVICES NORTHAM HOSPITAL</td>\n",
       "      <td>Guard Services at Northam Hospital</td>\n",
       "    </tr>\n",
       "    <tr>\n",
       "      <th>24929</th>\n",
       "      <td>WACHS20217671</td>\n",
       "      <td>STATIC GUARD SERVICES NORTHAM HOSPITAL</td>\n",
       "      <td>Guard Services at Northam Hospital</td>\n",
       "    </tr>\n",
       "  </tbody>\n",
       "</table>\n",
       "</div>"
      ],
      "text/plain": [
       "      Reference Number                                     Contract Title  \\\n",
       "13447     EMHS20205761  Carpark Emergency Intercoms at Royal Perth Hos...   \n",
       "18396      MAPD2021012  Provision of Services for a Combined Mobile Se...   \n",
       "18438      MAPD2021005  Provision of after-hours security patrols for ...   \n",
       "24466   WACHS202311329  Security patrols and alarm response for Hudson...   \n",
       "24467   WACHS202311329  Security patrols and alarm response for Hudson...   \n",
       "24468   WACHS202311329  Security patrols and alarm response for Hudson...   \n",
       "24928    WACHS20217671             STATIC GUARD SERVICES NORTHAM HOSPITAL   \n",
       "24929    WACHS20217671             STATIC GUARD SERVICES NORTHAM HOSPITAL   \n",
       "\n",
       "                                             Description  \n",
       "13447  Carpark Emergency Intercoms at Royal Perth Hos...  \n",
       "18396  Provision of Services for a Combined Mobile Se...  \n",
       "18438  Provision of after-hours security patrols for ...  \n",
       "24466  The Customer is seeking offers for the provisi...  \n",
       "24467  The Customer is seeking offers for the provisi...  \n",
       "24468  The Customer is seeking offers for the provisi...  \n",
       "24928                 Guard Services at Northam Hospital  \n",
       "24929                 Guard Services at Northam Hospital  "
      ]
     },
     "execution_count": 20,
     "metadata": {},
     "output_type": "execute_result"
    }
   ],
   "source": [
    "display_topic_nmf(9)"
   ]
  },
  {
   "cell_type": "code",
   "execution_count": null,
   "id": "c5dc1c03",
   "metadata": {},
   "outputs": [],
   "source": []
  }
 ],
 "metadata": {
  "kernelspec": {
   "display_name": "Python 3 (ipykernel)",
   "language": "python",
   "name": "python3"
  },
  "language_info": {
   "codemirror_mode": {
    "name": "ipython",
    "version": 3
   },
   "file_extension": ".py",
   "mimetype": "text/x-python",
   "name": "python",
   "nbconvert_exporter": "python",
   "pygments_lexer": "ipython3",
   "version": "3.9.13"
  }
 },
 "nbformat": 4,
 "nbformat_minor": 5
}
