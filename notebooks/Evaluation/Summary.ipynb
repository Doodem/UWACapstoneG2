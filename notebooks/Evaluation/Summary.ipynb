{
 "cells": [
  {
   "cell_type": "code",
   "execution_count": 2,
   "id": "cec81cf4-7070-46cc-a5e6-d5eefbb3747e",
   "metadata": {},
   "outputs": [],
   "source": [
    "import os\n",
    "import pickle\n",
    "import pandas as pd\n",
    "\n",
    "# bit of loading data\n",
    "tenders_structured_path = \"../../data/UpdatedAgainTenders.xlsx\"\n",
    "tenders_structured = pd.read_excel(tenders_structured_path).astype(str)\n",
    "tenders_structured = tenders_structured[[\"Reference Number\", \"Contract Title\"]].dropna(subset=[\"Reference Number\"]).drop_duplicates(subset=[\"Reference Number\"])\n",
    "\n",
    "summary_map = {}\n",
    "summary_path = \"../../../data/extended_summaries/\"\n",
    "for ref in list(tenders_structured[\"Reference Number\"]):\n",
    "    sum_file = os.path.join(summary_path, f\"{ref}.pickle.sum\")\n",
    "    if os.path.exists(sum_file):\n",
    "        loaded_sum = pickle.load(open(sum_file, \"rb\"))\n",
    "        summary_map[ref] = loaded_sum"
   ]
  },
  {
   "cell_type": "code",
   "execution_count": 105,
   "id": "ff90defa-a3a2-4d37-989e-8e074b8a24ba",
   "metadata": {},
   "outputs": [],
   "source": [
    "from TendersWA import Panda\n",
    "\n",
    "def compare_summary(ref, display_short_description = False):\n",
    "    title = tenders_structured.loc[tenders_structured[\"Reference Number\"] == ref, [\"Contract Title\"]]\n",
    "    df = pd.DataFrame({\"Contract Title\": [title], \"Source\": [summary_map[ref][\"relevant\"]], \"Summary\": [summary_map[ref][\"summary\"]]})\n",
    "    if display_short_description:\n",
    "        df[\"Short Description\"] = [summary_map[ref][\"short_desc\"]]\n",
    "    Panda.pretty_print(df)"
   ]
  },
  {
   "cell_type": "code",
   "execution_count": 64,
   "id": "1032a9fa-fb1d-4220-92c6-61404b32e70f",
   "metadata": {},
   "outputs": [],
   "source": [
    "import random\n",
    "\n",
    "def find_random_tenders(n = 5, min_len = None, max_len = None):\n",
    "    filter = dict((k, v) for k, v in summary_map.items() if (min_len == None or len(v[\"relevant\"]) > min_len) and (max_len == None or len(v[\"relevant\"]) < max_len) )\n",
    "    keys = list(filter.keys())\n",
    "    print(random.choices(keys, k = n))"
   ]
  },
  {
   "cell_type": "code",
   "execution_count": 107,
   "id": "c96e76f8-f857-4f8d-9dad-bfd2ec92f461",
   "metadata": {},
   "outputs": [
    {
     "data": {
      "text/html": [
       "<table border=\"1\" class=\"dataframe\">\n",
       "  <thead>\n",
       "    <tr style=\"text-align: right;\">\n",
       "      <th>Contract Title</th>\n",
       "      <th>Source</th>\n",
       "      <th>Summary</th>\n",
       "      <th>Short Description</th>\n",
       "    </tr>\n",
       "  </thead>\n",
       "  <tbody>\n",
       "    <tr>\n",
       "      <td>Contract Title\n",
       "2906  Business Analysis Services for Project Kaartdijin</td>\n",
       "      <td>Business Analysis Services for Project KaartdijinBusiness Analysis Services for Project Kaartdijin</td>\n",
       "      <td>Business Analysis Services for Project Kaartdijin, a joint venture between the Chinese government and the state-owned oil giant Rosneft.</td>\n",
       "      <td>Business Analysis Services for Project Kaartdijin</td>\n",
       "    </tr>\n",
       "  </tbody>\n",
       "</table>"
      ],
      "text/plain": [
       "<IPython.core.display.HTML object>"
      ]
     },
     "metadata": {},
     "output_type": "display_data"
    }
   ],
   "source": [
    "compare_summary(\"ED210320\", display_short_description = True)"
   ]
  },
  {
   "cell_type": "code",
   "execution_count": 17,
   "id": "f5a55509-c6d9-48d5-b2a2-f55c98971d68",
   "metadata": {},
   "outputs": [
    {
     "data": {
      "text/plain": [
       "array([[0.72754616, 0.9449181 ]], dtype=float32)"
      ]
     },
     "execution_count": 17,
     "metadata": {},
     "output_type": "execute_result"
    }
   ],
   "source": [
    "from sklearn.metrics.pairwise import cosine_similarity\n",
    "from TendersWA.Models import Embedding_Model as em\n",
    "model = em.Sentence_transformer()\n",
    "summ = summary_map[\"ED210320\"]\n",
    "cosine_similarity([model(summ[\"relevant\"])], [model(summ[\"summary\"]), model(summ[\"short_desc\"])])"
   ]
  },
  {
   "cell_type": "code",
   "execution_count": 126,
   "id": "3d49221a-4ae3-48e2-9621-03b1179fea1e",
   "metadata": {},
   "outputs": [
    {
     "data": {
      "text/html": [
       "<table border=\"1\" class=\"dataframe\">\n",
       "  <thead>\n",
       "    <tr style=\"text-align: right;\">\n",
       "      <th>Contract Title</th>\n",
       "      <th>Source</th>\n",
       "      <th>Summary</th>\n",
       "      <th>Short Description</th>\n",
       "    </tr>\n",
       "  </thead>\n",
       "  <tbody>\n",
       "    <tr>\n",
       "      <td>Contract Title\n",
       "3441  Provision of Property Valuation Services for the Perth Metropolitan Area</td>\n",
       "      <td>The Asset Planning and Services Directorate of the Infrastructure Division of the Department requires the specialist services of qualified and experienced Land Valuers for the Perth Metropolitan Area. F Demonstrate an understanding of the Perth Metropolitan area. Travel and Other Additional Costs Travel costs shall not be reimbursed for any valuation services undertaken in the metropolitan area, as defined by the metropolitan scheme boundary. Panel to be Established, it states that it is not mandatory for Panel Members to have knowledge of the Perth metropolitan area. Can you please clarify if it is in fact mandatory for Panel Members to have knowledge of the Perth Metropolitan Area A . It is mandatory for Panel Members to have knowledge of the Perth metropolitan area. It is not mandatory for Panel Members to have knowledge of the Perth metropolitan area. It is mandatory for Panel Members to have knowledge of the Perth metropolitan area.  Request REQUEST TITLE Provision of Property Valuation Services for the Perth Metropolitan Area REQUEST NUMBER ED CLOSING TIME PM Friday May , Western Australia ISSUED BY Director General Department of Education Table of Contents PART A REQUEST NO ED . Provision of Property Valuation Services for the Perth Metropolitan AreaProvision of Property Valuation Services for the Perth Metropolitan Area</td>\n",
       "      <td>Provision of Property Valuation Services for the Perth Metropolitan Area is a request from the Department of Education, Western Australia.</td>\n",
       "      <td>Provision of Property Valuation Services for the Perth Metropolitan Area</td>\n",
       "    </tr>\n",
       "  </tbody>\n",
       "</table>"
      ],
      "text/plain": [
       "<IPython.core.display.HTML object>"
      ]
     },
     "metadata": {},
     "output_type": "display_data"
    }
   ],
   "source": [
    "compare_summary(\"ED17105\", display_short_description = True)"
   ]
  },
  {
   "cell_type": "code",
   "execution_count": 159,
   "id": "7d0a24c2-d639-4b1a-b2dd-153f3c3922b0",
   "metadata": {},
   "outputs": [
    {
     "data": {
      "text/html": [
       "<table border=\"1\" class=\"dataframe\">\n",
       "  <thead>\n",
       "    <tr style=\"text-align: right;\">\n",
       "      <th>Contract Title</th>\n",
       "      <th>Source</th>\n",
       "      <th>Summary</th>\n",
       "      <th>Short Description</th>\n",
       "    </tr>\n",
       "  </thead>\n",
       "  <tbody>\n",
       "    <tr>\n",
       "      <td>Contract Title\n",
       "13780  Request for Quote (Request) 2019 Container Deposit Scheme Inquiry Non-alcoholic beverage price data</td>\n",
       "      <td>The Requirement The Western Australian Treasurer has asked the Economic Regulation Authority ERA to monitor and report on the prices of beverages affected by the introduction of the Container Deposit Scheme in Western Australia. A Container Deposit Scheme will be introduced in Western Australia on June . The ERA requires the Contractor to provide data on non alcoholic beverage prices For a broad range of non alcoholic beverages, including soft drinks, water and fruit juice. To understand beverage price changes attributable to the scheme the ERA will utilise difference in differences analysis and will need beverage price data. Your experience with other State Territory container deposit scheme price monitoring if any . The Container Deposit Scheme allows consumers to take empty beverage containers to a refund point to receive a cent refund. This request for quote relates to non alcoholic beverage price data. Part A Statement of Requirement Requirements Overview The Customer is seeking offers for the provision of the non alcoholic beverage price data described in this Request. Request for Quote Request Container Deposit Scheme Inquiry Non alcoholic beverage price data Reference No ERA The Customer is Economic Regulation Authority. To claim the regional content preference and to ensure that the preference is applied correctly where appropriate, businesses must be able to answer the questions set out below Request for Quote Request Container Deposit Scheme Inquiry Non alcoholic beverage price data Container Deposit Scheme Inquiry Non alcoholic beverage price data.</td>\n",
       "      <td>The Western Australian Treasurer has asked the Economic Regulation Authority (ERA) to monitor and report on the prices of beverages affected by the introduction of a Container Deposit Scheme.</td>\n",
       "      <td>Container Deposit Scheme Inquiry Non alcoholic beverage price data.</td>\n",
       "    </tr>\n",
       "  </tbody>\n",
       "</table>"
      ],
      "text/plain": [
       "<IPython.core.display.HTML object>"
      ]
     },
     "metadata": {},
     "output_type": "display_data"
    }
   ],
   "source": [
    "compare_summary(\"ERA2019152\", display_short_description = True)"
   ]
  },
  {
   "cell_type": "code",
   "execution_count": 187,
   "id": "a699f675-24ee-4b30-8d4b-ba91193dfd25",
   "metadata": {},
   "outputs": [
    {
     "name": "stdout",
     "output_type": "stream",
     "text": [
      "['HSS202210094']\n"
     ]
    }
   ],
   "source": [
    "find_random_tenders(n = 1, min_len = 400, max_len = 700)"
   ]
  },
  {
   "cell_type": "code",
   "execution_count": 188,
   "id": "2d66d58f-2c26-45ff-b023-631092894eb3",
   "metadata": {},
   "outputs": [
    {
     "data": {
      "text/html": [
       "<table border=\"1\" class=\"dataframe\">\n",
       "  <thead>\n",
       "    <tr style=\"text-align: right;\">\n",
       "      <th>Contract Title</th>\n",
       "      <th>Source</th>\n",
       "      <th>Summary</th>\n",
       "      <th>Short Description</th>\n",
       "    </tr>\n",
       "  </thead>\n",
       "  <tbody>\n",
       "    <tr>\n",
       "      <td>Contract Title\n",
       "14293  HSS202210094 - HSS Internal Audits Q1 and Q2 2022-23</td>\n",
       "      <td>HSSIA . HSSIA . VAD Application Controls Audit Access Management Logging and Monitoring Controls Review . CUAAFA QUOTE FORM PART A REQUEST FOR QUOTE CUAAFA QUOTE FORM PART B CONTRACTOR OFFER Contractor Representative s Signature CUAAFA QUOTE FORM PART C ACCEPTANCE OF OFFER Delegated Authority s Signature HSS HSS Internal Audits Q and Q To peform two internal audits as part of the approved HSS Internal Audit Plan .</td>\n",
       "      <td>HSS HSS Internal Audits Q and Q To peform two internal audits as part of the approved H SS Internal Audit Plan.</td>\n",
       "      <td>To peform two internal audits as part of the approved HSS Internal Audit Plan . HSSIA . Access Management Logging and Monitoring Controls Review . HSSIA . VAD Application Controls Audit</td>\n",
       "    </tr>\n",
       "  </tbody>\n",
       "</table>"
      ],
      "text/plain": [
       "<IPython.core.display.HTML object>"
      ]
     },
     "metadata": {},
     "output_type": "display_data"
    }
   ],
   "source": [
    "compare_summary(\"HSS202210094\", display_short_description = True)"
   ]
  }
 ],
 "metadata": {
  "kernelspec": {
   "display_name": "Python 3 (ipykernel)",
   "language": "python",
   "name": "python3"
  },
  "language_info": {
   "codemirror_mode": {
    "name": "ipython",
    "version": 3
   },
   "file_extension": ".py",
   "mimetype": "text/x-python",
   "name": "python",
   "nbconvert_exporter": "python",
   "pygments_lexer": "ipython3",
   "version": "3.10.12"
  }
 },
 "nbformat": 4,
 "nbformat_minor": 5
}
