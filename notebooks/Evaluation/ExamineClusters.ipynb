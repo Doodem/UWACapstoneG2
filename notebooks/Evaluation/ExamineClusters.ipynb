{
 "cells": [
  {
   "cell_type": "code",
   "execution_count": 8,
   "id": "34f58878-7f67-4072-bae4-dd654cf7ae05",
   "metadata": {},
   "outputs": [],
   "source": [
    "import pandas as pd\n",
    "\n",
    "from TendersWA import Panda\n",
    "structured_tenders = Panda.load_tender_uniques(\"../../data/UpdatedAgainTenders.xlsx\")\n",
    "\n",
    "# loads and combines cluster csv files into a panda data frame.\n",
    "def load_cluster_pair(clusters_fname, cluster_topics_fname):\n",
    "    def strip_bad_chars(df):\n",
    "        for index, row in df.iterrows():\n",
    "            df.at[index, \"Reference Number\"] = row[\"Reference Number\"].replace(\"[\",\"\").replace(\"]\",\"\")\n",
    "        \n",
    "    clusters = pd.read_csv(clusters_fname, dtype={\"Reference Number\": str})\n",
    "    strip_bad_chars(clusters)\n",
    "    topics = pd.read_csv(cluster_topics_fname, dtype={\"Topics\": str})\n",
    "    df = pd.merge(clusters, topics, on = \"Cluster\", how = \"left\")\n",
    "    return pd.merge(structured_tenders, df, on = \"Reference Number\")"
   ]
  },
  {
   "cell_type": "code",
   "execution_count": 9,
   "id": "f5c2aa19-6baf-461b-8b3f-906bab3b2df9",
   "metadata": {},
   "outputs": [],
   "source": [
    "bert_df = load_cluster_pair(\"../../data/clustering/bert_clusters.csv\", \"../../data/clustering/bert_cluster_topics.csv\")"
   ]
  },
  {
   "cell_type": "code",
   "execution_count": 10,
   "id": "8512da2c-78b2-416a-a089-17569e167b82",
   "metadata": {},
   "outputs": [],
   "source": [
    "sentence_transformer_df = load_cluster_pair(\"../../data/clustering/sentence_bert_clusters.csv\", \"../../data/clustering/sentence_bert_cluster_topics.csv\")"
   ]
  },
  {
   "cell_type": "code",
   "execution_count": 48,
   "id": "04fa85bb-398c-4f3e-99b6-6bd4adb6ace3",
   "metadata": {},
   "outputs": [],
   "source": [
    "from IPython.display import HTML\n",
    "def display_cluster(df, cluster):\n",
    "    subset = df.loc[df[\"Cluster\"] == cluster].reset_index()\n",
    "    cluster_topics = subset.at[0, \"Topics\"]\n",
    "    display(HTML(f\"<h4>Topics: {cluster_topics}\"))\n",
    "    Panda.pretty_print(subset[[\"Reference Number\", \"Contract Title\", \"Description\"]])"
   ]
  },
  {
   "cell_type": "code",
   "execution_count": 54,
   "id": "467668b4-8911-4a99-8477-015075635137",
   "metadata": {},
   "outputs": [
    {
     "data": {
      "text/html": [
       "<h4>Topics: deliver, articulated, licensed, loader, diesel"
      ],
      "text/plain": [
       "<IPython.core.display.HTML object>"
      ]
     },
     "metadata": {},
     "output_type": "display_data"
    },
    {
     "data": {
      "text/html": [
       "<table border=\"1\" class=\"dataframe\">\n",
       "  <thead>\n",
       "    <tr style=\"text-align: right;\">\n",
       "      <th>Reference Number</th>\n",
       "      <th>Contract Title</th>\n",
       "      <th>Description</th>\n",
       "    </tr>\n",
       "  </thead>\n",
       "  <tbody>\n",
       "    <tr>\n",
       "      <td>MCB20212210</td>\n",
       "      <td>Supply deliver one licensed Articulated :Loader diesel</td>\n",
       "      <td>Supply &amp; deliver one (1) licensed small Articulated Loader 1700Kg GVM diesel engine at Karrakatta Cemetery as er specification.</td>\n",
       "    </tr>\n",
       "    <tr>\n",
       "      <td>MCB20192009</td>\n",
       "      <td>Supply Deliver Diesel licensed loader</td>\n",
       "      <td>Supply and deliver one licensed articulated loader to Guildford Cemetery as per specification.</td>\n",
       "    </tr>\n",
       "    <tr>\n",
       "      <td>PRO5621</td>\n",
       "      <td>Palmyra Bus Depot | D&amp;C Diesel Storage Upgrades</td>\n",
       "      <td>Programmed Facility Management Pty Ltd (PFM) on behalf of Public Transport Authority (PTA) for Transperth are seeking Tenders from suitably qualified and experienced contractors to undertake the design and construction of Diesel storage upgrade at Palmyra Bus Depot. The Work includes but is not limited to ? Installation of new diesel storage and distribution system and; ? Remediation of the existing diesel storage and distribution system.</td>\n",
       "    </tr>\n",
       "    <tr>\n",
       "      <td>PTA190852</td>\n",
       "      <td>Supply and Delivery of Diesel Exhaust Fluid for the Transwa Road Coach Depot</td>\n",
       "      <td>Supply and Delivery of Diesel Exhaust Fluid for the Transwa Road Coach Depot</td>\n",
       "    </tr>\n",
       "  </tbody>\n",
       "</table>"
      ],
      "text/plain": [
       "<IPython.core.display.HTML object>"
      ]
     },
     "metadata": {},
     "output_type": "display_data"
    }
   ],
   "source": [
    "display_cluster(sentence_transformer_df, 5)"
   ]
  },
  {
   "cell_type": "code",
   "execution_count": 59,
   "id": "25a57d02-4545-45c7-8ea1-8146bad5f932",
   "metadata": {},
   "outputs": [],
   "source": [
    "def search_topics(key_words, df):\n",
    "    cluster_topics = df[[\"Cluster\", \"Topics\"]].drop_duplicates(subset = [\"Cluster\"])\n",
    "    matching_topics = []\n",
    "    matching_clusters = []\n",
    "    for index, row in cluster_topics.iterrows():\n",
    "        if key_words in row[\"Topics\"] or row[\"Topics\"] in key_words:\n",
    "            matching_topics.append(row[\"Topics\"])\n",
    "            matching_clusters.append(row[\"Cluster\"])\n",
    "    Panda.pretty_print(pd.DataFrame({\"Cluster\": matching_clusters, \"Topics\": matching_topics}))"
   ]
  },
  {
   "cell_type": "code",
   "execution_count": 62,
   "id": "508e55af-b4d2-4636-a768-e017ce27c81f",
   "metadata": {},
   "outputs": [
    {
     "data": {
      "text/html": [
       "<table border=\"1\" class=\"dataframe\">\n",
       "  <thead>\n",
       "    <tr style=\"text-align: right;\">\n",
       "      <th>Cluster</th>\n",
       "      <th>Topics</th>\n",
       "    </tr>\n",
       "  </thead>\n",
       "  <tbody>\n",
       "    <tr>\n",
       "      <td>226</td>\n",
       "      <td>hospitality, supply, prepared, food, catering</td>\n",
       "    </tr>\n",
       "    <tr>\n",
       "      <td>877</td>\n",
       "      <td>food, patient, meals, hospital, trolleys</td>\n",
       "    </tr>\n",
       "    <tr>\n",
       "      <td>885</td>\n",
       "      <td>beverage, industry, development, food, wa</td>\n",
       "    </tr>\n",
       "    <tr>\n",
       "      <td>1258</td>\n",
       "      <td>echocardiogram, pilbara, audit, safety, food</td>\n",
       "    </tr>\n",
       "    <tr>\n",
       "      <td>1100</td>\n",
       "      <td>pfd, bidfood, products, prospector, buffet</td>\n",
       "    </tr>\n",
       "  </tbody>\n",
       "</table>"
      ],
      "text/plain": [
       "<IPython.core.display.HTML object>"
      ]
     },
     "metadata": {},
     "output_type": "display_data"
    }
   ],
   "source": [
    "search_topics(\"food\", sentence_transformer_df)"
   ]
  },
  {
   "cell_type": "code",
   "execution_count": 63,
   "id": "1dc743e4-9e4e-49af-aa7b-0afeac2dd7e0",
   "metadata": {},
   "outputs": [
    {
     "data": {
      "text/html": [
       "<h4>Topics: beverage, industry, development, food, wa"
      ],
      "text/plain": [
       "<IPython.core.display.HTML object>"
      ]
     },
     "metadata": {},
     "output_type": "display_data"
    },
    {
     "data": {
      "text/html": [
       "<table border=\"1\" class=\"dataframe\">\n",
       "  <thead>\n",
       "    <tr style=\"text-align: right;\">\n",
       "      <th>Reference Number</th>\n",
       "      <th>Contract Title</th>\n",
       "      <th>Description</th>\n",
       "    </tr>\n",
       "  </thead>\n",
       "  <tbody>\n",
       "    <tr>\n",
       "      <td>JTSI2223006</td>\n",
       "      <td>Input for the WA Innovation Strategy and development of an Expression of Interest for a Venture Fund</td>\n",
       "      <td>Input for the WA Innovation Strategy and development of an Expression of Interest for a Venture Fund</td>\n",
       "    </tr>\n",
       "    <tr>\n",
       "      <td>JTSI2021042</td>\n",
       "      <td>Free Trade Agreements - WA Legislative Review</td>\n",
       "      <td>Free Trade Agreements - Legislative Review</td>\n",
       "    </tr>\n",
       "    <tr>\n",
       "      <td>DPIRD2023101</td>\n",
       "      <td>Western Australia (WA) Craft Beer Industry Development Strategy</td>\n",
       "      <td>DPIRD is seeking proposals from suitably qualified consultants to develop a Craft Beer Industry Development strategy for Western Australia. The strategy is being developed in a partnership with industry representative bodies, the Independent Brewers Association, the WA Brewers Association and the South West Brewers Alliance. The strategy will align with the national blueprint, ?Future Brew 2031? developed by the Independent Brewers Association in 2021.</td>\n",
       "    </tr>\n",
       "    <tr>\n",
       "      <td>DPIRD2022077</td>\n",
       "      <td>WA Food and Beverage Industry Group Study</td>\n",
       "      <td>The Department of Primary Industries and Regional Development (DPIRD?s) Food Industry Development Branch requires the service of a suitable Consultant to assist with the understanding of what Agrifood industry representation exists in Western Australia (WA) or has in the past. What is the gap in the market and what options survey of global peers suggestion and established best practice models may be appropriate and can succeed in the WA context.</td>\n",
       "    </tr>\n",
       "    <tr>\n",
       "      <td>DPIRD2022086</td>\n",
       "      <td>Market Research and Decision Support Tools to Assist the Export of Perishable WA Food and Beverage</td>\n",
       "      <td>Market Research and Decision Support Tools to Assist the Export of Perishable WA Food and Beverage</td>\n",
       "    </tr>\n",
       "    <tr>\n",
       "      <td>DPIRD2021088</td>\n",
       "      <td>The WA Agrifood Opportunity Review - Provision of Evidence and Insights to Demonstrate the Economic Benefits of Government Support to the WA Value Add Sector of Primary Industries</td>\n",
       "      <td>WA has historically underperformed in the level of value adding to our agricultural produce when compared against other States, and has therefore limited the economic potential and benefits of the sector. The broader Food and Beverage (F&amp;B) value add sector has been identified as a priority sector for the State (Ref: Diversify WA and Department of Primary Industries and Regional Development (DPIRD?s) Primary Industries Plan) due to its potential to create economic growth, diversification and jobs (in metro and the regions) combined with Australia?s natural comparative advantages in agricultural production, food quality and safety. The Agribusiness, Food &amp; Trade (AFT) Directorate within DPIRD is looking to work with a consultant to deliver a consolidated report which will help inform strategic direction and program design.</td>\n",
       "    </tr>\n",
       "    <tr>\n",
       "      <td>DPIRD2021082</td>\n",
       "      <td>WA Organics Industry: Opportunities, Challenges and Options for Development</td>\n",
       "      <td>WA Organics Industry: Opportunities, Challenges and Options for Development</td>\n",
       "    </tr>\n",
       "    <tr>\n",
       "      <td>DPIRD2021079</td>\n",
       "      <td>Characterisation of export markets and business development opportunities for Western Australian food and beverage manufacturers in food for health markets</td>\n",
       "      <td>Characterisation of export markets and business development opportunities for Western Australian food and beverage manufacturers in food for health markets</td>\n",
       "    </tr>\n",
       "    <tr>\n",
       "      <td>DPIRD2021045</td>\n",
       "      <td>Provision of Consultancy Services for the Development of a WA Specific Framework for the Bioenergy and Bio Products Industries</td>\n",
       "      <td>Provision of Consultancy Services for the Development of a WA Specific Framework for the Bioenergy and Bio Products Industries</td>\n",
       "    </tr>\n",
       "    <tr>\n",
       "      <td>DPIRD2021012</td>\n",
       "      <td>Sustainably Produced Food What does it mean to the End Consumer</td>\n",
       "      <td>The Department of Primary Industries and Regional Development (DPIRD) is the WA Government’s lead agency for the growth of the WA agrifood industry. The Agribusiness Food and Trade (AFT) team, within DPIRD, leads the Department’s export development and investment attraction industry support programs, in alignment with DPIRD’s Primary Industries Plan. The WA agribusiness sector contributes a gross value of production of over $10 billion, contributing over 55,000 jobs in WA. Agrifood exports account for 5% of WA exports, with 60% of export receipts derived from six (6) Asian nations. The Department’s focus is to ensure that by 2030, increasingly sophisticated, diversified and globally competitive primary industries will be making a significant contribution to creating prosperity across WA. Specifically, the Department wants to understand how sustainability will contribute to an increasingly competitive WA primary industries sector. Specifically, how can the sector maximise economic returns whilst ensuring sustainable communities and minimising environmental impacts (the three components of sustainability – economic, community, environment).</td>\n",
       "    </tr>\n",
       "    <tr>\n",
       "      <td>DPIRD2021052</td>\n",
       "      <td>Case Management Services for the MLA/DPIRD WA Premium Beef Project</td>\n",
       "      <td>Case Management Services for the MLA/DPIRD WA Premium Beef Project</td>\n",
       "    </tr>\n",
       "    <tr>\n",
       "      <td>DPIRD2020018</td>\n",
       "      <td>SECTOR GUIDES FOR WESTERN AUSTRALIA AGRI-FOOD AND SEAFOOD INVESTMENT</td>\n",
       "      <td>Sector Guides for Western Australia Agr-Food and Seafood Investment</td>\n",
       "    </tr>\n",
       "    <tr>\n",
       "      <td>PTA210810</td>\n",
       "      <td>Probity Advice to PTA/DoT/MRWA for WA Ag</td>\n",
       "      <td>Probity Advice to PTA/DoT/MRWA for WA Agricultural Supply Chain Improvement Initiative (ASCII)</td>\n",
       "    </tr>\n",
       "  </tbody>\n",
       "</table>"
      ],
      "text/plain": [
       "<IPython.core.display.HTML object>"
      ]
     },
     "metadata": {},
     "output_type": "display_data"
    }
   ],
   "source": [
    "display_cluster(sentence_transformer_df, 885)"
   ]
  },
  {
   "cell_type": "code",
   "execution_count": 74,
   "id": "b11ea750-058a-4543-942f-6e99b0d80f55",
   "metadata": {},
   "outputs": [
    {
     "data": {
      "text/plain": [
       "Cluster\n",
       "1404       86\n",
       "397        68\n",
       "1324       63\n",
       "10         60\n",
       "71         49\n",
       "           ..\n",
       "1566        1\n",
       "1392        1\n",
       "1394        1\n",
       "1852        1\n",
       "1273        1\n",
       "Name: count, Length: 2000, dtype: int64"
      ]
     },
     "execution_count": 74,
     "metadata": {},
     "output_type": "execute_result"
    }
   ],
   "source": [
    "sentence_transformer_df[[\"Cluster\"]].value_counts()"
   ]
  }
 ],
 "metadata": {
  "kernelspec": {
   "display_name": "Python 3 (ipykernel)",
   "language": "python",
   "name": "python3"
  },
  "language_info": {
   "codemirror_mode": {
    "name": "ipython",
    "version": 3
   },
   "file_extension": ".py",
   "mimetype": "text/x-python",
   "name": "python",
   "nbconvert_exporter": "python",
   "pygments_lexer": "ipython3",
   "version": "3.10.12"
  }
 },
 "nbformat": 4,
 "nbformat_minor": 5
}
