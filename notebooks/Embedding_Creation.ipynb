{
 "cells": [
  {
   "cell_type": "code",
   "execution_count": null,
   "id": "b78d9f3b-3c8b-4968-ab13-319c46607bcf",
   "metadata": {},
   "outputs": [],
   "source": [
    "# importing packages \n",
    "from TendersWA.Models import Embedding_Model as em\n",
    "import pandas as pd\n",
    "import os \n",
    "from tqdm import tqdm\n",
    "import pickle"
   ]
  },
  {
   "cell_type": "markdown",
   "id": "9788cb94-90ab-423d-ba9b-91ddb3ef226e",
   "metadata": {},
   "source": [
    "<h3>Loading data<h3>"
   ]
  },
  {
   "cell_type": "code",
   "execution_count": null,
   "id": "968e0563-80ad-494b-b21f-a8273f9e797a",
   "metadata": {},
   "outputs": [],
   "source": [
    "# load data \n",
    "structured_data = pd.read_excel(\"data/tender_postcode.xlsx\")\n",
    "structured_data = structured_data.dropna(subset=[\"Reference Number\"]).drop_duplicates('Reference Number')"
   ]
  },
  {
   "cell_type": "code",
   "execution_count": null,
   "id": "225e6983-2fca-4675-846f-35371f7a78a5",
   "metadata": {},
   "outputs": [],
   "source": [
    "# get title + descriptions \n",
    "titles = list(structured_data['Contract Title'])\n",
    "structured_descriptions =  [em.remove_html_tags(item) for item in structured_data['Description']]"
   ]
  },
  {
   "cell_type": "code",
   "execution_count": null,
   "id": "d73bd452-642a-4ca0-bcba-5afc3abbcff9",
   "metadata": {},
   "outputs": [],
   "source": [
    "# get list of reference numbers\n",
    "ref_list = list(structured_data['Reference Number'])"
   ]
  },
  {
   "cell_type": "code",
   "execution_count": null,
   "id": "008b0d4e-0f72-4a7c-abef-2eac84b6daf0",
   "metadata": {},
   "outputs": [],
   "source": [
    "# get id list for tenders that have summaries \n",
    "path = 'data/extended_summaries'\n",
    "sum_ids = [item.split(\".\")[0] for item in os.listdir(path)]"
   ]
  },
  {
   "cell_type": "markdown",
   "id": "f3e3dfa1-f1ec-4798-898e-abdcd67152dd",
   "metadata": {},
   "source": [
    "<h3>Getting Embeddings<h3>"
   ]
  },
  {
   "cell_type": "code",
   "execution_count": null,
   "id": "e86327b7-9e97-4c0a-94af-25ba279dd017",
   "metadata": {},
   "outputs": [],
   "source": [
    "model = em.Sentence_transformer()"
   ]
  },
  {
   "cell_type": "code",
   "execution_count": null,
   "id": "00c15ca5-562c-464b-8771-d83cc2d65b73",
   "metadata": {},
   "outputs": [],
   "source": [
    "embeddings_output = []\n",
    "path = 'data/extended_summaries/'\n",
    "for item in tqdm(range(len(ref_list))):\n",
    "    # check if tender has a summary from summarization model\n",
    "    if ref_list[item] in sum_ids:\n",
    "        # unpickle summary and get embedding\n",
    "        pickle_path = path + ref_list[item] + \".pickle.sum\"\n",
    "        summary = pickle.load(open(pickle_path,\"rb\"))['summary']\n",
    "        embeddings_output.append(model(titles[item] + summary ))\n",
    "    else:\n",
    "        embeddings_output.append(model(titles[item]+structured_descriptions[item]))"
   ]
  },
  {
   "cell_type": "markdown",
   "id": "7e254187-ec58-42ae-a8ba-f65e9660b919",
   "metadata": {},
   "source": [
    "<h3>Saving embeddings to .npz format<h3>"
   ]
  },
  {
   "cell_type": "code",
   "execution_count": null,
   "id": "6c5bf0cd-a180-43c4-8874-84e470430f5c",
   "metadata": {},
   "outputs": [],
   "source": [
    "np.savez('embedding_file_name.npz', *embedding_output)"
   ]
  }
 ],
 "metadata": {
  "kernelspec": {
   "display_name": "venv",
   "language": "python",
   "name": "venv"
  },
  "language_info": {
   "codemirror_mode": {
    "name": "ipython",
    "version": 3
   },
   "file_extension": ".py",
   "mimetype": "text/x-python",
   "name": "python",
   "nbconvert_exporter": "python",
   "pygments_lexer": "ipython3",
   "version": "3.9.15"
  }
 },
 "nbformat": 4,
 "nbformat_minor": 5
}
