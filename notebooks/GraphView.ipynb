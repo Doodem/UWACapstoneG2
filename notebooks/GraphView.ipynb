{
 "cells": [
  {
   "cell_type": "code",
   "execution_count": null,
   "id": "f9d940e4-d7f9-4f94-8cc5-7c7071ffd207",
   "metadata": {
    "tags": []
   },
   "outputs": [],
   "source": [
    "#from TendersWA.Graph.graph import GraphDB\n",
    "from graph import GraphDB\n",
    "import random\n",
    "import numpy as np\n",
    "import re\n",
    "import pandas as pd\n",
    "\n",
    "\n",
    "from ipywidgets import interact, widgets\n",
    "\n",
    "import pandas as pd\n",
    "from datetime import datetime"
   ]
  },
  {
   "cell_type": "code",
   "execution_count": null,
   "id": "f483eeca-69d1-451d-b164-023adb90bcdb",
   "metadata": {},
   "outputs": [],
   "source": [
    "# getting data \n",
    "date_data_path = r'../data/tender_postcode.xlsx'\n",
    "\n",
    "path = r'../data/embedding_data/'\n",
    "embedding_data = np.load(path+\"sent_transformer_embeddings.npz\")\n",
    "embedding_data = [list(embedding_data[f]) for f in embedding_data.files]\n",
    "\n",
    "tender_references_raw = ''\n",
    "tender_titles_raw = ''\n",
    "\n",
    "with open(path+'tender_references.txt', 'r') as file:\n",
    "    for line in file:\n",
    "        tender_references_raw += line\n",
    "\n",
    "# getting a few encoding errors, unlikely to be an issue\n",
    "with open(path+\"tender_titles.txt\",'r', errors = \"ignore\") as file:\n",
    "    for line in file:\n",
    "        tender_titles_raw += line\n",
    "        \n",
    "        \n",
    "for item in ['\"',\"'\",'[',']',\" \"]:\n",
    "    tender_references_raw = tender_references_raw.replace(item, \"\")\n",
    "tender_references = tender_references_raw.split(\",\")\n",
    "\n",
    "tender_titles = []\n",
    "for item in tender_titles_raw.split(\",\"):\n",
    "    tender_titles.append(re.sub(r'[\\[\\]/\\\\\\'\"]', '', item).lstrip())\n",
    "\n",
    "# load clustering data    \n",
    "topic_data = pd.read_csv(\"../data/clustering/sentence_bert_clusters.csv\")\n",
    "topic_data_list = list(topic_data['Cluster'])\n",
    "cluster_data = pd.read_csv(\"../data/clustering/sentence_bert_cluster_topics.csv\")\n",
    "topics_list = list(cluster_data['Topics'])\n",
    "\n",
    "coordinate_data = np.load(path+\"tender_coordinates.npz\")\n",
    "coordinate_data = [list(coordinate_data[f]) for f in coordinate_data]\n",
    "\n",
    "expire_dates = pd.read_excel(date_data_path)\n",
    "expire_dates = list(expire_dates['Expiry Date'])"
   ]
  },
  {
   "cell_type": "code",
   "execution_count": null,
   "id": "33fb7812-30b4-4258-a74d-6b93ea576ba1",
   "metadata": {
    "tags": []
   },
   "outputs": [],
   "source": [
    "# save to dictionary format\n",
    "embedding_dictionary = {}\n",
    "for i in range(len(tender_references)):\n",
    "    embedding_dictionary[tender_references[i]] = {\"embedding\":embedding_data[i],\"titles\":tender_titles[i],\"location\":coordinate_data[i],\"expire_date\":expire_dates[i],\"cluster\":topic_data_list[i],'topics':topics_list[topic_data_list[i]]}"
   ]
  },
  {
   "cell_type": "code",
   "execution_count": null,
   "id": "28315736-cbc0-431d-87eb-ab5804fe9d0b",
   "metadata": {},
   "outputs": [],
   "source": [
    "graph_db = GraphDB(embedding_dictionary)"
   ]
  },
  {
   "cell_type": "code",
   "execution_count": null,
   "id": "49da93b3-20f8-4a1e-a8c3-b38abadde17a",
   "metadata": {
    "tags": []
   },
   "outputs": [],
   "source": [
    "\n",
    "\n",
    "start_date = datetime(2018, 1, 1)\n",
    "end_date = datetime(2036, 1, 1)\n",
    "\n",
    "dates = pd.date_range(start_date, end_date, freq='M')\n",
    "\n",
    "options = [(date.strftime(' %b %Y '), date) for date in dates]\n",
    "index = (0, len(options)-1)\n",
    "\n",
    "selection_range_slider = widgets.SelectionRangeSlider(\n",
    "    options=options,\n",
    "    index=index,\n",
    "    description='Tender Expiration date ',\n",
    "    orientation='horizontal',\n",
    "    layout={'width': '500px'}\n",
    ")\n"
   ]
  },
  {
   "cell_type": "code",
   "execution_count": null,
   "id": "fbd4e519-be0b-4855-b609-7f67c887ebfc",
   "metadata": {},
   "outputs": [],
   "source": [
    "tender_neighbour_slider = widgets.IntSlider(value=1, min=0, max=10, step=1, description='Level of Neighbours:')\n",
    "\n",
    "reference_input = widgets.Text(value='Please enter a value', description='Reference :   ')\n",
    "number_slider = widgets.IntSlider(value=2, min=1, max=10, step=1, description='Closest Tenders:')\n",
    "distance_slider = widgets.FloatSlider(value=100, min=1, max=300, step=1, description='Max Distance:')\n",
    "\n",
    "tender_expire_slider = widgets.FloatSlider(value=100, min=1, max=300, step=1, description='Tender Expiry Month:')\n",
    "\n",
    "topics_search = widgets.Checkbox(value=False,description='topics',disabled=False,indent=False)\n",
    "topic_input = widgets.Text(value='Please enter a value', description='Enter topic number :')\n",
    "topics_search.layout.visibility, topic_input.layout.visibility = \"hidden\",'hidden'\n",
    "topics_search.layout.display,topic_input.layout.display = \"none\",\"none\"\n"
   ]
  },
  {
   "cell_type": "markdown",
   "id": "63355f4f-f2ac-44a9-bbc3-820154f962c6",
   "metadata": {},
   "source": [
    "<h2>Querying graph database by reference <h2>"
   ]
  },
  {
   "cell_type": "markdown",
   "id": "bc5d21cc-f907-4294-a28b-d98ad8b2127f",
   "metadata": {},
   "source": [
    "This section allows for querying of the graph database by reference number or reference title, along with several options for tweaking the relationships that are returned. The parameter search options are: \n",
    "\n",
    "Reference: This textbox allows you to query the database, and look at tenders that are similar to it. It accepts a reference id, or reference title. \n",
    "\n",
    "Closest Tenders: This slider allows you to specify the n closest tenders to include in the map view or network view. \n",
    "\n",
    "Max Distance: This slide allows you to restrict which tenders are included in the query results by the distance in kilometres. \n",
    "\n",
    "Level of Neighbours: This slider allows you to include the neighbours of nodes similar to your id or title entered in the reference textbox, increasing the value of the slider increases the level of neighbours to travel down\n",
    "\n",
    "\n"
   ]
  },
  {
   "cell_type": "code",
   "execution_count": null,
   "id": "631dbe1d-b4ea-48c2-b01f-cfa71e668e4c",
   "metadata": {
    "tags": []
   },
   "outputs": [],
   "source": [
    "\n",
    "interact(graph_db.query_and_display, reference=reference_input, num_nodes=number_slider, max_distance=distance_slider,expire_date=selection_range_slider,neighbours = tender_neighbour_slider,topic=topic_input,topic_box=topics_search)"
   ]
  },
  {
   "cell_type": "markdown",
   "id": "eb8dc5dc-6c44-4fa4-8bf1-343eba54aa74",
   "metadata": {},
   "source": [
    "<h2>Querying graph database by topic number<h2>"
   ]
  },
  {
   "cell_type": "markdown",
   "id": "3810078c-58e1-4f2a-ae49-7a1ef082ee5e",
   "metadata": {},
   "source": [
    "This section allows you to search for tenders by topic similarity. There is only one interactable element here, the topic number textbox. Enter a topic number to see all tenders that are included under that topic."
   ]
  },
  {
   "cell_type": "code",
   "execution_count": null,
   "id": "e4374677-cc2b-451d-8874-cf4657777824",
   "metadata": {},
   "outputs": [],
   "source": [
    "topics_search = widgets.Checkbox(value=True,description='topics',disabled=False,indent=False)\n",
    "topic_input = widgets.Text(value='Please enter a value', description='topic number :')\n",
    "topics_search.layout.display = 'none'\n",
    "selection_range_slider.layout.display, tender_neighbour_slider.layout.visibility, reference_input.layout.visibility,number_slider.layout.visibility,distance_slider.layout.visibility,tender_expire_slider.layout.visibility = \"hidden\",'hidden','hidden','hidden','hidden','hidden'\n",
    "selection_range_slider.layout.display,tender_neighbour_slider.layout.display, reference_input.layout.display,number_slider.layout.display,distance_slider.layout.display,tender_expire_slider.layout.display = \"none\",\"none\",\"none\",\"none\",\"none\",\"none\",\n",
    "\n",
    "\n",
    "interact(graph_db.query_and_display, reference=reference_input, num_nodes=number_slider, max_distance=distance_slider,expire_date=selection_range_slider,neighbours = tender_neighbour_slider,topic=topic_input,topic_box=topics_search)"
   ]
  },
  {
   "cell_type": "code",
   "execution_count": null,
   "id": "1b0ec021-855b-4ce4-a19b-2437830447b3",
   "metadata": {},
   "outputs": [],
   "source": []
  }
 ],
 "metadata": {
  "kernelspec": {
   "display_name": "Python 3 (ipykernel)",
   "language": "python",
   "name": "python3"
  },
  "language_info": {
   "codemirror_mode": {
    "name": "ipython",
    "version": 3
   },
   "file_extension": ".py",
   "mimetype": "text/x-python",
   "name": "python",
   "nbconvert_exporter": "python",
   "pygments_lexer": "ipython3",
   "version": "3.9.15"
  }
 },
 "nbformat": 4,
 "nbformat_minor": 5
}
