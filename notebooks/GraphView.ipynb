{
 "cells": [
  {
   "cell_type": "code",
   "execution_count": 1,
   "id": "f9d940e4-d7f9-4f94-8cc5-7c7071ffd207",
   "metadata": {
    "tags": []
   },
   "outputs": [
    {
     "name": "stderr",
     "output_type": "stream",
     "text": [
      "[nltk_data] Downloading package wordnet to /home/max/nltk_data...\n",
      "[nltk_data]   Package wordnet is already up-to-date!\n",
      "[nltk_data] Downloading package punkt to /home/max/nltk_data...\n",
      "[nltk_data]   Package punkt is already up-to-date!\n",
      "[nltk_data] Downloading package averaged_perceptron_tagger to\n",
      "[nltk_data]     /home/max/nltk_data...\n",
      "[nltk_data]   Package averaged_perceptron_tagger is already up-to-\n",
      "[nltk_data]       date!\n"
     ]
    }
   ],
   "source": [
    "from TendersWA.Graph.graph import GraphDB\n",
    "from TendersWA.Models import Embedding_Model as em\n",
    "import random\n",
    "import numpy as np\n",
    "import re\n",
    "import pandas as pd"
   ]
  },
  {
   "cell_type": "code",
   "execution_count": 2,
   "id": "645fde73-793b-45e6-a623-78f3cfbffc60",
   "metadata": {},
   "outputs": [],
   "source": [
    "model = em.Sentence_transformer()"
   ]
  },
  {
   "cell_type": "code",
   "execution_count": 9,
   "id": "f483eeca-69d1-451d-b164-023adb90bcdb",
   "metadata": {},
   "outputs": [],
   "source": [
    "# getting data \n",
    "date_data_path = r'../data/tender_postcode.xlsx'\n",
    "\n",
    "path = r'../data/embedding_data/'\n",
    "embedding_data = np.load(path+\"sent_transformer_embeddings.npz\")\n",
    "embedding_data = [list(embedding_data[f]) for f in embedding_data.files]\n",
    "\n",
    "tender_references_raw = ''\n",
    "tender_titles_raw = ''\n",
    "\n",
    "with open(path+'tender_references.txt', 'r') as file:\n",
    "    for line in file:\n",
    "        tender_references_raw += line\n",
    "\n",
    "# getting a few encoding errors, unlikely to be an issue\n",
    "with open(path+\"tender_titles.txt\",'r', errors = \"ignore\") as file:\n",
    "    for line in file:\n",
    "        tender_titles_raw += line\n",
    "        \n",
    "        \n",
    "for item in ['\"',\"'\",'[',']',\" \"]:\n",
    "    tender_references_raw = tender_references_raw.replace(item, \"\")\n",
    "tender_references = tender_references_raw.split(\",\")\n",
    "\n",
    "tender_titles = []\n",
    "for item in tender_titles_raw.split(\",\"):\n",
    "    tender_titles.append(re.sub(r'[\\[\\]/\\\\\\'\"]', '', item))\n",
    "\n",
    "coordinate_data = np.load(path+\"tender_coordinates.npz\")\n",
    "coordinate_data = [list(coordinate_data[f]) for f in coordinate_data]\n",
    "\n",
    "expire_dates = pd.read_excel(date_data_path)\n",
    "expire_dates = list(expire_dates['Expiry Date'])"
   ]
  },
  {
   "cell_type": "code",
   "execution_count": 10,
   "id": "33fb7812-30b4-4258-a74d-6b93ea576ba1",
   "metadata": {
    "tags": []
   },
   "outputs": [],
   "source": [
    "# save to dictionary format\n",
    "embedding_dictionary = {}\n",
    "for i in range(len(tender_references)):\n",
    "    embedding_dictionary[tender_references[i]] = {\"embedding\":embedding_data[i],\"titles\":tender_titles[i],\"location\":coordinate_data[i],\"expire_date\":expire_dates[i]}"
   ]
  },
  {
   "cell_type": "code",
   "execution_count": 11,
   "id": "28315736-cbc0-431d-87eb-ab5804fe9d0b",
   "metadata": {},
   "outputs": [],
   "source": [
    "graph_db = GraphDB(embedding_dictionary)"
   ]
  },
  {
   "cell_type": "code",
   "execution_count": 13,
   "id": "49da93b3-20f8-4a1e-a8c3-b38abadde17a",
   "metadata": {
    "tags": []
   },
   "outputs": [
    {
     "data": {
      "application/vnd.jupyter.widget-view+json": {
       "model_id": "313f290e884f44b9bdc7f110cc25f8d4",
       "version_major": 2,
       "version_minor": 0
      },
      "text/plain": [
       "interactive(children=(Text(value='ARA201901891', description='Enter Reference:'), IntSlider(value=2, descripti…"
      ]
     },
     "metadata": {},
     "output_type": "display_data"
    },
    {
     "data": {
      "text/plain": [
       "<function __main__.query_and_display(reference, num_nodes, max_distance, expire_date)>"
      ]
     },
     "execution_count": 13,
     "metadata": {},
     "output_type": "execute_result"
    }
   ],
   "source": [
    "import folium\n",
    "from folium import plugins\n",
    "from folium.features import DivIcon\n",
    "from ipywidgets import interact, widgets\n",
    "import networkx as nx  \n",
    "\n",
    "import pandas as pd\n",
    "from datetime import datetime\n",
    "\n",
    "start_date = datetime(2018, 1, 1)\n",
    "end_date = datetime(2036, 1, 1)\n",
    "\n",
    "dates = pd.date_range(start_date, end_date, freq='M')\n",
    "\n",
    "options = [(date.strftime(' %b %Y '), date) for date in dates]\n",
    "index = (0, len(options)-1)\n",
    "\n",
    "selection_range_slider = widgets.SelectionRangeSlider(\n",
    "    options=options,\n",
    "    index=index,\n",
    "    description='Tender Expiration date ',\n",
    "    orientation='horizontal',\n",
    "    layout={'width': '500px'}\n",
    ")\n",
    "def get_node_positions(reference, num_nodes, max_distance,date1,date2):\n",
    "    query_result = graph_db.closest(reference, num_nodes, max_distance,date1,date2)\n",
    "    \n",
    "    G = graph_db.draw_graph(query_result)\n",
    "    \n",
    "    return nx.get_node_attributes(G, \"location\"), nx.get_edge_attributes(G,\"similarity\")\n",
    "\n",
    "def create_map(map_center):\n",
    "    m = folium.Map(location=map_center, zoom_start=5)\n",
    "    return m\n",
    "\n",
    "def query_and_display(reference, num_nodes, max_distance,expire_date):\n",
    "    edge_text_group = folium.FeatureGroup()\n",
    "    node_positions,node_similarity = get_node_positions(reference, num_nodes, max_distance,expire_date[0],expire_date[1])\n",
    "    map_center = node_positions[reference]    \n",
    "    \n",
    "    # create map with centered on reference \n",
    "    m = create_map(map_center)\n",
    "    \n",
    "    # add markers for ref positions on map\n",
    "    for ref,position in node_positions.items():\n",
    "        title = graph_db.data[ref]['titles']\n",
    "        # plot ref marker\n",
    "        folium.CircleMarker(location=position,popup=title,fill_color='blue').add_to(m)\n",
    "        \n",
    "        # plot ref label\n",
    "        folium.Marker(location=position,popup=reference,icon=DivIcon(\n",
    "        icon_size=(150,36),\n",
    "        icon_anchor=(0,0),\n",
    "        html=f'<div style=\"font-size: 12pt\">{ref}</div>',\n",
    "        )).add_to(m)\n",
    "        \n",
    "        if ref != reference:\n",
    "            edge = folium.PolyLine([node_positions[reference],position],popup=str(node_similarity[(reference, ref)]))\n",
    "            edge.add_to(m)\n",
    "            edge_text = plugins.PolyLineTextPath(edge,text = str(node_similarity[(reference, ref)]),center=True,attributes={'fill': '007DEF', 'font-weight': 'bold', 'font-size': '24'})\n",
    "            edge_text_group.add_child(edge_text)\n",
    "            \n",
    "      \n",
    "    m.add_child(edge_text_group)\n",
    "\n",
    "    display(m)\n",
    "\n",
    "reference_input = widgets.Text(value='ARA201901891', description='Enter Reference:')\n",
    "number_slider = widgets.IntSlider(value=2, min=1, max=10, step=1, description='Closest Tenders:')\n",
    "distance_slider = widgets.FloatSlider(value=100, min=1, max=300, step=1, description='Max Distance:')\n",
    "tender_expire_slider = widgets.FloatSlider(value=100, min=1, max=300, step=1, description='Tender Expiry Month:')\n",
    "interact(query_and_display, reference=reference_input, num_nodes=number_slider, max_distance=distance_slider,expire_date=selection_range_slider)"
   ]
  },
  {
   "cell_type": "code",
   "execution_count": null,
   "id": "9c8a74de-25fb-45de-a161-e5754b6de48d",
   "metadata": {},
   "outputs": [],
   "source": []
  }
 ],
 "metadata": {
  "kernelspec": {
   "display_name": "Python 3 (ipykernel)",
   "language": "python",
   "name": "python3"
  },
  "language_info": {
   "codemirror_mode": {
    "name": "ipython",
    "version": 3
   },
   "file_extension": ".py",
   "mimetype": "text/x-python",
   "name": "python",
   "nbconvert_exporter": "python",
   "pygments_lexer": "ipython3",
   "version": "3.10.12"
  }
 },
 "nbformat": 4,
 "nbformat_minor": 5
}
