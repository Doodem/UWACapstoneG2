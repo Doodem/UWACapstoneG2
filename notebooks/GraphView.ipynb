{
 "cells": [
  {
   "cell_type": "code",
   "execution_count": null,
   "id": "f9d940e4-d7f9-4f94-8cc5-7c7071ffd207",
   "metadata": {
    "tags": []
   },
   "outputs": [],
   "source": [
    "from TendersWA.Graph.graph import GraphDB\n",
    "import random\n",
    "import numpy as np\n",
    "import re\n",
    "import pandas as pd\n",
    "\n",
    "\n",
    "from ipywidgets import interact, widgets\n",
    "\n",
    "import pandas as pd\n",
    "from datetime import datetime"
   ]
  },
  {
   "cell_type": "code",
   "execution_count": null,
   "id": "f483eeca-69d1-451d-b164-023adb90bcdb",
   "metadata": {},
   "outputs": [],
   "source": [
    "# getting data \n",
    "date_data_path = r'../data/tender_postcode.xlsx'\n",
    "\n",
    "path = r'../data/embedding_data/'\n",
    "embedding_data = np.load(path+\"sent_transformer_embeddings.npz\")\n",
    "embedding_data = [list(embedding_data[f]) for f in embedding_data.files]\n",
    "\n",
    "tender_references_raw = ''\n",
    "tender_titles_raw = ''\n",
    "\n",
    "with open(path+'tender_references.txt', 'r') as file:\n",
    "    for line in file:\n",
    "        tender_references_raw += line\n",
    "\n",
    "# getting a few encoding errors, unlikely to be an issue\n",
    "with open(path+\"tender_titles.txt\",'r', errors = \"ignore\") as file:\n",
    "    for line in file:\n",
    "        tender_titles_raw += line\n",
    "        \n",
    "        \n",
    "for item in ['\"',\"'\",'[',']',\" \"]:\n",
    "    tender_references_raw = tender_references_raw.replace(item, \"\")\n",
    "tender_references = tender_references_raw.split(\",\")\n",
    "\n",
    "tender_titles = []\n",
    "for item in tender_titles_raw.split(\",\"):\n",
    "    tender_titles.append(re.sub(r'[\\[\\]/\\\\\\'\"]', '', item).lstrip())\n",
    "\n",
    "# load clustering data    \n",
    "topic_data = pd.read_csv(\"../data/clustering/sentence_bert_clusters.csv\")\n",
    "topic_data_list = list(topic_data['Cluster'])\n",
    "cluster_data = pd.read_csv(\"../data/clustering/sentence_bert_cluster_topics.csv\")\n",
    "topics_list = list(cluster_data['Topics'])\n",
    "\n",
    "coordinate_data = np.load(path+\"tender_coordinates.npz\")\n",
    "coordinate_data = [list(coordinate_data[f]) for f in coordinate_data]\n",
    "\n",
    "expire_dates = pd.read_excel(date_data_path)\n",
    "expire_dates = list(expire_dates['Expiry Date'])"
   ]
  },
  {
   "cell_type": "code",
   "execution_count": null,
   "id": "33fb7812-30b4-4258-a74d-6b93ea576ba1",
   "metadata": {
    "tags": []
   },
   "outputs": [],
   "source": [
    "# save to dictionary format\n",
    "embedding_dictionary = {}\n",
    "for i in range(len(tender_references)):\n",
    "    embedding_dictionary[tender_references[i]] = {\"embedding\":embedding_data[i],\"titles\":tender_titles[i],\"location\":coordinate_data[i],\"expire_date\":expire_dates[i],\"cluster\":topic_data_list[i],'topics':topics_list[topic_data_list[i]]}"
   ]
  },
  {
   "cell_type": "code",
   "execution_count": null,
   "id": "28315736-cbc0-431d-87eb-ab5804fe9d0b",
   "metadata": {},
   "outputs": [],
   "source": [
    "graph_db = GraphDB(embedding_dictionary)"
   ]
  },
  {
   "cell_type": "code",
   "execution_count": null,
   "id": "49da93b3-20f8-4a1e-a8c3-b38abadde17a",
   "metadata": {
    "tags": []
   },
   "outputs": [],
   "source": [
    "\n",
    "\n",
    "start_date = datetime(2018, 1, 1)\n",
    "end_date = datetime(2036, 1, 1)\n",
    "\n",
    "dates = pd.date_range(start_date, end_date, freq='M')\n",
    "\n",
    "options = [(date.strftime(' %b %Y '), date) for date in dates]\n",
    "index = (0, len(options)-1)\n",
    "\n",
    "selection_range_slider = widgets.SelectionRangeSlider(\n",
    "    options=options,\n",
    "    index=index,\n",
    "    description='Tender Expiration date ',\n",
    "    orientation='horizontal',\n",
    "    layout={'width': '500px'}\n",
    ")\n"
   ]
  },
  {
   "cell_type": "code",
   "execution_count": null,
   "id": "631dbe1d-b4ea-48c2-b01f-cfa71e668e4c",
   "metadata": {
    "tags": []
   },
   "outputs": [],
   "source": [
    "\n",
    "reference_input = widgets.Text(value='Please enter a value', description='Enter Reference :')\n",
    "number_slider = widgets.IntSlider(value=2, min=1, max=10, step=1, description='Closest Tenders:')\n",
    "distance_slider = widgets.FloatSlider(value=100, min=1, max=300, step=1, description='Max Distance:')\n",
    "tender_expire_slider = widgets.FloatSlider(value=100, min=1, max=300, step=1, description='Tender Expiry Month:')\n",
    "tender_neighbour_slider = widgets.IntSlider(value=1, min=0, max=10, step=1, description='Level of Neighbours:')\n",
    "\n",
    "topics_search = widgets.Checkbox(value=False,description='topics',disabled=False,indent=False)\n",
    "topic_input = widgets.Text(value='Please enter a value', description='Enter topic number :')\n",
    "\n",
    "\n",
    "interact(graph_db.query_and_display, reference=reference_input, num_nodes=number_slider, max_distance=distance_slider,expire_date=selection_range_slider,topic=topic_input,topic_box=topics_search,neighbours = tender_neighbour_slider)"
   ]
  }
 ],
 "metadata": {
  "kernelspec": {
   "display_name": "Python 3 (ipykernel)",
   "language": "python",
   "name": "python3"
  },
  "language_info": {
   "codemirror_mode": {
    "name": "ipython",
    "version": 3
   },
   "file_extension": ".py",
   "mimetype": "text/x-python",
   "name": "python",
   "nbconvert_exporter": "python",
   "pygments_lexer": "ipython3",
   "version": "3.9.15"
  }
 },
 "nbformat": 4,
 "nbformat_minor": 5
}
