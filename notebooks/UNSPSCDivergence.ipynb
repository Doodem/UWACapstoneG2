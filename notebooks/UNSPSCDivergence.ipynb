{
 "cells": [
  {
   "cell_type": "code",
   "execution_count": 2,
   "id": "78ecbcfd",
   "metadata": {},
   "outputs": [],
   "source": [
    "import numpy as np\n",
    "\n",
    "# Load the NPZ file\n",
    "data = np.load('../data/embedding_data/unspsc_embeddings.npz')\n",
    "unspsc_data = [data[f] for f in data.files]"
   ]
  },
  {
   "cell_type": "code",
   "execution_count": 3,
   "id": "69fb632a",
   "metadata": {},
   "outputs": [],
   "source": [
    "import pickle\n",
    "\n",
    "# Open the .pickle file for reading\n",
    "with open('../data/embedding_data/unspsc_title_list.pickle', 'rb') as file:\n",
    "    unspsc_titles = pickle.load(file)"
   ]
  },
  {
   "cell_type": "code",
   "execution_count": 4,
   "id": "42cbb85f-8c9a-4825-8cbf-b4a6a9c38fa6",
   "metadata": {
    "tags": []
   },
   "outputs": [],
   "source": [
    "import pandas as pd\n",
    "unspsc_pd = pd.DataFrame({\"UNSPSC Title\": unspsc_titles, \"unspsc_emb\": unspsc_data})"
   ]
  },
  {
   "cell_type": "code",
   "execution_count": 5,
   "id": "1c5a5454-38ec-493e-bb85-c45869d5292c",
   "metadata": {
    "tags": []
   },
   "outputs": [],
   "source": [
    "from TendersWA.Preprocessing import Text as text\n",
    "import pandas as pd\n",
    "\n",
    "tenders_structured_path = r\"../data/UpdatedAgainTenders.xlsx\"\n",
    "\n",
    "tenders_structured = pd.read_excel(tenders_structured_path, dtype={\"Reference Number\": str})\n",
    "tenders_structured = tenders_structured[[\"Reference Number\", \"Contract Title\", \"Description\", \"UNSPSC Title\"]].dropna(subset=[\"Reference Number\"]).drop_duplicates(subset=[\"Reference Number\"])\n",
    "\n",
    "docs = []\n",
    "for index, row in tenders_structured.iterrows():\n",
    "    title = row[\"Contract Title\"]\n",
    "    desc = text.remove_html_tags(row[\"Description\"])\n",
    "    tenders_structured.at[index, \"Description\"] = desc\n",
    "    docs.append(title + \". \" + desc)"
   ]
  },
  {
   "cell_type": "code",
   "execution_count": 6,
   "id": "0ba322a7-04a5-47bd-9630-e79e9ea12df1",
   "metadata": {
    "tags": []
   },
   "outputs": [],
   "source": [
    "import numpy\n",
    "st_embs = numpy.load(\"../data/embedding_data/sent_transformer_embeddings.npz\")\n",
    "st_embs = [st_embs[f] for f in st_embs.files]\n",
    "\n",
    "tender_refs = open(\"../data/embedding_data/tender_references.txt\", \"r\")\n",
    "content = \"\"\n",
    "for line in tender_refs:\n",
    "    content = line\n",
    "    break\n",
    "    \n",
    "content = content.replace(\"[\", \"\")\n",
    "content = content.replace(\"'\", \"\")\n",
    "content = content.replace(\",\", \"\")\n",
    "content = content.replace(\"]\", \"\")\n",
    "refs = content.split(\" \")"
   ]
  },
  {
   "cell_type": "code",
   "execution_count": 7,
   "id": "e4c9bd0b-8723-4bf5-959a-a158883f3474",
   "metadata": {
    "tags": []
   },
   "outputs": [],
   "source": [
    "embeddings = pd.DataFrame({\"Reference Number\": refs, \"embedding\": st_embs})"
   ]
  },
  {
   "cell_type": "code",
   "execution_count": 8,
   "id": "e9c4baae-fb34-439e-be72-b6f296492a19",
   "metadata": {
    "tags": []
   },
   "outputs": [],
   "source": [
    "combined = pd.merge(tenders_structured, unspsc_pd, on = \"UNSPSC Title\", how = \"left\")\n",
    "combined = pd.merge(combined, embeddings, on = \"Reference Number\", how = \"left\")\n",
    "combined = combined.reset_index(drop=True)"
   ]
  },
  {
   "cell_type": "code",
   "execution_count": 9,
   "id": "a8753558-a505-4413-80fc-ec807a47e024",
   "metadata": {
    "tags": []
   },
   "outputs": [],
   "source": [
    "#unpack arrays \n",
    "unspsc_emb_np = combined[[\"unspsc_emb\"]].values\n",
    "unspsc_emb_np = np.block([[unpacked[0]] for unpacked in unspsc_emb_np])\n",
    "emb_np = combined[[\"embedding\"]].values\n",
    "emb_np = np.block([[unpacked[0]] for unpacked in emb_np])"
   ]
  },
  {
   "cell_type": "code",
   "execution_count": 10,
   "id": "e230f286-a4ad-4050-971e-f0424d5f078c",
   "metadata": {
    "tags": []
   },
   "outputs": [
    {
     "name": "stdout",
     "output_type": "stream",
     "text": [
      "(20619, 768)\n",
      "(20619, 768)\n"
     ]
    }
   ],
   "source": [
    "print(np.shape(unspsc_emb_np))\n",
    "print(np.shape(emb_np))"
   ]
  },
  {
   "cell_type": "code",
   "execution_count": 11,
   "id": "799df5bb-8130-45d6-9f56-d13d390be5ff",
   "metadata": {
    "tags": []
   },
   "outputs": [],
   "source": [
    "from sklearn.metrics.pairwise import cosine_similarity\n",
    "unspsc_emb_dist = cosine_similarity(unspsc_emb_np)"
   ]
  },
  {
   "cell_type": "code",
   "execution_count": 12,
   "id": "9ddc9cb2-08c5-4d9a-acd7-690541889224",
   "metadata": {
    "tags": []
   },
   "outputs": [],
   "source": [
    "emb_dist = cosine_similarity(emb_np)"
   ]
  },
  {
   "cell_type": "code",
   "execution_count": 13,
   "id": "417e4700-d50f-4f43-8087-1c010156cb94",
   "metadata": {
    "tags": []
   },
   "outputs": [],
   "source": [
    "divergence = unspsc_emb_dist - emb_dist"
   ]
  },
  {
   "cell_type": "code",
   "execution_count": 14,
   "id": "6585f499-ce3a-4c5d-bf97-cc42383bb79a",
   "metadata": {
    "tags": []
   },
   "outputs": [],
   "source": [
    "divergence_argsorted = np.argsort(divergence, axis = None)"
   ]
  },
  {
   "cell_type": "code",
   "execution_count": 19,
   "id": "a5c2e90f-4716-4d1e-bf79-889e175f413b",
   "metadata": {
    "tags": []
   },
   "outputs": [],
   "source": [
    "from TendersWA import Panda\n",
    "  \n",
    "def display_tender_from_div_i(i):\n",
    "    emb_d = np.shape(emb_np)[0]\n",
    "    row = i % emb_d\n",
    "    col = i // emb_d\n",
    "    Panda.pretty_print(combined.loc[[row,col]][[\"Reference Number\", \"Contract Title\", \"UNSPSC Title\", \"Description\"]])\n",
    "    display(HTML(f\"<h4>Divergence: {divergence[row, col]}</h4>\"))"
   ]
  },
  {
   "cell_type": "code",
   "execution_count": 20,
   "id": "ba09d47a-2938-492d-811d-0658a02fd05a",
   "metadata": {
    "tags": []
   },
   "outputs": [
    {
     "data": {
      "text/html": [
       "<table border=\"1\" class=\"dataframe\">\n",
       "  <thead>\n",
       "    <tr style=\"text-align: right;\">\n",
       "      <th>Reference Number</th>\n",
       "      <th>Contract Title</th>\n",
       "      <th>UNSPSC Title</th>\n",
       "      <th>Description</th>\n",
       "    </tr>\n",
       "  </thead>\n",
       "  <tbody>\n",
       "    <tr>\n",
       "      <td>HW20002</td>\n",
       "      <td>Building social and emotional wellbeing through the arts</td>\n",
       "      <td>Management advisory services</td>\n",
       "      <td>Building social and emotional wellbeing through the arts</td>\n",
       "    </tr>\n",
       "    <tr>\n",
       "      <td>MHC793</td>\n",
       "      <td>Operational Model Review</td>\n",
       "      <td>Management advisory services</td>\n",
       "      <td>Operational Model review for MHC</td>\n",
       "    </tr>\n",
       "  </tbody>\n",
       "</table>"
      ],
      "text/plain": [
       "<IPython.core.display.HTML object>"
      ]
     },
     "metadata": {},
     "output_type": "display_data"
    },
    {
     "data": {
      "text/html": [
       "<h4>Divergence: 1.1557170152664185</h4>"
      ],
      "text/plain": [
       "<IPython.core.display.HTML object>"
      ]
     },
     "metadata": {},
     "output_type": "display_data"
    }
   ],
   "source": [
    "display_tender_from_div_i(divergence_argsorted[-1])"
   ]
  },
  {
   "cell_type": "code",
   "execution_count": 17,
   "id": "f6a2c291-a587-42d0-a4a5-8c975640267c",
   "metadata": {
    "tags": []
   },
   "outputs": [],
   "source": [
    "flattened_divs = divergence.flatten()"
   ]
  },
  {
   "cell_type": "code",
   "execution_count": 18,
   "id": "939a9197-a645-4b09-8082-0f370d09a7d4",
   "metadata": {
    "tags": []
   },
   "outputs": [
    {
     "data": {
      "image/png": "[encoded data removed]",
      "text/plain": [
       "<Figure size 800x400 with 1 Axes>"
      ]
     },
     "metadata": {},
     "output_type": "display_data"
    }
   ],
   "source": [
    "import matplotlib.pyplot as plt\n",
    "plt.figure(figsize=(8,4))\n",
    "plt.hist(flattened_divs, density = True, bins = 100)\n",
    "plt.xlabel(\"Divergence\")\n",
    "plt.ylabel(\"Density\")\n",
    "plt.show()"
   ]
  },
  {
   "cell_type": "code",
   "execution_count": 30,
   "id": "7094fda3-2ca3-4966-8cd8-65e767372f69",
   "metadata": {},
   "outputs": [
    {
     "data": {
      "text/plain": [
       "-0.06961581"
      ]
     },
     "execution_count": 30,
     "metadata": {},
     "output_type": "execute_result"
    }
   ],
   "source": [
    "min(emb_dist[6])"
   ]
  }
 ],
 "metadata": {
  "kernelspec": {
   "display_name": "Python 3 (ipykernel)",
   "language": "python",
   "name": "python3"
  },
  "language_info": {
   "codemirror_mode": {
    "name": "ipython",
    "version": 3
   },
   "file_extension": ".py",
   "mimetype": "text/x-python",
   "name": "python",
   "nbconvert_exporter": "python",
   "pygments_lexer": "ipython3",
   "version": "3.10.12"
  }
 },
 "nbformat": 4,
 "nbformat_minor": 5
}
