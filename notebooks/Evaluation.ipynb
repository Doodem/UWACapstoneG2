{
 "cells": [
  {
   "cell_type": "code",
   "execution_count": 1,
   "id": "c14523b0-19db-4b7c-b64e-bcf430b82d5b",
   "metadata": {},
   "outputs": [
    {
     "ename": "ModuleNotFoundError",
     "evalue": "No module named 'TendersWA'",
     "output_type": "error",
     "traceback": [
      "\u001b[0;31m---------------------------------------------------------------------------\u001b[0m",
      "\u001b[0;31mModuleNotFoundError\u001b[0m                       Traceback (most recent call last)",
      "Cell \u001b[0;32mIn[1], line 1\u001b[0m\n\u001b[0;32m----> 1\u001b[0m \u001b[38;5;28;01mfrom\u001b[39;00m \u001b[38;5;21;01mTendersWA\u001b[39;00m \u001b[38;5;28;01mimport\u001b[39;00m Evaluation \u001b[38;5;28;01mas\u001b[39;00m \u001b[38;5;28meval\u001b[39m\n\u001b[1;32m      2\u001b[0m \u001b[38;5;28;01mimport\u001b[39;00m \u001b[38;5;21;01mTendersWA\u001b[39;00m\u001b[38;5;21;01m.\u001b[39;00m\u001b[38;5;21;01mPreprocessing\u001b[39;00m\u001b[38;5;21;01m.\u001b[39;00m\u001b[38;5;21;01mText\u001b[39;00m \u001b[38;5;28;01mas\u001b[39;00m \u001b[38;5;21;01mtext\u001b[39;00m\n",
      "\u001b[0;31mModuleNotFoundError\u001b[0m: No module named 'TendersWA'"
     ]
    }
   ],
   "source": [
    "from TendersWA import Evaluation as eval\n",
    "import TendersWA.Preprocessing.Text as text"
   ]
  },
  {
   "cell_type": "markdown",
   "id": "3caf7476-30e4-4623-87f8-e3bbadc56fd0",
   "metadata": {},
   "source": [
    "# Loading data and other preparation"
   ]
  },
  {
   "cell_type": "code",
   "execution_count": 2,
   "id": "389af12e-3407-4e26-9a19-77674f2e416d",
   "metadata": {},
   "outputs": [],
   "source": [
    "# bit of loading data\n",
    "tenders_structured_path = \"../data/UpdatedAgainTenders.xlsx\"\n",
    "import pandas as pd\n",
    "tenders_structured = pd.read_excel(tenders_structured_path).astype(str)\n",
    "tenders_structured = tenders_structured[[\"Reference Number\", \"Contract Title\", \"Description\", \"UNSPSC Title\"]].dropna(subset=[\"Reference Number\"]).drop_duplicates(subset = [\"Reference Number\"])"
   ]
  },
  {
   "cell_type": "code",
   "execution_count": 3,
   "id": "5fc3cbef-b066-478e-a9c0-a2c960463bb0",
   "metadata": {},
   "outputs": [],
   "source": [
    "# clean the descriptions.\n",
    "for index, row in tenders_structured.iterrows():\n",
    "    desc = text.remove_html_tags(row[\"Description\"])\n",
    "    tenders_structured.at[index, \"Description\"] = desc"
   ]
  },
  {
   "cell_type": "code",
   "execution_count": 4,
   "id": "adcb299b-b846-4121-93b4-c5cb10c1e38f",
   "metadata": {},
   "outputs": [],
   "source": [
    "import pandas as pd\n",
    "bert_tender_clusters = pd.read_csv(\"../data/clustering/bert_clusters.csv\", dtype={\"Reference Number\": str})\n",
    "bert_cluster_topics = pd.read_csv(\"../data/clustering/bert_cluster_topics.csv\", dtype={\"Topics\": str})\n",
    "sentence_bert_tender_clusters = pd.read_csv(\"../data/clustering/sentence_bert_clusters.csv\", dtype={\"Reference Number\": str})\n",
    "sentence_bert_cluster_topics = pd.read_csv(\"../data/clustering/sentence_bert_cluster_topics.csv\", dtype={\"Topics\": str})\n",
    "summary_tender_clusters = pd.read_csv(\"../data/clustering/summary_clusters.csv\", dtype={\"Reference Number\": str})\n",
    "summary_cluster_topics = pd.read_csv(\"../data/clustering/summary_cluster_topics.csv\", dtype={\"Topics\": str})"
   ]
  },
  {
   "cell_type": "code",
   "execution_count": 5,
   "id": "9ee692bc-9bce-4991-a0e4-4c493f06fba5",
   "metadata": {},
   "outputs": [],
   "source": [
    "# noticed issues with weird stray characters.\n",
    "def strip_bad_chars(df):\n",
    "    for index, row in df.iterrows():\n",
    "        df.at[index, \"Reference Number\"] = row[\"Reference Number\"].replace(\"[\",\"\").replace(\"]\",\"\")\n",
    "\n",
    "strip_bad_chars(bert_tender_clusters)\n",
    "strip_bad_chars(sentence_bert_tender_clusters)\n",
    "strip_bad_chars(summary_tender_clusters)"
   ]
  },
  {
   "cell_type": "code",
   "execution_count": 6,
   "id": "b244b887-c444-4231-93f3-316c4c5d80de",
   "metadata": {},
   "outputs": [],
   "source": [
    "import os\n",
    "import pickle\n",
    "\n",
    "summary_map = {}\n",
    "summary_path = \"../../data/extended_summaries/\"\n",
    "for ref in list(tenders_structured[\"Reference Number\"]):\n",
    "    sum_file = os.path.join(summary_path, f\"{ref}.pickle.sum\")\n",
    "    if os.path.exists(sum_file):\n",
    "        loaded_sum = pickle.load(open(sum_file, \"rb\"))\n",
    "        summary_map[ref] = loaded_sum"
   ]
  },
  {
   "cell_type": "code",
   "execution_count": 7,
   "id": "cdb7daba-96aa-400f-a92e-4996e19ad7ba",
   "metadata": {},
   "outputs": [],
   "source": [
    "# form unspsc clusters naturally from the titles\n",
    "unspsc_clusters = {}\n",
    "unspsc_n = 0\n",
    "tenders_structured[\"unspsc_cluster\"] = -1\n",
    "for index, row in tenders_structured.iterrows():\n",
    "    if row[\"UNSPSC Title\"] not in unspsc_clusters:\n",
    "        unspsc_clusters[row[\"UNSPSC Title\"]] = unspsc_n\n",
    "        unspsc_n += 1\n",
    "    tenders_structured.at[index, \"unspsc_cluster\"] = unspsc_clusters[row[\"UNSPSC Title\"]]"
   ]
  },
  {
   "cell_type": "code",
   "execution_count": 8,
   "id": "4ebc00de-ebf9-480b-b70d-7ed9234d2ffb",
   "metadata": {},
   "outputs": [],
   "source": [
    "# manual labels\n",
    "manual_labelled = pd.read_excel(\"../data/manual_labels.xlsx\", dtype={\"Reference Number\": str})\n",
    "manual_labelled = manual_labelled.rename(columns = {\"Content\": \"Description\", \"Unnamed: 4\": \"Topics\"})\n",
    "del manual_labelled[\"Topic\"]\n",
    "del manual_labelled[\"Processed_Content\"]\n",
    "manual_labelled = manual_labelled.astype(str)"
   ]
  },
  {
   "cell_type": "markdown",
   "id": "eb1217f6-7a2c-4732-b5f5-a5f4148b02b2",
   "metadata": {},
   "source": [
    "# Generating Evals"
   ]
  },
  {
   "cell_type": "markdown",
   "id": "9311c41e-c442-4228-bd5f-546b221bf1c6",
   "metadata": {},
   "source": [
    "## Topic Evaluation generation"
   ]
  },
  {
   "cell_type": "code",
   "execution_count": 9,
   "id": "4bd9b820-4a6e-4153-8ec6-f7d66cbefd92",
   "metadata": {},
   "outputs": [],
   "source": [
    "def join_df_with_clusters_and_topics(tender_data, tender_clusters, cluster_topics):\n",
    "    combined = pd.merge(tender_data, tender_clusters, on = \"Reference Number\", how = \"left\")\n",
    "    combined = pd.merge(combined, cluster_topics, on = \"Cluster\", how = \"left\")\n",
    "    return combined\n",
    "\n",
    "# bert score can take some time, upto 5m\n",
    "def compute_evals(combined_df, use_summaries = False):\n",
    "    references = []\n",
    "    generates = []\n",
    "    if use_summaries:\n",
    "        for index, row in combined_df.iterrows():\n",
    "            ref = row[\"Reference Number\"]\n",
    "            if ref in summary_map and summary_map[ref][\"summary\"] != None and summary_map[ref][\"summary\"] != \"\":\n",
    "                references.append(summary_map[ref][\"summary\"])\n",
    "            else:\n",
    "                references.append(row[\"Description\"])\n",
    "            generates.append(row[\"Topics\"])\n",
    "    else:\n",
    "        references = list(combined_df[\"Description\"])\n",
    "        generates = list(combined_df[\"Topics\"])\n",
    "    rogue = eval.eval_rouge(references, generates)\n",
    "    bert_precision, bert_recall, bert_f1 = eval.eval_bert_score(references, generates)\n",
    "    return rogue, bert_precision, bert_recall, bert_f1\n",
    "\n",
    "def compute_unspsc_evals(tender_data):\n",
    "    references = list(tender_data[\"Description\"])\n",
    "    generates = list(tender_data[\"UNSPSC Title\"])\n",
    "    rogue = eval.eval_rouge(references, generates)\n",
    "    bert_precision, bert_recall, bert_f1 = eval.eval_bert_score(references, generates)\n",
    "    return rogue, bert_precision, bert_recall, bert_f1"
   ]
  },
  {
   "cell_type": "code",
   "execution_count": 10,
   "id": "4f64756a-8895-4e8a-958d-8995890ab1f0",
   "metadata": {},
   "outputs": [
    {
     "name": "stderr",
     "output_type": "stream",
     "text": [
      "Some weights of RobertaModel were not initialized from the model checkpoint at roberta-large and are newly initialized: ['roberta.pooler.dense.weight', 'roberta.pooler.dense.bias']\n",
      "You should probably TRAIN this model on a down-stream task to be able to use it for predictions and inference.\n"
     ]
    }
   ],
   "source": [
    "bert_combined = join_df_with_clusters_and_topics(tenders_structured, bert_tender_clusters, bert_cluster_topics)\n",
    "bert_rogue, bert_precision, bert_recall, bert_f1 = compute_evals(bert_combined)"
   ]
  },
  {
   "cell_type": "code",
   "execution_count": 11,
   "id": "9c8f2d19-1952-4877-a91a-433b2850afca",
   "metadata": {},
   "outputs": [
    {
     "name": "stderr",
     "output_type": "stream",
     "text": [
      "Some weights of RobertaModel were not initialized from the model checkpoint at roberta-large and are newly initialized: ['roberta.pooler.dense.weight', 'roberta.pooler.dense.bias']\n",
      "You should probably TRAIN this model on a down-stream task to be able to use it for predictions and inference.\n"
     ]
    }
   ],
   "source": [
    "sentence_bert_combined = join_df_with_clusters_and_topics(tenders_structured, sentence_bert_tender_clusters, sentence_bert_cluster_topics)\n",
    "sentence_bert_rogue, sentence_bert_precision, sentence_bert_recall, sentence_bert_f1 = compute_evals(sentence_bert_combined)"
   ]
  },
  {
   "cell_type": "code",
   "execution_count": 12,
   "id": "cced5035-ac40-46aa-a2f5-87e0755bd532",
   "metadata": {},
   "outputs": [
    {
     "name": "stderr",
     "output_type": "stream",
     "text": [
      "Some weights of RobertaModel were not initialized from the model checkpoint at roberta-large and are newly initialized: ['roberta.pooler.dense.weight', 'roberta.pooler.dense.bias']\n",
      "You should probably TRAIN this model on a down-stream task to be able to use it for predictions and inference.\n"
     ]
    }
   ],
   "source": [
    "summary_combined = join_df_with_clusters_and_topics(tenders_structured, summary_tender_clusters, summary_cluster_topics)\n",
    "summary_rogue, summary_precision, summary_recall, summary_f1 = compute_evals(summary_combined, use_summaries = True)"
   ]
  },
  {
   "cell_type": "code",
   "execution_count": 13,
   "id": "3227954c-e55d-46c4-85dc-9c3ad9d6dbfe",
   "metadata": {},
   "outputs": [
    {
     "name": "stderr",
     "output_type": "stream",
     "text": [
      "Some weights of RobertaModel were not initialized from the model checkpoint at roberta-large and are newly initialized: ['roberta.pooler.dense.weight', 'roberta.pooler.dense.bias']\n",
      "You should probably TRAIN this model on a down-stream task to be able to use it for predictions and inference.\n"
     ]
    }
   ],
   "source": [
    "unspsc_rogue, unspsc_precision, unspsc_recall, unspsc_f1 = compute_unspsc_evals(tenders_structured)"
   ]
  },
  {
   "cell_type": "code",
   "execution_count": 14,
   "id": "3a3959ea-1a00-4799-abe0-e24461094c53",
   "metadata": {},
   "outputs": [
    {
     "name": "stderr",
     "output_type": "stream",
     "text": [
      "Some weights of RobertaModel were not initialized from the model checkpoint at roberta-large and are newly initialized: ['roberta.pooler.dense.weight', 'roberta.pooler.dense.bias']\n",
      "You should probably TRAIN this model on a down-stream task to be able to use it for predictions and inference.\n"
     ]
    }
   ],
   "source": [
    "manual_rogue, manual_precision, manual_recall, manual_f1 = compute_evals(manual_labelled)"
   ]
  },
  {
   "cell_type": "markdown",
   "id": "4bba72a6-f9a0-487a-8cdc-fcfa70ffed45",
   "metadata": {},
   "source": [
    "## Summary Evaluation generation"
   ]
  },
  {
   "cell_type": "code",
   "execution_count": 9,
   "id": "d17cee7f-f1f3-4758-9f81-7a33c2ac6857",
   "metadata": {},
   "outputs": [],
   "source": [
    "ref_numbers = []\n",
    "reference = []\n",
    "sd_generates = []\n",
    "summary_generates = []\n",
    "for key, value in summary_map.items():\n",
    "    if summary_map[key][\"summary\"] != None and summary_map[key][\"summary\"] != \"\":\n",
    "        ref_numbers.append(key)\n",
    "        reference.append(summary_map[key][\"relevant\"])\n",
    "        sd_generates.append(summary_map[key][\"short_desc\"])\n",
    "        summary_generates.append(summary_map[key][\"summary\"])"
   ]
  },
  {
   "cell_type": "code",
   "execution_count": 10,
   "id": "2387e14b-7091-4dc9-a22a-59fbec3ae2b5",
   "metadata": {},
   "outputs": [
    {
     "name": "stderr",
     "output_type": "stream",
     "text": [
      "Some weights of RobertaModel were not initialized from the model checkpoint at roberta-large and are newly initialized: ['roberta.pooler.dense.weight', 'roberta.pooler.dense.bias']\n",
      "You should probably TRAIN this model on a down-stream task to be able to use it for predictions and inference.\n"
     ]
    }
   ],
   "source": [
    "se_summ_rouge = eval.eval_rouge(reference, summary_generates)\n",
    "se_summ_precision, se_summ_recall, se_summ_f1 = eval.eval_bert_score(reference, summary_generates) "
   ]
  },
  {
   "cell_type": "code",
   "execution_count": 11,
   "id": "2300a36b-3287-449f-872a-c9aa2a718d65",
   "metadata": {},
   "outputs": [
    {
     "name": "stderr",
     "output_type": "stream",
     "text": [
      "Some weights of RobertaModel were not initialized from the model checkpoint at roberta-large and are newly initialized: ['roberta.pooler.dense.weight', 'roberta.pooler.dense.bias']\n",
      "You should probably TRAIN this model on a down-stream task to be able to use it for predictions and inference.\n"
     ]
    }
   ],
   "source": [
    "se_sd_rouge = eval.eval_rouge(reference, sd_generates)\n",
    "se_sd_precision, se_sd_recall, se_sd_f1 = eval.eval_bert_score(reference, sd_generates) "
   ]
  },
  {
   "cell_type": "markdown",
   "id": "959bdc30-acfd-4989-8709-a9cfbffad6f9",
   "metadata": {},
   "source": [
    "## Saving"
   ]
  },
  {
   "cell_type": "code",
   "execution_count": 6,
   "id": "fb88b378-8f35-4c51-ae00-5713a29ebb6b",
   "metadata": {},
   "outputs": [],
   "source": [
    "# will overwrite!\n",
    "def save_evals(fname, rouge, bs_precision, bs_recall, bs_f1):\n",
    "    pickle.dump({\"rouge\": rouge, \"bs_precision\": bs_precision, \"bs_recall\": bs_recall, \"bs_f1\": bs_f1}, open(fname, \"wb\"))"
   ]
  },
  {
   "cell_type": "code",
   "execution_count": 7,
   "id": "1994e392-6f3f-476d-a71d-230f24be7f09",
   "metadata": {},
   "outputs": [
    {
     "ename": "NameError",
     "evalue": "name 'se_summ_rouge' is not defined",
     "output_type": "error",
     "traceback": [
      "\u001b[0;31m---------------------------------------------------------------------------\u001b[0m",
      "\u001b[0;31mNameError\u001b[0m                                 Traceback (most recent call last)",
      "Cell \u001b[0;32mIn[7], line 1\u001b[0m\n\u001b[0;32m----> 1\u001b[0m save_evals(\u001b[38;5;124m\"\u001b[39m\u001b[38;5;124msummary_eval_summaries.cached.pickle\u001b[39m\u001b[38;5;124m\"\u001b[39m, se_summ_rouge, se_summ_precision, se_summ_recall, se_summ_f1)\n\u001b[1;32m      2\u001b[0m save_evals(\u001b[38;5;124m\"\u001b[39m\u001b[38;5;124msummary_eval_short_desc.cached.pickle\u001b[39m\u001b[38;5;124m\"\u001b[39m, se_sd_rouge, se_sd_precision, se_sd_recall, se_sd_f1)\n",
      "\u001b[0;31mNameError\u001b[0m: name 'se_summ_rouge' is not defined"
     ]
    }
   ],
   "source": [
    "save_evals(\"summary_eval_summaries.cached.pickle\", se_summ_rouge, se_summ_precision, se_summ_recall, se_summ_f1)\n",
    "save_evals(\"summary_eval_short_desc.cached.pickle\", se_sd_rouge, se_sd_precision, se_sd_recall, se_sd_f1)"
   ]
  },
  {
   "cell_type": "code",
   "execution_count": 19,
   "id": "609c73e8-951d-4dbc-866b-2af7386e39f0",
   "metadata": {},
   "outputs": [],
   "source": [
    "save_evals(\"topic_eval_bert.cached.pickle\", bert_rogue, bert_precision, bert_recall, bert_f1)\n",
    "save_evals(\"topic_eval_sentence_bert.cached.pickle\", sentence_bert_rogue, sentence_bert_precision, sentence_bert_recall, sentence_bert_f1)\n",
    "save_evals(\"topic_eval_summary.cached.pickle\", summary_rogue, summary_precision, summary_recall, summary_f1)\n",
    "save_evals(\"topic_eval_unspsc.cached.pickle\", unspsc_rogue, unspsc_precision, unspsc_recall, unspsc_f1)\n",
    "save_evals(\"topic_eval_manual.cached.pickle\", manual_rogue, manual_precision, manual_recall, manual_f1)"
   ]
  },
  {
   "cell_type": "markdown",
   "id": "401f8b71-a868-436d-8050-5a4f228dec02",
   "metadata": {},
   "source": [
    "# Cached "
   ]
  },
  {
   "cell_type": "code",
   "execution_count": 2,
   "id": "831aed36-88fc-4057-a690-661c0860bcd4",
   "metadata": {},
   "outputs": [],
   "source": [
    "import pickle\n",
    "def load_evals(fname):\n",
    "    return pickle.load(open(fname, \"rb\"))"
   ]
  },
  {
   "cell_type": "code",
   "execution_count": 3,
   "id": "2c96a480-56fe-4ebf-8b23-ccc8f6e2cbff",
   "metadata": {},
   "outputs": [],
   "source": [
    "summary_eval_summaries = load_evals(\"summary_eval_summaries.cached.pickle\")\n",
    "summary_eval_short_desc = load_evals(\"summary_eval_short_desc.cached.pickle\")"
   ]
  },
  {
   "cell_type": "code",
   "execution_count": 4,
   "id": "3ee0eaa5-83de-4da4-8dab-e7c359475b20",
   "metadata": {},
   "outputs": [],
   "source": [
    "topic_eval_bert = load_evals(\"topic_eval_bert.cached.pickle\")\n",
    "topic_eval_sentence_bert = load_evals(\"topic_eval_sentence_bert.cached.pickle\")\n",
    "topic_eval_summary = load_evals(\"topic_eval_summary.cached.pickle\")\n",
    "topic_eval_unspsc = load_evals(\"topic_eval_unspsc.cached.pickle\")\n",
    "topic_eval_manual = load_evals(\"topic_eval_manual.cached.pickle\")"
   ]
  },
  {
   "cell_type": "markdown",
   "id": "3d455197-722f-4a22-a74f-e8b8963c099f",
   "metadata": {},
   "source": [
    "# Charts"
   ]
  },
  {
   "cell_type": "code",
   "execution_count": 16,
   "id": "6066c1f8",
   "metadata": {},
   "outputs": [],
   "source": [
    "import numpy as np\n",
    "import matplotlib.pyplot as plt\n",
    "import seaborn as sns"
   ]
  },
  {
   "cell_type": "code",
   "execution_count": 21,
   "id": "75593057",
   "metadata": {},
   "outputs": [],
   "source": [
    "# short description \n",
    "# Averaging ROUGE metrics\n",
    "avg_rouge_desc = {\n",
    "    key: {\n",
    "        metric: np.mean([eval[key][metric] for eval in summary_eval_short_desc['rouge']])\n",
    "        for metric in ['p', 'r', 'f']\n",
    "    } \n",
    "    for key in ['rouge-1', 'rouge-2', 'rouge-l']\n",
    "}\n",
    "\n",
    "# Averaging BERTScore metrics\n",
    "avg_bertscore_desc = {\n",
    "    metric: np.mean(summary_eval_short_desc[metric].numpy())\n",
    "    for metric in ['bs_precision', 'bs_recall', 'bs_f1']\n",
    "}\n",
    "\n",
    "# summarization \n",
    "avg_rouge_sum = {\n",
    "    key: {\n",
    "        metric: np.mean([eval[key][metric] for eval in summary_eval_summaries['rouge']])\n",
    "        for metric in ['p', 'r', 'f']\n",
    "    } \n",
    "    for key in ['rouge-1', 'rouge-2', 'rouge-l']\n",
    "}\n",
    "\n",
    "# Averaging BERTScore metrics\n",
    "avg_bertscore_sum = {\n",
    "    metric: np.mean(summary_eval_summaries[metric].numpy())\n",
    "    for metric in ['bs_precision', 'bs_recall', 'bs_f1']\n",
    "}"
   ]
  },
  {
   "cell_type": "code",
   "execution_count": 26,
   "id": "ebb31025",
   "metadata": {},
   "outputs": [
    {
     "data": {
      "image/png": "[encoded data removed]",
      "text/plain": [
       "<Figure size 640x480 with 1 Axes>"
      ]
     },
     "metadata": {},
     "output_type": "display_data"
    }
   ],
   "source": [
    "# Data\n",
    "labels = ['ROUGE-1', 'ROUGE-2', 'ROUGE-L', 'BERTScore']\n",
    "\n",
    "# Precision values for Model 1\n",
    "model1_precisions = [\n",
    "    avg_rouge_desc['rouge-1']['p'],\n",
    "    avg_rouge_desc['rouge-2']['p'],\n",
    "    avg_rouge_desc['rouge-l']['p'],\n",
    "    avg_bertscore_desc['bs_precision']\n",
    "]\n",
    "\n",
    "# Precision values for Model 2\n",
    "model2_precisions = [\n",
    "    avg_rouge_sum['rouge-1']['p'],\n",
    "    avg_rouge_sum['rouge-2']['p'],\n",
    "    avg_rouge_sum['rouge-l']['p'],\n",
    "    avg_bertscore_sum['bs_precision']\n",
    "]\n",
    "\n",
    "# Setting up the bar positions\n",
    "barWidth = 0.3\n",
    "r1 = np.arange(len(model1_precisions))\n",
    "r2 = [x + barWidth for x in r1]\n",
    "\n",
    "# Creating the bars\n",
    "plt.bar(r1, model1_precisions, color='b', width=barWidth, edgecolor='grey', label='Short description')\n",
    "plt.bar(r2, model2_precisions, color='r', width=barWidth, edgecolor='grey', label='Summary')\n",
    "\n",
    "# Adding aesthetics\n",
    "plt.xlabel('Metrics', fontweight='bold')\n",
    "plt.xticks([r + 0.5 * barWidth for r in range(len(model1_precisions))], labels)\n",
    "plt.ylabel('Precision Value')\n",
    "plt.title('Precision Comparison between summary and short description')\n",
    "plt.legend()\n",
    "\n",
    "# Displaying the plot\n",
    "plt.tight_layout()\n",
    "plt.show()\n"
   ]
  },
  {
   "cell_type": "code",
   "execution_count": 8,
   "id": "216c5af3",
   "metadata": {},
   "outputs": [
    {
     "data": {
      "image/png": "[encoded data removed]",
      "text/plain": [
       "<Figure size 1200x800 with 1 Axes>"
      ]
     },
     "metadata": {},
     "output_type": "display_data"
    }
   ],
   "source": [
    "def extract_average_metrics(data):\n",
    "    \"\"\"Extracts average metrics from the provided data.\"\"\"\n",
    "    avg_rouge1_f1 = np.mean([entry['rouge-1']['f'] for entry in data['rouge']])\n",
    "    avg_rouge2_f1 = np.mean([entry['rouge-2']['f'] for entry in data['rouge']])\n",
    "    avg_rougel_f1 = np.mean([entry['rouge-l']['f'] for entry in data['rouge']])\n",
    "    avg_bs_f1 = np.mean(data['bs_f1'].numpy())  # Assuming you have PyTorch\n",
    "    \n",
    "    return avg_rouge1_f1, avg_rouge2_f1, avg_rougel_f1, avg_bs_f1\n",
    "\n",
    "# Extract average metrics for each method\n",
    "bert_metrics = extract_average_metrics(topic_eval_bert)\n",
    "sentence_bert_metrics = extract_average_metrics(topic_eval_sentence_bert)\n",
    "summary_metrics = extract_average_metrics(topic_eval_summary)\n",
    "unspsc_metrics = extract_average_metrics(topic_eval_unspsc)\n",
    "manual_metrics = extract_average_metrics(topic_eval_manual)\n",
    "\n",
    "# Data to plot\n",
    "n_methods = 5\n",
    "f1_scores = [bert_metrics, sentence_bert_metrics, summary_metrics, unspsc_metrics, manual_metrics]\n",
    "\n",
    "# Create a bar plot\n",
    "barWidth = 0.15\n",
    "r1 = np.arange(n_methods)\n",
    "r2 = [x + barWidth for x in r1]\n",
    "r3 = [x + 2*barWidth for x in r1]\n",
    "r4 = [x + 3*barWidth for x in r1]\n",
    "\n",
    "plt.figure(figsize=(12, 8)) \n",
    "plt.bar(r1, [score[0] for score in f1_scores], width=barWidth, edgecolor='white', label='ROUGE-1 F1')\n",
    "plt.bar(r2, [score[1] for score in f1_scores], width=barWidth, edgecolor='white', label='ROUGE-2 F1')\n",
    "plt.bar(r3, [score[2] for score in f1_scores], width=barWidth, edgecolor='white', label='ROUGE-L F1')\n",
    "plt.bar(r4, [score[3] for score in f1_scores], width=barWidth, edgecolor='white', label='BERTScore F1')\n",
    "\n",
    "# Add labels\n",
    "methods = ['BERT', 'Sentence BERT', 'Summary', 'UNSPSC', 'Manual']\n",
    "plt.xlabel('Methods', fontweight='bold')\n",
    "plt.xticks([r + 1.5*barWidth for r in range(n_methods)], methods)  # Adjusted tick positioning\n",
    "plt.legend(loc='upper left', bbox_to_anchor=(1, 1))\n",
    "\n",
    "\n",
    "# Show the plot\n",
    "plt.tight_layout()\n",
    "plt.show()\n"
   ]
  },
  {
   "cell_type": "code",
   "execution_count": null,
   "id": "8ffe7ae3",
   "metadata": {},
   "outputs": [],
   "source": []
  }
 ],
 "metadata": {
  "kernelspec": {
   "display_name": "Python 3 (ipykernel)",
   "language": "python",
   "name": "python3"
  },
  "language_info": {
   "codemirror_mode": {
    "name": "ipython",
    "version": 3
   },
   "file_extension": ".py",
   "mimetype": "text/x-python",
   "name": "python",
   "nbconvert_exporter": "python",
   "pygments_lexer": "ipython3",
   "version": "3.10.12"
  }
 },
 "nbformat": 4,
 "nbformat_minor": 5
}
