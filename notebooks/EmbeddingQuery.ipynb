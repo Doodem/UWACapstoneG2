{
 "cells": [
  {
   "cell_type": "markdown",
   "id": "861a8921-a90a-49f4-b1f2-d07a229e09fe",
   "metadata": {},
   "source": [
    "# Set up"
   ]
  },
  {
   "cell_type": "code",
   "execution_count": 2,
   "id": "0c5a2b5e",
   "metadata": {},
   "outputs": [],
   "source": [
    "from TendersWA.Models import Embedding_Model as em\n",
    "from TendersWA.Preprocessing import Text as text\n",
    "import os\n",
    "import pandas as pd\n",
    "import numpy as np"
   ]
  },
  {
   "cell_type": "code",
   "execution_count": 3,
   "id": "85eba4d3",
   "metadata": {},
   "outputs": [],
   "source": [
    "model = em.Sentence_transformer()"
   ]
  },
  {
   "cell_type": "code",
   "execution_count": 4,
   "id": "64e94220",
   "metadata": {},
   "outputs": [],
   "source": [
    "embs = np.load('../data/embedding_data/sent_transformer_embeddings.npz')\n",
    "embs = [embs[f] for f in embs.files]\n",
    "# convert into data frame\n",
    "tender_embedding_df = pd.DataFrame({\"Embedding\": embs})"
   ]
  },
  {
   "cell_type": "code",
   "execution_count": 5,
   "id": "f92f555b",
   "metadata": {},
   "outputs": [],
   "source": [
    "import pandas as pd\n",
    "tenders_structured_path = r\"../data/UpdatedAgainTenders.xlsx\"\n",
    "\n",
    "tenders_structured = pd.read_excel(tenders_structured_path, dtype={\"Reference Number\": str})\n",
    "tenders_structured = tenders_structured[[\"Reference Number\", \"Contract Title\", \"Description\"]].dropna(subset=[\"Reference Number\"]).drop_duplicates(subset=[\"Reference Number\"])\n",
    "\n",
    "# clean the descriptions.\n",
    "for index, row in tenders_structured.iterrows():\n",
    "    desc = text.remove_html_tags(row[\"Description\"])\n",
    "    tenders_structured.at[index, \"Description\"] = desc"
   ]
  },
  {
   "cell_type": "code",
   "execution_count": 6,
   "id": "8fe2d449",
   "metadata": {},
   "outputs": [],
   "source": [
    "tender_refs = open(\"../data/embedding_data/tender_references.txt\", \"r\")\n",
    "content = \"\"\n",
    "for line in tender_refs:\n",
    "    content = line\n",
    "    break\n",
    "    \n",
    "content = content.replace(\"[\", \"\")\n",
    "content = content.replace(\"'\", \"\")\n",
    "content = content.replace(\",\", \"\")\n",
    "refs = content.split(\" \")"
   ]
  },
  {
   "cell_type": "code",
   "execution_count": 7,
   "id": "e05a0994-7ff2-473e-84dd-efe691cd64e2",
   "metadata": {},
   "outputs": [],
   "source": [
    "tender_embedding_df['Reference Number'] = refs\n",
    "merged_data = tender_embedding_df.merge(tenders_structured, on=\"Reference Number\", how=\"left\")"
   ]
  },
  {
   "cell_type": "code",
   "execution_count": 24,
   "id": "30a9a931",
   "metadata": {},
   "outputs": [],
   "source": [
    "#https://arxiv.org/abs/2010.00117\n",
    "def mmr(query_emb, embs, d = 0.5, n = 10):\n",
    "    found_embs = []\n",
    "    found_embs_index = {}\n",
    "    embs_to_consider = embs.copy()\n",
    "    for i in range(0, n):\n",
    "        max_score = -1000000000\n",
    "        best_emb_index_found = -1\n",
    "        for emb_index, emb in enumerate(embs_to_consider):\n",
    "            if emb_index in found_embs_index: # skip found embeddings\n",
    "                continue\n",
    "            emb_to_query_sim  = em.cosine_sim(query_emb, emb)\n",
    "\n",
    "            max_sim_to_found_embs = 0\n",
    "            for found_emb in found_embs:\n",
    "                found_emb_to_considered_sim = em.cosine_sim(emb, found_emb)\n",
    "                if found_emb_to_considered_sim > max_sim_to_found_embs:\n",
    "                    max_sim_to_found_embs = found_emb_to_considered_sim\n",
    "            \n",
    "            score = d * emb_to_query_sim - (1 - d) * max_sim_to_found_embs\n",
    "            if score > max_score:\n",
    "                max_score = score\n",
    "                best_emb_index_found = emb_index\n",
    "        \n",
    "        # add the found emb, remove from those to consider\n",
    "        found_embs_index[best_emb_index_found] = None\n",
    "        found_embs.append(embs_to_consider[best_emb_index_found])\n",
    "    return list(found_embs_index.keys())\n",
    "\n",
    "from sklearn.metrics.pairwise import cosine_similarity\n",
    "def query_tenders(query, model, merged_data, top_k=10, algorithm = \"top\", d = 0.5):\n",
    "    # Encode the query, model needs to be the same that generated tender embeddings\n",
    "    query_embedding = model(query)\n",
    "\n",
    "    unpacked_embs = np.block([[unpacked[0]] for unpacked in merged_data[[\"Embedding\"]].values])\n",
    "    \n",
    "    found_indices = []\n",
    "    if algorithm == \"top\":\n",
    "        similarities = cosine_similarity(query_embedding.reshape(1, -1), unpacked_embs)\n",
    "        found_indices = similarities[0].argsort()[-top_k:][::-1]\n",
    "    else:\n",
    "        found_indices = mmr(query_embedding, unpacked_embs, d, top_k)\n",
    "    return merged_data.iloc[found_indices][[\"Reference Number\", \"Contract Title\", \"Description\"]]\n",
    "\n",
    "from IPython.display import HTML\n",
    "def query_and_print_tenders(query, model, merged_data, top_k=10, algorithm = \"top\", d = 0.5):\n",
    "    res_df = query_tenders(query, model, merged_data, top_k=top_k, algorithm = algorithm, d = d)\n",
    "    display(HTML(f\"<h4>Query: {query}\"))\n",
    "    Panda.pretty_print(res_df)"
   ]
  },
  {
   "cell_type": "markdown",
   "id": "ef31915b-3604-47c7-a72b-f84d0abc1638",
   "metadata": {},
   "source": [
    "# Querying "
   ]
  },
  {
   "cell_type": "code",
   "execution_count": 20,
   "id": "03f7e808",
   "metadata": {},
   "outputs": [
    {
     "data": {
      "text/html": [
       "<h4>Query: hospital plumbing"
      ],
      "text/plain": [
       "<IPython.core.display.HTML object>"
      ]
     },
     "metadata": {},
     "output_type": "display_data"
    },
    {
     "data": {
      "text/html": [
       "<table border=\"1\" class=\"dataframe\">\n",
       "  <thead>\n",
       "    <tr style=\"text-align: right;\">\n",
       "      <th>Reference Number</th>\n",
       "      <th>Contract Title</th>\n",
       "      <th>Description</th>\n",
       "    </tr>\n",
       "  </thead>\n",
       "  <tbody>\n",
       "    <tr>\n",
       "      <td>SMHS202311395</td>\n",
       "      <td>Fremantle Hospital - Hydraulic Fixture Audit and Floor Plans Update</td>\n",
       "      <td>South Metropolitan Health Service, Fremantle Hospital require a Hydraulic Water Outlets Audit to be performed, and update Floor Plans for all buildings and floors, excluding the V Block, representing 58 floors.</td>\n",
       "    </tr>\n",
       "    <tr>\n",
       "      <td>WACHS20205659</td>\n",
       "      <td>Panel Contract for Plumbing Services to WACHS Goldfields Region</td>\n",
       "      <td>WACHS Goldfields requires plumbing services across a range of clinical, administrative and residential facilities. The scope of plumbing services required includes, but is not limited to, maintenance, repairs and upgrading of: Hot and cold water services and associated fixtures; Waste water and storm water drainage assets; Reduced Pressure Zone Devices (RPZDs); Sewage pumps; Gas fired water heating equipment; and Gas cooking equipment and reticulated gas outlets.</td>\n",
       "    </tr>\n",
       "    <tr>\n",
       "      <td>WACHS202310069</td>\n",
       "      <td>Panel Contract for Plumbing Services to WA Country Health Service - South West Region</td>\n",
       "      <td>The WA Country Health Service South West (WACHS South West) is seeking offers for the provision of plumbing services at clinical, administrative and residential facilities across the South West Region to ensure continued reliable operation of plumbing services and assets. The requirement ranges from short-term emergency plumbing services (available 24/7) to larger scheduled plumbing projects involving replacement or upgrading of plumbing assets as described in this Request. Suitably qualified, experienced and licenced service providers are to provide the services required and comply with Australian Standard AS3500 Plumbing &amp; Drainage across all WACHS South West facilities.</td>\n",
       "    </tr>\n",
       "  </tbody>\n",
       "</table>"
      ],
      "text/plain": [
       "<IPython.core.display.HTML object>"
      ]
     },
     "metadata": {},
     "output_type": "display_data"
    }
   ],
   "source": [
    "query_and_print_tenders(\"hospital plumbing\", model, merged_data, top_k = 3, algorithm = \"top\")"
   ]
  },
  {
   "cell_type": "code",
   "execution_count": 27,
   "id": "8e409cc0-249d-4a13-9172-1f248191a64c",
   "metadata": {},
   "outputs": [
    {
     "data": {
      "text/html": [
       "<h4>Query: hospital plumbing"
      ],
      "text/plain": [
       "<IPython.core.display.HTML object>"
      ]
     },
     "metadata": {},
     "output_type": "display_data"
    },
    {
     "data": {
      "text/html": [
       "<table border=\"1\" class=\"dataframe\">\n",
       "  <thead>\n",
       "    <tr style=\"text-align: right;\">\n",
       "      <th>Reference Number</th>\n",
       "      <th>Contract Title</th>\n",
       "      <th>Description</th>\n",
       "    </tr>\n",
       "  </thead>\n",
       "  <tbody>\n",
       "    <tr>\n",
       "      <td>SMHS202311395</td>\n",
       "      <td>Fremantle Hospital - Hydraulic Fixture Audit and Floor Plans Update</td>\n",
       "      <td>South Metropolitan Health Service, Fremantle Hospital require a Hydraulic Water Outlets Audit to be performed, and update Floor Plans for all buildings and floors, excluding the V Block, representing 58 floors.</td>\n",
       "    </tr>\n",
       "    <tr>\n",
       "      <td>GRA20200103</td>\n",
       "      <td>Provision of Replacement Evaporative Air Conditioning Units at Graylands Hospital</td>\n",
       "      <td>North Metropolitan Health Service (NMHS) requires the removal, replacement, installation of two (2) evaporative air conditioning units located in the Frankland Gymnasium, contained within a secure facility in Graylands. Hospital.</td>\n",
       "    </tr>\n",
       "    <tr>\n",
       "      <td>WACHS20205659</td>\n",
       "      <td>Panel Contract for Plumbing Services to WACHS Goldfields Region</td>\n",
       "      <td>WACHS Goldfields requires plumbing services across a range of clinical, administrative and residential facilities. The scope of plumbing services required includes, but is not limited to, maintenance, repairs and upgrading of: Hot and cold water services and associated fixtures; Waste water and storm water drainage assets; Reduced Pressure Zone Devices (RPZDs); Sewage pumps; Gas fired water heating equipment; and Gas cooking equipment and reticulated gas outlets.</td>\n",
       "    </tr>\n",
       "    <tr>\n",
       "      <td>WACHS20194721</td>\n",
       "      <td>Patient Bathroom Conversion to Universal Access (UA) Amenities Donnybrook Hospital</td>\n",
       "      <td>WACHS-SW Infrastructure requires a contractor to convert the existing patient shower and toilets (x 2) to New Single Universal Access (UA) Shower and Toilet to comply with the latest version AS1428.1-2009 at Donnybrook Hospital</td>\n",
       "    </tr>\n",
       "    <tr>\n",
       "      <td>EMHS202311376</td>\n",
       "      <td>SUPPLY OF HEMOFILTRATION FLUIDS</td>\n",
       "      <td>SUPPLY OF HEMOFILTRATION FLUIDS RPH ICU</td>\n",
       "    </tr>\n",
       "    <tr>\n",
       "      <td>DOH202210703</td>\n",
       "      <td>Department of Health - Maintenance of Medical Equipment</td>\n",
       "      <td>Department of Health - Maintenance of Medical Equipment</td>\n",
       "    </tr>\n",
       "    <tr>\n",
       "      <td>SMHS20182363</td>\n",
       "      <td>Supply of Haemodialysis Machines and Associated Consumables to Fiona Stanley Hospital</td>\n",
       "      <td>The South Metropolitan Health Service (SMHS) has a requirement for the supply installation, commissioning and maintenance of haemodialysis machines, treatment chairs, renal dialysis data management system, mobile water purification systems and associated accessories, consumables, training and services through a consolidated Price Per Treatment (PPT) arrangement for the Nephrology and Renal Transplantation Service at Fiona Stanley Hospital (FSH). The Contractor will retain ownership of the haemodialysis machines, dialysis treatment chairs and mobile water purification systems at the end of the Term of the Customer Contract.</td>\n",
       "    </tr>\n",
       "    <tr>\n",
       "      <td>20023951016</td>\n",
       "      <td>Armadale Health Service_Negative Pressure Room Creation</td>\n",
       "      <td>To carry out works in existing patient rooms to create 2 negative pressure isolation rooms that comply with WAHFG type 5 isolation room requirements. One negative pressure room being part of the ICU area and the other in Canning Ward.</td>\n",
       "    </tr>\n",
       "    <tr>\n",
       "      <td>CAHS19029</td>\n",
       "      <td>Patient Meals Kitchen High Level Cleaning &amp; Cool Rooms Cleaning and Sanitising</td>\n",
       "      <td>Patient Meals Kitchen High Level Cleaning &amp; Cool Rooms Cleaning and Sanitizing at Perth Children's Hospital</td>\n",
       "    </tr>\n",
       "    <tr>\n",
       "      <td>NMHS202210645</td>\n",
       "      <td>Supply, Delivery, Installation, Commissioning and Maintenance of two Steelco TW 3000/2 Smart Tunnel Double Chamber Compartment Decontamination Washer Systems for Sir Charles Gairdner Hospital</td>\n",
       "      <td>North Metropolitan Health Service (NMHS) requires the Supply, Installation, Commissioning and Maintenance of two Steelco TW 3000/2 ?Smart Tunnel? Double Chamber Compartment Decontamination Washer Systems (?Decontamination Washer Systems?) for SCGH.</td>\n",
       "    </tr>\n",
       "  </tbody>\n",
       "</table>"
      ],
      "text/plain": [
       "<IPython.core.display.HTML object>"
      ]
     },
     "metadata": {},
     "output_type": "display_data"
    }
   ],
   "source": [
    "query_and_print_tenders(\"hospital plumbing\", model, merged_data, algorithm = \"mmr\", d = 0.7)"
   ]
  }
 ],
 "metadata": {
  "kernelspec": {
   "display_name": "Python 3 (ipykernel)",
   "language": "python",
   "name": "python3"
  },
  "language_info": {
   "codemirror_mode": {
    "name": "ipython",
    "version": 3
   },
   "file_extension": ".py",
   "mimetype": "text/x-python",
   "name": "python",
   "nbconvert_exporter": "python",
   "pygments_lexer": "ipython3",
   "version": "3.10.12"
  }
 },
 "nbformat": 4,
 "nbformat_minor": 5
}
