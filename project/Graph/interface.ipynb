{
 "cells": [
  {
   "cell_type": "code",
   "execution_count": 1,
   "id": "deafcc3d-2900-412f-91e1-9b3c6ed6cf5e",
   "metadata": {
    "tags": []
   },
   "outputs": [],
   "source": [
    "from ipywidgets import interact, widgets\n",
    "from graph import GraphDB"
   ]
  },
  {
   "cell_type": "code",
   "execution_count": 2,
   "id": "f9d940e4-d7f9-4f94-8cc5-7c7071ffd207",
   "metadata": {
    "tags": []
   },
   "outputs": [],
   "source": [
    "import random\n",
    "\n",
    "embedding_dictionary = {\n",
    "    \"ref1\": {\n",
    "        \"embedding\": [0.92, 0.75, 0.61],\n",
    "        \"location\": [random.uniform(-90, 90), random.uniform(-180, 180)]\n",
    "    },\n",
    "    \"ref2\": {\n",
    "        \"embedding\": [0.78, 0.83, 0.55],\n",
    "        \"location\": [random.uniform(-90, 90), random.uniform(-180, 180)]\n",
    "    },\n",
    "    \"ref3\": {\n",
    "        \"embedding\": [0.64, 0.69, 0.72],\n",
    "        \"location\": [random.uniform(-90, 90), random.uniform(-180, 180)]\n",
    "    },\n",
    "    \"ref4\": {\n",
    "        \"embedding\": [0.87, 0.79, 0.91],\n",
    "        \"location\": [random.uniform(-90, 90), random.uniform(-180, 180)]\n",
    "    },\n",
    "    \"ref5\": {\n",
    "        \"embedding\": [0.52, 0.64, 0.58],\n",
    "        \"location\": [random.uniform(-90, 90), random.uniform(-180, 180)]\n",
    "    },\n",
    "    \"ref6\": {\n",
    "        \"embedding\": [0.95, 0.91, 0.98],\n",
    "        \"location\": [random.uniform(-90, 90), random.uniform(-180, 180)]\n",
    "    },\n",
    "    \"ref7\": {\n",
    "        \"embedding\": [0.61, 0.55, 0.72],\n",
    "        \"location\": [random.uniform(-90, 90), random.uniform(-180, 180)]\n",
    "    },\n",
    "    \"ref8\": {\n",
    "        \"embedding\": [0.82, 0.77, 0.88],\n",
    "        \"location\": [random.uniform(-90, 90), random.uniform(-180, 180)]\n",
    "    },\n",
    "    \"ref9\": {\n",
    "        \"embedding\": [0.73, 0.68, 0.80],\n",
    "        \"location\": [random.uniform(-90, 90), random.uniform(-180, 180)]\n",
    "    },\n",
    "    \"ref10\": {\n",
    "        \"embedding\": [0.89, 0.84, 0.94],\n",
    "        \"location\": [random.uniform(-90, 90), random.uniform(-180, 180)]\n",
    "    },\n",
    "    \"ref11\": {\n",
    "        \"embedding\": [0.68, 0.62, 0.75],\n",
    "        \"location\": [random.uniform(-90, 90), random.uniform(-180, 180)]\n",
    "    },\n",
    "    \"ref12\": {\n",
    "        \"embedding\": [0.75, 0.70, 0.83],\n",
    "        \"location\": [random.uniform(-90, 90), random.uniform(-180, 180)]\n",
    "    },\n",
    "    \"ref13\": {\n",
    "        \"embedding\": [0.83, 0.78, 0.90],\n",
    "        \"location\": [random.uniform(-90, 90), random.uniform(-180, 180)]\n",
    "    },\n",
    "    \"ref14\": {\n",
    "        \"embedding\": [0.57, 0.49, 0.63],\n",
    "        \"location\": [random.uniform(-90, 90), random.uniform(-180, 180)]\n",
    "    },\n",
    "    \"ref15\": {\n",
    "        \"embedding\": [0.91, 0.88, 0.97],\n",
    "        \"location\": [random.uniform(-90, 90), random.uniform(-180, 180)]\n",
    "    },\n",
    "    \"ref16\": {\n",
    "        \"embedding\": [0.70, 0.65, 0.76],\n",
    "        \"location\": [random.uniform(-90, 90), random.uniform(-180, 180)]\n",
    "    },\n",
    "    \"ref17\": {\n",
    "        \"embedding\": [0.79, 0.74, 0.85],\n",
    "        \"location\": [random.uniform(-90, 90), random.uniform(-180, 180)]\n",
    "    },\n",
    "    \"ref18\": {\n",
    "        \"embedding\": [0.60, 0.53, 0.68],\n",
    "        \"location\": [random.uniform(-90, 90), random.uniform(-180, 180)]\n",
    "    },\n",
    "    \"ref19\": {\n",
    "        \"embedding\": [0.88, 0.82, 0.92],\n",
    "        \"location\": [random.uniform(-90, 90), random.uniform(-180, 180)]\n",
    "    },\n",
    "    \"ref20\": {\n",
    "        \"embedding\": [0.76, 0.71, 0.81],\n",
    "        \"location\": [random.uniform(-90, 90), random.uniform(-180, 180)]\n",
    "    }\n",
    "}"
   ]
  },
  {
   "cell_type": "code",
   "execution_count": 3,
   "id": "dfde142d-4f36-432c-96ab-ed79ffda2543",
   "metadata": {
    "tags": []
   },
   "outputs": [
    {
     "data": {
      "application/vnd.jupyter.widget-view+json": {
       "model_id": "dc8f7a0f5a254d0d8f40b90a10ceb722",
       "version_major": 2,
       "version_minor": 0
      },
      "text/plain": [
       "interactive(children=(Text(value='ref1', description='Enter Reference:'), IntSlider(value=2, description='Clos…"
      ]
     },
     "metadata": {},
     "output_type": "display_data"
    },
    {
     "data": {
      "text/plain": [
       "<function __main__.query_and_display(reference, num_nodes, max_distance)>"
      ]
     },
     "execution_count": 3,
     "metadata": {},
     "output_type": "execute_result"
    }
   ],
   "source": [
    "from ipywidgets import interact, widgets\n",
    "from graph import GraphDB\n",
    "\n",
    "graph_db = GraphDB(embedding_dictionary)\n",
    "\n",
    "def query_and_display(reference, num_nodes, max_distance):\n",
    "    query_result = graph_db.closest(reference, num_nodes, max_distance)\n",
    "    graph_db.draw_graph(query_result)\n",
    "\n",
    "reference_input = widgets.Text(value='ref1', description='Enter Reference:')\n",
    "number_slider = widgets.IntSlider(value=2, min=1, max=10, step=1, description='Closest Tenders:')\n",
    "distance_slider = widgets.FloatSlider(value=100, min=1, max=300, step=1, description='Max Distance:')\n",
    "\n",
    "interact(query_and_display, reference=reference_input, num_nodes=number_slider, max_distance=distance_slider)"
   ]
  },
  {
   "cell_type": "code",
   "execution_count": null,
   "id": "986eebe2-27d9-4883-a37d-7a9f64c2bb01",
   "metadata": {},
   "outputs": [],
   "source": []
  }
 ],
 "metadata": {
  "kernelspec": {
   "display_name": "Python 3 (ipykernel)",
   "language": "python",
   "name": "python3"
  },
  "language_info": {
   "codemirror_mode": {
    "name": "ipython",
    "version": 3
   },
   "file_extension": ".py",
   "mimetype": "text/x-python",
   "name": "python",
   "nbconvert_exporter": "python",
   "pygments_lexer": "ipython3",
   "version": "3.9.12"
  }
 },
 "nbformat": 4,
 "nbformat_minor": 5
}
