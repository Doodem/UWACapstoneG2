{
 "cells": [
  {
   "cell_type": "code",
   "execution_count": 1,
   "id": "f9d940e4-d7f9-4f94-8cc5-7c7071ffd207",
   "metadata": {
    "tags": []
   },
   "outputs": [],
   "source": [
    "from graph import GraphDB\n",
    "import random\n",
    "\n",
    "wa_latitude_range = (-35.0, -13.5) \n",
    "wa_longitude_range = (112.5, 129.0)  \n",
    "\n",
    "def generate_random_location():\n",
    "    latitude = random.uniform(wa_latitude_range[0], wa_latitude_range[1])\n",
    "    longitude = random.uniform(wa_longitude_range[0], wa_longitude_range[1])\n",
    "    return [latitude, longitude]\n",
    "\n",
    "embedding_dictionary = {}\n",
    "for i in range(1, 21):\n",
    "    ref = f\"ref{i}\"\n",
    "    embedding_dictionary[ref] = {\n",
    "        \"embedding\": [random.uniform(0, 1) for _ in range(3)],\n",
    "        \"location\": generate_random_location()\n",
    "}\n",
    "    \n",
    "graph_db = GraphDB(embedding_dictionary)"
   ]
  },
  {
   "cell_type": "code",
   "execution_count": 2,
   "id": "49da93b3-20f8-4a1e-a8c3-b38abadde17a",
   "metadata": {
    "tags": []
   },
   "outputs": [
    {
     "data": {
      "application/vnd.jupyter.widget-view+json": {
       "model_id": "94de1fda989745a38958a35335e08b69",
       "version_major": 2,
       "version_minor": 0
      },
      "text/plain": [
       "interactive(children=(Text(value='ref1', description='Enter Reference:'), IntSlider(value=2, description='Clos…"
      ]
     },
     "metadata": {},
     "output_type": "display_data"
    },
    {
     "data": {
      "text/plain": [
       "<function __main__.query_and_display(reference, num_nodes, max_distance)>"
      ]
     },
     "execution_count": 2,
     "metadata": {},
     "output_type": "execute_result"
    }
   ],
   "source": [
    "import folium\n",
    "from ipywidgets import interact, widgets\n",
    "import networkx as nx  \n",
    "\n",
    "def get_node_positions(reference, num_nodes, max_distance):\n",
    "    query_result = graph_db.closest(reference, num_nodes, max_distance)\n",
    "    G = graph_db.draw_graph(query_result)\n",
    "    return nx.get_node_attributes(G, \"location\")\n",
    "\n",
    "def create_map(map_center):\n",
    "    m = folium.Map(location=map_center, zoom_start=5)\n",
    "    return m\n",
    "\n",
    "map_center = (-25.0, 121.0)  # Western Australia center\n",
    "\n",
    "def query_and_display(reference, num_nodes, max_distance):\n",
    "    m = create_map(map_center)\n",
    "\n",
    "    node_positions = get_node_positions(reference, num_nodes, max_distance)\n",
    "    \n",
    "    # add markers for ref positions on map\n",
    "    for position in node_positions.values():\n",
    "        folium.Marker(location=position).add_to(m)\n",
    "    \n",
    "    display(m)\n",
    "\n",
    "reference_input = widgets.Text(value='ref1', description='Enter Reference:')\n",
    "number_slider = widgets.IntSlider(value=2, min=1, max=10, step=1, description='Closest Tenders:')\n",
    "distance_slider = widgets.FloatSlider(value=100, min=1, max=300, step=1, description='Max Distance:')\n",
    "\n",
    "interact(query_and_display, reference=reference_input, num_nodes=number_slider, max_distance=distance_slider)\n"
   ]
  },
  {
   "cell_type": "code",
   "execution_count": null,
   "id": "7640fd19-0960-468f-9147-7f9f8f38d948",
   "metadata": {},
   "outputs": [],
   "source": []
  }
 ],
 "metadata": {
  "kernelspec": {
   "display_name": "Python 3 (ipykernel)",
   "language": "python",
   "name": "python3"
  },
  "language_info": {
   "codemirror_mode": {
    "name": "ipython",
    "version": 3
   },
   "file_extension": ".py",
   "mimetype": "text/x-python",
   "name": "python",
   "nbconvert_exporter": "python",
   "pygments_lexer": "ipython3",
   "version": "3.9.12"
  }
 },
 "nbformat": 4,
 "nbformat_minor": 5
}
